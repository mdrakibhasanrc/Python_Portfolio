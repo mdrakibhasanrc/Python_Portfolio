{
 "cells": [
  {
   "cell_type": "markdown",
   "id": "4ce8b34a",
   "metadata": {},
   "source": [
    "# Data Extract From Flipkart Website (India)"
   ]
  },
  {
   "cell_type": "code",
   "execution_count": 1,
   "id": "9f491a8a",
   "metadata": {},
   "outputs": [],
   "source": [
    "import numpy as np\n",
    "import pandas as pd\n",
    "import requests\n",
    "import matplotlib.pyplot as plt\n",
    "import seaborn as sns\n",
    "%matplotlib inline\n",
    "import warnings\n",
    "warnings.filterwarnings('ignore')\n",
    "from bs4 import BeautifulSoup"
   ]
  },
  {
   "cell_type": "code",
   "execution_count": 3,
   "id": "20ebf98a",
   "metadata": {},
   "outputs": [],
   "source": [
    "url='https://www.flipkart.com/mobiles-accessories/mobiles/pr?sid=tyy%2C4io&otracker=categorytree&page=1'"
   ]
  },
  {
   "cell_type": "code",
   "execution_count": 4,
   "id": "1b2b07e4",
   "metadata": {},
   "outputs": [],
   "source": [
    "response=requests.get(url)"
   ]
  },
  {
   "cell_type": "code",
   "execution_count": 5,
   "id": "c71a0a46",
   "metadata": {},
   "outputs": [
    {
     "data": {
      "text/plain": [
       "200"
      ]
     },
     "execution_count": 5,
     "metadata": {},
     "output_type": "execute_result"
    }
   ],
   "source": [
    "response.status_code"
   ]
  },
  {
   "cell_type": "code",
   "execution_count": 6,
   "id": "55cd2098",
   "metadata": {},
   "outputs": [],
   "source": [
    "soup=BeautifulSoup(response.content,'html.parser')"
   ]
  },
  {
   "cell_type": "code",
   "execution_count": 14,
   "id": "5f10b665",
   "metadata": {},
   "outputs": [],
   "source": [
    "result=soup.find_all('div',class_=\"_3pLy-c row\")"
   ]
  },
  {
   "cell_type": "code",
   "execution_count": 15,
   "id": "aeab6e53",
   "metadata": {},
   "outputs": [
    {
     "data": {
      "text/plain": [
       "24"
      ]
     },
     "execution_count": 15,
     "metadata": {},
     "output_type": "execute_result"
    }
   ],
   "source": [
    "len(result)"
   ]
  },
  {
   "cell_type": "code",
   "execution_count": 52,
   "id": "100b3fa7",
   "metadata": {},
   "outputs": [],
   "source": [
    "name=[]\n",
    "rating=[]\n",
    "reviews=[]\n",
    "description=[]\n",
    "price=[]\n",
    "discount=[]\n",
    "pre_price=[]\n",
    "\n",
    "for i in range(1,360):\n",
    "    url='https://www.flipkart.com/mobiles-accessories/mobiles/pr?sid=tyy%2C4io&otracker=categorytree&page='+str(i)\n",
    "    response=requests.get(url)\n",
    "    soup=BeautifulSoup(response.content,'html.parser')\n",
    "    result=soup.find_all('div',class_=\"_3pLy-c row\")\n",
    "    \n",
    "\n",
    "    for results in result:\n",
    "        try:\n",
    "            name.append(results.find('div',class_='_4rR01T').get_text())\n",
    "        except:\n",
    "            name.append('N/A')\n",
    "\n",
    "        try:\n",
    "            rating.append(results.find('div',class_='_3LWZlK').get_text())\n",
    "        except:\n",
    "            rating.append('N/A')\n",
    "\n",
    "        try:\n",
    "            reviews.append(results.find('span',class_='_2_R_DZ').get_text())\n",
    "        except:\n",
    "            reviews.append('N/A')\n",
    "\n",
    "        try:\n",
    "            description.append(results.find('ul',class_='_1xgFaf').get_text())\n",
    "        except:\n",
    "            description.append('N/A')\n",
    "\n",
    "        try:   \n",
    "            price.append(results.find('div',class_='_30jeq3 _1_WHN1').get_text())\n",
    "        except:\n",
    "            price.append('N/A')\n",
    "\n",
    "        try:\n",
    "            discount.append(results.find('div',class_='_3Ay6Sb').get_text())\n",
    "        except:\n",
    "            discount.append('N/A')\n",
    "\n",
    "        try:\n",
    "            pre_price.append(results.find('div',class_='_3I9_wc _27UcVY').get_text())\n",
    "        except:\n",
    "            pre_price.append('N/A')"
   ]
  },
  {
   "cell_type": "code",
   "execution_count": 53,
   "id": "32945b5f",
   "metadata": {},
   "outputs": [],
   "source": [
    "mobile_data=pd.DataFrame({'Name':name,'Rating':rating,'Reviews':reviews,'Description':description,'Price':price,'Discount':discount,'Pre_price':pre_price})"
   ]
  },
  {
   "cell_type": "code",
   "execution_count": 54,
   "id": "6c24ac2e",
   "metadata": {},
   "outputs": [
    {
     "data": {
      "text/html": [
       "<div>\n",
       "<style scoped>\n",
       "    .dataframe tbody tr th:only-of-type {\n",
       "        vertical-align: middle;\n",
       "    }\n",
       "\n",
       "    .dataframe tbody tr th {\n",
       "        vertical-align: top;\n",
       "    }\n",
       "\n",
       "    .dataframe thead th {\n",
       "        text-align: right;\n",
       "    }\n",
       "</style>\n",
       "<table border=\"1\" class=\"dataframe\">\n",
       "  <thead>\n",
       "    <tr style=\"text-align: right;\">\n",
       "      <th></th>\n",
       "      <th>Name</th>\n",
       "      <th>Rating</th>\n",
       "      <th>Reviews</th>\n",
       "      <th>Description</th>\n",
       "      <th>Price</th>\n",
       "      <th>Discount</th>\n",
       "      <th>Pre_price</th>\n",
       "    </tr>\n",
       "  </thead>\n",
       "  <tbody>\n",
       "    <tr>\n",
       "      <th>0</th>\n",
       "      <td>POCO C51 (Royal Blue, 64 GB)</td>\n",
       "      <td>4.1</td>\n",
       "      <td>51,111 Ratings &amp; 2,679 Reviews</td>\n",
       "      <td>4 GB RAM | 64 GB ROM | Expandable Upto 1 TB16....</td>\n",
       "      <td>₹6,499</td>\n",
       "      <td>35% off</td>\n",
       "      <td>₹9,999</td>\n",
       "    </tr>\n",
       "    <tr>\n",
       "      <th>1</th>\n",
       "      <td>Infinix SMART 7 (Azure Blue, 64 GB)</td>\n",
       "      <td>4.3</td>\n",
       "      <td>60,734 Ratings &amp; 2,956 Reviews</td>\n",
       "      <td>4 GB RAM | 64 GB ROM | Expandable Upto 2 TB16....</td>\n",
       "      <td>₹6,999</td>\n",
       "      <td>30% off</td>\n",
       "      <td>₹9,999</td>\n",
       "    </tr>\n",
       "    <tr>\n",
       "      <th>2</th>\n",
       "      <td>POCO C51 (Power Black, 64 GB)</td>\n",
       "      <td>4.1</td>\n",
       "      <td>51,111 Ratings &amp; 2,679 Reviews</td>\n",
       "      <td>4 GB RAM | 64 GB ROM | Expandable Upto 1 TB16....</td>\n",
       "      <td>₹6,499</td>\n",
       "      <td>35% off</td>\n",
       "      <td>₹9,999</td>\n",
       "    </tr>\n",
       "    <tr>\n",
       "      <th>3</th>\n",
       "      <td>Infinix SMART 7 (Night Black, 128 GB)</td>\n",
       "      <td>4.3</td>\n",
       "      <td>60,734 Ratings &amp; 2,956 Reviews</td>\n",
       "      <td>4 GB RAM | 128 GB ROM | Expandable Upto 512 GB...</td>\n",
       "      <td>₹7,599</td>\n",
       "      <td>30% off</td>\n",
       "      <td>₹10,999</td>\n",
       "    </tr>\n",
       "    <tr>\n",
       "      <th>4</th>\n",
       "      <td>Infinix SMART 7 (Emerald Green, 128 GB)</td>\n",
       "      <td>4.3</td>\n",
       "      <td>60,734 Ratings &amp; 2,956 Reviews</td>\n",
       "      <td>4 GB RAM | 128 GB ROM | Expandable Upto 512 GB...</td>\n",
       "      <td>₹7,599</td>\n",
       "      <td>30% off</td>\n",
       "      <td>₹10,999</td>\n",
       "    </tr>\n",
       "    <tr>\n",
       "      <th>...</th>\n",
       "      <td>...</td>\n",
       "      <td>...</td>\n",
       "      <td>...</td>\n",
       "      <td>...</td>\n",
       "      <td>...</td>\n",
       "      <td>...</td>\n",
       "      <td>...</td>\n",
       "    </tr>\n",
       "    <tr>\n",
       "      <th>979</th>\n",
       "      <td>Redmi 9A Sport (Carbon Black, 32 GB)</td>\n",
       "      <td>4.1</td>\n",
       "      <td>26,709 Ratings &amp; 1,938 Reviews</td>\n",
       "      <td>2 GB RAM | 32 GB ROM16.59 cm (6.53 inch) Displ...</td>\n",
       "      <td>₹7,181</td>\n",
       "      <td>10% off</td>\n",
       "      <td>₹7,999</td>\n",
       "    </tr>\n",
       "    <tr>\n",
       "      <th>980</th>\n",
       "      <td>itel Ace2 lite Keypad Mobile| 1000 mAh Battery...</td>\n",
       "      <td>3.8</td>\n",
       "      <td>16 Ratings &amp; 0 Reviews</td>\n",
       "      <td>32 MB RAM | 32 MB ROM4.57 cm (1.8 inch) Displa...</td>\n",
       "      <td>₹915</td>\n",
       "      <td>23% off</td>\n",
       "      <td>₹1,199</td>\n",
       "    </tr>\n",
       "    <tr>\n",
       "      <th>981</th>\n",
       "      <td>MTR S1000</td>\n",
       "      <td>3.6</td>\n",
       "      <td>40 Ratings &amp; 1 Reviews</td>\n",
       "      <td>32 MB RAM | 32 MB ROM6.1 cm (2.4 inch) Display...</td>\n",
       "      <td>₹1,100</td>\n",
       "      <td>44% off</td>\n",
       "      <td>₹1,999</td>\n",
       "    </tr>\n",
       "    <tr>\n",
       "      <th>982</th>\n",
       "      <td>REDMI Note 11 SE (Cosmic White, 64 GB)</td>\n",
       "      <td>4.3</td>\n",
       "      <td>47,437 Ratings &amp; 2,875 Reviews</td>\n",
       "      <td>6 GB RAM | 64 GB ROM | Expandable Upto 512 GB1...</td>\n",
       "      <td>₹13,490</td>\n",
       "      <td>20% off</td>\n",
       "      <td>₹16,999</td>\n",
       "    </tr>\n",
       "    <tr>\n",
       "      <th>983</th>\n",
       "      <td>realme C30s (Stripe - Black, 32 GB)</td>\n",
       "      <td>4.4</td>\n",
       "      <td>6,519 Ratings &amp; 231 Reviews</td>\n",
       "      <td>2 GB RAM | 32 GB ROM | Expandable Upto 1 TB16....</td>\n",
       "      <td>₹7,189</td>\n",
       "      <td>28% off</td>\n",
       "      <td>₹9,999</td>\n",
       "    </tr>\n",
       "  </tbody>\n",
       "</table>\n",
       "<p>984 rows × 7 columns</p>\n",
       "</div>"
      ],
      "text/plain": [
       "                                                  Name Rating  \\\n",
       "0                         POCO C51 (Royal Blue, 64 GB)    4.1   \n",
       "1                  Infinix SMART 7 (Azure Blue, 64 GB)    4.3   \n",
       "2                        POCO C51 (Power Black, 64 GB)    4.1   \n",
       "3                Infinix SMART 7 (Night Black, 128 GB)    4.3   \n",
       "4              Infinix SMART 7 (Emerald Green, 128 GB)    4.3   \n",
       "..                                                 ...    ...   \n",
       "979               Redmi 9A Sport (Carbon Black, 32 GB)    4.1   \n",
       "980  itel Ace2 lite Keypad Mobile| 1000 mAh Battery...    3.8   \n",
       "981                                          MTR S1000    3.6   \n",
       "982             REDMI Note 11 SE (Cosmic White, 64 GB)    4.3   \n",
       "983                realme C30s (Stripe - Black, 32 GB)    4.4   \n",
       "\n",
       "                            Reviews  \\\n",
       "0    51,111 Ratings & 2,679 Reviews   \n",
       "1    60,734 Ratings & 2,956 Reviews   \n",
       "2    51,111 Ratings & 2,679 Reviews   \n",
       "3    60,734 Ratings & 2,956 Reviews   \n",
       "4    60,734 Ratings & 2,956 Reviews   \n",
       "..                              ...   \n",
       "979  26,709 Ratings & 1,938 Reviews   \n",
       "980          16 Ratings & 0 Reviews   \n",
       "981          40 Ratings & 1 Reviews   \n",
       "982  47,437 Ratings & 2,875 Reviews   \n",
       "983     6,519 Ratings & 231 Reviews   \n",
       "\n",
       "                                           Description    Price Discount  \\\n",
       "0    4 GB RAM | 64 GB ROM | Expandable Upto 1 TB16....   ₹6,499  35% off   \n",
       "1    4 GB RAM | 64 GB ROM | Expandable Upto 2 TB16....   ₹6,999  30% off   \n",
       "2    4 GB RAM | 64 GB ROM | Expandable Upto 1 TB16....   ₹6,499  35% off   \n",
       "3    4 GB RAM | 128 GB ROM | Expandable Upto 512 GB...   ₹7,599  30% off   \n",
       "4    4 GB RAM | 128 GB ROM | Expandable Upto 512 GB...   ₹7,599  30% off   \n",
       "..                                                 ...      ...      ...   \n",
       "979  2 GB RAM | 32 GB ROM16.59 cm (6.53 inch) Displ...   ₹7,181  10% off   \n",
       "980  32 MB RAM | 32 MB ROM4.57 cm (1.8 inch) Displa...     ₹915  23% off   \n",
       "981  32 MB RAM | 32 MB ROM6.1 cm (2.4 inch) Display...   ₹1,100  44% off   \n",
       "982  6 GB RAM | 64 GB ROM | Expandable Upto 512 GB1...  ₹13,490  20% off   \n",
       "983  2 GB RAM | 32 GB ROM | Expandable Upto 1 TB16....   ₹7,189  28% off   \n",
       "\n",
       "    Pre_price  \n",
       "0      ₹9,999  \n",
       "1      ₹9,999  \n",
       "2      ₹9,999  \n",
       "3     ₹10,999  \n",
       "4     ₹10,999  \n",
       "..        ...  \n",
       "979    ₹7,999  \n",
       "980    ₹1,199  \n",
       "981    ₹1,999  \n",
       "982   ₹16,999  \n",
       "983    ₹9,999  \n",
       "\n",
       "[984 rows x 7 columns]"
      ]
     },
     "execution_count": 54,
     "metadata": {},
     "output_type": "execute_result"
    }
   ],
   "source": [
    "mobile_data"
   ]
  },
  {
   "cell_type": "markdown",
   "id": "4796d58d",
   "metadata": {},
   "source": [
    "# Data Tranasform"
   ]
  },
  {
   "cell_type": "code",
   "execution_count": 75,
   "id": "5318820e",
   "metadata": {},
   "outputs": [
    {
     "data": {
      "text/html": [
       "<div>\n",
       "<style scoped>\n",
       "    .dataframe tbody tr th:only-of-type {\n",
       "        vertical-align: middle;\n",
       "    }\n",
       "\n",
       "    .dataframe tbody tr th {\n",
       "        vertical-align: top;\n",
       "    }\n",
       "\n",
       "    .dataframe thead th {\n",
       "        text-align: right;\n",
       "    }\n",
       "</style>\n",
       "<table border=\"1\" class=\"dataframe\">\n",
       "  <thead>\n",
       "    <tr style=\"text-align: right;\">\n",
       "      <th></th>\n",
       "      <th>Unnamed: 0</th>\n",
       "      <th>Name</th>\n",
       "      <th>Rating</th>\n",
       "      <th>Reviews</th>\n",
       "      <th>Description</th>\n",
       "      <th>Price</th>\n",
       "      <th>Discount</th>\n",
       "      <th>Pre_price</th>\n",
       "    </tr>\n",
       "  </thead>\n",
       "  <tbody>\n",
       "    <tr>\n",
       "      <th>0</th>\n",
       "      <td>0</td>\n",
       "      <td>POCO C51 (Royal Blue, 64 GB)</td>\n",
       "      <td>4.1</td>\n",
       "      <td>51,111 Ratings &amp; 2,679 Reviews</td>\n",
       "      <td>4 GB RAM | 64 GB ROM | Expandable Upto 1 TB16....</td>\n",
       "      <td>₹6,499</td>\n",
       "      <td>35% off</td>\n",
       "      <td>₹9,999</td>\n",
       "    </tr>\n",
       "    <tr>\n",
       "      <th>1</th>\n",
       "      <td>1</td>\n",
       "      <td>Infinix SMART 7 (Azure Blue, 64 GB)</td>\n",
       "      <td>4.3</td>\n",
       "      <td>60,734 Ratings &amp; 2,956 Reviews</td>\n",
       "      <td>4 GB RAM | 64 GB ROM | Expandable Upto 2 TB16....</td>\n",
       "      <td>₹6,999</td>\n",
       "      <td>30% off</td>\n",
       "      <td>₹9,999</td>\n",
       "    </tr>\n",
       "    <tr>\n",
       "      <th>2</th>\n",
       "      <td>2</td>\n",
       "      <td>POCO C51 (Power Black, 64 GB)</td>\n",
       "      <td>4.1</td>\n",
       "      <td>51,111 Ratings &amp; 2,679 Reviews</td>\n",
       "      <td>4 GB RAM | 64 GB ROM | Expandable Upto 1 TB16....</td>\n",
       "      <td>₹6,499</td>\n",
       "      <td>35% off</td>\n",
       "      <td>₹9,999</td>\n",
       "    </tr>\n",
       "    <tr>\n",
       "      <th>3</th>\n",
       "      <td>3</td>\n",
       "      <td>Infinix SMART 7 (Night Black, 128 GB)</td>\n",
       "      <td>4.3</td>\n",
       "      <td>60,734 Ratings &amp; 2,956 Reviews</td>\n",
       "      <td>4 GB RAM | 128 GB ROM | Expandable Upto 512 GB...</td>\n",
       "      <td>₹7,599</td>\n",
       "      <td>30% off</td>\n",
       "      <td>₹10,999</td>\n",
       "    </tr>\n",
       "    <tr>\n",
       "      <th>4</th>\n",
       "      <td>4</td>\n",
       "      <td>Infinix SMART 7 (Emerald Green, 128 GB)</td>\n",
       "      <td>4.3</td>\n",
       "      <td>60,734 Ratings &amp; 2,956 Reviews</td>\n",
       "      <td>4 GB RAM | 128 GB ROM | Expandable Upto 512 GB...</td>\n",
       "      <td>₹7,599</td>\n",
       "      <td>30% off</td>\n",
       "      <td>₹10,999</td>\n",
       "    </tr>\n",
       "    <tr>\n",
       "      <th>...</th>\n",
       "      <td>...</td>\n",
       "      <td>...</td>\n",
       "      <td>...</td>\n",
       "      <td>...</td>\n",
       "      <td>...</td>\n",
       "      <td>...</td>\n",
       "      <td>...</td>\n",
       "      <td>...</td>\n",
       "    </tr>\n",
       "    <tr>\n",
       "      <th>979</th>\n",
       "      <td>979</td>\n",
       "      <td>Redmi 9A Sport (Carbon Black, 32 GB)</td>\n",
       "      <td>4.1</td>\n",
       "      <td>26,709 Ratings &amp; 1,938 Reviews</td>\n",
       "      <td>2 GB RAM | 32 GB ROM16.59 cm (6.53 inch) Displ...</td>\n",
       "      <td>₹7,181</td>\n",
       "      <td>10% off</td>\n",
       "      <td>₹7,999</td>\n",
       "    </tr>\n",
       "    <tr>\n",
       "      <th>980</th>\n",
       "      <td>980</td>\n",
       "      <td>itel Ace2 lite Keypad Mobile| 1000 mAh Battery...</td>\n",
       "      <td>3.8</td>\n",
       "      <td>16 Ratings &amp; 0 Reviews</td>\n",
       "      <td>32 MB RAM | 32 MB ROM4.57 cm (1.8 inch) Displa...</td>\n",
       "      <td>₹915</td>\n",
       "      <td>23% off</td>\n",
       "      <td>₹1,199</td>\n",
       "    </tr>\n",
       "    <tr>\n",
       "      <th>981</th>\n",
       "      <td>981</td>\n",
       "      <td>MTR S1000</td>\n",
       "      <td>3.6</td>\n",
       "      <td>40 Ratings &amp; 1 Reviews</td>\n",
       "      <td>32 MB RAM | 32 MB ROM6.1 cm (2.4 inch) Display...</td>\n",
       "      <td>₹1,100</td>\n",
       "      <td>44% off</td>\n",
       "      <td>₹1,999</td>\n",
       "    </tr>\n",
       "    <tr>\n",
       "      <th>982</th>\n",
       "      <td>982</td>\n",
       "      <td>REDMI Note 11 SE (Cosmic White, 64 GB)</td>\n",
       "      <td>4.3</td>\n",
       "      <td>47,437 Ratings &amp; 2,875 Reviews</td>\n",
       "      <td>6 GB RAM | 64 GB ROM | Expandable Upto 512 GB1...</td>\n",
       "      <td>₹13,490</td>\n",
       "      <td>20% off</td>\n",
       "      <td>₹16,999</td>\n",
       "    </tr>\n",
       "    <tr>\n",
       "      <th>983</th>\n",
       "      <td>983</td>\n",
       "      <td>realme C30s (Stripe - Black, 32 GB)</td>\n",
       "      <td>4.4</td>\n",
       "      <td>6,519 Ratings &amp; 231 Reviews</td>\n",
       "      <td>2 GB RAM | 32 GB ROM | Expandable Upto 1 TB16....</td>\n",
       "      <td>₹7,189</td>\n",
       "      <td>28% off</td>\n",
       "      <td>₹9,999</td>\n",
       "    </tr>\n",
       "  </tbody>\n",
       "</table>\n",
       "<p>984 rows × 8 columns</p>\n",
       "</div>"
      ],
      "text/plain": [
       "     Unnamed: 0                                               Name  Rating  \\\n",
       "0             0                       POCO C51 (Royal Blue, 64 GB)     4.1   \n",
       "1             1                Infinix SMART 7 (Azure Blue, 64 GB)     4.3   \n",
       "2             2                      POCO C51 (Power Black, 64 GB)     4.1   \n",
       "3             3              Infinix SMART 7 (Night Black, 128 GB)     4.3   \n",
       "4             4            Infinix SMART 7 (Emerald Green, 128 GB)     4.3   \n",
       "..          ...                                                ...     ...   \n",
       "979         979               Redmi 9A Sport (Carbon Black, 32 GB)     4.1   \n",
       "980         980  itel Ace2 lite Keypad Mobile| 1000 mAh Battery...     3.8   \n",
       "981         981                                          MTR S1000     3.6   \n",
       "982         982             REDMI Note 11 SE (Cosmic White, 64 GB)     4.3   \n",
       "983         983                realme C30s (Stripe - Black, 32 GB)     4.4   \n",
       "\n",
       "                            Reviews  \\\n",
       "0    51,111 Ratings & 2,679 Reviews   \n",
       "1    60,734 Ratings & 2,956 Reviews   \n",
       "2    51,111 Ratings & 2,679 Reviews   \n",
       "3    60,734 Ratings & 2,956 Reviews   \n",
       "4    60,734 Ratings & 2,956 Reviews   \n",
       "..                              ...   \n",
       "979  26,709 Ratings & 1,938 Reviews   \n",
       "980          16 Ratings & 0 Reviews   \n",
       "981          40 Ratings & 1 Reviews   \n",
       "982  47,437 Ratings & 2,875 Reviews   \n",
       "983     6,519 Ratings & 231 Reviews   \n",
       "\n",
       "                                           Description    Price Discount  \\\n",
       "0    4 GB RAM | 64 GB ROM | Expandable Upto 1 TB16....   ₹6,499  35% off   \n",
       "1    4 GB RAM | 64 GB ROM | Expandable Upto 2 TB16....   ₹6,999  30% off   \n",
       "2    4 GB RAM | 64 GB ROM | Expandable Upto 1 TB16....   ₹6,499  35% off   \n",
       "3    4 GB RAM | 128 GB ROM | Expandable Upto 512 GB...   ₹7,599  30% off   \n",
       "4    4 GB RAM | 128 GB ROM | Expandable Upto 512 GB...   ₹7,599  30% off   \n",
       "..                                                 ...      ...      ...   \n",
       "979  2 GB RAM | 32 GB ROM16.59 cm (6.53 inch) Displ...   ₹7,181  10% off   \n",
       "980  32 MB RAM | 32 MB ROM4.57 cm (1.8 inch) Displa...     ₹915  23% off   \n",
       "981  32 MB RAM | 32 MB ROM6.1 cm (2.4 inch) Display...   ₹1,100  44% off   \n",
       "982  6 GB RAM | 64 GB ROM | Expandable Upto 512 GB1...  ₹13,490  20% off   \n",
       "983  2 GB RAM | 32 GB ROM | Expandable Upto 1 TB16....   ₹7,189  28% off   \n",
       "\n",
       "    Pre_price  \n",
       "0      ₹9,999  \n",
       "1      ₹9,999  \n",
       "2      ₹9,999  \n",
       "3     ₹10,999  \n",
       "4     ₹10,999  \n",
       "..        ...  \n",
       "979    ₹7,999  \n",
       "980    ₹1,199  \n",
       "981    ₹1,999  \n",
       "982   ₹16,999  \n",
       "983    ₹9,999  \n",
       "\n",
       "[984 rows x 8 columns]"
      ]
     },
     "execution_count": 75,
     "metadata": {},
     "output_type": "execute_result"
    }
   ],
   "source": [
    "df=pd.read_csv(r\"G:\\mobile_data.csv\")\n",
    "df"
   ]
  },
  {
   "cell_type": "markdown",
   "id": "377474d0",
   "metadata": {},
   "source": [
    "# Understand Data"
   ]
  },
  {
   "cell_type": "code",
   "execution_count": 4,
   "id": "0ef24c55",
   "metadata": {},
   "outputs": [
    {
     "data": {
      "text/html": [
       "<div>\n",
       "<style scoped>\n",
       "    .dataframe tbody tr th:only-of-type {\n",
       "        vertical-align: middle;\n",
       "    }\n",
       "\n",
       "    .dataframe tbody tr th {\n",
       "        vertical-align: top;\n",
       "    }\n",
       "\n",
       "    .dataframe thead th {\n",
       "        text-align: right;\n",
       "    }\n",
       "</style>\n",
       "<table border=\"1\" class=\"dataframe\">\n",
       "  <thead>\n",
       "    <tr style=\"text-align: right;\">\n",
       "      <th></th>\n",
       "      <th>Unnamed: 0</th>\n",
       "      <th>Name</th>\n",
       "      <th>Rating</th>\n",
       "      <th>Reviews</th>\n",
       "      <th>Description</th>\n",
       "      <th>Price</th>\n",
       "      <th>Discount</th>\n",
       "      <th>Pre_price</th>\n",
       "    </tr>\n",
       "  </thead>\n",
       "  <tbody>\n",
       "    <tr>\n",
       "      <th>0</th>\n",
       "      <td>0</td>\n",
       "      <td>POCO C51 (Royal Blue, 64 GB)</td>\n",
       "      <td>4.1</td>\n",
       "      <td>51,111 Ratings &amp; 2,679 Reviews</td>\n",
       "      <td>4 GB RAM | 64 GB ROM | Expandable Upto 1 TB16....</td>\n",
       "      <td>₹6,499</td>\n",
       "      <td>35% off</td>\n",
       "      <td>₹9,999</td>\n",
       "    </tr>\n",
       "    <tr>\n",
       "      <th>1</th>\n",
       "      <td>1</td>\n",
       "      <td>Infinix SMART 7 (Azure Blue, 64 GB)</td>\n",
       "      <td>4.3</td>\n",
       "      <td>60,734 Ratings &amp; 2,956 Reviews</td>\n",
       "      <td>4 GB RAM | 64 GB ROM | Expandable Upto 2 TB16....</td>\n",
       "      <td>₹6,999</td>\n",
       "      <td>30% off</td>\n",
       "      <td>₹9,999</td>\n",
       "    </tr>\n",
       "    <tr>\n",
       "      <th>2</th>\n",
       "      <td>2</td>\n",
       "      <td>POCO C51 (Power Black, 64 GB)</td>\n",
       "      <td>4.1</td>\n",
       "      <td>51,111 Ratings &amp; 2,679 Reviews</td>\n",
       "      <td>4 GB RAM | 64 GB ROM | Expandable Upto 1 TB16....</td>\n",
       "      <td>₹6,499</td>\n",
       "      <td>35% off</td>\n",
       "      <td>₹9,999</td>\n",
       "    </tr>\n",
       "    <tr>\n",
       "      <th>3</th>\n",
       "      <td>3</td>\n",
       "      <td>Infinix SMART 7 (Night Black, 128 GB)</td>\n",
       "      <td>4.3</td>\n",
       "      <td>60,734 Ratings &amp; 2,956 Reviews</td>\n",
       "      <td>4 GB RAM | 128 GB ROM | Expandable Upto 512 GB...</td>\n",
       "      <td>₹7,599</td>\n",
       "      <td>30% off</td>\n",
       "      <td>₹10,999</td>\n",
       "    </tr>\n",
       "    <tr>\n",
       "      <th>4</th>\n",
       "      <td>4</td>\n",
       "      <td>Infinix SMART 7 (Emerald Green, 128 GB)</td>\n",
       "      <td>4.3</td>\n",
       "      <td>60,734 Ratings &amp; 2,956 Reviews</td>\n",
       "      <td>4 GB RAM | 128 GB ROM | Expandable Upto 512 GB...</td>\n",
       "      <td>₹7,599</td>\n",
       "      <td>30% off</td>\n",
       "      <td>₹10,999</td>\n",
       "    </tr>\n",
       "  </tbody>\n",
       "</table>\n",
       "</div>"
      ],
      "text/plain": [
       "   Unnamed: 0                                     Name  Rating  \\\n",
       "0           0             POCO C51 (Royal Blue, 64 GB)     4.1   \n",
       "1           1      Infinix SMART 7 (Azure Blue, 64 GB)     4.3   \n",
       "2           2            POCO C51 (Power Black, 64 GB)     4.1   \n",
       "3           3    Infinix SMART 7 (Night Black, 128 GB)     4.3   \n",
       "4           4  Infinix SMART 7 (Emerald Green, 128 GB)     4.3   \n",
       "\n",
       "                          Reviews  \\\n",
       "0  51,111 Ratings & 2,679 Reviews   \n",
       "1  60,734 Ratings & 2,956 Reviews   \n",
       "2  51,111 Ratings & 2,679 Reviews   \n",
       "3  60,734 Ratings & 2,956 Reviews   \n",
       "4  60,734 Ratings & 2,956 Reviews   \n",
       "\n",
       "                                         Description   Price Discount  \\\n",
       "0  4 GB RAM | 64 GB ROM | Expandable Upto 1 TB16....  ₹6,499  35% off   \n",
       "1  4 GB RAM | 64 GB ROM | Expandable Upto 2 TB16....  ₹6,999  30% off   \n",
       "2  4 GB RAM | 64 GB ROM | Expandable Upto 1 TB16....  ₹6,499  35% off   \n",
       "3  4 GB RAM | 128 GB ROM | Expandable Upto 512 GB...  ₹7,599  30% off   \n",
       "4  4 GB RAM | 128 GB ROM | Expandable Upto 512 GB...  ₹7,599  30% off   \n",
       "\n",
       "  Pre_price  \n",
       "0    ₹9,999  \n",
       "1    ₹9,999  \n",
       "2    ₹9,999  \n",
       "3   ₹10,999  \n",
       "4   ₹10,999  "
      ]
     },
     "execution_count": 4,
     "metadata": {},
     "output_type": "execute_result"
    }
   ],
   "source": [
    "# too see first five rows\n",
    "df.head()"
   ]
  },
  {
   "cell_type": "code",
   "execution_count": 5,
   "id": "3d5c7e4f",
   "metadata": {},
   "outputs": [
    {
     "data": {
      "text/html": [
       "<div>\n",
       "<style scoped>\n",
       "    .dataframe tbody tr th:only-of-type {\n",
       "        vertical-align: middle;\n",
       "    }\n",
       "\n",
       "    .dataframe tbody tr th {\n",
       "        vertical-align: top;\n",
       "    }\n",
       "\n",
       "    .dataframe thead th {\n",
       "        text-align: right;\n",
       "    }\n",
       "</style>\n",
       "<table border=\"1\" class=\"dataframe\">\n",
       "  <thead>\n",
       "    <tr style=\"text-align: right;\">\n",
       "      <th></th>\n",
       "      <th>Unnamed: 0</th>\n",
       "      <th>Name</th>\n",
       "      <th>Rating</th>\n",
       "      <th>Reviews</th>\n",
       "      <th>Description</th>\n",
       "      <th>Price</th>\n",
       "      <th>Discount</th>\n",
       "      <th>Pre_price</th>\n",
       "    </tr>\n",
       "  </thead>\n",
       "  <tbody>\n",
       "    <tr>\n",
       "      <th>979</th>\n",
       "      <td>979</td>\n",
       "      <td>Redmi 9A Sport (Carbon Black, 32 GB)</td>\n",
       "      <td>4.1</td>\n",
       "      <td>26,709 Ratings &amp; 1,938 Reviews</td>\n",
       "      <td>2 GB RAM | 32 GB ROM16.59 cm (6.53 inch) Displ...</td>\n",
       "      <td>₹7,181</td>\n",
       "      <td>10% off</td>\n",
       "      <td>₹7,999</td>\n",
       "    </tr>\n",
       "    <tr>\n",
       "      <th>980</th>\n",
       "      <td>980</td>\n",
       "      <td>itel Ace2 lite Keypad Mobile| 1000 mAh Battery...</td>\n",
       "      <td>3.8</td>\n",
       "      <td>16 Ratings &amp; 0 Reviews</td>\n",
       "      <td>32 MB RAM | 32 MB ROM4.57 cm (1.8 inch) Displa...</td>\n",
       "      <td>₹915</td>\n",
       "      <td>23% off</td>\n",
       "      <td>₹1,199</td>\n",
       "    </tr>\n",
       "    <tr>\n",
       "      <th>981</th>\n",
       "      <td>981</td>\n",
       "      <td>MTR S1000</td>\n",
       "      <td>3.6</td>\n",
       "      <td>40 Ratings &amp; 1 Reviews</td>\n",
       "      <td>32 MB RAM | 32 MB ROM6.1 cm (2.4 inch) Display...</td>\n",
       "      <td>₹1,100</td>\n",
       "      <td>44% off</td>\n",
       "      <td>₹1,999</td>\n",
       "    </tr>\n",
       "    <tr>\n",
       "      <th>982</th>\n",
       "      <td>982</td>\n",
       "      <td>REDMI Note 11 SE (Cosmic White, 64 GB)</td>\n",
       "      <td>4.3</td>\n",
       "      <td>47,437 Ratings &amp; 2,875 Reviews</td>\n",
       "      <td>6 GB RAM | 64 GB ROM | Expandable Upto 512 GB1...</td>\n",
       "      <td>₹13,490</td>\n",
       "      <td>20% off</td>\n",
       "      <td>₹16,999</td>\n",
       "    </tr>\n",
       "    <tr>\n",
       "      <th>983</th>\n",
       "      <td>983</td>\n",
       "      <td>realme C30s (Stripe - Black, 32 GB)</td>\n",
       "      <td>4.4</td>\n",
       "      <td>6,519 Ratings &amp; 231 Reviews</td>\n",
       "      <td>2 GB RAM | 32 GB ROM | Expandable Upto 1 TB16....</td>\n",
       "      <td>₹7,189</td>\n",
       "      <td>28% off</td>\n",
       "      <td>₹9,999</td>\n",
       "    </tr>\n",
       "  </tbody>\n",
       "</table>\n",
       "</div>"
      ],
      "text/plain": [
       "     Unnamed: 0                                               Name  Rating  \\\n",
       "979         979               Redmi 9A Sport (Carbon Black, 32 GB)     4.1   \n",
       "980         980  itel Ace2 lite Keypad Mobile| 1000 mAh Battery...     3.8   \n",
       "981         981                                          MTR S1000     3.6   \n",
       "982         982             REDMI Note 11 SE (Cosmic White, 64 GB)     4.3   \n",
       "983         983                realme C30s (Stripe - Black, 32 GB)     4.4   \n",
       "\n",
       "                            Reviews  \\\n",
       "979  26,709 Ratings & 1,938 Reviews   \n",
       "980          16 Ratings & 0 Reviews   \n",
       "981          40 Ratings & 1 Reviews   \n",
       "982  47,437 Ratings & 2,875 Reviews   \n",
       "983     6,519 Ratings & 231 Reviews   \n",
       "\n",
       "                                           Description    Price Discount  \\\n",
       "979  2 GB RAM | 32 GB ROM16.59 cm (6.53 inch) Displ...   ₹7,181  10% off   \n",
       "980  32 MB RAM | 32 MB ROM4.57 cm (1.8 inch) Displa...     ₹915  23% off   \n",
       "981  32 MB RAM | 32 MB ROM6.1 cm (2.4 inch) Display...   ₹1,100  44% off   \n",
       "982  6 GB RAM | 64 GB ROM | Expandable Upto 512 GB1...  ₹13,490  20% off   \n",
       "983  2 GB RAM | 32 GB ROM | Expandable Upto 1 TB16....   ₹7,189  28% off   \n",
       "\n",
       "    Pre_price  \n",
       "979    ₹7,999  \n",
       "980    ₹1,199  \n",
       "981    ₹1,999  \n",
       "982   ₹16,999  \n",
       "983    ₹9,999  "
      ]
     },
     "execution_count": 5,
     "metadata": {},
     "output_type": "execute_result"
    }
   ],
   "source": [
    "# too see last five rows\n",
    "df.tail()"
   ]
  },
  {
   "cell_type": "code",
   "execution_count": 7,
   "id": "f2b9457e",
   "metadata": {},
   "outputs": [
    {
     "data": {
      "text/html": [
       "<div>\n",
       "<style scoped>\n",
       "    .dataframe tbody tr th:only-of-type {\n",
       "        vertical-align: middle;\n",
       "    }\n",
       "\n",
       "    .dataframe tbody tr th {\n",
       "        vertical-align: top;\n",
       "    }\n",
       "\n",
       "    .dataframe thead th {\n",
       "        text-align: right;\n",
       "    }\n",
       "</style>\n",
       "<table border=\"1\" class=\"dataframe\">\n",
       "  <thead>\n",
       "    <tr style=\"text-align: right;\">\n",
       "      <th></th>\n",
       "      <th>Unnamed: 0</th>\n",
       "      <th>Name</th>\n",
       "      <th>Rating</th>\n",
       "      <th>Reviews</th>\n",
       "      <th>Description</th>\n",
       "      <th>Price</th>\n",
       "      <th>Discount</th>\n",
       "      <th>Pre_price</th>\n",
       "    </tr>\n",
       "  </thead>\n",
       "  <tbody>\n",
       "    <tr>\n",
       "      <th>460</th>\n",
       "      <td>460</td>\n",
       "      <td>SAMSUNG Galaxy F23 5G (Forest Green, 128 GB)</td>\n",
       "      <td>4.3</td>\n",
       "      <td>2,06,030 Ratings &amp; 15,708 Reviews</td>\n",
       "      <td>6 GB RAM | 128 GB ROM | Expandable Upto 1 TB16...</td>\n",
       "      <td>₹15,999</td>\n",
       "      <td>33% off</td>\n",
       "      <td>₹23,999</td>\n",
       "    </tr>\n",
       "    <tr>\n",
       "      <th>393</th>\n",
       "      <td>393</td>\n",
       "      <td>REDMI Note 12 Pro+ 5G (Iceberg Blue, 256 GB)</td>\n",
       "      <td>4.2</td>\n",
       "      <td>14,433 Ratings &amp; 1,507 Reviews</td>\n",
       "      <td>8 GB RAM | 256 GB ROM16.94 cm (6.67 inch) Full...</td>\n",
       "      <td>₹29,999</td>\n",
       "      <td>11% off</td>\n",
       "      <td>₹33,999</td>\n",
       "    </tr>\n",
       "    <tr>\n",
       "      <th>652</th>\n",
       "      <td>652</td>\n",
       "      <td>Kechaoda K55</td>\n",
       "      <td>3.8</td>\n",
       "      <td>331 Ratings &amp; 12 Reviews</td>\n",
       "      <td>32 MB RAM | 64 MB ROM4.57 cm (1.8 inch) Quarte...</td>\n",
       "      <td>₹1,160</td>\n",
       "      <td>22% off</td>\n",
       "      <td>₹1,499</td>\n",
       "    </tr>\n",
       "    <tr>\n",
       "      <th>113</th>\n",
       "      <td>113</td>\n",
       "      <td>Infinix HOT 20 5G (Space Blue, 64 GB)</td>\n",
       "      <td>4.2</td>\n",
       "      <td>15,114 Ratings &amp; 1,176 Reviews</td>\n",
       "      <td>4 GB RAM | 64 GB ROM | Expandable Upto 1 TB16....</td>\n",
       "      <td>₹11,499</td>\n",
       "      <td>36% off</td>\n",
       "      <td>₹17,999</td>\n",
       "    </tr>\n",
       "    <tr>\n",
       "      <th>34</th>\n",
       "      <td>34</td>\n",
       "      <td>MOTOROLA g13 (Lavender Blue, 128 GB)</td>\n",
       "      <td>4.0</td>\n",
       "      <td>41,678 Ratings &amp; 3,814 Reviews</td>\n",
       "      <td>4 GB RAM | 128 GB ROM | Expandable Upto 1 TB16...</td>\n",
       "      <td>₹9,999</td>\n",
       "      <td>28% off</td>\n",
       "      <td>₹13,999</td>\n",
       "    </tr>\n",
       "  </tbody>\n",
       "</table>\n",
       "</div>"
      ],
      "text/plain": [
       "     Unnamed: 0                                          Name  Rating  \\\n",
       "460         460  SAMSUNG Galaxy F23 5G (Forest Green, 128 GB)     4.3   \n",
       "393         393  REDMI Note 12 Pro+ 5G (Iceberg Blue, 256 GB)     4.2   \n",
       "652         652                                  Kechaoda K55     3.8   \n",
       "113         113         Infinix HOT 20 5G (Space Blue, 64 GB)     4.2   \n",
       "34           34          MOTOROLA g13 (Lavender Blue, 128 GB)     4.0   \n",
       "\n",
       "                               Reviews  \\\n",
       "460  2,06,030 Ratings & 15,708 Reviews   \n",
       "393     14,433 Ratings & 1,507 Reviews   \n",
       "652           331 Ratings & 12 Reviews   \n",
       "113     15,114 Ratings & 1,176 Reviews   \n",
       "34      41,678 Ratings & 3,814 Reviews   \n",
       "\n",
       "                                           Description    Price Discount  \\\n",
       "460  6 GB RAM | 128 GB ROM | Expandable Upto 1 TB16...  ₹15,999  33% off   \n",
       "393  8 GB RAM | 256 GB ROM16.94 cm (6.67 inch) Full...  ₹29,999  11% off   \n",
       "652  32 MB RAM | 64 MB ROM4.57 cm (1.8 inch) Quarte...   ₹1,160  22% off   \n",
       "113  4 GB RAM | 64 GB ROM | Expandable Upto 1 TB16....  ₹11,499  36% off   \n",
       "34   4 GB RAM | 128 GB ROM | Expandable Upto 1 TB16...   ₹9,999  28% off   \n",
       "\n",
       "    Pre_price  \n",
       "460   ₹23,999  \n",
       "393   ₹33,999  \n",
       "652    ₹1,499  \n",
       "113   ₹17,999  \n",
       "34    ₹13,999  "
      ]
     },
     "execution_count": 7,
     "metadata": {},
     "output_type": "execute_result"
    }
   ],
   "source": [
    "# too see random five rows\n",
    "df.sample(5)"
   ]
  },
  {
   "cell_type": "code",
   "execution_count": 8,
   "id": "9e6b729d",
   "metadata": {},
   "outputs": [
    {
     "data": {
      "text/plain": [
       "Index(['Unnamed: 0', 'Name', 'Rating', 'Reviews', 'Description', 'Price',\n",
       "       'Discount', 'Pre_price'],\n",
       "      dtype='object')"
      ]
     },
     "execution_count": 8,
     "metadata": {},
     "output_type": "execute_result"
    }
   ],
   "source": [
    "# to see columns name\n",
    "df.columns\n"
   ]
  },
  {
   "cell_type": "code",
   "execution_count": 9,
   "id": "774c3012",
   "metadata": {},
   "outputs": [
    {
     "data": {
      "text/plain": [
       "(984, 8)"
      ]
     },
     "execution_count": 9,
     "metadata": {},
     "output_type": "execute_result"
    }
   ],
   "source": [
    "# see data shape\n",
    "df.shape"
   ]
  },
  {
   "cell_type": "code",
   "execution_count": 10,
   "id": "e59ea75d",
   "metadata": {},
   "outputs": [
    {
     "data": {
      "text/plain": [
       "Unnamed: 0       int64\n",
       "Name            object\n",
       "Rating         float64\n",
       "Reviews         object\n",
       "Description     object\n",
       "Price           object\n",
       "Discount        object\n",
       "Pre_price       object\n",
       "dtype: object"
      ]
     },
     "execution_count": 10,
     "metadata": {},
     "output_type": "execute_result"
    }
   ],
   "source": [
    "# to see data types\n",
    "df.dtypes"
   ]
  },
  {
   "cell_type": "code",
   "execution_count": 11,
   "id": "acc1e1a0",
   "metadata": {},
   "outputs": [
    {
     "name": "stdout",
     "output_type": "stream",
     "text": [
      "<class 'pandas.core.frame.DataFrame'>\n",
      "RangeIndex: 984 entries, 0 to 983\n",
      "Data columns (total 8 columns):\n",
      " #   Column       Non-Null Count  Dtype  \n",
      "---  ------       --------------  -----  \n",
      " 0   Unnamed: 0   984 non-null    int64  \n",
      " 1   Name         984 non-null    object \n",
      " 2   Rating       974 non-null    float64\n",
      " 3   Reviews      974 non-null    object \n",
      " 4   Description  984 non-null    object \n",
      " 5   Price        982 non-null    object \n",
      " 6   Discount     931 non-null    object \n",
      " 7   Pre_price    942 non-null    object \n",
      "dtypes: float64(1), int64(1), object(6)\n",
      "memory usage: 61.6+ KB\n"
     ]
    }
   ],
   "source": [
    "# to see basic info \n",
    "df.info()"
   ]
  },
  {
   "cell_type": "markdown",
   "id": "bed03a40",
   "metadata": {},
   "source": [
    "# Data Cleaning"
   ]
  },
  {
   "cell_type": "code",
   "execution_count": 76,
   "id": "126945ac",
   "metadata": {},
   "outputs": [
    {
     "data": {
      "text/plain": [
       "0"
      ]
     },
     "execution_count": 76,
     "metadata": {},
     "output_type": "execute_result"
    }
   ],
   "source": [
    "# to see duplicated\n",
    "df.duplicated().sum()"
   ]
  },
  {
   "cell_type": "code",
   "execution_count": 77,
   "id": "8df13708",
   "metadata": {},
   "outputs": [],
   "source": [
    "# drop unnamed columns\n",
    "df.drop(columns=['Unnamed: 0'],axis=1,inplace=True)"
   ]
  },
  {
   "cell_type": "code",
   "execution_count": 78,
   "id": "1f0027bc",
   "metadata": {},
   "outputs": [],
   "source": [
    "# Name columns to Brand Name columns\n",
    "df['Brand_Name']=df['Name'].str.split(' ').str[0]"
   ]
  },
  {
   "cell_type": "code",
   "execution_count": 79,
   "id": "2bf8481f",
   "metadata": {},
   "outputs": [],
   "source": [
    "# Name columns to Phone_color columns\n",
    "df['Phone_Colour']=df['Name'].str.split('(').str[1]"
   ]
  },
  {
   "cell_type": "code",
   "execution_count": 80,
   "id": "6d7e744a",
   "metadata": {},
   "outputs": [],
   "source": [
    "# Name columns to Rom columns\n",
    "df['Rom']=df['Phone_Colour'].str.split(',').str[1]\n",
    "df['Rom']=df['Rom'].str.replace(')','')\n",
    "df['Rom']=df['Rom'].str.replace('GB','')"
   ]
  },
  {
   "cell_type": "code",
   "execution_count": 81,
   "id": "6139c29d",
   "metadata": {},
   "outputs": [],
   "source": [
    "# Name columns to Phone_color columns\n",
    "df['Phone_Colour']=df['Phone_Colour'].str.split(',').str[0]"
   ]
  },
  {
   "cell_type": "code",
   "execution_count": 82,
   "id": "a63a5204",
   "metadata": {},
   "outputs": [],
   "source": [
    "# Name columns to Model_Name  columns\n",
    "df['Model_Name']=df['Name'].str.split('(').str[0]"
   ]
  },
  {
   "cell_type": "code",
   "execution_count": 83,
   "id": "e31a3b53",
   "metadata": {},
   "outputs": [],
   "source": [
    "# drop name columns\n",
    "df.drop(columns=['Name'],axis=1,inplace=True)"
   ]
  },
  {
   "cell_type": "code",
   "execution_count": 84,
   "id": "b65f3cb6",
   "metadata": {},
   "outputs": [],
   "source": [
    "#Reviews columns to Rating Count columns\n",
    "df['Rating_Count']=df['Reviews'].str.split('Ratings').str[0]\n",
    "df['Rating_Count']=df['Rating_Count'].str.replace(',','')"
   ]
  },
  {
   "cell_type": "code",
   "execution_count": 85,
   "id": "328377ca",
   "metadata": {},
   "outputs": [],
   "source": [
    "#Reviews columns to Reviews Count columns\n",
    "df['Reviews_Count']=df['Reviews'].str.split('&').str[1]\n",
    "df['Reviews_Count']=df['Reviews_Count'].str.replace(',','')\n",
    "df['Reviews_Count']=df['Reviews_Count'].str.replace('Reviews','')"
   ]
  },
  {
   "cell_type": "code",
   "execution_count": 86,
   "id": "741886c6",
   "metadata": {},
   "outputs": [],
   "source": [
    "# drop unnamed columns\n",
    "df.drop(columns=['Reviews'],axis=1,inplace=True)"
   ]
  },
  {
   "cell_type": "code",
   "execution_count": 87,
   "id": "3ec60233",
   "metadata": {},
   "outputs": [],
   "source": [
    "# Clean Price Columns \n",
    "df['Price']=df['Price'].str.replace('₹','')\n",
    "df['Price']=df['Price'].str.replace(',','')"
   ]
  },
  {
   "cell_type": "code",
   "execution_count": 88,
   "id": "44c5d765",
   "metadata": {},
   "outputs": [],
   "source": [
    "# Clean Discount Columns \n",
    "df['Discount']=df['Discount'].str.replace('off','')\n",
    "df['Discount']=df['Discount'].str.replace('%','')"
   ]
  },
  {
   "cell_type": "code",
   "execution_count": 89,
   "id": "d3848cd6",
   "metadata": {},
   "outputs": [],
   "source": [
    "# Clean Price Columns \n",
    "df['Pre_price']=df['Pre_price'].str.replace('₹','')\n",
    "df['Pre_price']=df['Pre_price'].str.replace(',','')"
   ]
  },
  {
   "cell_type": "code",
   "execution_count": 93,
   "id": "312378aa",
   "metadata": {},
   "outputs": [],
   "source": [
    "# arrange columns\n",
    "df=df[['Brand_Name','Model_Name','Phone_Colour','Rom','Rating','Rating_Count','Reviews_Count','Price','Pre_price','Description']]"
   ]
  },
  {
   "cell_type": "code",
   "execution_count": 98,
   "id": "19fa250f",
   "metadata": {},
   "outputs": [],
   "source": [
    "# description columns to Ram\n",
    "df['Ram']=df['Description'].str.split('|').str[0]\n",
    "df['Ram']=df['Ram'].str.replace('GB RAM','')"
   ]
  },
  {
   "cell_type": "code",
   "execution_count": 100,
   "id": "2c6f7d2b",
   "metadata": {},
   "outputs": [],
   "source": [
    "df['Description']=df['Description'].str.replace('4 GB RAM | 64 GB ROM | ','')"
   ]
  },
  {
   "cell_type": "code",
   "execution_count": 115,
   "id": "1aeed730",
   "metadata": {},
   "outputs": [],
   "source": [
    "df['Display_Sizes']=df['Description'].str.split(')').str[1]"
   ]
  },
  {
   "cell_type": "code",
   "execution_count": 120,
   "id": "aecbb1da",
   "metadata": {},
   "outputs": [],
   "source": [
    "df.drop(columns=['RearCamera','FrontCamera'],axis=1,inplace=True)"
   ]
  },
  {
   "cell_type": "code",
   "execution_count": 126,
   "id": "26131112",
   "metadata": {},
   "outputs": [],
   "source": [
    "# copy all data from df to df1 for backup purpose\n",
    "df1=df.copy()"
   ]
  },
  {
   "cell_type": "code",
   "execution_count": 135,
   "id": "e4ce42df",
   "metadata": {},
   "outputs": [],
   "source": [
    "# Convert the extracted values to numeric\n",
    "df1['Battery_Capacity'] = df1['Display_Sizes'].str.extract(r'(\\d+)mAhBattery')\n",
    "\n",
    "df1['Battery_Capacity'] = pd.to_numeric(df1['Battery_Capacity'], errors='coerce')"
   ]
  },
  {
   "cell_type": "code",
   "execution_count": 136,
   "id": "b5d3d28b",
   "metadata": {},
   "outputs": [],
   "source": [
    "# Primary Camera Convert the extracted values to numeric\n",
    "df1['Front_Camera(MP)'] = df1['Display_Sizes'].str.extract(r'(\\d+)MPFront')\n",
    "df1['Front_Camera(MP)'] = pd.to_numeric(df1['Front_Camera(MP)'], errors='coerce')"
   ]
  },
  {
   "cell_type": "code",
   "execution_count": 138,
   "id": "17f175bc",
   "metadata": {},
   "outputs": [],
   "source": [
    "df1.drop(columns=['Primary_Camera(MP)','Battery_Capacity_mAh'],axis=1,inplace=True)"
   ]
  },
  {
   "cell_type": "code",
   "execution_count": 142,
   "id": "00461fcf",
   "metadata": {},
   "outputs": [],
   "source": [
    "# Display_Size Convert the extracted values to numeric\n",
    "df1['Display_Size'] = df1['Description'].str.extract(r'\\((\\d+\\.\\d+)inch')\n",
    "df1['Display_Size'] = pd.to_numeric(df1['Display_Size'], errors='coerce')"
   ]
  },
  {
   "cell_type": "code",
   "execution_count": 154,
   "id": "2e4485c5",
   "metadata": {},
   "outputs": [],
   "source": [
    "# Extract data between \"Battery\" and \"Processor\" using regular expression\n",
    "df1['Processor'] = df1['Description'].str.extract(r'Battery(.*?)Processor')"
   ]
  },
  {
   "cell_type": "code",
   "execution_count": 155,
   "id": "b8fb5048",
   "metadata": {},
   "outputs": [],
   "source": [
    "df1['Primary_Camera(MP)'] = df1['Description'].str.extract(r'Display(.*?)MP')"
   ]
  },
  {
   "cell_type": "code",
   "execution_count": 157,
   "id": "7d2549fd",
   "metadata": {},
   "outputs": [],
   "source": [
    "# copy all data from df to df1 for backup purpose\n",
    "df=df1.copy()"
   ]
  },
  {
   "cell_type": "code",
   "execution_count": 159,
   "id": "17e28ce1",
   "metadata": {},
   "outputs": [],
   "source": [
    "df.drop(columns=['Display_Sizes','Description'],axis=1,inplace=True)"
   ]
  },
  {
   "cell_type": "code",
   "execution_count": 196,
   "id": "e4b7e494",
   "metadata": {},
   "outputs": [],
   "source": [
    "df.drop(columns=['Front_Camera(MP)'],axis=1,inplace=True)"
   ]
  },
  {
   "cell_type": "code",
   "execution_count": 202,
   "id": "c64b4dc1",
   "metadata": {},
   "outputs": [],
   "source": [
    "df.drop(columns=['Ram'],axis=1,inplace=True)"
   ]
  },
  {
   "cell_type": "code",
   "execution_count": 203,
   "id": "ce471126",
   "metadata": {},
   "outputs": [
    {
     "data": {
      "text/plain": [
       "Brand_Name              0\n",
       "Model_Name              0\n",
       "Phone_Colour            0\n",
       "Rom                   334\n",
       "Rating                  0\n",
       "Rating_Count            0\n",
       "Reviews_Count           0\n",
       "Price                   0\n",
       "Pre_price               0\n",
       "Battery_Capacity        0\n",
       "Display_Size            0\n",
       "Processor             420\n",
       "Primary_Camera(MP)      0\n",
       "dtype: int64"
      ]
     },
     "execution_count": 203,
     "metadata": {},
     "output_type": "execute_result"
    }
   ],
   "source": [
    "# Check null value\n",
    "df.isnull().sum()"
   ]
  },
  {
   "cell_type": "markdown",
   "id": "dca3ec0d",
   "metadata": {},
   "source": [
    "# Handelling Missing Value"
   ]
  },
  {
   "cell_type": "code",
   "execution_count": 168,
   "id": "57433cf5",
   "metadata": {},
   "outputs": [],
   "source": [
    "df['Phone_Colour'].mode()[0]\n",
    "df['Phone_Colour']=df['Phone_Colour'].fillna(df['Phone_Colour'].mode()[0])"
   ]
  },
  {
   "cell_type": "code",
   "execution_count": 181,
   "id": "9fbd38c7",
   "metadata": {},
   "outputs": [],
   "source": [
    "df['Display_Size'].median()\n",
    "df['Display_Size']=df['Display_Size'].fillna(df['Display_Size'].median())"
   ]
  },
  {
   "cell_type": "code",
   "execution_count": 184,
   "id": "4f2b2e70",
   "metadata": {},
   "outputs": [],
   "source": [
    "df['Primary_Camera(MP)'].median()\n",
    "df['Primary_Camera(MP)']=df['Primary_Camera(MP)'].fillna(df['Primary_Camera(MP)'].median())"
   ]
  },
  {
   "cell_type": "code",
   "execution_count": 187,
   "id": "1cda18f7",
   "metadata": {},
   "outputs": [],
   "source": [
    "df['Rating'].median()\n",
    "df['Rating']=df['Rating'].fillna(df['Rating'].median())"
   ]
  },
  {
   "cell_type": "code",
   "execution_count": 188,
   "id": "1de4c447",
   "metadata": {},
   "outputs": [],
   "source": [
    "df['Rating_Count'].median()\n",
    "df['Rating_Count']=df['Rating_Count'].fillna(df['Rating_Count'].median())"
   ]
  },
  {
   "cell_type": "code",
   "execution_count": 189,
   "id": "bf3b0c7e",
   "metadata": {},
   "outputs": [],
   "source": [
    "df['Reviews_Count'].median()\n",
    "df['Reviews_Count']=df['Reviews_Count'].fillna(df['Reviews_Count'].median())"
   ]
  },
  {
   "cell_type": "code",
   "execution_count": 190,
   "id": "981bde83",
   "metadata": {},
   "outputs": [],
   "source": [
    "df['Price'].median()\n",
    "df['Price']=df['Price'].fillna(df['Price'].median())"
   ]
  },
  {
   "cell_type": "code",
   "execution_count": 191,
   "id": "5b6e83b4",
   "metadata": {},
   "outputs": [],
   "source": [
    "df['Pre_price'].median()\n",
    "df['Pre_price']=df['Pre_price'].fillna(df['Pre_price'].median())"
   ]
  },
  {
   "cell_type": "code",
   "execution_count": 194,
   "id": "425f0c05",
   "metadata": {},
   "outputs": [],
   "source": [
    "df['Battery_Capacity'].median()\n",
    "df['Battery_Capacity']=df['Battery_Capacity'].fillna(df['Battery_Capacity'].median())"
   ]
  },
  {
   "cell_type": "code",
   "execution_count": 206,
   "id": "d35a17fc",
   "metadata": {},
   "outputs": [],
   "source": [
    "df['Rom']=df['Rom'].str.replace('MB','')"
   ]
  },
  {
   "cell_type": "code",
   "execution_count": 213,
   "id": "96970393",
   "metadata": {},
   "outputs": [],
   "source": [
    "df=df[df['Rom']!=' 32+3 ']"
   ]
  },
  {
   "cell_type": "code",
   "execution_count": 216,
   "id": "cdbe8344",
   "metadata": {},
   "outputs": [],
   "source": [
    "df['Rom'].median()\n",
    "df['Rom']=df['Rom'].fillna(df['Rom'].median())"
   ]
  },
  {
   "cell_type": "code",
   "execution_count": 217,
   "id": "0c31b1f4",
   "metadata": {},
   "outputs": [
    {
     "data": {
      "text/plain": [
       "Brand_Name              0\n",
       "Model_Name              0\n",
       "Phone_Colour            0\n",
       "Rom                     0\n",
       "Rating                  0\n",
       "Rating_Count            0\n",
       "Reviews_Count           0\n",
       "Price                   0\n",
       "Pre_price               0\n",
       "Battery_Capacity        0\n",
       "Display_Size            0\n",
       "Processor             419\n",
       "Primary_Camera(MP)      0\n",
       "dtype: int64"
      ]
     },
     "execution_count": 217,
     "metadata": {},
     "output_type": "execute_result"
    }
   ],
   "source": [
    "# again check null value\n",
    "df.isnull().sum()"
   ]
  },
  {
   "cell_type": "code",
   "execution_count": 221,
   "id": "49706887",
   "metadata": {},
   "outputs": [],
   "source": [
    "df[['Rom','Rating_Count','Reviews_Count','Price','Pre_price']]=df[['Rom','Rating_Count','Reviews_Count','Price','Pre_price']].astype('int')"
   ]
  },
  {
   "cell_type": "code",
   "execution_count": 224,
   "id": "efe85c29",
   "metadata": {},
   "outputs": [],
   "source": [
    "df['Primary_Camera(MP)']=df['Primary_Camera(MP)'].astype('float')"
   ]
  },
  {
   "cell_type": "markdown",
   "id": "29ddfc7f",
   "metadata": {},
   "source": [
    "# Data Preprocessing"
   ]
  },
  {
   "cell_type": "code",
   "execution_count": 229,
   "id": "91ccdbc7",
   "metadata": {},
   "outputs": [],
   "source": [
    "# Creating Rating Group Columns\n",
    "\n",
    "def rating_group(feature):\n",
    "    if feature >=3.1 and feature<3.5:\n",
    "        return 'Bad'\n",
    "    elif feature >=3.5 and feature<4.0:\n",
    "        return 'Fair'\n",
    "    elif feature >=4.0 and feature<4.5:\n",
    "        return 'Good'\n",
    "    else:\n",
    "        return 'Excellent'"
   ]
  },
  {
   "cell_type": "code",
   "execution_count": 230,
   "id": "197a63a6",
   "metadata": {},
   "outputs": [],
   "source": [
    "df['Rating_Group']=df['Rating'].apply(rating_group)"
   ]
  },
  {
   "cell_type": "code",
   "execution_count": 238,
   "id": "5026fa2e",
   "metadata": {},
   "outputs": [],
   "source": [
    "# Creating Price Group Columns\n",
    "\n",
    "def price_group(feature):\n",
    "    if feature >=620 and feature<20000:\n",
    "        return '0-20k'\n",
    "    elif feature >=20000 and feature<40000:\n",
    "        return '20k-40k'\n",
    "    elif feature >=40000 and feature<60000:\n",
    "        return '40k-60k'\n",
    "    elif feature >=60000 and feature<80000:\n",
    "        return '60k-80k'\n",
    "    else:\n",
    "        return 'greater 80k'"
   ]
  },
  {
   "cell_type": "code",
   "execution_count": 236,
   "id": "040fea88",
   "metadata": {},
   "outputs": [],
   "source": [
    "df['Price_Group']=df['Price'].apply(price_group)"
   ]
  },
  {
   "cell_type": "code",
   "execution_count": 242,
   "id": "5abe7c2e",
   "metadata": {},
   "outputs": [],
   "source": [
    "def display_group(feature):\n",
    "    if feature >=0.6 and feature<5.8:\n",
    "        return 'Small'\n",
    "    elif feature >5.8 and feature<6.2:\n",
    "        return 'Average'\n",
    "    elif feature >=6.2 and feature<6.6:\n",
    "        return 'Large'\n",
    "    else:\n",
    "        return 'Very Large'"
   ]
  },
  {
   "cell_type": "code",
   "execution_count": 243,
   "id": "09dd3015",
   "metadata": {},
   "outputs": [],
   "source": [
    "df['Display_Group']=df['Display_Size'].apply(display_group)"
   ]
  },
  {
   "cell_type": "code",
   "execution_count": 244,
   "id": "d8215e1b",
   "metadata": {},
   "outputs": [
    {
     "data": {
      "text/html": [
       "<div>\n",
       "<style scoped>\n",
       "    .dataframe tbody tr th:only-of-type {\n",
       "        vertical-align: middle;\n",
       "    }\n",
       "\n",
       "    .dataframe tbody tr th {\n",
       "        vertical-align: top;\n",
       "    }\n",
       "\n",
       "    .dataframe thead th {\n",
       "        text-align: right;\n",
       "    }\n",
       "</style>\n",
       "<table border=\"1\" class=\"dataframe\">\n",
       "  <thead>\n",
       "    <tr style=\"text-align: right;\">\n",
       "      <th></th>\n",
       "      <th>Brand_Name</th>\n",
       "      <th>Model_Name</th>\n",
       "      <th>Phone_Colour</th>\n",
       "      <th>Rom</th>\n",
       "      <th>Rating</th>\n",
       "      <th>Rating_Count</th>\n",
       "      <th>Reviews_Count</th>\n",
       "      <th>Price</th>\n",
       "      <th>Pre_price</th>\n",
       "      <th>Battery_Capacity</th>\n",
       "      <th>Display_Size</th>\n",
       "      <th>Processor</th>\n",
       "      <th>Primary_Camera(MP)</th>\n",
       "      <th>Rating_Group</th>\n",
       "      <th>Price_Group</th>\n",
       "      <th>Display_Group</th>\n",
       "    </tr>\n",
       "  </thead>\n",
       "  <tbody>\n",
       "    <tr>\n",
       "      <th>0</th>\n",
       "      <td>POCO</td>\n",
       "      <td>POCO C51</td>\n",
       "      <td>Royal Blue</td>\n",
       "      <td>64</td>\n",
       "      <td>4.1</td>\n",
       "      <td>51111</td>\n",
       "      <td>2679</td>\n",
       "      <td>6499</td>\n",
       "      <td>9999</td>\n",
       "      <td>5000.0</td>\n",
       "      <td>6.52</td>\n",
       "      <td>HelioG36</td>\n",
       "      <td>8.0</td>\n",
       "      <td>Good</td>\n",
       "      <td>0-20k</td>\n",
       "      <td>Large</td>\n",
       "    </tr>\n",
       "    <tr>\n",
       "      <th>1</th>\n",
       "      <td>Infinix</td>\n",
       "      <td>Infinix SMART 7</td>\n",
       "      <td>Azure Blue</td>\n",
       "      <td>64</td>\n",
       "      <td>4.3</td>\n",
       "      <td>60734</td>\n",
       "      <td>2956</td>\n",
       "      <td>6999</td>\n",
       "      <td>9999</td>\n",
       "      <td>6000.0</td>\n",
       "      <td>6.60</td>\n",
       "      <td>UnisocSpreadtrumSC9863A1</td>\n",
       "      <td>13.0</td>\n",
       "      <td>Good</td>\n",
       "      <td>0-20k</td>\n",
       "      <td>Very Large</td>\n",
       "    </tr>\n",
       "    <tr>\n",
       "      <th>2</th>\n",
       "      <td>POCO</td>\n",
       "      <td>POCO C51</td>\n",
       "      <td>Power Black</td>\n",
       "      <td>64</td>\n",
       "      <td>4.1</td>\n",
       "      <td>51111</td>\n",
       "      <td>2679</td>\n",
       "      <td>6499</td>\n",
       "      <td>9999</td>\n",
       "      <td>5000.0</td>\n",
       "      <td>6.52</td>\n",
       "      <td>HelioG36</td>\n",
       "      <td>8.0</td>\n",
       "      <td>Good</td>\n",
       "      <td>0-20k</td>\n",
       "      <td>Large</td>\n",
       "    </tr>\n",
       "    <tr>\n",
       "      <th>3</th>\n",
       "      <td>Infinix</td>\n",
       "      <td>Infinix SMART 7</td>\n",
       "      <td>Night Black</td>\n",
       "      <td>128</td>\n",
       "      <td>4.3</td>\n",
       "      <td>60734</td>\n",
       "      <td>2956</td>\n",
       "      <td>7599</td>\n",
       "      <td>10999</td>\n",
       "      <td>6000.0</td>\n",
       "      <td>6.60</td>\n",
       "      <td>UnisocSpreadtrumSC9863A1</td>\n",
       "      <td>13.0</td>\n",
       "      <td>Good</td>\n",
       "      <td>0-20k</td>\n",
       "      <td>Very Large</td>\n",
       "    </tr>\n",
       "    <tr>\n",
       "      <th>4</th>\n",
       "      <td>Infinix</td>\n",
       "      <td>Infinix SMART 7</td>\n",
       "      <td>Emerald Green</td>\n",
       "      <td>128</td>\n",
       "      <td>4.3</td>\n",
       "      <td>60734</td>\n",
       "      <td>2956</td>\n",
       "      <td>7599</td>\n",
       "      <td>10999</td>\n",
       "      <td>6000.0</td>\n",
       "      <td>6.60</td>\n",
       "      <td>UnisocSpreadtrumSC9863A1</td>\n",
       "      <td>13.0</td>\n",
       "      <td>Good</td>\n",
       "      <td>0-20k</td>\n",
       "      <td>Very Large</td>\n",
       "    </tr>\n",
       "  </tbody>\n",
       "</table>\n",
       "</div>"
      ],
      "text/plain": [
       "  Brand_Name        Model_Name   Phone_Colour  Rom  Rating  Rating_Count  \\\n",
       "0       POCO         POCO C51      Royal Blue   64     4.1         51111   \n",
       "1    Infinix  Infinix SMART 7      Azure Blue   64     4.3         60734   \n",
       "2       POCO         POCO C51     Power Black   64     4.1         51111   \n",
       "3    Infinix  Infinix SMART 7     Night Black  128     4.3         60734   \n",
       "4    Infinix  Infinix SMART 7   Emerald Green  128     4.3         60734   \n",
       "\n",
       "   Reviews_Count  Price  Pre_price  Battery_Capacity  Display_Size  \\\n",
       "0           2679   6499       9999            5000.0          6.52   \n",
       "1           2956   6999       9999            6000.0          6.60   \n",
       "2           2679   6499       9999            5000.0          6.52   \n",
       "3           2956   7599      10999            6000.0          6.60   \n",
       "4           2956   7599      10999            6000.0          6.60   \n",
       "\n",
       "                  Processor  Primary_Camera(MP) Rating_Group Price_Group  \\\n",
       "0                  HelioG36                 8.0         Good       0-20k   \n",
       "1  UnisocSpreadtrumSC9863A1                13.0         Good       0-20k   \n",
       "2                  HelioG36                 8.0         Good       0-20k   \n",
       "3  UnisocSpreadtrumSC9863A1                13.0         Good       0-20k   \n",
       "4  UnisocSpreadtrumSC9863A1                13.0         Good       0-20k   \n",
       "\n",
       "  Display_Group  \n",
       "0         Large  \n",
       "1    Very Large  \n",
       "2         Large  \n",
       "3    Very Large  \n",
       "4    Very Large  "
      ]
     },
     "execution_count": 244,
     "metadata": {},
     "output_type": "execute_result"
    }
   ],
   "source": [
    "df.head()"
   ]
  },
  {
   "cell_type": "code",
   "execution_count": 249,
   "id": "a648e07a",
   "metadata": {},
   "outputs": [],
   "source": [
    "df.rename(columns={'Primary_Camera(MP)':'Primary_Camera'},inplace=True)"
   ]
  },
  {
   "cell_type": "markdown",
   "id": "5849479b",
   "metadata": {},
   "source": [
    "# Data Export BigQuery Datawarehouse"
   ]
  },
  {
   "cell_type": "code",
   "execution_count": 245,
   "id": "5123ba14",
   "metadata": {},
   "outputs": [],
   "source": [
    "from google.cloud import bigquery"
   ]
  },
  {
   "cell_type": "code",
   "execution_count": 246,
   "id": "065d6853",
   "metadata": {},
   "outputs": [],
   "source": [
    "from pandas_gbq import to_gbq\n",
    "\n",
    "\n"
   ]
  },
  {
   "cell_type": "code",
   "execution_count": 250,
   "id": "06b01ba9",
   "metadata": {},
   "outputs": [
    {
     "name": "stderr",
     "output_type": "stream",
     "text": [
      "100%|███████████████████████████████████████████████████████████████████████████████████| 1/1 [00:00<00:00, 511.31it/s]\n"
     ]
    }
   ],
   "source": [
    "# Replace with your destination table's details\n",
    "project_id = 'dbt-project-396315'\n",
    "dataset_id = 'pizza_sales'\n",
    "table_id = 'mobile_data'\n",
    "\n",
    "# Upload DataFrame to BigQuery\n",
    "to_gbq(df, destination_table=f\"{project_id}.{dataset_id}.{table_id}\", project_id=project_id, if_exists='replace')"
   ]
  },
  {
   "cell_type": "code",
   "execution_count": 251,
   "id": "e6319446",
   "metadata": {},
   "outputs": [],
   "source": [
    "df.to_csv(r\"G:\\mobile_clean_data.csv\")"
   ]
  },
  {
   "cell_type": "code",
   "execution_count": null,
   "id": "5896c210",
   "metadata": {},
   "outputs": [],
   "source": []
  }
 ],
 "metadata": {
  "kernelspec": {
   "display_name": "Python 3 (ipykernel)",
   "language": "python",
   "name": "python3"
  },
  "language_info": {
   "codemirror_mode": {
    "name": "ipython",
    "version": 3
   },
   "file_extension": ".py",
   "mimetype": "text/x-python",
   "name": "python",
   "nbconvert_exporter": "python",
   "pygments_lexer": "ipython3",
   "version": "3.9.7"
  }
 },
 "nbformat": 4,
 "nbformat_minor": 5
}
