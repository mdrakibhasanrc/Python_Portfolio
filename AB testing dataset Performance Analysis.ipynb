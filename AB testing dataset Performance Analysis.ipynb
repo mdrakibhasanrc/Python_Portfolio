{
 "cells": [
  {
   "cell_type": "markdown",
   "id": "8f94bdf8",
   "metadata": {},
   "source": [
    "# Dataset Overview:\n",
    "\n",
    "This data set is abt ad campaigns for \"KINDLE\".\n",
    "\n",
    "there are 2 campaigns in dataset.\n",
    "\n",
    "1) AKIN9326: persuasive as focused on long term benefits of reading in one's professional life and how kindle will help with reading.\n",
    "\n",
    "2) AKIN8012: persuasive ad focused on instilling fear in-peoples mind about about what will happen to professional career if they dont read regularly.\n",
    "\n",
    "Objective:\n",
    "which ad campaign led to more conversions???\n"
   ]
  },
  {
   "cell_type": "markdown",
   "id": "c6da0d16",
   "metadata": {},
   "source": [
    "# Import library:"
   ]
  },
  {
   "cell_type": "code",
   "execution_count": 1,
   "id": "411c6b22",
   "metadata": {},
   "outputs": [],
   "source": [
    "import numpy as np\n",
    "import pandas as pd\n",
    "import matplotlib.pyplot as plt\n",
    "import seaborn as sns\n",
    "%matplotlib inline\n",
    "import warnings\n",
    "warnings.filterwarnings('ignore')\n",
    "import kaggle"
   ]
  },
  {
   "cell_type": "markdown",
   "id": "96866766",
   "metadata": {},
   "source": [
    "# Collect Dataset from kaggle"
   ]
  },
  {
   "cell_type": "code",
   "execution_count": 2,
   "id": "7148028c",
   "metadata": {},
   "outputs": [
    {
     "name": "stdout",
     "output_type": "stream",
     "text": [
      "Warning: Looks like you're using an outdated API Version, please consider updating (server 1.6.14 / client 1.6.12)"
     ]
    },
    {
     "name": "stderr",
     "output_type": "stream",
     "text": [
      "\n",
      "  0%|          | 0.00/74.7k [00:00<?, ?B/s]\n",
      "100%|##########| 74.7k/74.7k [00:00<00:00, 222kB/s]\n",
      "100%|##########| 74.7k/74.7k [00:00<00:00, 222kB/s]\n"
     ]
    },
    {
     "name": "stdout",
     "output_type": "stream",
     "text": [
      "\n",
      "Dataset URL: https://www.kaggle.com/datasets/marc3987/ab-testing-dataset\n",
      "License(s): unknown\n",
      "Downloading ab-testing-dataset.zip to C:\\Users\\Rakib Hasan\\Documents\\Untitled Folder\n",
      "\n"
     ]
    }
   ],
   "source": [
    "!kaggle datasets download marc3987/ab-testing-dataset"
   ]
  },
  {
   "cell_type": "code",
   "execution_count": 4,
   "id": "c2e90a09",
   "metadata": {},
   "outputs": [],
   "source": [
    "import zipfile\n",
    "zip_ref = zipfile.ZipFile('ab-testing-dataset.zip')\n",
    "zip_ref.extractall()\n",
    "zip_ref.close()"
   ]
  },
  {
   "cell_type": "code",
   "execution_count": 5,
   "id": "7db457b6",
   "metadata": {},
   "outputs": [
    {
     "data": {
      "text/html": [
       "<div>\n",
       "<style scoped>\n",
       "    .dataframe tbody tr th:only-of-type {\n",
       "        vertical-align: middle;\n",
       "    }\n",
       "\n",
       "    .dataframe tbody tr th {\n",
       "        vertical-align: top;\n",
       "    }\n",
       "\n",
       "    .dataframe thead th {\n",
       "        text-align: right;\n",
       "    }\n",
       "</style>\n",
       "<table border=\"1\" class=\"dataframe\">\n",
       "  <thead>\n",
       "    <tr style=\"text-align: right;\">\n",
       "      <th></th>\n",
       "      <th>ad_id</th>\n",
       "      <th>campaign_id</th>\n",
       "      <th>age</th>\n",
       "      <th>gender</th>\n",
       "      <th>interest</th>\n",
       "      <th>Impressions</th>\n",
       "      <th>Clicks</th>\n",
       "      <th>Spent</th>\n",
       "      <th>Total_Conversion</th>\n",
       "      <th>Approved_Conversion</th>\n",
       "    </tr>\n",
       "  </thead>\n",
       "  <tbody>\n",
       "    <tr>\n",
       "      <th>0</th>\n",
       "      <td>1121121</td>\n",
       "      <td>AKIN9326</td>\n",
       "      <td>30-34</td>\n",
       "      <td>M</td>\n",
       "      <td>Business &amp; industry</td>\n",
       "      <td>323899</td>\n",
       "      <td>46</td>\n",
       "      <td>78.920000</td>\n",
       "      <td>5</td>\n",
       "      <td>1</td>\n",
       "    </tr>\n",
       "    <tr>\n",
       "      <th>1</th>\n",
       "      <td>1121091</td>\n",
       "      <td>AKIN9326</td>\n",
       "      <td>30-34</td>\n",
       "      <td>M</td>\n",
       "      <td>Business &amp; industry</td>\n",
       "      <td>1194718</td>\n",
       "      <td>141</td>\n",
       "      <td>254.049996</td>\n",
       "      <td>3</td>\n",
       "      <td>1</td>\n",
       "    </tr>\n",
       "    <tr>\n",
       "      <th>2</th>\n",
       "      <td>1121092</td>\n",
       "      <td>AKIN9326</td>\n",
       "      <td>30-34</td>\n",
       "      <td>M</td>\n",
       "      <td>Business &amp; industry</td>\n",
       "      <td>637648</td>\n",
       "      <td>67</td>\n",
       "      <td>122.400000</td>\n",
       "      <td>3</td>\n",
       "      <td>0</td>\n",
       "    </tr>\n",
       "    <tr>\n",
       "      <th>3</th>\n",
       "      <td>1121094</td>\n",
       "      <td>AKIN9326</td>\n",
       "      <td>30-34</td>\n",
       "      <td>M</td>\n",
       "      <td>Business &amp; industry</td>\n",
       "      <td>24362</td>\n",
       "      <td>0</td>\n",
       "      <td>0.000000</td>\n",
       "      <td>1</td>\n",
       "      <td>1</td>\n",
       "    </tr>\n",
       "    <tr>\n",
       "      <th>4</th>\n",
       "      <td>1121095</td>\n",
       "      <td>AKIN9326</td>\n",
       "      <td>30-34</td>\n",
       "      <td>M</td>\n",
       "      <td>Business &amp; industry</td>\n",
       "      <td>459690</td>\n",
       "      <td>50</td>\n",
       "      <td>86.330001</td>\n",
       "      <td>3</td>\n",
       "      <td>2</td>\n",
       "    </tr>\n",
       "    <tr>\n",
       "      <th>...</th>\n",
       "      <td>...</td>\n",
       "      <td>...</td>\n",
       "      <td>...</td>\n",
       "      <td>...</td>\n",
       "      <td>...</td>\n",
       "      <td>...</td>\n",
       "      <td>...</td>\n",
       "      <td>...</td>\n",
       "      <td>...</td>\n",
       "      <td>...</td>\n",
       "    </tr>\n",
       "    <tr>\n",
       "      <th>1245</th>\n",
       "      <td>1314303</td>\n",
       "      <td>AKIN8012</td>\n",
       "      <td>30-34</td>\n",
       "      <td>M</td>\n",
       "      <td>Entertainment (Reading)</td>\n",
       "      <td>496760</td>\n",
       "      <td>42</td>\n",
       "      <td>61.009999</td>\n",
       "      <td>10</td>\n",
       "      <td>3</td>\n",
       "    </tr>\n",
       "    <tr>\n",
       "      <th>1246</th>\n",
       "      <td>1121246</td>\n",
       "      <td>AKIN8012</td>\n",
       "      <td>30-34</td>\n",
       "      <td>M</td>\n",
       "      <td>Business &amp; industry</td>\n",
       "      <td>105047</td>\n",
       "      <td>13</td>\n",
       "      <td>20.209999</td>\n",
       "      <td>3</td>\n",
       "      <td>1</td>\n",
       "    </tr>\n",
       "    <tr>\n",
       "      <th>1247</th>\n",
       "      <td>1314393</td>\n",
       "      <td>AKIN8012</td>\n",
       "      <td>40-44</td>\n",
       "      <td>F</td>\n",
       "      <td>Entertainment (Reading)</td>\n",
       "      <td>877535</td>\n",
       "      <td>149</td>\n",
       "      <td>217.779997</td>\n",
       "      <td>5</td>\n",
       "      <td>2</td>\n",
       "    </tr>\n",
       "    <tr>\n",
       "      <th>1248</th>\n",
       "      <td>1121824</td>\n",
       "      <td>AKIN8012</td>\n",
       "      <td>30-34</td>\n",
       "      <td>F</td>\n",
       "      <td>Business &amp; industry</td>\n",
       "      <td>1705246</td>\n",
       "      <td>295</td>\n",
       "      <td>429.479998</td>\n",
       "      <td>23</td>\n",
       "      <td>10</td>\n",
       "    </tr>\n",
       "    <tr>\n",
       "      <th>1249</th>\n",
       "      <td>1121336</td>\n",
       "      <td>AKIN8012</td>\n",
       "      <td>35-39</td>\n",
       "      <td>M</td>\n",
       "      <td>Business &amp; industry</td>\n",
       "      <td>275080</td>\n",
       "      <td>43</td>\n",
       "      <td>69.660000</td>\n",
       "      <td>4</td>\n",
       "      <td>3</td>\n",
       "    </tr>\n",
       "  </tbody>\n",
       "</table>\n",
       "<p>1250 rows × 10 columns</p>\n",
       "</div>"
      ],
      "text/plain": [
       "        ad_id campaign_id    age gender                 interest  Impressions  \\\n",
       "0     1121121    AKIN9326  30-34      M      Business & industry       323899   \n",
       "1     1121091    AKIN9326  30-34      M      Business & industry      1194718   \n",
       "2     1121092    AKIN9326  30-34      M      Business & industry       637648   \n",
       "3     1121094    AKIN9326  30-34      M      Business & industry        24362   \n",
       "4     1121095    AKIN9326  30-34      M      Business & industry       459690   \n",
       "...       ...         ...    ...    ...                      ...          ...   \n",
       "1245  1314303    AKIN8012  30-34      M  Entertainment (Reading)       496760   \n",
       "1246  1121246    AKIN8012  30-34      M      Business & industry       105047   \n",
       "1247  1314393    AKIN8012  40-44      F  Entertainment (Reading)       877535   \n",
       "1248  1121824    AKIN8012  30-34      F      Business & industry      1705246   \n",
       "1249  1121336    AKIN8012  35-39      M      Business & industry       275080   \n",
       "\n",
       "      Clicks       Spent  Total_Conversion  Approved_Conversion  \n",
       "0         46   78.920000                 5                    1  \n",
       "1        141  254.049996                 3                    1  \n",
       "2         67  122.400000                 3                    0  \n",
       "3          0    0.000000                 1                    1  \n",
       "4         50   86.330001                 3                    2  \n",
       "...      ...         ...               ...                  ...  \n",
       "1245      42   61.009999                10                    3  \n",
       "1246      13   20.209999                 3                    1  \n",
       "1247     149  217.779997                 5                    2  \n",
       "1248     295  429.479998                23                   10  \n",
       "1249      43   69.660000                 4                    3  \n",
       "\n",
       "[1250 rows x 10 columns]"
      ]
     },
     "execution_count": 5,
     "metadata": {},
     "output_type": "execute_result"
    }
   ],
   "source": [
    "df=pd.read_excel('kindle AB testing dataset.xlsx')\n",
    "df"
   ]
  },
  {
   "cell_type": "markdown",
   "id": "aee4f303",
   "metadata": {},
   "source": [
    "# Understanding Data"
   ]
  },
  {
   "cell_type": "code",
   "execution_count": 6,
   "id": "bc2b2a29",
   "metadata": {},
   "outputs": [
    {
     "data": {
      "text/html": [
       "<div>\n",
       "<style scoped>\n",
       "    .dataframe tbody tr th:only-of-type {\n",
       "        vertical-align: middle;\n",
       "    }\n",
       "\n",
       "    .dataframe tbody tr th {\n",
       "        vertical-align: top;\n",
       "    }\n",
       "\n",
       "    .dataframe thead th {\n",
       "        text-align: right;\n",
       "    }\n",
       "</style>\n",
       "<table border=\"1\" class=\"dataframe\">\n",
       "  <thead>\n",
       "    <tr style=\"text-align: right;\">\n",
       "      <th></th>\n",
       "      <th>ad_id</th>\n",
       "      <th>campaign_id</th>\n",
       "      <th>age</th>\n",
       "      <th>gender</th>\n",
       "      <th>interest</th>\n",
       "      <th>Impressions</th>\n",
       "      <th>Clicks</th>\n",
       "      <th>Spent</th>\n",
       "      <th>Total_Conversion</th>\n",
       "      <th>Approved_Conversion</th>\n",
       "    </tr>\n",
       "  </thead>\n",
       "  <tbody>\n",
       "    <tr>\n",
       "      <th>0</th>\n",
       "      <td>1121121</td>\n",
       "      <td>AKIN9326</td>\n",
       "      <td>30-34</td>\n",
       "      <td>M</td>\n",
       "      <td>Business &amp; industry</td>\n",
       "      <td>323899</td>\n",
       "      <td>46</td>\n",
       "      <td>78.920000</td>\n",
       "      <td>5</td>\n",
       "      <td>1</td>\n",
       "    </tr>\n",
       "    <tr>\n",
       "      <th>1</th>\n",
       "      <td>1121091</td>\n",
       "      <td>AKIN9326</td>\n",
       "      <td>30-34</td>\n",
       "      <td>M</td>\n",
       "      <td>Business &amp; industry</td>\n",
       "      <td>1194718</td>\n",
       "      <td>141</td>\n",
       "      <td>254.049996</td>\n",
       "      <td>3</td>\n",
       "      <td>1</td>\n",
       "    </tr>\n",
       "    <tr>\n",
       "      <th>2</th>\n",
       "      <td>1121092</td>\n",
       "      <td>AKIN9326</td>\n",
       "      <td>30-34</td>\n",
       "      <td>M</td>\n",
       "      <td>Business &amp; industry</td>\n",
       "      <td>637648</td>\n",
       "      <td>67</td>\n",
       "      <td>122.400000</td>\n",
       "      <td>3</td>\n",
       "      <td>0</td>\n",
       "    </tr>\n",
       "    <tr>\n",
       "      <th>3</th>\n",
       "      <td>1121094</td>\n",
       "      <td>AKIN9326</td>\n",
       "      <td>30-34</td>\n",
       "      <td>M</td>\n",
       "      <td>Business &amp; industry</td>\n",
       "      <td>24362</td>\n",
       "      <td>0</td>\n",
       "      <td>0.000000</td>\n",
       "      <td>1</td>\n",
       "      <td>1</td>\n",
       "    </tr>\n",
       "    <tr>\n",
       "      <th>4</th>\n",
       "      <td>1121095</td>\n",
       "      <td>AKIN9326</td>\n",
       "      <td>30-34</td>\n",
       "      <td>M</td>\n",
       "      <td>Business &amp; industry</td>\n",
       "      <td>459690</td>\n",
       "      <td>50</td>\n",
       "      <td>86.330001</td>\n",
       "      <td>3</td>\n",
       "      <td>2</td>\n",
       "    </tr>\n",
       "  </tbody>\n",
       "</table>\n",
       "</div>"
      ],
      "text/plain": [
       "     ad_id campaign_id    age gender             interest  Impressions  \\\n",
       "0  1121121    AKIN9326  30-34      M  Business & industry       323899   \n",
       "1  1121091    AKIN9326  30-34      M  Business & industry      1194718   \n",
       "2  1121092    AKIN9326  30-34      M  Business & industry       637648   \n",
       "3  1121094    AKIN9326  30-34      M  Business & industry        24362   \n",
       "4  1121095    AKIN9326  30-34      M  Business & industry       459690   \n",
       "\n",
       "   Clicks       Spent  Total_Conversion  Approved_Conversion  \n",
       "0      46   78.920000                 5                    1  \n",
       "1     141  254.049996                 3                    1  \n",
       "2      67  122.400000                 3                    0  \n",
       "3       0    0.000000                 1                    1  \n",
       "4      50   86.330001                 3                    2  "
      ]
     },
     "execution_count": 6,
     "metadata": {},
     "output_type": "execute_result"
    }
   ],
   "source": [
    "# to see first five rows\n",
    "df.head(5)"
   ]
  },
  {
   "cell_type": "code",
   "execution_count": 7,
   "id": "ac7d6f0b",
   "metadata": {},
   "outputs": [
    {
     "data": {
      "text/html": [
       "<div>\n",
       "<style scoped>\n",
       "    .dataframe tbody tr th:only-of-type {\n",
       "        vertical-align: middle;\n",
       "    }\n",
       "\n",
       "    .dataframe tbody tr th {\n",
       "        vertical-align: top;\n",
       "    }\n",
       "\n",
       "    .dataframe thead th {\n",
       "        text-align: right;\n",
       "    }\n",
       "</style>\n",
       "<table border=\"1\" class=\"dataframe\">\n",
       "  <thead>\n",
       "    <tr style=\"text-align: right;\">\n",
       "      <th></th>\n",
       "      <th>ad_id</th>\n",
       "      <th>campaign_id</th>\n",
       "      <th>age</th>\n",
       "      <th>gender</th>\n",
       "      <th>interest</th>\n",
       "      <th>Impressions</th>\n",
       "      <th>Clicks</th>\n",
       "      <th>Spent</th>\n",
       "      <th>Total_Conversion</th>\n",
       "      <th>Approved_Conversion</th>\n",
       "    </tr>\n",
       "  </thead>\n",
       "  <tbody>\n",
       "    <tr>\n",
       "      <th>1245</th>\n",
       "      <td>1314303</td>\n",
       "      <td>AKIN8012</td>\n",
       "      <td>30-34</td>\n",
       "      <td>M</td>\n",
       "      <td>Entertainment (Reading)</td>\n",
       "      <td>496760</td>\n",
       "      <td>42</td>\n",
       "      <td>61.009999</td>\n",
       "      <td>10</td>\n",
       "      <td>3</td>\n",
       "    </tr>\n",
       "    <tr>\n",
       "      <th>1246</th>\n",
       "      <td>1121246</td>\n",
       "      <td>AKIN8012</td>\n",
       "      <td>30-34</td>\n",
       "      <td>M</td>\n",
       "      <td>Business &amp; industry</td>\n",
       "      <td>105047</td>\n",
       "      <td>13</td>\n",
       "      <td>20.209999</td>\n",
       "      <td>3</td>\n",
       "      <td>1</td>\n",
       "    </tr>\n",
       "    <tr>\n",
       "      <th>1247</th>\n",
       "      <td>1314393</td>\n",
       "      <td>AKIN8012</td>\n",
       "      <td>40-44</td>\n",
       "      <td>F</td>\n",
       "      <td>Entertainment (Reading)</td>\n",
       "      <td>877535</td>\n",
       "      <td>149</td>\n",
       "      <td>217.779997</td>\n",
       "      <td>5</td>\n",
       "      <td>2</td>\n",
       "    </tr>\n",
       "    <tr>\n",
       "      <th>1248</th>\n",
       "      <td>1121824</td>\n",
       "      <td>AKIN8012</td>\n",
       "      <td>30-34</td>\n",
       "      <td>F</td>\n",
       "      <td>Business &amp; industry</td>\n",
       "      <td>1705246</td>\n",
       "      <td>295</td>\n",
       "      <td>429.479998</td>\n",
       "      <td>23</td>\n",
       "      <td>10</td>\n",
       "    </tr>\n",
       "    <tr>\n",
       "      <th>1249</th>\n",
       "      <td>1121336</td>\n",
       "      <td>AKIN8012</td>\n",
       "      <td>35-39</td>\n",
       "      <td>M</td>\n",
       "      <td>Business &amp; industry</td>\n",
       "      <td>275080</td>\n",
       "      <td>43</td>\n",
       "      <td>69.660000</td>\n",
       "      <td>4</td>\n",
       "      <td>3</td>\n",
       "    </tr>\n",
       "  </tbody>\n",
       "</table>\n",
       "</div>"
      ],
      "text/plain": [
       "        ad_id campaign_id    age gender                 interest  Impressions  \\\n",
       "1245  1314303    AKIN8012  30-34      M  Entertainment (Reading)       496760   \n",
       "1246  1121246    AKIN8012  30-34      M      Business & industry       105047   \n",
       "1247  1314393    AKIN8012  40-44      F  Entertainment (Reading)       877535   \n",
       "1248  1121824    AKIN8012  30-34      F      Business & industry      1705246   \n",
       "1249  1121336    AKIN8012  35-39      M      Business & industry       275080   \n",
       "\n",
       "      Clicks       Spent  Total_Conversion  Approved_Conversion  \n",
       "1245      42   61.009999                10                    3  \n",
       "1246      13   20.209999                 3                    1  \n",
       "1247     149  217.779997                 5                    2  \n",
       "1248     295  429.479998                23                   10  \n",
       "1249      43   69.660000                 4                    3  "
      ]
     },
     "execution_count": 7,
     "metadata": {},
     "output_type": "execute_result"
    }
   ],
   "source": [
    "# to see last five rows\n",
    "df.tail(5)"
   ]
  },
  {
   "cell_type": "code",
   "execution_count": 8,
   "id": "e3634d2a",
   "metadata": {},
   "outputs": [
    {
     "data": {
      "text/html": [
       "<div>\n",
       "<style scoped>\n",
       "    .dataframe tbody tr th:only-of-type {\n",
       "        vertical-align: middle;\n",
       "    }\n",
       "\n",
       "    .dataframe tbody tr th {\n",
       "        vertical-align: top;\n",
       "    }\n",
       "\n",
       "    .dataframe thead th {\n",
       "        text-align: right;\n",
       "    }\n",
       "</style>\n",
       "<table border=\"1\" class=\"dataframe\">\n",
       "  <thead>\n",
       "    <tr style=\"text-align: right;\">\n",
       "      <th></th>\n",
       "      <th>ad_id</th>\n",
       "      <th>campaign_id</th>\n",
       "      <th>age</th>\n",
       "      <th>gender</th>\n",
       "      <th>interest</th>\n",
       "      <th>Impressions</th>\n",
       "      <th>Clicks</th>\n",
       "      <th>Spent</th>\n",
       "      <th>Total_Conversion</th>\n",
       "      <th>Approved_Conversion</th>\n",
       "    </tr>\n",
       "  </thead>\n",
       "  <tbody>\n",
       "    <tr>\n",
       "      <th>358</th>\n",
       "      <td>1121839</td>\n",
       "      <td>AKIN9326</td>\n",
       "      <td>30-34</td>\n",
       "      <td>F</td>\n",
       "      <td>Business &amp; industry</td>\n",
       "      <td>13911</td>\n",
       "      <td>1</td>\n",
       "      <td>1.730000</td>\n",
       "      <td>1</td>\n",
       "      <td>1</td>\n",
       "    </tr>\n",
       "    <tr>\n",
       "      <th>361</th>\n",
       "      <td>1121844</td>\n",
       "      <td>AKIN9326</td>\n",
       "      <td>30-34</td>\n",
       "      <td>F</td>\n",
       "      <td>Business &amp; industry</td>\n",
       "      <td>149808</td>\n",
       "      <td>20</td>\n",
       "      <td>33.039999</td>\n",
       "      <td>1</td>\n",
       "      <td>1</td>\n",
       "    </tr>\n",
       "    <tr>\n",
       "      <th>308</th>\n",
       "      <td>1121742</td>\n",
       "      <td>AKIN9326</td>\n",
       "      <td>30-34</td>\n",
       "      <td>F</td>\n",
       "      <td>Business &amp; industry</td>\n",
       "      <td>213016</td>\n",
       "      <td>30</td>\n",
       "      <td>44.220000</td>\n",
       "      <td>2</td>\n",
       "      <td>2</td>\n",
       "    </tr>\n",
       "    <tr>\n",
       "      <th>476</th>\n",
       "      <td>1122191</td>\n",
       "      <td>AKIN9326</td>\n",
       "      <td>45-49</td>\n",
       "      <td>F</td>\n",
       "      <td>Business &amp; industry</td>\n",
       "      <td>382776</td>\n",
       "      <td>97</td>\n",
       "      <td>132.730001</td>\n",
       "      <td>5</td>\n",
       "      <td>1</td>\n",
       "    </tr>\n",
       "    <tr>\n",
       "      <th>677</th>\n",
       "      <td>735213</td>\n",
       "      <td>AKIN8012</td>\n",
       "      <td>45-49</td>\n",
       "      <td>F</td>\n",
       "      <td>Business &amp; industry</td>\n",
       "      <td>73634</td>\n",
       "      <td>23</td>\n",
       "      <td>32.980000</td>\n",
       "      <td>1</td>\n",
       "      <td>0</td>\n",
       "    </tr>\n",
       "  </tbody>\n",
       "</table>\n",
       "</div>"
      ],
      "text/plain": [
       "       ad_id campaign_id    age gender             interest  Impressions  \\\n",
       "358  1121839    AKIN9326  30-34      F  Business & industry        13911   \n",
       "361  1121844    AKIN9326  30-34      F  Business & industry       149808   \n",
       "308  1121742    AKIN9326  30-34      F  Business & industry       213016   \n",
       "476  1122191    AKIN9326  45-49      F  Business & industry       382776   \n",
       "677   735213    AKIN8012  45-49      F  Business & industry        73634   \n",
       "\n",
       "     Clicks       Spent  Total_Conversion  Approved_Conversion  \n",
       "358       1    1.730000                 1                    1  \n",
       "361      20   33.039999                 1                    1  \n",
       "308      30   44.220000                 2                    2  \n",
       "476      97  132.730001                 5                    1  \n",
       "677      23   32.980000                 1                    0  "
      ]
     },
     "execution_count": 8,
     "metadata": {},
     "output_type": "execute_result"
    }
   ],
   "source": [
    "# to see random five rows\n",
    "df.sample(5)"
   ]
  },
  {
   "cell_type": "code",
   "execution_count": 9,
   "id": "e3d80d22",
   "metadata": {},
   "outputs": [
    {
     "data": {
      "text/plain": [
       "(1250, 10)"
      ]
     },
     "execution_count": 9,
     "metadata": {},
     "output_type": "execute_result"
    }
   ],
   "source": [
    "# to see data shape\n",
    "df.shape"
   ]
  },
  {
   "cell_type": "code",
   "execution_count": 10,
   "id": "b61c9307",
   "metadata": {},
   "outputs": [
    {
     "data": {
      "text/plain": [
       "Index(['ad_id', 'campaign_id', 'age', 'gender', 'interest', 'Impressions',\n",
       "       'Clicks', 'Spent', 'Total_Conversion', 'Approved_Conversion'],\n",
       "      dtype='object')"
      ]
     },
     "execution_count": 10,
     "metadata": {},
     "output_type": "execute_result"
    }
   ],
   "source": [
    "# to see columns name\n",
    "df.columns"
   ]
  },
  {
   "cell_type": "code",
   "execution_count": 11,
   "id": "19204463",
   "metadata": {},
   "outputs": [
    {
     "data": {
      "text/plain": [
       "ad_id                    int64\n",
       "campaign_id             object\n",
       "age                     object\n",
       "gender                  object\n",
       "interest                object\n",
       "Impressions              int64\n",
       "Clicks                   int64\n",
       "Spent                  float64\n",
       "Total_Conversion         int64\n",
       "Approved_Conversion      int64\n",
       "dtype: object"
      ]
     },
     "execution_count": 11,
     "metadata": {},
     "output_type": "execute_result"
    }
   ],
   "source": [
    "# to see datatypes\n",
    "df.dtypes"
   ]
  },
  {
   "cell_type": "code",
   "execution_count": 12,
   "id": "1605af97",
   "metadata": {},
   "outputs": [
    {
     "name": "stdout",
     "output_type": "stream",
     "text": [
      "<class 'pandas.core.frame.DataFrame'>\n",
      "RangeIndex: 1250 entries, 0 to 1249\n",
      "Data columns (total 10 columns):\n",
      " #   Column               Non-Null Count  Dtype  \n",
      "---  ------               --------------  -----  \n",
      " 0   ad_id                1250 non-null   int64  \n",
      " 1   campaign_id          1250 non-null   object \n",
      " 2   age                  1250 non-null   object \n",
      " 3   gender               1250 non-null   object \n",
      " 4   interest             1250 non-null   object \n",
      " 5   Impressions          1250 non-null   int64  \n",
      " 6   Clicks               1250 non-null   int64  \n",
      " 7   Spent                1250 non-null   float64\n",
      " 8   Total_Conversion     1250 non-null   int64  \n",
      " 9   Approved_Conversion  1250 non-null   int64  \n",
      "dtypes: float64(1), int64(5), object(4)\n",
      "memory usage: 97.8+ KB\n"
     ]
    }
   ],
   "source": [
    "# to see basic info\n",
    "df.info()"
   ]
  },
  {
   "cell_type": "code",
   "execution_count": 13,
   "id": "3e9d8da9",
   "metadata": {},
   "outputs": [
    {
     "data": {
      "text/html": [
       "<div>\n",
       "<style scoped>\n",
       "    .dataframe tbody tr th:only-of-type {\n",
       "        vertical-align: middle;\n",
       "    }\n",
       "\n",
       "    .dataframe tbody tr th {\n",
       "        vertical-align: top;\n",
       "    }\n",
       "\n",
       "    .dataframe thead th {\n",
       "        text-align: right;\n",
       "    }\n",
       "</style>\n",
       "<table border=\"1\" class=\"dataframe\">\n",
       "  <thead>\n",
       "    <tr style=\"text-align: right;\">\n",
       "      <th></th>\n",
       "      <th>ad_id</th>\n",
       "      <th>Impressions</th>\n",
       "      <th>Clicks</th>\n",
       "      <th>Spent</th>\n",
       "      <th>Total_Conversion</th>\n",
       "      <th>Approved_Conversion</th>\n",
       "    </tr>\n",
       "  </thead>\n",
       "  <tbody>\n",
       "    <tr>\n",
       "      <th>count</th>\n",
       "      <td>1.250000e+03</td>\n",
       "      <td>1.250000e+03</td>\n",
       "      <td>1250.000000</td>\n",
       "      <td>1250.000000</td>\n",
       "      <td>1250.000000</td>\n",
       "      <td>1250.000000</td>\n",
       "    </tr>\n",
       "    <tr>\n",
       "      <th>mean</th>\n",
       "      <td>9.934780e+05</td>\n",
       "      <td>1.926565e+05</td>\n",
       "      <td>34.439200</td>\n",
       "      <td>52.822048</td>\n",
       "      <td>2.227200</td>\n",
       "      <td>0.605600</td>\n",
       "    </tr>\n",
       "    <tr>\n",
       "      <th>std</th>\n",
       "      <td>1.919406e+05</td>\n",
       "      <td>3.197824e+05</td>\n",
       "      <td>58.504651</td>\n",
       "      <td>88.814661</td>\n",
       "      <td>2.999797</td>\n",
       "      <td>0.967263</td>\n",
       "    </tr>\n",
       "    <tr>\n",
       "      <th>min</th>\n",
       "      <td>7.087710e+05</td>\n",
       "      <td>8.700000e+01</td>\n",
       "      <td>0.000000</td>\n",
       "      <td>0.000000</td>\n",
       "      <td>0.000000</td>\n",
       "      <td>0.000000</td>\n",
       "    </tr>\n",
       "    <tr>\n",
       "      <th>25%</th>\n",
       "      <td>7.782640e+05</td>\n",
       "      <td>7.310000e+03</td>\n",
       "      <td>1.000000</td>\n",
       "      <td>1.540000</td>\n",
       "      <td>1.000000</td>\n",
       "      <td>0.000000</td>\n",
       "    </tr>\n",
       "    <tr>\n",
       "      <th>50%</th>\n",
       "      <td>1.121212e+06</td>\n",
       "      <td>5.604400e+04</td>\n",
       "      <td>9.000000</td>\n",
       "      <td>13.410000</td>\n",
       "      <td>1.000000</td>\n",
       "      <td>0.000000</td>\n",
       "    </tr>\n",
       "    <tr>\n",
       "      <th>75%</th>\n",
       "      <td>1.121817e+06</td>\n",
       "      <td>2.278120e+05</td>\n",
       "      <td>38.750000</td>\n",
       "      <td>61.009999</td>\n",
       "      <td>2.000000</td>\n",
       "      <td>1.000000</td>\n",
       "    </tr>\n",
       "    <tr>\n",
       "      <th>max</th>\n",
       "      <td>1.314415e+06</td>\n",
       "      <td>3.052003e+06</td>\n",
       "      <td>421.000000</td>\n",
       "      <td>639.949998</td>\n",
       "      <td>38.000000</td>\n",
       "      <td>13.000000</td>\n",
       "    </tr>\n",
       "  </tbody>\n",
       "</table>\n",
       "</div>"
      ],
      "text/plain": [
       "              ad_id   Impressions       Clicks        Spent  Total_Conversion  \\\n",
       "count  1.250000e+03  1.250000e+03  1250.000000  1250.000000       1250.000000   \n",
       "mean   9.934780e+05  1.926565e+05    34.439200    52.822048          2.227200   \n",
       "std    1.919406e+05  3.197824e+05    58.504651    88.814661          2.999797   \n",
       "min    7.087710e+05  8.700000e+01     0.000000     0.000000          0.000000   \n",
       "25%    7.782640e+05  7.310000e+03     1.000000     1.540000          1.000000   \n",
       "50%    1.121212e+06  5.604400e+04     9.000000    13.410000          1.000000   \n",
       "75%    1.121817e+06  2.278120e+05    38.750000    61.009999          2.000000   \n",
       "max    1.314415e+06  3.052003e+06   421.000000   639.949998         38.000000   \n",
       "\n",
       "       Approved_Conversion  \n",
       "count          1250.000000  \n",
       "mean              0.605600  \n",
       "std               0.967263  \n",
       "min               0.000000  \n",
       "25%               0.000000  \n",
       "50%               0.000000  \n",
       "75%               1.000000  \n",
       "max              13.000000  "
      ]
     },
     "execution_count": 13,
     "metadata": {},
     "output_type": "execute_result"
    }
   ],
   "source": [
    "# to see basic statistics\n",
    "df.describe()"
   ]
  },
  {
   "cell_type": "markdown",
   "id": "851a9a52",
   "metadata": {},
   "source": [
    "# Data Cleaning & Feature Engineering"
   ]
  },
  {
   "cell_type": "code",
   "execution_count": 14,
   "id": "539483b4",
   "metadata": {},
   "outputs": [
    {
     "data": {
      "text/plain": [
       "70"
      ]
     },
     "execution_count": 14,
     "metadata": {},
     "output_type": "execute_result"
    }
   ],
   "source": [
    "# check duplicated values\n",
    "df.duplicated().sum()"
   ]
  },
  {
   "cell_type": "code",
   "execution_count": 15,
   "id": "9280c475",
   "metadata": {},
   "outputs": [],
   "source": [
    "# delete duplicated vlues\n",
    "df.drop_duplicates(inplace=True)"
   ]
  },
  {
   "cell_type": "code",
   "execution_count": 16,
   "id": "f37acdba",
   "metadata": {},
   "outputs": [
    {
     "data": {
      "text/plain": [
       "ad_id                  0\n",
       "campaign_id            0\n",
       "age                    0\n",
       "gender                 0\n",
       "interest               0\n",
       "Impressions            0\n",
       "Clicks                 0\n",
       "Spent                  0\n",
       "Total_Conversion       0\n",
       "Approved_Conversion    0\n",
       "dtype: int64"
      ]
     },
     "execution_count": 16,
     "metadata": {},
     "output_type": "execute_result"
    }
   ],
   "source": [
    "# check missing values\n",
    "df.isnull().sum()"
   ]
  },
  {
   "cell_type": "code",
   "execution_count": 17,
   "id": "867b09c1",
   "metadata": {},
   "outputs": [],
   "source": [
    "# seperate categorical and numerical columns\n",
    "cat_col=df.select_dtypes(include=object)"
   ]
  },
  {
   "cell_type": "code",
   "execution_count": 89,
   "id": "d3e58d1d",
   "metadata": {},
   "outputs": [],
   "source": [
    "num_col=df.select_dtypes(exclude=object)"
   ]
  },
  {
   "cell_type": "code",
   "execution_count": 52,
   "id": "2e42c901",
   "metadata": {},
   "outputs": [],
   "source": [
    "# add ctr columns\n",
    "df['CTR']=np.where((df['Clicks']==0) | (df['Impressions']==0),np.nan,\n",
    "                  (df['Clicks']/df['Impressions'])*100)"
   ]
  },
  {
   "cell_type": "code",
   "execution_count": 50,
   "id": "97b1e452",
   "metadata": {},
   "outputs": [],
   "source": [
    "# add cost per conversion columns\n",
    "df['cost_per_conversion']=np.where((df['Spent']==0) | (df['Approved_Conversion']==0),np.nan,\n",
    "                                  df['Spent']/df['Approved_Conversion'])"
   ]
  },
  {
   "cell_type": "code",
   "execution_count": 54,
   "id": "0630531d",
   "metadata": {},
   "outputs": [],
   "source": [
    "# add conversion rate columns\n",
    "df['conversion_rate(%)']=np.where((df['Approved_Conversion']==0) | (df['Total_Conversion']==0),np.nan,\n",
    "                                 (df['Approved_Conversion'] / df['Total_Conversion'])*100)"
   ]
  },
  {
   "cell_type": "code",
   "execution_count": 55,
   "id": "d0be24b9",
   "metadata": {},
   "outputs": [
    {
     "data": {
      "text/html": [
       "<div>\n",
       "<style scoped>\n",
       "    .dataframe tbody tr th:only-of-type {\n",
       "        vertical-align: middle;\n",
       "    }\n",
       "\n",
       "    .dataframe tbody tr th {\n",
       "        vertical-align: top;\n",
       "    }\n",
       "\n",
       "    .dataframe thead th {\n",
       "        text-align: right;\n",
       "    }\n",
       "</style>\n",
       "<table border=\"1\" class=\"dataframe\">\n",
       "  <thead>\n",
       "    <tr style=\"text-align: right;\">\n",
       "      <th></th>\n",
       "      <th>ad_id</th>\n",
       "      <th>campaign_id</th>\n",
       "      <th>age</th>\n",
       "      <th>gender</th>\n",
       "      <th>interest</th>\n",
       "      <th>Impressions</th>\n",
       "      <th>Clicks</th>\n",
       "      <th>Spent</th>\n",
       "      <th>Total_Conversion</th>\n",
       "      <th>Approved_Conversion</th>\n",
       "      <th>CTR</th>\n",
       "      <th>cost_per_conversion</th>\n",
       "      <th>conversion_rate(%)</th>\n",
       "    </tr>\n",
       "  </thead>\n",
       "  <tbody>\n",
       "    <tr>\n",
       "      <th>0</th>\n",
       "      <td>1121121</td>\n",
       "      <td>AKIN9326</td>\n",
       "      <td>30-34</td>\n",
       "      <td>M</td>\n",
       "      <td>Business &amp; industry</td>\n",
       "      <td>323899</td>\n",
       "      <td>46</td>\n",
       "      <td>78.920000</td>\n",
       "      <td>5</td>\n",
       "      <td>1</td>\n",
       "      <td>0.014202</td>\n",
       "      <td>78.920000</td>\n",
       "      <td>20.000000</td>\n",
       "    </tr>\n",
       "    <tr>\n",
       "      <th>1</th>\n",
       "      <td>1121091</td>\n",
       "      <td>AKIN9326</td>\n",
       "      <td>30-34</td>\n",
       "      <td>M</td>\n",
       "      <td>Business &amp; industry</td>\n",
       "      <td>1194718</td>\n",
       "      <td>141</td>\n",
       "      <td>254.049996</td>\n",
       "      <td>3</td>\n",
       "      <td>1</td>\n",
       "      <td>0.011802</td>\n",
       "      <td>254.049996</td>\n",
       "      <td>33.333333</td>\n",
       "    </tr>\n",
       "    <tr>\n",
       "      <th>2</th>\n",
       "      <td>1121092</td>\n",
       "      <td>AKIN9326</td>\n",
       "      <td>30-34</td>\n",
       "      <td>M</td>\n",
       "      <td>Business &amp; industry</td>\n",
       "      <td>637648</td>\n",
       "      <td>67</td>\n",
       "      <td>122.400000</td>\n",
       "      <td>3</td>\n",
       "      <td>0</td>\n",
       "      <td>0.010507</td>\n",
       "      <td>NaN</td>\n",
       "      <td>NaN</td>\n",
       "    </tr>\n",
       "    <tr>\n",
       "      <th>3</th>\n",
       "      <td>1121094</td>\n",
       "      <td>AKIN9326</td>\n",
       "      <td>30-34</td>\n",
       "      <td>M</td>\n",
       "      <td>Business &amp; industry</td>\n",
       "      <td>24362</td>\n",
       "      <td>0</td>\n",
       "      <td>0.000000</td>\n",
       "      <td>1</td>\n",
       "      <td>1</td>\n",
       "      <td>NaN</td>\n",
       "      <td>NaN</td>\n",
       "      <td>100.000000</td>\n",
       "    </tr>\n",
       "    <tr>\n",
       "      <th>4</th>\n",
       "      <td>1121095</td>\n",
       "      <td>AKIN9326</td>\n",
       "      <td>30-34</td>\n",
       "      <td>M</td>\n",
       "      <td>Business &amp; industry</td>\n",
       "      <td>459690</td>\n",
       "      <td>50</td>\n",
       "      <td>86.330001</td>\n",
       "      <td>3</td>\n",
       "      <td>2</td>\n",
       "      <td>0.010877</td>\n",
       "      <td>43.165001</td>\n",
       "      <td>66.666667</td>\n",
       "    </tr>\n",
       "  </tbody>\n",
       "</table>\n",
       "</div>"
      ],
      "text/plain": [
       "     ad_id campaign_id    age gender             interest  Impressions  \\\n",
       "0  1121121    AKIN9326  30-34      M  Business & industry       323899   \n",
       "1  1121091    AKIN9326  30-34      M  Business & industry      1194718   \n",
       "2  1121092    AKIN9326  30-34      M  Business & industry       637648   \n",
       "3  1121094    AKIN9326  30-34      M  Business & industry        24362   \n",
       "4  1121095    AKIN9326  30-34      M  Business & industry       459690   \n",
       "\n",
       "   Clicks       Spent  Total_Conversion  Approved_Conversion       CTR  \\\n",
       "0      46   78.920000                 5                    1  0.014202   \n",
       "1     141  254.049996                 3                    1  0.011802   \n",
       "2      67  122.400000                 3                    0  0.010507   \n",
       "3       0    0.000000                 1                    1       NaN   \n",
       "4      50   86.330001                 3                    2  0.010877   \n",
       "\n",
       "   cost_per_conversion  conversion_rate(%)  \n",
       "0            78.920000           20.000000  \n",
       "1           254.049996           33.333333  \n",
       "2                  NaN                 NaN  \n",
       "3                  NaN          100.000000  \n",
       "4            43.165001           66.666667  "
      ]
     },
     "execution_count": 55,
     "metadata": {},
     "output_type": "execute_result"
    }
   ],
   "source": [
    "df.head(5)"
   ]
  },
  {
   "cell_type": "code",
   "execution_count": 57,
   "id": "7e1d0bd4",
   "metadata": {},
   "outputs": [
    {
     "data": {
      "text/plain": [
       "ad_id                    0\n",
       "campaign_id              0\n",
       "age                      0\n",
       "gender                   0\n",
       "interest                 0\n",
       "Impressions              0\n",
       "Clicks                   0\n",
       "Spent                    0\n",
       "Total_Conversion         0\n",
       "Approved_Conversion      0\n",
       "CTR                    201\n",
       "cost_per_conversion    728\n",
       "conversion_rate(%)     666\n",
       "dtype: int64"
      ]
     },
     "execution_count": 57,
     "metadata": {},
     "output_type": "execute_result"
    }
   ],
   "source": [
    "df.isnull().sum()"
   ]
  },
  {
   "cell_type": "code",
   "execution_count": 66,
   "id": "6d996b88",
   "metadata": {},
   "outputs": [],
   "source": [
    "dff=df.copy()"
   ]
  },
  {
   "cell_type": "code",
   "execution_count": 67,
   "id": "d91e01f2",
   "metadata": {},
   "outputs": [],
   "source": [
    "dff['CTR']=df['CTR'].fillna(0)"
   ]
  },
  {
   "cell_type": "code",
   "execution_count": 68,
   "id": "e1a0e8c6",
   "metadata": {},
   "outputs": [],
   "source": [
    "dff['cost_per_conversion']=df['cost_per_conversion'].fillna(0)"
   ]
  },
  {
   "cell_type": "code",
   "execution_count": 69,
   "id": "bb093d88",
   "metadata": {},
   "outputs": [],
   "source": [
    "dff['conversion_rate(%)']=df['conversion_rate(%)'].fillna(0)"
   ]
  },
  {
   "cell_type": "code",
   "execution_count": 70,
   "id": "59bc8ac2",
   "metadata": {},
   "outputs": [
    {
     "data": {
      "text/plain": [
       "ad_id                  0\n",
       "campaign_id            0\n",
       "age                    0\n",
       "gender                 0\n",
       "interest               0\n",
       "Impressions            0\n",
       "Clicks                 0\n",
       "Spent                  0\n",
       "Total_Conversion       0\n",
       "Approved_Conversion    0\n",
       "CTR                    0\n",
       "cost_per_conversion    0\n",
       "conversion_rate(%)     0\n",
       "dtype: int64"
      ]
     },
     "execution_count": 70,
     "metadata": {},
     "output_type": "execute_result"
    }
   ],
   "source": [
    "dff.isnull().sum()"
   ]
  },
  {
   "cell_type": "code",
   "execution_count": 71,
   "id": "a5448f22",
   "metadata": {},
   "outputs": [],
   "source": [
    "df=dff.copy()"
   ]
  },
  {
   "cell_type": "code",
   "execution_count": 75,
   "id": "f812edf4",
   "metadata": {},
   "outputs": [
    {
     "data": {
      "text/html": [
       "<div>\n",
       "<style scoped>\n",
       "    .dataframe tbody tr th:only-of-type {\n",
       "        vertical-align: middle;\n",
       "    }\n",
       "\n",
       "    .dataframe tbody tr th {\n",
       "        vertical-align: top;\n",
       "    }\n",
       "\n",
       "    .dataframe thead th {\n",
       "        text-align: right;\n",
       "    }\n",
       "</style>\n",
       "<table border=\"1\" class=\"dataframe\">\n",
       "  <thead>\n",
       "    <tr style=\"text-align: right;\">\n",
       "      <th></th>\n",
       "      <th>ad_id</th>\n",
       "      <th>campaign_id</th>\n",
       "      <th>age</th>\n",
       "      <th>gender</th>\n",
       "      <th>interest</th>\n",
       "      <th>impressions</th>\n",
       "      <th>clicks</th>\n",
       "      <th>spent</th>\n",
       "      <th>total_conversion</th>\n",
       "      <th>approved_conversion</th>\n",
       "      <th>ctr</th>\n",
       "      <th>cost_per_conversion</th>\n",
       "      <th>conversion_rate(%)</th>\n",
       "    </tr>\n",
       "  </thead>\n",
       "  <tbody>\n",
       "    <tr>\n",
       "      <th>0</th>\n",
       "      <td>1121121</td>\n",
       "      <td>AKIN9326</td>\n",
       "      <td>30-34</td>\n",
       "      <td>M</td>\n",
       "      <td>Business &amp; industry</td>\n",
       "      <td>323899</td>\n",
       "      <td>46</td>\n",
       "      <td>78.92</td>\n",
       "      <td>5</td>\n",
       "      <td>1</td>\n",
       "      <td>0.014202</td>\n",
       "      <td>78.92</td>\n",
       "      <td>20.0</td>\n",
       "    </tr>\n",
       "  </tbody>\n",
       "</table>\n",
       "</div>"
      ],
      "text/plain": [
       "     ad_id campaign_id    age gender             interest  impressions  \\\n",
       "0  1121121    AKIN9326  30-34      M  Business & industry       323899   \n",
       "\n",
       "   clicks  spent  total_conversion  approved_conversion       ctr  \\\n",
       "0      46  78.92                 5                    1  0.014202   \n",
       "\n",
       "   cost_per_conversion  conversion_rate(%)  \n",
       "0                78.92                20.0  "
      ]
     },
     "execution_count": 75,
     "metadata": {},
     "output_type": "execute_result"
    }
   ],
   "source": [
    "df.head(1)"
   ]
  },
  {
   "cell_type": "code",
   "execution_count": 73,
   "id": "56969b0e",
   "metadata": {},
   "outputs": [],
   "source": [
    "df.columns=df.columns.str.lower()"
   ]
  },
  {
   "cell_type": "markdown",
   "id": "1a1a0a84",
   "metadata": {},
   "source": [
    "# Exploratory Data Analysis"
   ]
  },
  {
   "cell_type": "markdown",
   "id": "8e3d6969",
   "metadata": {},
   "source": [
    "## Campaign Id Performance Analysis"
   ]
  },
  {
   "cell_type": "code",
   "execution_count": 136,
   "id": "bf67bc21",
   "metadata": {},
   "outputs": [
    {
     "data": {
      "image/png": "[encoded data removed]",
      "text/plain": [
       "<Figure size 864x720 with 6 Axes>"
      ]
     },
     "metadata": {
      "needs_background": "light"
     },
     "output_type": "display_data"
    }
   ],
   "source": [
    "\n",
    "columns = ['impressions', 'clicks', 'spent', 'total_conversion', 'approved_conversion']\n",
    "\n",
    "num_columns = len(columns)\n",
    "num_rows = (num_columns + 1) // 2  # Adjusting for uneven number of columns\n",
    "\n",
    "fig, axes = plt.subplots(num_rows, 2, figsize=(12, 10))\n",
    "\n",
    "for i, value in enumerate(columns):\n",
    "    row_index = i // 2\n",
    "    col_index = i % 2\n",
    "    campaign_type = df.groupby(['campaign_id'])[value].sum().reset_index()\n",
    "    ax = axes[row_index, col_index]\n",
    "    sns.barplot(data=campaign_type, x='campaign_id', y=value, ax=ax)\n",
    "    for j in ax.containers:\n",
    "        ax.bar_label(j)\n",
    "   \n",
    "    plt.title(f\"{value} by campaign_id\")\n",
    "plt.subplots_adjust(hspace=1, wspace=1)  # Adjust space between subplots\n",
    "plt.tight_layout()\n",
    "\n"
   ]
  },
  {
   "cell_type": "code",
   "execution_count": 132,
   "id": "80623967",
   "metadata": {},
   "outputs": [
    {
     "data": {
      "image/png": "[encoded data removed]",
      "text/plain": [
       "<Figure size 864x720 with 4 Axes>"
      ]
     },
     "metadata": {
      "needs_background": "light"
     },
     "output_type": "display_data"
    }
   ],
   "source": [
    "\n",
    "column = ['ctr', 'cost_per_conversion', 'conversion_rate(%)']\n",
    "\n",
    "num_columns = len(columns)\n",
    "num_rows = (num_columns + 1) // 3  # Adjusting for uneven number of columns\n",
    "\n",
    "fig, axes = plt.subplots(num_rows, 2, figsize=(12, 10))\n",
    "\n",
    "for i, value in enumerate(column):\n",
    "    row_index = i // 2\n",
    "    col_index = i % 2\n",
    "    campaign_type = df.groupby(['campaign_id'])[value].mean().reset_index()\n",
    "    ax = axes[row_index, col_index]\n",
    "    sns.barplot(data=campaign_type, x='campaign_id', y=value, ax=ax)\n",
    "    for j in ax.containers:\n",
    "        ax.bar_label(j)\n",
    "plt.subplots_adjust(hspace=1, wspace=1)  # Adjust space between subplots\n",
    "plt.tight_layout()"
   ]
  },
  {
   "cell_type": "code",
   "execution_count": 144,
   "id": "98d04edf",
   "metadata": {},
   "outputs": [
    {
     "data": {
      "text/html": [
       "<div>\n",
       "<style scoped>\n",
       "    .dataframe tbody tr th:only-of-type {\n",
       "        vertical-align: middle;\n",
       "    }\n",
       "\n",
       "    .dataframe tbody tr th {\n",
       "        vertical-align: top;\n",
       "    }\n",
       "\n",
       "    .dataframe thead th {\n",
       "        text-align: right;\n",
       "    }\n",
       "</style>\n",
       "<table border=\"1\" class=\"dataframe\">\n",
       "  <thead>\n",
       "    <tr style=\"text-align: right;\">\n",
       "      <th></th>\n",
       "      <th>Total_Impressions</th>\n",
       "      <th>Total_Clicks</th>\n",
       "      <th>Total_Spent</th>\n",
       "      <th>total_conversion</th>\n",
       "      <th>Total_Approved_Conversion</th>\n",
       "      <th>Avg_CTR</th>\n",
       "      <th>Avg_Cost_Per_Conversion</th>\n",
       "      <th>Avg_Conversion_Rate(%)</th>\n",
       "    </tr>\n",
       "    <tr>\n",
       "      <th>campaign_id</th>\n",
       "      <th></th>\n",
       "      <th></th>\n",
       "      <th></th>\n",
       "      <th></th>\n",
       "      <th></th>\n",
       "      <th></th>\n",
       "      <th></th>\n",
       "      <th></th>\n",
       "    </tr>\n",
       "  </thead>\n",
       "  <tbody>\n",
       "    <tr>\n",
       "      <th>AKIN8012</th>\n",
       "      <td>34295216</td>\n",
       "      <td>6617</td>\n",
       "      <td>9827.529982</td>\n",
       "      <td>891</td>\n",
       "      <td>290</td>\n",
       "      <td>0.016193</td>\n",
       "      <td>6.164932</td>\n",
       "      <td>33.512932</td>\n",
       "    </tr>\n",
       "    <tr>\n",
       "      <th>AKIN9326</th>\n",
       "      <td>205147615</td>\n",
       "      <td>36114</td>\n",
       "      <td>55741.069959</td>\n",
       "      <td>1810</td>\n",
       "      <td>437</td>\n",
       "      <td>0.016218</td>\n",
       "      <td>39.147057</td>\n",
       "      <td>27.406649</td>\n",
       "    </tr>\n",
       "  </tbody>\n",
       "</table>\n",
       "</div>"
      ],
      "text/plain": [
       "             Total_Impressions  Total_Clicks   Total_Spent  total_conversion  \\\n",
       "campaign_id                                                                    \n",
       "AKIN8012              34295216          6617   9827.529982               891   \n",
       "AKIN9326             205147615         36114  55741.069959              1810   \n",
       "\n",
       "             Total_Approved_Conversion   Avg_CTR  Avg_Cost_Per_Conversion  \\\n",
       "campaign_id                                                                 \n",
       "AKIN8012                           290  0.016193                 6.164932   \n",
       "AKIN9326                           437  0.016218                39.147057   \n",
       "\n",
       "             Avg_Conversion_Rate(%)  \n",
       "campaign_id                          \n",
       "AKIN8012                  33.512932  \n",
       "AKIN9326                  27.406649  "
      ]
     },
     "execution_count": 144,
     "metadata": {},
     "output_type": "execute_result"
    }
   ],
   "source": [
    "campaign_type=df.groupby(['campaign_id']).agg(\n",
    "{\n",
    "    \"impressions\":\"sum\",\n",
    "    \"clicks\":\"sum\",\n",
    "    \"spent\":\"sum\",\n",
    "    \"total_conversion\":\"sum\",\n",
    "    \"approved_conversion\":\"sum\",\n",
    "    \"ctr\":\"mean\",\n",
    "    \"cost_per_conversion\":\"mean\",\n",
    "    \"conversion_rate(%)\":\"mean\"\n",
    "}\n",
    "\n",
    ")\n",
    "\n",
    "campaign_type.columns=['Total_Impressions','Total_Clicks','Total_Spent','total_conversion','Total_Approved_Conversion','Avg_CTR','Avg_Cost_Per_Conversion','Avg_Conversion_Rate(%)']\n",
    "campaign_type"
   ]
  },
  {
   "cell_type": "markdown",
   "id": "682cecd6",
   "metadata": {},
   "source": [
    "## Insight:\n",
    "\n",
    "AKIN9326 exhibits higher total impressions, clicks, and conversions compared to AKIN8012, suggesting broader reach and better engagement.\n",
    "\n",
    "However, AKIN8012 demonstrates superior efficiency in conversion metrics, with a lower cost per conversion and a higher conversion rate."
   ]
  },
  {
   "cell_type": "code",
   "execution_count": null,
   "id": "8da7b6e5",
   "metadata": {},
   "outputs": [],
   "source": []
  },
  {
   "cell_type": "markdown",
   "id": "41e56f5a",
   "metadata": {},
   "source": [
    "## Gender Type Performance Analysis"
   ]
  },
  {
   "cell_type": "code",
   "execution_count": 138,
   "id": "7c1900c9",
   "metadata": {},
   "outputs": [
    {
     "data": {
      "image/png": "[encoded data removed]",
      "text/plain": [
       "<Figure size 864x720 with 6 Axes>"
      ]
     },
     "metadata": {
      "needs_background": "light"
     },
     "output_type": "display_data"
    }
   ],
   "source": [
    "\n",
    "columns = ['impressions', 'clicks', 'spent', 'total_conversion', 'approved_conversion']\n",
    "\n",
    "num_columns = len(columns)\n",
    "num_rows = (num_columns + 1) // 2  # Adjusting for uneven number of columns\n",
    "\n",
    "fig, axes = plt.subplots(num_rows, 2, figsize=(12, 10))\n",
    "\n",
    "for i, value in enumerate(columns):\n",
    "    row_index = i // 2\n",
    "    col_index = i % 2\n",
    "    campaign_type = df.groupby(['gender'])[value].sum().reset_index()\n",
    "    ax = axes[row_index, col_index]\n",
    "    sns.barplot(data=campaign_type, x='gender', y=value, ax=ax)\n",
    "    for j in ax.containers:\n",
    "        ax.bar_label(j)\n",
    "   \n",
    "    plt.title(f\"{value} by campaign_id\")\n",
    "plt.subplots_adjust(hspace=1, wspace=1)  # Adjust space between subplots\n",
    "plt.tight_layout()\n"
   ]
  },
  {
   "cell_type": "code",
   "execution_count": 139,
   "id": "4f8e72e1",
   "metadata": {},
   "outputs": [
    {
     "data": {
      "image/png": "[encoded data removed]",
      "text/plain": [
       "<Figure size 864x720 with 4 Axes>"
      ]
     },
     "metadata": {
      "needs_background": "light"
     },
     "output_type": "display_data"
    }
   ],
   "source": [
    "\n",
    "column = ['ctr', 'cost_per_conversion', 'conversion_rate(%)']\n",
    "\n",
    "num_columns = len(columns)\n",
    "num_rows = (num_columns + 1) // 3  # Adjusting for uneven number of columns\n",
    "\n",
    "fig, axes = plt.subplots(num_rows, 2, figsize=(12, 10))\n",
    "\n",
    "for i, value in enumerate(column):\n",
    "    row_index = i // 2\n",
    "    col_index = i % 2\n",
    "    campaign_type = df.groupby(['gender'])[value].mean().reset_index()\n",
    "    ax = axes[row_index, col_index]\n",
    "    sns.barplot(data=campaign_type, x='gender', y=value, ax=ax)\n",
    "    for j in ax.containers:\n",
    "        ax.bar_label(j)\n",
    "plt.subplots_adjust(hspace=1, wspace=1)  # Adjust space between subplots\n",
    "plt.tight_layout()"
   ]
  },
  {
   "cell_type": "code",
   "execution_count": 143,
   "id": "5f8c0a25",
   "metadata": {},
   "outputs": [
    {
     "data": {
      "text/html": [
       "<div>\n",
       "<style scoped>\n",
       "    .dataframe tbody tr th:only-of-type {\n",
       "        vertical-align: middle;\n",
       "    }\n",
       "\n",
       "    .dataframe tbody tr th {\n",
       "        vertical-align: top;\n",
       "    }\n",
       "\n",
       "    .dataframe thead th {\n",
       "        text-align: right;\n",
       "    }\n",
       "</style>\n",
       "<table border=\"1\" class=\"dataframe\">\n",
       "  <thead>\n",
       "    <tr style=\"text-align: right;\">\n",
       "      <th></th>\n",
       "      <th>Total_Impressions</th>\n",
       "      <th>Total_Clicks</th>\n",
       "      <th>Total_Spent</th>\n",
       "      <th>total_conversion</th>\n",
       "      <th>Total_Approved_Conversion</th>\n",
       "      <th>Avg_CTR</th>\n",
       "      <th>Avg_Cost_Per_Conversion</th>\n",
       "      <th>Avg_Conversion_Rate(%)</th>\n",
       "    </tr>\n",
       "    <tr>\n",
       "      <th>gender</th>\n",
       "      <th></th>\n",
       "      <th></th>\n",
       "      <th></th>\n",
       "      <th></th>\n",
       "      <th></th>\n",
       "      <th></th>\n",
       "      <th></th>\n",
       "      <th></th>\n",
       "    </tr>\n",
       "  </thead>\n",
       "  <tbody>\n",
       "    <tr>\n",
       "      <th>F</th>\n",
       "      <td>131664114</td>\n",
       "      <td>27154</td>\n",
       "      <td>39208.259947</td>\n",
       "      <td>1584</td>\n",
       "      <td>387</td>\n",
       "      <td>0.019203</td>\n",
       "      <td>26.234587</td>\n",
       "      <td>28.224097</td>\n",
       "    </tr>\n",
       "    <tr>\n",
       "      <th>M</th>\n",
       "      <td>107778717</td>\n",
       "      <td>15577</td>\n",
       "      <td>26360.339995</td>\n",
       "      <td>1117</td>\n",
       "      <td>340</td>\n",
       "      <td>0.013425</td>\n",
       "      <td>21.274811</td>\n",
       "      <td>32.175555</td>\n",
       "    </tr>\n",
       "  </tbody>\n",
       "</table>\n",
       "</div>"
      ],
      "text/plain": [
       "        Total_Impressions  Total_Clicks   Total_Spent  total_conversion  \\\n",
       "gender                                                                    \n",
       "F               131664114         27154  39208.259947              1584   \n",
       "M               107778717         15577  26360.339995              1117   \n",
       "\n",
       "        Total_Approved_Conversion   Avg_CTR  Avg_Cost_Per_Conversion  \\\n",
       "gender                                                                 \n",
       "F                             387  0.019203                26.234587   \n",
       "M                             340  0.013425                21.274811   \n",
       "\n",
       "        Avg_Conversion_Rate(%)  \n",
       "gender                          \n",
       "F                    28.224097  \n",
       "M                    32.175555  "
      ]
     },
     "execution_count": 143,
     "metadata": {},
     "output_type": "execute_result"
    }
   ],
   "source": [
    "gender_type=df.groupby(['gender']).agg(\n",
    "{\n",
    "    \"impressions\":\"sum\",\n",
    "    \"clicks\":\"sum\",\n",
    "    \"spent\":\"sum\",\n",
    "    \"total_conversion\":\"sum\",\n",
    "    \"approved_conversion\":\"sum\",\n",
    "    \"ctr\":\"mean\",\n",
    "    \"cost_per_conversion\":\"mean\",\n",
    "    \"conversion_rate(%)\":\"mean\"\n",
    "}\n",
    "\n",
    ")\n",
    "\n",
    "gender_type.columns=['Total_Impressions','Total_Clicks','Total_Spent','total_conversion','Total_Approved_Conversion','Avg_CTR','Avg_Cost_Per_Conversion','Avg_Conversion_Rate(%)']\n",
    "gender_type"
   ]
  },
  {
   "cell_type": "markdown",
   "id": "e6789f7a",
   "metadata": {},
   "source": [
    "## Insight:\n",
    "\n",
    "Impressions and Clicks: Females exhibit higher total impressions and clicks compared to males, indicating greater engagement and exposure among female users.\n",
    "    \n",
    "Cost and Conversion: Despite fewer impressions and clicks, males have a lower total spend and a more cost-effective conversion rate compared to females.\n",
    "    \n",
    "Conversion Rate: Females demonstrate a higher average conversion rate, suggesting a greater propensity to take desired actions."
   ]
  },
  {
   "cell_type": "markdown",
   "id": "feec4b59",
   "metadata": {},
   "source": [
    "## Age Group Performance Analysis"
   ]
  },
  {
   "cell_type": "code",
   "execution_count": 148,
   "id": "94f59027",
   "metadata": {},
   "outputs": [
    {
     "data": {
      "image/png": "[encoded data removed]",
      "text/plain": [
       "<Figure size 864x720 with 6 Axes>"
      ]
     },
     "metadata": {
      "needs_background": "light"
     },
     "output_type": "display_data"
    }
   ],
   "source": [
    "columns = ['impressions', 'clicks', 'spent', 'total_conversion', 'approved_conversion']\n",
    "\n",
    "num_columns = len(columns)\n",
    "num_rows = (num_columns + 1) // 2  # Adjusting for uneven number of columns\n",
    "\n",
    "fig, axes = plt.subplots(num_rows, 2, figsize=(12, 10))\n",
    "\n",
    "for i, value in enumerate(columns):\n",
    "    row_index = i // 2\n",
    "    col_index = i % 2\n",
    "    campaign_type = df.groupby(['age'])[value].sum().reset_index()\n",
    "    ax = axes[row_index, col_index]\n",
    "    sns.barplot(data=campaign_type, x='age', y=value, ax=ax)\n",
    "    for j in ax.containers:\n",
    "        ax.bar_label(j)\n",
    "   \n",
    "    plt.title(f\"{value} by campaign_id\")\n",
    "plt.subplots_adjust(hspace=1, wspace=1)  # Adjust space between subplots\n",
    "plt.tight_layout()"
   ]
  },
  {
   "cell_type": "code",
   "execution_count": 147,
   "id": "9cfebb75",
   "metadata": {},
   "outputs": [
    {
     "data": {
      "image/png": "[encoded data removed]",
      "text/plain": [
       "<Figure size 864x720 with 4 Axes>"
      ]
     },
     "metadata": {
      "needs_background": "light"
     },
     "output_type": "display_data"
    }
   ],
   "source": [
    "column = ['ctr', 'cost_per_conversion', 'conversion_rate(%)']\n",
    "\n",
    "num_columns = len(columns)\n",
    "num_rows = (num_columns + 1) // 3  # Adjusting for uneven number of columns\n",
    "\n",
    "fig, axes = plt.subplots(num_rows, 2, figsize=(12, 10))\n",
    "\n",
    "for i, value in enumerate(column):\n",
    "    row_index = i // 2\n",
    "    col_index = i % 2\n",
    "    campaign_type = df.groupby(['age'])[value].mean().reset_index()\n",
    "    ax = axes[row_index, col_index]\n",
    "    sns.barplot(data=campaign_type, x='age', y=value, ax=ax)\n",
    "    for j in ax.containers:\n",
    "        ax.bar_label(j)\n",
    "plt.subplots_adjust(hspace=1, wspace=1)  # Adjust space between subplots\n",
    "plt.tight_layout()"
   ]
  },
  {
   "cell_type": "code",
   "execution_count": 146,
   "id": "f5c6123d",
   "metadata": {},
   "outputs": [
    {
     "data": {
      "text/html": [
       "<div>\n",
       "<style scoped>\n",
       "    .dataframe tbody tr th:only-of-type {\n",
       "        vertical-align: middle;\n",
       "    }\n",
       "\n",
       "    .dataframe tbody tr th {\n",
       "        vertical-align: top;\n",
       "    }\n",
       "\n",
       "    .dataframe thead th {\n",
       "        text-align: right;\n",
       "    }\n",
       "</style>\n",
       "<table border=\"1\" class=\"dataframe\">\n",
       "  <thead>\n",
       "    <tr style=\"text-align: right;\">\n",
       "      <th></th>\n",
       "      <th>Total_Impressions</th>\n",
       "      <th>Total_Clicks</th>\n",
       "      <th>Total_Spent</th>\n",
       "      <th>total_conversion</th>\n",
       "      <th>Total_Approved_Conversion</th>\n",
       "      <th>Avg_CTR</th>\n",
       "      <th>Avg_Cost_Per_Conversion</th>\n",
       "      <th>Avg_Conversion_Rate(%)</th>\n",
       "    </tr>\n",
       "    <tr>\n",
       "      <th>age</th>\n",
       "      <th></th>\n",
       "      <th></th>\n",
       "      <th></th>\n",
       "      <th></th>\n",
       "      <th></th>\n",
       "      <th></th>\n",
       "      <th></th>\n",
       "      <th></th>\n",
       "    </tr>\n",
       "  </thead>\n",
       "  <tbody>\n",
       "    <tr>\n",
       "      <th>30-34</th>\n",
       "      <td>77091917</td>\n",
       "      <td>10876</td>\n",
       "      <td>17355.079984</td>\n",
       "      <td>938</td>\n",
       "      <td>267</td>\n",
       "      <td>0.011383</td>\n",
       "      <td>16.499988</td>\n",
       "      <td>32.831582</td>\n",
       "    </tr>\n",
       "    <tr>\n",
       "      <th>35-39</th>\n",
       "      <td>45843178</td>\n",
       "      <td>7635</td>\n",
       "      <td>11992.739993</td>\n",
       "      <td>523</td>\n",
       "      <td>162</td>\n",
       "      <td>0.015850</td>\n",
       "      <td>20.014086</td>\n",
       "      <td>31.136642</td>\n",
       "    </tr>\n",
       "    <tr>\n",
       "      <th>40-44</th>\n",
       "      <td>44823435</td>\n",
       "      <td>8675</td>\n",
       "      <td>12989.919975</td>\n",
       "      <td>543</td>\n",
       "      <td>129</td>\n",
       "      <td>0.019949</td>\n",
       "      <td>24.901752</td>\n",
       "      <td>29.485360</td>\n",
       "    </tr>\n",
       "    <tr>\n",
       "      <th>45-49</th>\n",
       "      <td>71684301</td>\n",
       "      <td>15545</td>\n",
       "      <td>23230.859989</td>\n",
       "      <td>697</td>\n",
       "      <td>169</td>\n",
       "      <td>0.021227</td>\n",
       "      <td>37.502252</td>\n",
       "      <td>26.016892</td>\n",
       "    </tr>\n",
       "  </tbody>\n",
       "</table>\n",
       "</div>"
      ],
      "text/plain": [
       "       Total_Impressions  Total_Clicks   Total_Spent  total_conversion  \\\n",
       "age                                                                      \n",
       "30-34           77091917         10876  17355.079984               938   \n",
       "35-39           45843178          7635  11992.739993               523   \n",
       "40-44           44823435          8675  12989.919975               543   \n",
       "45-49           71684301         15545  23230.859989               697   \n",
       "\n",
       "       Total_Approved_Conversion   Avg_CTR  Avg_Cost_Per_Conversion  \\\n",
       "age                                                                   \n",
       "30-34                        267  0.011383                16.499988   \n",
       "35-39                        162  0.015850                20.014086   \n",
       "40-44                        129  0.019949                24.901752   \n",
       "45-49                        169  0.021227                37.502252   \n",
       "\n",
       "       Avg_Conversion_Rate(%)  \n",
       "age                            \n",
       "30-34               32.831582  \n",
       "35-39               31.136642  \n",
       "40-44               29.485360  \n",
       "45-49               26.016892  "
      ]
     },
     "execution_count": 146,
     "metadata": {},
     "output_type": "execute_result"
    }
   ],
   "source": [
    "age_type=df.groupby(['age']).agg(\n",
    "{\n",
    "    \"impressions\":\"sum\",\n",
    "    \"clicks\":\"sum\",\n",
    "    \"spent\":\"sum\",\n",
    "    \"total_conversion\":\"sum\",\n",
    "    \"approved_conversion\":\"sum\",\n",
    "    \"ctr\":\"mean\",\n",
    "    \"cost_per_conversion\":\"mean\",\n",
    "    \"conversion_rate(%)\":\"mean\"\n",
    "}\n",
    "\n",
    ")\n",
    "\n",
    "age_type.columns=['Total_Impressions','Total_Clicks','Total_Spent','total_conversion','Total_Approved_Conversion','Avg_CTR','Avg_Cost_Per_Conversion','Avg_Conversion_Rate(%)']\n",
    "age_type"
   ]
  },
  {
   "cell_type": "markdown",
   "id": "3b27240a",
   "metadata": {},
   "source": [
    "## Insights:\n",
    "\n",
    "Engagement and Conversion: The \"30-34\" age group leads in total impressions, clicks, and conversions, indicating high engagement and conversion potential.\n",
    "    \n",
    "Cost Efficiency: Despite lower impressions and clicks, the \"35-39\" age group demonstrates cost-effective spending, suggesting efficient advertising targeting this segment.\n",
    "    \n",
    "CTR and Conversion Rates: The \"45-49\" age group exhibits the highest average CTR, while the \"30-34\" age group has the lowest average cost per conversion, indicating potential areas for optimization."
   ]
  },
  {
   "cell_type": "code",
   "execution_count": null,
   "id": "bc097f88",
   "metadata": {},
   "outputs": [],
   "source": []
  }
 ],
 "metadata": {
  "kernelspec": {
   "display_name": "Python 3 (ipykernel)",
   "language": "python",
   "name": "python3"
  },
  "language_info": {
   "codemirror_mode": {
    "name": "ipython",
    "version": 3
   },
   "file_extension": ".py",
   "mimetype": "text/x-python",
   "name": "python",
   "nbconvert_exporter": "python",
   "pygments_lexer": "ipython3",
   "version": "3.9.7"
  }
 },
 "nbformat": 4,
 "nbformat_minor": 5
}
