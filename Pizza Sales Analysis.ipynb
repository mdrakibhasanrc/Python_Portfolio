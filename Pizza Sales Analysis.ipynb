{
 "cells": [
  {
   "cell_type": "markdown",
   "id": "4363bc74",
   "metadata": {},
   "source": [
    "0. Author: Md Rakib Hasan\n",
    "1. Date : 15-2-2023"
   ]
  },
  {
   "cell_type": "markdown",
   "id": "f53cec55",
   "metadata": {},
   "source": [
    "# Problem Statement:"
   ]
  },
  {
   "cell_type": "markdown",
   "id": "e1ddb89f",
   "metadata": {},
   "source": [
    "Pizza Place Sales\n",
    "A year's worth of sales from a fictitious pizza place, including the date and time of each order and the pizzas served, with additional details on the type, size, quantity, price, and ingredients.\n",
    "Recommended Analysis:\n",
    "1. How many customers do we have each day? Are there any peak hours?\n",
    "\n",
    "2. How many pizzas are typically in an order? Do we have any bestsellers?\n",
    "\n",
    "3. much money did we make this year? Can we indentify any seasonality in the sales?\n",
    "\n",
    "4. Are there any pizzas we should take of the menu, or any promotions we could leverage?\n",
    "\n"
   ]
  },
  {
   "cell_type": "markdown",
   "id": "335e1c55",
   "metadata": {},
   "source": [
    "# About Dataset:"
   ]
  },
  {
   "cell_type": "markdown",
   "id": "62993891",
   "metadata": {},
   "source": [
    "This pizza sales dataset make up 12 relevant features:\n",
    "\n",
    "1. order_id: Unique identifier for each order placed by a table\n",
    "2. order_details_id: Unique identifier for each pizza placed within each order (pizzas of the same type and size are kept in the same row, and the quantity increases)\n",
    "3. pizza_id: Unique key identifier that ties the pizza ordered to its details, like size and price\n",
    "4. quantity: Quantity ordered for each pizza of the same type and size\n",
    "5. order_date: Date the order was placed (entered into the system prior to cooking & serving)\n",
    "6. order_time: Time the order was placed (entered into the system prior to cooking & serving)\n",
    "7. unit_price: Price of the pizza in USD\n",
    "8. total_price: unit_price * quantity\n",
    "9. pizza_size: Size of the pizza (Small, Medium, Large, X Large, or XX Large)\n",
    "10. pizza_type: Unique key identifier that ties the pizza ordered to its details, like size and price\n",
    "11. pizza_ingredients: ingredients used in the pizza as shown in the menu (they all include Mozzarella Cheese, even if not specified; and they all include Tomato Sauce, unless another sauce is specified)\n",
    "12. pizza_name: Name of the pizza as shown in the menu"
   ]
  },
  {
   "cell_type": "markdown",
   "id": "7b58a386",
   "metadata": {},
   "source": [
    "# Load Library:"
   ]
  },
  {
   "cell_type": "code",
   "execution_count": 38,
   "id": "4f5731bf",
   "metadata": {},
   "outputs": [],
   "source": [
    "import pandas as pd\n",
    "import numpy as np\n",
    "import matplotlib.pyplot as plt\n",
    "import seaborn as sns\n",
    "%matplotlib inline"
   ]
  },
  {
   "cell_type": "markdown",
   "id": "68482988",
   "metadata": {},
   "source": [
    "# Load Dataset:"
   ]
  },
  {
   "cell_type": "code",
   "execution_count": 39,
   "id": "c739a26e",
   "metadata": {},
   "outputs": [],
   "source": [
    "od=pd.read_csv(r'C:\\\\Users\\\\Rakib Hasan\\\\Downloads\\\\Pizza+Place+Sales\\\\pizza_sales\\\\order_details.csv')\n",
    "order=pd.read_csv(r'C:\\\\Users\\\\Rakib Hasan\\\\Downloads\\\\Pizza+Place+Sales\\\\pizza_sales\\\\orders.csv')\n",
    "pt=pd.read_csv(r'C:\\\\Users\\\\Rakib Hasan\\\\Downloads\\\\Pizza+Place+Sales\\\\pizza_sales\\\\pizza_types.csv',encoding='latin-1')\n",
    "p=pd.read_csv(r'C:\\\\Users\\\\Rakib Hasan\\\\Downloads\\\\Pizza+Place+Sales\\\\pizza_sales\\\\pizzas.csv')"
   ]
  },
  {
   "cell_type": "markdown",
   "id": "f47068e1",
   "metadata": {},
   "source": [
    "# Merge Data"
   ]
  },
  {
   "cell_type": "code",
   "execution_count": 44,
   "id": "56a01107",
   "metadata": {},
   "outputs": [],
   "source": [
    "df1=pd.merge(od,order,on='order_id')"
   ]
  },
  {
   "cell_type": "code",
   "execution_count": 46,
   "id": "ebc44da7",
   "metadata": {},
   "outputs": [],
   "source": [
    "df2=pd.merge(df1,p,on='pizza_id')"
   ]
  },
  {
   "cell_type": "code",
   "execution_count": 50,
   "id": "8cf77d7a",
   "metadata": {},
   "outputs": [],
   "source": [
    "df=pd.merge(df2,pt,on='pizza_type_id')"
   ]
  },
  {
   "cell_type": "code",
   "execution_count": 51,
   "id": "287f13b2",
   "metadata": {},
   "outputs": [
    {
     "data": {
      "text/html": [
       "<div>\n",
       "<style scoped>\n",
       "    .dataframe tbody tr th:only-of-type {\n",
       "        vertical-align: middle;\n",
       "    }\n",
       "\n",
       "    .dataframe tbody tr th {\n",
       "        vertical-align: top;\n",
       "    }\n",
       "\n",
       "    .dataframe thead th {\n",
       "        text-align: right;\n",
       "    }\n",
       "</style>\n",
       "<table border=\"1\" class=\"dataframe\">\n",
       "  <thead>\n",
       "    <tr style=\"text-align: right;\">\n",
       "      <th></th>\n",
       "      <th>order_details_id</th>\n",
       "      <th>order_id</th>\n",
       "      <th>pizza_id</th>\n",
       "      <th>quantity</th>\n",
       "      <th>date</th>\n",
       "      <th>time</th>\n",
       "      <th>pizza_type_id</th>\n",
       "      <th>size</th>\n",
       "      <th>price</th>\n",
       "      <th>name</th>\n",
       "      <th>category</th>\n",
       "      <th>ingredients</th>\n",
       "    </tr>\n",
       "  </thead>\n",
       "  <tbody>\n",
       "    <tr>\n",
       "      <th>0</th>\n",
       "      <td>1</td>\n",
       "      <td>1</td>\n",
       "      <td>hawaiian_m</td>\n",
       "      <td>1</td>\n",
       "      <td>2015-01-01</td>\n",
       "      <td>11:38:36</td>\n",
       "      <td>hawaiian</td>\n",
       "      <td>M</td>\n",
       "      <td>13.25</td>\n",
       "      <td>The Hawaiian Pizza</td>\n",
       "      <td>Classic</td>\n",
       "      <td>Sliced Ham, Pineapple, Mozzarella Cheese</td>\n",
       "    </tr>\n",
       "    <tr>\n",
       "      <th>1</th>\n",
       "      <td>179</td>\n",
       "      <td>77</td>\n",
       "      <td>hawaiian_m</td>\n",
       "      <td>1</td>\n",
       "      <td>2015-01-02</td>\n",
       "      <td>12:22:46</td>\n",
       "      <td>hawaiian</td>\n",
       "      <td>M</td>\n",
       "      <td>13.25</td>\n",
       "      <td>The Hawaiian Pizza</td>\n",
       "      <td>Classic</td>\n",
       "      <td>Sliced Ham, Pineapple, Mozzarella Cheese</td>\n",
       "    </tr>\n",
       "    <tr>\n",
       "      <th>2</th>\n",
       "      <td>357</td>\n",
       "      <td>146</td>\n",
       "      <td>hawaiian_m</td>\n",
       "      <td>1</td>\n",
       "      <td>2015-01-03</td>\n",
       "      <td>14:22:10</td>\n",
       "      <td>hawaiian</td>\n",
       "      <td>M</td>\n",
       "      <td>13.25</td>\n",
       "      <td>The Hawaiian Pizza</td>\n",
       "      <td>Classic</td>\n",
       "      <td>Sliced Ham, Pineapple, Mozzarella Cheese</td>\n",
       "    </tr>\n",
       "    <tr>\n",
       "      <th>3</th>\n",
       "      <td>389</td>\n",
       "      <td>163</td>\n",
       "      <td>hawaiian_m</td>\n",
       "      <td>1</td>\n",
       "      <td>2015-01-03</td>\n",
       "      <td>16:54:54</td>\n",
       "      <td>hawaiian</td>\n",
       "      <td>M</td>\n",
       "      <td>13.25</td>\n",
       "      <td>The Hawaiian Pizza</td>\n",
       "      <td>Classic</td>\n",
       "      <td>Sliced Ham, Pineapple, Mozzarella Cheese</td>\n",
       "    </tr>\n",
       "    <tr>\n",
       "      <th>4</th>\n",
       "      <td>568</td>\n",
       "      <td>247</td>\n",
       "      <td>hawaiian_m</td>\n",
       "      <td>1</td>\n",
       "      <td>2015-01-04</td>\n",
       "      <td>20:55:29</td>\n",
       "      <td>hawaiian</td>\n",
       "      <td>M</td>\n",
       "      <td>13.25</td>\n",
       "      <td>The Hawaiian Pizza</td>\n",
       "      <td>Classic</td>\n",
       "      <td>Sliced Ham, Pineapple, Mozzarella Cheese</td>\n",
       "    </tr>\n",
       "    <tr>\n",
       "      <th>...</th>\n",
       "      <td>...</td>\n",
       "      <td>...</td>\n",
       "      <td>...</td>\n",
       "      <td>...</td>\n",
       "      <td>...</td>\n",
       "      <td>...</td>\n",
       "      <td>...</td>\n",
       "      <td>...</td>\n",
       "      <td>...</td>\n",
       "      <td>...</td>\n",
       "      <td>...</td>\n",
       "      <td>...</td>\n",
       "    </tr>\n",
       "    <tr>\n",
       "      <th>48615</th>\n",
       "      <td>48176</td>\n",
       "      <td>21167</td>\n",
       "      <td>brie_carre_s</td>\n",
       "      <td>1</td>\n",
       "      <td>2015-12-27</td>\n",
       "      <td>17:39:57</td>\n",
       "      <td>brie_carre</td>\n",
       "      <td>S</td>\n",
       "      <td>23.65</td>\n",
       "      <td>The Brie Carre Pizza</td>\n",
       "      <td>Supreme</td>\n",
       "      <td>Brie Carre Cheese, Prosciutto, Caramelized Oni...</td>\n",
       "    </tr>\n",
       "    <tr>\n",
       "      <th>48616</th>\n",
       "      <td>48244</td>\n",
       "      <td>21198</td>\n",
       "      <td>brie_carre_s</td>\n",
       "      <td>1</td>\n",
       "      <td>2015-12-28</td>\n",
       "      <td>15:39:02</td>\n",
       "      <td>brie_carre</td>\n",
       "      <td>S</td>\n",
       "      <td>23.65</td>\n",
       "      <td>The Brie Carre Pizza</td>\n",
       "      <td>Supreme</td>\n",
       "      <td>Brie Carre Cheese, Prosciutto, Caramelized Oni...</td>\n",
       "    </tr>\n",
       "    <tr>\n",
       "      <th>48617</th>\n",
       "      <td>48311</td>\n",
       "      <td>21225</td>\n",
       "      <td>brie_carre_s</td>\n",
       "      <td>1</td>\n",
       "      <td>2015-12-29</td>\n",
       "      <td>13:20:17</td>\n",
       "      <td>brie_carre</td>\n",
       "      <td>S</td>\n",
       "      <td>23.65</td>\n",
       "      <td>The Brie Carre Pizza</td>\n",
       "      <td>Supreme</td>\n",
       "      <td>Brie Carre Cheese, Prosciutto, Caramelized Oni...</td>\n",
       "    </tr>\n",
       "    <tr>\n",
       "      <th>48618</th>\n",
       "      <td>48456</td>\n",
       "      <td>21282</td>\n",
       "      <td>brie_carre_s</td>\n",
       "      <td>1</td>\n",
       "      <td>2015-12-31</td>\n",
       "      <td>12:09:59</td>\n",
       "      <td>brie_carre</td>\n",
       "      <td>S</td>\n",
       "      <td>23.65</td>\n",
       "      <td>The Brie Carre Pizza</td>\n",
       "      <td>Supreme</td>\n",
       "      <td>Brie Carre Cheese, Prosciutto, Caramelized Oni...</td>\n",
       "    </tr>\n",
       "    <tr>\n",
       "      <th>48619</th>\n",
       "      <td>48527</td>\n",
       "      <td>21308</td>\n",
       "      <td>brie_carre_s</td>\n",
       "      <td>1</td>\n",
       "      <td>2015-12-31</td>\n",
       "      <td>16:44:35</td>\n",
       "      <td>brie_carre</td>\n",
       "      <td>S</td>\n",
       "      <td>23.65</td>\n",
       "      <td>The Brie Carre Pizza</td>\n",
       "      <td>Supreme</td>\n",
       "      <td>Brie Carre Cheese, Prosciutto, Caramelized Oni...</td>\n",
       "    </tr>\n",
       "  </tbody>\n",
       "</table>\n",
       "<p>48620 rows × 12 columns</p>\n",
       "</div>"
      ],
      "text/plain": [
       "       order_details_id  order_id      pizza_id  quantity        date  \\\n",
       "0                     1         1    hawaiian_m         1  2015-01-01   \n",
       "1                   179        77    hawaiian_m         1  2015-01-02   \n",
       "2                   357       146    hawaiian_m         1  2015-01-03   \n",
       "3                   389       163    hawaiian_m         1  2015-01-03   \n",
       "4                   568       247    hawaiian_m         1  2015-01-04   \n",
       "...                 ...       ...           ...       ...         ...   \n",
       "48615             48176     21167  brie_carre_s         1  2015-12-27   \n",
       "48616             48244     21198  brie_carre_s         1  2015-12-28   \n",
       "48617             48311     21225  brie_carre_s         1  2015-12-29   \n",
       "48618             48456     21282  brie_carre_s         1  2015-12-31   \n",
       "48619             48527     21308  brie_carre_s         1  2015-12-31   \n",
       "\n",
       "           time pizza_type_id size  price                  name category  \\\n",
       "0      11:38:36      hawaiian    M  13.25    The Hawaiian Pizza  Classic   \n",
       "1      12:22:46      hawaiian    M  13.25    The Hawaiian Pizza  Classic   \n",
       "2      14:22:10      hawaiian    M  13.25    The Hawaiian Pizza  Classic   \n",
       "3      16:54:54      hawaiian    M  13.25    The Hawaiian Pizza  Classic   \n",
       "4      20:55:29      hawaiian    M  13.25    The Hawaiian Pizza  Classic   \n",
       "...         ...           ...  ...    ...                   ...      ...   \n",
       "48615  17:39:57    brie_carre    S  23.65  The Brie Carre Pizza  Supreme   \n",
       "48616  15:39:02    brie_carre    S  23.65  The Brie Carre Pizza  Supreme   \n",
       "48617  13:20:17    brie_carre    S  23.65  The Brie Carre Pizza  Supreme   \n",
       "48618  12:09:59    brie_carre    S  23.65  The Brie Carre Pizza  Supreme   \n",
       "48619  16:44:35    brie_carre    S  23.65  The Brie Carre Pizza  Supreme   \n",
       "\n",
       "                                             ingredients  \n",
       "0               Sliced Ham, Pineapple, Mozzarella Cheese  \n",
       "1               Sliced Ham, Pineapple, Mozzarella Cheese  \n",
       "2               Sliced Ham, Pineapple, Mozzarella Cheese  \n",
       "3               Sliced Ham, Pineapple, Mozzarella Cheese  \n",
       "4               Sliced Ham, Pineapple, Mozzarella Cheese  \n",
       "...                                                  ...  \n",
       "48615  Brie Carre Cheese, Prosciutto, Caramelized Oni...  \n",
       "48616  Brie Carre Cheese, Prosciutto, Caramelized Oni...  \n",
       "48617  Brie Carre Cheese, Prosciutto, Caramelized Oni...  \n",
       "48618  Brie Carre Cheese, Prosciutto, Caramelized Oni...  \n",
       "48619  Brie Carre Cheese, Prosciutto, Caramelized Oni...  \n",
       "\n",
       "[48620 rows x 12 columns]"
      ]
     },
     "execution_count": 51,
     "metadata": {},
     "output_type": "execute_result"
    }
   ],
   "source": [
    "df"
   ]
  },
  {
   "cell_type": "markdown",
   "id": "00768eb9",
   "metadata": {},
   "source": [
    "# Understanding Data"
   ]
  },
  {
   "cell_type": "code",
   "execution_count": 52,
   "id": "d37678b9",
   "metadata": {},
   "outputs": [
    {
     "data": {
      "text/html": [
       "<div>\n",
       "<style scoped>\n",
       "    .dataframe tbody tr th:only-of-type {\n",
       "        vertical-align: middle;\n",
       "    }\n",
       "\n",
       "    .dataframe tbody tr th {\n",
       "        vertical-align: top;\n",
       "    }\n",
       "\n",
       "    .dataframe thead th {\n",
       "        text-align: right;\n",
       "    }\n",
       "</style>\n",
       "<table border=\"1\" class=\"dataframe\">\n",
       "  <thead>\n",
       "    <tr style=\"text-align: right;\">\n",
       "      <th></th>\n",
       "      <th>order_details_id</th>\n",
       "      <th>order_id</th>\n",
       "      <th>pizza_id</th>\n",
       "      <th>quantity</th>\n",
       "      <th>date</th>\n",
       "      <th>time</th>\n",
       "      <th>pizza_type_id</th>\n",
       "      <th>size</th>\n",
       "      <th>price</th>\n",
       "      <th>name</th>\n",
       "      <th>category</th>\n",
       "      <th>ingredients</th>\n",
       "    </tr>\n",
       "  </thead>\n",
       "  <tbody>\n",
       "    <tr>\n",
       "      <th>0</th>\n",
       "      <td>1</td>\n",
       "      <td>1</td>\n",
       "      <td>hawaiian_m</td>\n",
       "      <td>1</td>\n",
       "      <td>2015-01-01</td>\n",
       "      <td>11:38:36</td>\n",
       "      <td>hawaiian</td>\n",
       "      <td>M</td>\n",
       "      <td>13.25</td>\n",
       "      <td>The Hawaiian Pizza</td>\n",
       "      <td>Classic</td>\n",
       "      <td>Sliced Ham, Pineapple, Mozzarella Cheese</td>\n",
       "    </tr>\n",
       "    <tr>\n",
       "      <th>1</th>\n",
       "      <td>179</td>\n",
       "      <td>77</td>\n",
       "      <td>hawaiian_m</td>\n",
       "      <td>1</td>\n",
       "      <td>2015-01-02</td>\n",
       "      <td>12:22:46</td>\n",
       "      <td>hawaiian</td>\n",
       "      <td>M</td>\n",
       "      <td>13.25</td>\n",
       "      <td>The Hawaiian Pizza</td>\n",
       "      <td>Classic</td>\n",
       "      <td>Sliced Ham, Pineapple, Mozzarella Cheese</td>\n",
       "    </tr>\n",
       "    <tr>\n",
       "      <th>2</th>\n",
       "      <td>357</td>\n",
       "      <td>146</td>\n",
       "      <td>hawaiian_m</td>\n",
       "      <td>1</td>\n",
       "      <td>2015-01-03</td>\n",
       "      <td>14:22:10</td>\n",
       "      <td>hawaiian</td>\n",
       "      <td>M</td>\n",
       "      <td>13.25</td>\n",
       "      <td>The Hawaiian Pizza</td>\n",
       "      <td>Classic</td>\n",
       "      <td>Sliced Ham, Pineapple, Mozzarella Cheese</td>\n",
       "    </tr>\n",
       "    <tr>\n",
       "      <th>3</th>\n",
       "      <td>389</td>\n",
       "      <td>163</td>\n",
       "      <td>hawaiian_m</td>\n",
       "      <td>1</td>\n",
       "      <td>2015-01-03</td>\n",
       "      <td>16:54:54</td>\n",
       "      <td>hawaiian</td>\n",
       "      <td>M</td>\n",
       "      <td>13.25</td>\n",
       "      <td>The Hawaiian Pizza</td>\n",
       "      <td>Classic</td>\n",
       "      <td>Sliced Ham, Pineapple, Mozzarella Cheese</td>\n",
       "    </tr>\n",
       "    <tr>\n",
       "      <th>4</th>\n",
       "      <td>568</td>\n",
       "      <td>247</td>\n",
       "      <td>hawaiian_m</td>\n",
       "      <td>1</td>\n",
       "      <td>2015-01-04</td>\n",
       "      <td>20:55:29</td>\n",
       "      <td>hawaiian</td>\n",
       "      <td>M</td>\n",
       "      <td>13.25</td>\n",
       "      <td>The Hawaiian Pizza</td>\n",
       "      <td>Classic</td>\n",
       "      <td>Sliced Ham, Pineapple, Mozzarella Cheese</td>\n",
       "    </tr>\n",
       "  </tbody>\n",
       "</table>\n",
       "</div>"
      ],
      "text/plain": [
       "   order_details_id  order_id    pizza_id  quantity        date      time  \\\n",
       "0                 1         1  hawaiian_m         1  2015-01-01  11:38:36   \n",
       "1               179        77  hawaiian_m         1  2015-01-02  12:22:46   \n",
       "2               357       146  hawaiian_m         1  2015-01-03  14:22:10   \n",
       "3               389       163  hawaiian_m         1  2015-01-03  16:54:54   \n",
       "4               568       247  hawaiian_m         1  2015-01-04  20:55:29   \n",
       "\n",
       "  pizza_type_id size  price                name category  \\\n",
       "0      hawaiian    M  13.25  The Hawaiian Pizza  Classic   \n",
       "1      hawaiian    M  13.25  The Hawaiian Pizza  Classic   \n",
       "2      hawaiian    M  13.25  The Hawaiian Pizza  Classic   \n",
       "3      hawaiian    M  13.25  The Hawaiian Pizza  Classic   \n",
       "4      hawaiian    M  13.25  The Hawaiian Pizza  Classic   \n",
       "\n",
       "                                ingredients  \n",
       "0  Sliced Ham, Pineapple, Mozzarella Cheese  \n",
       "1  Sliced Ham, Pineapple, Mozzarella Cheese  \n",
       "2  Sliced Ham, Pineapple, Mozzarella Cheese  \n",
       "3  Sliced Ham, Pineapple, Mozzarella Cheese  \n",
       "4  Sliced Ham, Pineapple, Mozzarella Cheese  "
      ]
     },
     "execution_count": 52,
     "metadata": {},
     "output_type": "execute_result"
    }
   ],
   "source": [
    "#show first five rows\n",
    "df.head(5)"
   ]
  },
  {
   "cell_type": "code",
   "execution_count": 53,
   "id": "4999dd27",
   "metadata": {},
   "outputs": [
    {
     "data": {
      "text/html": [
       "<div>\n",
       "<style scoped>\n",
       "    .dataframe tbody tr th:only-of-type {\n",
       "        vertical-align: middle;\n",
       "    }\n",
       "\n",
       "    .dataframe tbody tr th {\n",
       "        vertical-align: top;\n",
       "    }\n",
       "\n",
       "    .dataframe thead th {\n",
       "        text-align: right;\n",
       "    }\n",
       "</style>\n",
       "<table border=\"1\" class=\"dataframe\">\n",
       "  <thead>\n",
       "    <tr style=\"text-align: right;\">\n",
       "      <th></th>\n",
       "      <th>order_details_id</th>\n",
       "      <th>order_id</th>\n",
       "      <th>pizza_id</th>\n",
       "      <th>quantity</th>\n",
       "      <th>date</th>\n",
       "      <th>time</th>\n",
       "      <th>pizza_type_id</th>\n",
       "      <th>size</th>\n",
       "      <th>price</th>\n",
       "      <th>name</th>\n",
       "      <th>category</th>\n",
       "      <th>ingredients</th>\n",
       "    </tr>\n",
       "  </thead>\n",
       "  <tbody>\n",
       "    <tr>\n",
       "      <th>48615</th>\n",
       "      <td>48176</td>\n",
       "      <td>21167</td>\n",
       "      <td>brie_carre_s</td>\n",
       "      <td>1</td>\n",
       "      <td>2015-12-27</td>\n",
       "      <td>17:39:57</td>\n",
       "      <td>brie_carre</td>\n",
       "      <td>S</td>\n",
       "      <td>23.65</td>\n",
       "      <td>The Brie Carre Pizza</td>\n",
       "      <td>Supreme</td>\n",
       "      <td>Brie Carre Cheese, Prosciutto, Caramelized Oni...</td>\n",
       "    </tr>\n",
       "    <tr>\n",
       "      <th>48616</th>\n",
       "      <td>48244</td>\n",
       "      <td>21198</td>\n",
       "      <td>brie_carre_s</td>\n",
       "      <td>1</td>\n",
       "      <td>2015-12-28</td>\n",
       "      <td>15:39:02</td>\n",
       "      <td>brie_carre</td>\n",
       "      <td>S</td>\n",
       "      <td>23.65</td>\n",
       "      <td>The Brie Carre Pizza</td>\n",
       "      <td>Supreme</td>\n",
       "      <td>Brie Carre Cheese, Prosciutto, Caramelized Oni...</td>\n",
       "    </tr>\n",
       "    <tr>\n",
       "      <th>48617</th>\n",
       "      <td>48311</td>\n",
       "      <td>21225</td>\n",
       "      <td>brie_carre_s</td>\n",
       "      <td>1</td>\n",
       "      <td>2015-12-29</td>\n",
       "      <td>13:20:17</td>\n",
       "      <td>brie_carre</td>\n",
       "      <td>S</td>\n",
       "      <td>23.65</td>\n",
       "      <td>The Brie Carre Pizza</td>\n",
       "      <td>Supreme</td>\n",
       "      <td>Brie Carre Cheese, Prosciutto, Caramelized Oni...</td>\n",
       "    </tr>\n",
       "    <tr>\n",
       "      <th>48618</th>\n",
       "      <td>48456</td>\n",
       "      <td>21282</td>\n",
       "      <td>brie_carre_s</td>\n",
       "      <td>1</td>\n",
       "      <td>2015-12-31</td>\n",
       "      <td>12:09:59</td>\n",
       "      <td>brie_carre</td>\n",
       "      <td>S</td>\n",
       "      <td>23.65</td>\n",
       "      <td>The Brie Carre Pizza</td>\n",
       "      <td>Supreme</td>\n",
       "      <td>Brie Carre Cheese, Prosciutto, Caramelized Oni...</td>\n",
       "    </tr>\n",
       "    <tr>\n",
       "      <th>48619</th>\n",
       "      <td>48527</td>\n",
       "      <td>21308</td>\n",
       "      <td>brie_carre_s</td>\n",
       "      <td>1</td>\n",
       "      <td>2015-12-31</td>\n",
       "      <td>16:44:35</td>\n",
       "      <td>brie_carre</td>\n",
       "      <td>S</td>\n",
       "      <td>23.65</td>\n",
       "      <td>The Brie Carre Pizza</td>\n",
       "      <td>Supreme</td>\n",
       "      <td>Brie Carre Cheese, Prosciutto, Caramelized Oni...</td>\n",
       "    </tr>\n",
       "  </tbody>\n",
       "</table>\n",
       "</div>"
      ],
      "text/plain": [
       "       order_details_id  order_id      pizza_id  quantity        date  \\\n",
       "48615             48176     21167  brie_carre_s         1  2015-12-27   \n",
       "48616             48244     21198  brie_carre_s         1  2015-12-28   \n",
       "48617             48311     21225  brie_carre_s         1  2015-12-29   \n",
       "48618             48456     21282  brie_carre_s         1  2015-12-31   \n",
       "48619             48527     21308  brie_carre_s         1  2015-12-31   \n",
       "\n",
       "           time pizza_type_id size  price                  name category  \\\n",
       "48615  17:39:57    brie_carre    S  23.65  The Brie Carre Pizza  Supreme   \n",
       "48616  15:39:02    brie_carre    S  23.65  The Brie Carre Pizza  Supreme   \n",
       "48617  13:20:17    brie_carre    S  23.65  The Brie Carre Pizza  Supreme   \n",
       "48618  12:09:59    brie_carre    S  23.65  The Brie Carre Pizza  Supreme   \n",
       "48619  16:44:35    brie_carre    S  23.65  The Brie Carre Pizza  Supreme   \n",
       "\n",
       "                                             ingredients  \n",
       "48615  Brie Carre Cheese, Prosciutto, Caramelized Oni...  \n",
       "48616  Brie Carre Cheese, Prosciutto, Caramelized Oni...  \n",
       "48617  Brie Carre Cheese, Prosciutto, Caramelized Oni...  \n",
       "48618  Brie Carre Cheese, Prosciutto, Caramelized Oni...  \n",
       "48619  Brie Carre Cheese, Prosciutto, Caramelized Oni...  "
      ]
     },
     "execution_count": 53,
     "metadata": {},
     "output_type": "execute_result"
    }
   ],
   "source": [
    "#show last five rows\n",
    "df.tail(5)"
   ]
  },
  {
   "cell_type": "code",
   "execution_count": 54,
   "id": "495f74ac",
   "metadata": {},
   "outputs": [
    {
     "data": {
      "text/html": [
       "<div>\n",
       "<style scoped>\n",
       "    .dataframe tbody tr th:only-of-type {\n",
       "        vertical-align: middle;\n",
       "    }\n",
       "\n",
       "    .dataframe tbody tr th {\n",
       "        vertical-align: top;\n",
       "    }\n",
       "\n",
       "    .dataframe thead th {\n",
       "        text-align: right;\n",
       "    }\n",
       "</style>\n",
       "<table border=\"1\" class=\"dataframe\">\n",
       "  <thead>\n",
       "    <tr style=\"text-align: right;\">\n",
       "      <th></th>\n",
       "      <th>order_details_id</th>\n",
       "      <th>order_id</th>\n",
       "      <th>pizza_id</th>\n",
       "      <th>quantity</th>\n",
       "      <th>date</th>\n",
       "      <th>time</th>\n",
       "      <th>pizza_type_id</th>\n",
       "      <th>size</th>\n",
       "      <th>price</th>\n",
       "      <th>name</th>\n",
       "      <th>category</th>\n",
       "      <th>ingredients</th>\n",
       "    </tr>\n",
       "  </thead>\n",
       "  <tbody>\n",
       "    <tr>\n",
       "      <th>3747</th>\n",
       "      <td>13586</td>\n",
       "      <td>5957</td>\n",
       "      <td>classic_dlx_s</td>\n",
       "      <td>1</td>\n",
       "      <td>2015-04-10</td>\n",
       "      <td>20:04:44</td>\n",
       "      <td>classic_dlx</td>\n",
       "      <td>S</td>\n",
       "      <td>12.00</td>\n",
       "      <td>The Classic Deluxe Pizza</td>\n",
       "      <td>Classic</td>\n",
       "      <td>Pepperoni, Mushrooms, Red Onions, Red Peppers,...</td>\n",
       "    </tr>\n",
       "    <tr>\n",
       "      <th>6774</th>\n",
       "      <td>42169</td>\n",
       "      <td>18547</td>\n",
       "      <td>ital_supr_l</td>\n",
       "      <td>1</td>\n",
       "      <td>2015-11-12</td>\n",
       "      <td>19:34:00</td>\n",
       "      <td>ital_supr</td>\n",
       "      <td>L</td>\n",
       "      <td>20.75</td>\n",
       "      <td>The Italian Supreme Pizza</td>\n",
       "      <td>Supreme</td>\n",
       "      <td>Calabrese Salami, Capocollo, Tomatoes, Red Oni...</td>\n",
       "    </tr>\n",
       "    <tr>\n",
       "      <th>19501</th>\n",
       "      <td>41211</td>\n",
       "      <td>18151</td>\n",
       "      <td>ital_cpcllo_l</td>\n",
       "      <td>1</td>\n",
       "      <td>2015-11-06</td>\n",
       "      <td>11:46:23</td>\n",
       "      <td>ital_cpcllo</td>\n",
       "      <td>L</td>\n",
       "      <td>20.50</td>\n",
       "      <td>The Italian Capocollo Pizza</td>\n",
       "      <td>Classic</td>\n",
       "      <td>Capocollo, Red Peppers, Tomatoes, Goat Cheese,...</td>\n",
       "    </tr>\n",
       "    <tr>\n",
       "      <th>6043</th>\n",
       "      <td>44175</td>\n",
       "      <td>19417</td>\n",
       "      <td>five_cheese_l</td>\n",
       "      <td>1</td>\n",
       "      <td>2015-11-27</td>\n",
       "      <td>12:30:45</td>\n",
       "      <td>five_cheese</td>\n",
       "      <td>L</td>\n",
       "      <td>18.50</td>\n",
       "      <td>The Five Cheese Pizza</td>\n",
       "      <td>Veggie</td>\n",
       "      <td>Mozzarella Cheese, Provolone Cheese, Smoked Go...</td>\n",
       "    </tr>\n",
       "    <tr>\n",
       "      <th>20888</th>\n",
       "      <td>25077</td>\n",
       "      <td>11035</td>\n",
       "      <td>spicy_ital_l</td>\n",
       "      <td>1</td>\n",
       "      <td>2015-07-04</td>\n",
       "      <td>14:39:02</td>\n",
       "      <td>spicy_ital</td>\n",
       "      <td>L</td>\n",
       "      <td>20.75</td>\n",
       "      <td>The Spicy Italian Pizza</td>\n",
       "      <td>Supreme</td>\n",
       "      <td>Capocollo, Tomatoes, Goat Cheese, Artichokes, ...</td>\n",
       "    </tr>\n",
       "  </tbody>\n",
       "</table>\n",
       "</div>"
      ],
      "text/plain": [
       "       order_details_id  order_id       pizza_id  quantity        date  \\\n",
       "3747              13586      5957  classic_dlx_s         1  2015-04-10   \n",
       "6774              42169     18547    ital_supr_l         1  2015-11-12   \n",
       "19501             41211     18151  ital_cpcllo_l         1  2015-11-06   \n",
       "6043              44175     19417  five_cheese_l         1  2015-11-27   \n",
       "20888             25077     11035   spicy_ital_l         1  2015-07-04   \n",
       "\n",
       "           time pizza_type_id size  price                         name  \\\n",
       "3747   20:04:44   classic_dlx    S  12.00     The Classic Deluxe Pizza   \n",
       "6774   19:34:00     ital_supr    L  20.75    The Italian Supreme Pizza   \n",
       "19501  11:46:23   ital_cpcllo    L  20.50  The Italian Capocollo Pizza   \n",
       "6043   12:30:45   five_cheese    L  18.50        The Five Cheese Pizza   \n",
       "20888  14:39:02    spicy_ital    L  20.75      The Spicy Italian Pizza   \n",
       "\n",
       "      category                                        ingredients  \n",
       "3747   Classic  Pepperoni, Mushrooms, Red Onions, Red Peppers,...  \n",
       "6774   Supreme  Calabrese Salami, Capocollo, Tomatoes, Red Oni...  \n",
       "19501  Classic  Capocollo, Red Peppers, Tomatoes, Goat Cheese,...  \n",
       "6043    Veggie  Mozzarella Cheese, Provolone Cheese, Smoked Go...  \n",
       "20888  Supreme  Capocollo, Tomatoes, Goat Cheese, Artichokes, ...  "
      ]
     },
     "execution_count": 54,
     "metadata": {},
     "output_type": "execute_result"
    }
   ],
   "source": [
    "# show random five rows\n",
    "df.sample(5)"
   ]
  },
  {
   "cell_type": "code",
   "execution_count": 56,
   "id": "cf184b19",
   "metadata": {},
   "outputs": [
    {
     "data": {
      "text/plain": [
       "Index(['order_details_id', 'order_id', 'pizza_id', 'quantity', 'date', 'time',\n",
       "       'pizza_type_id', 'size', 'price', 'name', 'category', 'ingredients'],\n",
       "      dtype='object')"
      ]
     },
     "execution_count": 56,
     "metadata": {},
     "output_type": "execute_result"
    }
   ],
   "source": [
    "# show all columns\n",
    "df.columns"
   ]
  },
  {
   "cell_type": "code",
   "execution_count": 57,
   "id": "1f335815",
   "metadata": {},
   "outputs": [
    {
     "data": {
      "text/plain": [
       "order_details_id      int64\n",
       "order_id              int64\n",
       "pizza_id             object\n",
       "quantity              int64\n",
       "date                 object\n",
       "time                 object\n",
       "pizza_type_id        object\n",
       "size                 object\n",
       "price               float64\n",
       "name                 object\n",
       "category             object\n",
       "ingredients          object\n",
       "dtype: object"
      ]
     },
     "execution_count": 57,
     "metadata": {},
     "output_type": "execute_result"
    }
   ],
   "source": [
    "# show data type\n",
    "df.dtypes"
   ]
  },
  {
   "cell_type": "code",
   "execution_count": 58,
   "id": "e0d402d3",
   "metadata": {},
   "outputs": [
    {
     "data": {
      "text/plain": [
       "(48620, 12)"
      ]
     },
     "execution_count": 58,
     "metadata": {},
     "output_type": "execute_result"
    }
   ],
   "source": [
    "# show data shape\n",
    "df.shape"
   ]
  },
  {
   "cell_type": "code",
   "execution_count": 59,
   "id": "1afc24f9",
   "metadata": {},
   "outputs": [
    {
     "name": "stdout",
     "output_type": "stream",
     "text": [
      "<class 'pandas.core.frame.DataFrame'>\n",
      "Int64Index: 48620 entries, 0 to 48619\n",
      "Data columns (total 12 columns):\n",
      " #   Column            Non-Null Count  Dtype  \n",
      "---  ------            --------------  -----  \n",
      " 0   order_details_id  48620 non-null  int64  \n",
      " 1   order_id          48620 non-null  int64  \n",
      " 2   pizza_id          48620 non-null  object \n",
      " 3   quantity          48620 non-null  int64  \n",
      " 4   date              48620 non-null  object \n",
      " 5   time              48620 non-null  object \n",
      " 6   pizza_type_id     48620 non-null  object \n",
      " 7   size              48620 non-null  object \n",
      " 8   price             48620 non-null  float64\n",
      " 9   name              48620 non-null  object \n",
      " 10  category          48620 non-null  object \n",
      " 11  ingredients       48620 non-null  object \n",
      "dtypes: float64(1), int64(3), object(8)\n",
      "memory usage: 4.8+ MB\n"
     ]
    }
   ],
   "source": [
    "# dataset info\n",
    "df.info()"
   ]
  },
  {
   "cell_type": "code",
   "execution_count": 62,
   "id": "a60d9f4c",
   "metadata": {},
   "outputs": [
    {
     "data": {
      "text/html": [
       "<div>\n",
       "<style scoped>\n",
       "    .dataframe tbody tr th:only-of-type {\n",
       "        vertical-align: middle;\n",
       "    }\n",
       "\n",
       "    .dataframe tbody tr th {\n",
       "        vertical-align: top;\n",
       "    }\n",
       "\n",
       "    .dataframe thead th {\n",
       "        text-align: right;\n",
       "    }\n",
       "</style>\n",
       "<table border=\"1\" class=\"dataframe\">\n",
       "  <thead>\n",
       "    <tr style=\"text-align: right;\">\n",
       "      <th></th>\n",
       "      <th>order_details_id</th>\n",
       "      <th>order_id</th>\n",
       "      <th>quantity</th>\n",
       "      <th>price</th>\n",
       "    </tr>\n",
       "  </thead>\n",
       "  <tbody>\n",
       "    <tr>\n",
       "      <th>count</th>\n",
       "      <td>48620.000000</td>\n",
       "      <td>48620.000000</td>\n",
       "      <td>48620.000000</td>\n",
       "      <td>48620.000000</td>\n",
       "    </tr>\n",
       "    <tr>\n",
       "      <th>mean</th>\n",
       "      <td>24310.500000</td>\n",
       "      <td>10701.479761</td>\n",
       "      <td>1.019622</td>\n",
       "      <td>16.494132</td>\n",
       "    </tr>\n",
       "    <tr>\n",
       "      <th>std</th>\n",
       "      <td>14035.529381</td>\n",
       "      <td>6180.119770</td>\n",
       "      <td>0.143077</td>\n",
       "      <td>3.621789</td>\n",
       "    </tr>\n",
       "    <tr>\n",
       "      <th>min</th>\n",
       "      <td>1.000000</td>\n",
       "      <td>1.000000</td>\n",
       "      <td>1.000000</td>\n",
       "      <td>9.750000</td>\n",
       "    </tr>\n",
       "    <tr>\n",
       "      <th>25%</th>\n",
       "      <td>12155.750000</td>\n",
       "      <td>5337.000000</td>\n",
       "      <td>1.000000</td>\n",
       "      <td>12.750000</td>\n",
       "    </tr>\n",
       "    <tr>\n",
       "      <th>50%</th>\n",
       "      <td>24310.500000</td>\n",
       "      <td>10682.500000</td>\n",
       "      <td>1.000000</td>\n",
       "      <td>16.500000</td>\n",
       "    </tr>\n",
       "    <tr>\n",
       "      <th>75%</th>\n",
       "      <td>36465.250000</td>\n",
       "      <td>16100.000000</td>\n",
       "      <td>1.000000</td>\n",
       "      <td>20.250000</td>\n",
       "    </tr>\n",
       "    <tr>\n",
       "      <th>max</th>\n",
       "      <td>48620.000000</td>\n",
       "      <td>21350.000000</td>\n",
       "      <td>4.000000</td>\n",
       "      <td>35.950000</td>\n",
       "    </tr>\n",
       "  </tbody>\n",
       "</table>\n",
       "</div>"
      ],
      "text/plain": [
       "       order_details_id      order_id      quantity         price\n",
       "count      48620.000000  48620.000000  48620.000000  48620.000000\n",
       "mean       24310.500000  10701.479761      1.019622     16.494132\n",
       "std        14035.529381   6180.119770      0.143077      3.621789\n",
       "min            1.000000      1.000000      1.000000      9.750000\n",
       "25%        12155.750000   5337.000000      1.000000     12.750000\n",
       "50%        24310.500000  10682.500000      1.000000     16.500000\n",
       "75%        36465.250000  16100.000000      1.000000     20.250000\n",
       "max        48620.000000  21350.000000      4.000000     35.950000"
      ]
     },
     "execution_count": 62,
     "metadata": {},
     "output_type": "execute_result"
    }
   ],
   "source": [
    "# show descriptive statistics\n",
    "df.describe()"
   ]
  },
  {
   "cell_type": "markdown",
   "id": "2e11f795",
   "metadata": {},
   "source": [
    "# Data Cleaning & Preprocessing"
   ]
  },
  {
   "cell_type": "code",
   "execution_count": 66,
   "id": "b87557a1",
   "metadata": {},
   "outputs": [],
   "source": [
    "# change date columns datatype\n",
    "df['date']=pd.to_datetime(df['date'])"
   ]
  },
  {
   "cell_type": "code",
   "execution_count": 67,
   "id": "706a34aa",
   "metadata": {},
   "outputs": [
    {
     "data": {
      "text/plain": [
       "order_details_id    0\n",
       "order_id            0\n",
       "pizza_id            0\n",
       "quantity            0\n",
       "date                0\n",
       "time                0\n",
       "pizza_type_id       0\n",
       "size                0\n",
       "price               0\n",
       "name                0\n",
       "category            0\n",
       "ingredients         0\n",
       "dtype: int64"
      ]
     },
     "execution_count": 67,
     "metadata": {},
     "output_type": "execute_result"
    }
   ],
   "source": [
    "# check missing Values\n",
    "df.isnull().sum()"
   ]
  },
  {
   "cell_type": "code",
   "execution_count": 73,
   "id": "7d23d95e",
   "metadata": {},
   "outputs": [
    {
     "data": {
      "image/png": "[encoded data removed]",
      "text/plain": [
       "<Figure size 432x288 with 1 Axes>"
      ]
     },
     "metadata": {
      "needs_background": "light"
     },
     "output_type": "display_data"
    }
   ],
   "source": [
    "# plot missing value dataframe\n",
    "sns.heatmap(df.isnull(),cmap='viridis',yticklabels=False,cbar=False)\n",
    "plt.title('Missing Value Heatmap',fontsize=15);"
   ]
  },
  {
   "cell_type": "code",
   "execution_count": 78,
   "id": "2d6a6bcd",
   "metadata": {},
   "outputs": [
    {
     "data": {
      "text/plain": [
       "0"
      ]
     },
     "execution_count": 78,
     "metadata": {},
     "output_type": "execute_result"
    }
   ],
   "source": [
    "# check duplicated Data\n",
    "df.duplicated().sum()"
   ]
  },
  {
   "cell_type": "code",
   "execution_count": 81,
   "id": "6d833c08",
   "metadata": {},
   "outputs": [],
   "source": [
    "# extract Date\n",
    "df['Year']=df['date'].dt.year\n",
    "df['Month']=df['date'].dt.month\n",
    "df['Day']=df['date'].dt.day"
   ]
  },
  {
   "cell_type": "code",
   "execution_count": 83,
   "id": "5cb34442",
   "metadata": {},
   "outputs": [],
   "source": [
    "df['Year']=df['Year'].astype('int')\n",
    "df['Month']=df['Month'].astype('int')\n",
    "df['Day']=df['Day'].astype('int')"
   ]
  },
  {
   "cell_type": "code",
   "execution_count": 139,
   "id": "322b13ca",
   "metadata": {},
   "outputs": [
    {
     "data": {
      "text/plain": [
       "order_details_id             int64\n",
       "order_id                     int64\n",
       "pizza_id                    object\n",
       "quantity                     int64\n",
       "date                datetime64[ns]\n",
       "time                        string\n",
       "pizza_type_id               object\n",
       "size                        object\n",
       "price                      float64\n",
       "name                        object\n",
       "category                    object\n",
       "ingredients                 object\n",
       "Year                         int32\n",
       "Month                        int32\n",
       "Day                          int32\n",
       "Sales                      float64\n",
       "Day_Name                    object\n",
       "order_time                  object\n",
       "Hour                        string\n",
       "Minutes                     string\n",
       "Seconds                     string\n",
       "dtype: object"
      ]
     },
     "execution_count": 139,
     "metadata": {},
     "output_type": "execute_result"
    }
   ],
   "source": [
    "df.dtypes"
   ]
  },
  {
   "cell_type": "code",
   "execution_count": 137,
   "id": "35a39524",
   "metadata": {},
   "outputs": [],
   "source": [
    "df['time']=df['time'].astype('string')\n",
    "df[['Hour','Minutes','Seconds']]=df['time'].str.split(':',expand=True)"
   ]
  },
  {
   "cell_type": "code",
   "execution_count": 138,
   "id": "78d23e33",
   "metadata": {},
   "outputs": [
    {
     "data": {
      "text/html": [
       "<div>\n",
       "<style scoped>\n",
       "    .dataframe tbody tr th:only-of-type {\n",
       "        vertical-align: middle;\n",
       "    }\n",
       "\n",
       "    .dataframe tbody tr th {\n",
       "        vertical-align: top;\n",
       "    }\n",
       "\n",
       "    .dataframe thead th {\n",
       "        text-align: right;\n",
       "    }\n",
       "</style>\n",
       "<table border=\"1\" class=\"dataframe\">\n",
       "  <thead>\n",
       "    <tr style=\"text-align: right;\">\n",
       "      <th></th>\n",
       "      <th>order_details_id</th>\n",
       "      <th>order_id</th>\n",
       "      <th>pizza_id</th>\n",
       "      <th>quantity</th>\n",
       "      <th>date</th>\n",
       "      <th>time</th>\n",
       "      <th>pizza_type_id</th>\n",
       "      <th>size</th>\n",
       "      <th>price</th>\n",
       "      <th>name</th>\n",
       "      <th>...</th>\n",
       "      <th>ingredients</th>\n",
       "      <th>Year</th>\n",
       "      <th>Month</th>\n",
       "      <th>Day</th>\n",
       "      <th>Sales</th>\n",
       "      <th>Day_Name</th>\n",
       "      <th>order_time</th>\n",
       "      <th>Hour</th>\n",
       "      <th>Minutes</th>\n",
       "      <th>Seconds</th>\n",
       "    </tr>\n",
       "  </thead>\n",
       "  <tbody>\n",
       "    <tr>\n",
       "      <th>0</th>\n",
       "      <td>1</td>\n",
       "      <td>1</td>\n",
       "      <td>hawaiian_m</td>\n",
       "      <td>1</td>\n",
       "      <td>2015-01-01</td>\n",
       "      <td>11:38:36</td>\n",
       "      <td>hawaiian</td>\n",
       "      <td>M</td>\n",
       "      <td>13.25</td>\n",
       "      <td>The Hawaiian Pizza</td>\n",
       "      <td>...</td>\n",
       "      <td>Sliced Ham, Pineapple, Mozzarella Cheese</td>\n",
       "      <td>2015</td>\n",
       "      <td>1</td>\n",
       "      <td>1</td>\n",
       "      <td>13.25</td>\n",
       "      <td>Thursday</td>\n",
       "      <td>11:38:36</td>\n",
       "      <td>11</td>\n",
       "      <td>38</td>\n",
       "      <td>36</td>\n",
       "    </tr>\n",
       "    <tr>\n",
       "      <th>1</th>\n",
       "      <td>179</td>\n",
       "      <td>77</td>\n",
       "      <td>hawaiian_m</td>\n",
       "      <td>1</td>\n",
       "      <td>2015-01-02</td>\n",
       "      <td>12:22:46</td>\n",
       "      <td>hawaiian</td>\n",
       "      <td>M</td>\n",
       "      <td>13.25</td>\n",
       "      <td>The Hawaiian Pizza</td>\n",
       "      <td>...</td>\n",
       "      <td>Sliced Ham, Pineapple, Mozzarella Cheese</td>\n",
       "      <td>2015</td>\n",
       "      <td>1</td>\n",
       "      <td>2</td>\n",
       "      <td>13.25</td>\n",
       "      <td>Friday</td>\n",
       "      <td>12:22:46</td>\n",
       "      <td>12</td>\n",
       "      <td>22</td>\n",
       "      <td>46</td>\n",
       "    </tr>\n",
       "    <tr>\n",
       "      <th>2</th>\n",
       "      <td>357</td>\n",
       "      <td>146</td>\n",
       "      <td>hawaiian_m</td>\n",
       "      <td>1</td>\n",
       "      <td>2015-01-03</td>\n",
       "      <td>14:22:10</td>\n",
       "      <td>hawaiian</td>\n",
       "      <td>M</td>\n",
       "      <td>13.25</td>\n",
       "      <td>The Hawaiian Pizza</td>\n",
       "      <td>...</td>\n",
       "      <td>Sliced Ham, Pineapple, Mozzarella Cheese</td>\n",
       "      <td>2015</td>\n",
       "      <td>1</td>\n",
       "      <td>3</td>\n",
       "      <td>13.25</td>\n",
       "      <td>Saturday</td>\n",
       "      <td>14:22:10</td>\n",
       "      <td>14</td>\n",
       "      <td>22</td>\n",
       "      <td>10</td>\n",
       "    </tr>\n",
       "    <tr>\n",
       "      <th>3</th>\n",
       "      <td>389</td>\n",
       "      <td>163</td>\n",
       "      <td>hawaiian_m</td>\n",
       "      <td>1</td>\n",
       "      <td>2015-01-03</td>\n",
       "      <td>16:54:54</td>\n",
       "      <td>hawaiian</td>\n",
       "      <td>M</td>\n",
       "      <td>13.25</td>\n",
       "      <td>The Hawaiian Pizza</td>\n",
       "      <td>...</td>\n",
       "      <td>Sliced Ham, Pineapple, Mozzarella Cheese</td>\n",
       "      <td>2015</td>\n",
       "      <td>1</td>\n",
       "      <td>3</td>\n",
       "      <td>13.25</td>\n",
       "      <td>Saturday</td>\n",
       "      <td>16:54:54</td>\n",
       "      <td>16</td>\n",
       "      <td>54</td>\n",
       "      <td>54</td>\n",
       "    </tr>\n",
       "    <tr>\n",
       "      <th>4</th>\n",
       "      <td>568</td>\n",
       "      <td>247</td>\n",
       "      <td>hawaiian_m</td>\n",
       "      <td>1</td>\n",
       "      <td>2015-01-04</td>\n",
       "      <td>20:55:29</td>\n",
       "      <td>hawaiian</td>\n",
       "      <td>M</td>\n",
       "      <td>13.25</td>\n",
       "      <td>The Hawaiian Pizza</td>\n",
       "      <td>...</td>\n",
       "      <td>Sliced Ham, Pineapple, Mozzarella Cheese</td>\n",
       "      <td>2015</td>\n",
       "      <td>1</td>\n",
       "      <td>4</td>\n",
       "      <td>13.25</td>\n",
       "      <td>Sunday</td>\n",
       "      <td>20:55:29</td>\n",
       "      <td>20</td>\n",
       "      <td>55</td>\n",
       "      <td>29</td>\n",
       "    </tr>\n",
       "  </tbody>\n",
       "</table>\n",
       "<p>5 rows × 21 columns</p>\n",
       "</div>"
      ],
      "text/plain": [
       "   order_details_id  order_id    pizza_id  quantity       date      time  \\\n",
       "0                 1         1  hawaiian_m         1 2015-01-01  11:38:36   \n",
       "1               179        77  hawaiian_m         1 2015-01-02  12:22:46   \n",
       "2               357       146  hawaiian_m         1 2015-01-03  14:22:10   \n",
       "3               389       163  hawaiian_m         1 2015-01-03  16:54:54   \n",
       "4               568       247  hawaiian_m         1 2015-01-04  20:55:29   \n",
       "\n",
       "  pizza_type_id size  price                name  ...  \\\n",
       "0      hawaiian    M  13.25  The Hawaiian Pizza  ...   \n",
       "1      hawaiian    M  13.25  The Hawaiian Pizza  ...   \n",
       "2      hawaiian    M  13.25  The Hawaiian Pizza  ...   \n",
       "3      hawaiian    M  13.25  The Hawaiian Pizza  ...   \n",
       "4      hawaiian    M  13.25  The Hawaiian Pizza  ...   \n",
       "\n",
       "                                ingredients  Year  Month  Day  Sales  \\\n",
       "0  Sliced Ham, Pineapple, Mozzarella Cheese  2015      1    1  13.25   \n",
       "1  Sliced Ham, Pineapple, Mozzarella Cheese  2015      1    2  13.25   \n",
       "2  Sliced Ham, Pineapple, Mozzarella Cheese  2015      1    3  13.25   \n",
       "3  Sliced Ham, Pineapple, Mozzarella Cheese  2015      1    3  13.25   \n",
       "4  Sliced Ham, Pineapple, Mozzarella Cheese  2015      1    4  13.25   \n",
       "\n",
       "   Day_Name order_time Hour Minutes Seconds  \n",
       "0  Thursday   11:38:36   11      38      36  \n",
       "1    Friday   12:22:46   12      22      46  \n",
       "2  Saturday   14:22:10   14      22      10  \n",
       "3  Saturday   16:54:54   16      54      54  \n",
       "4    Sunday   20:55:29   20      55      29  \n",
       "\n",
       "[5 rows x 21 columns]"
      ]
     },
     "execution_count": 138,
     "metadata": {},
     "output_type": "execute_result"
    }
   ],
   "source": [
    "df.head(5)"
   ]
  },
  {
   "cell_type": "code",
   "execution_count": 86,
   "id": "5c753a82",
   "metadata": {},
   "outputs": [],
   "source": [
    "df['Sales']=df['price']*df['quantity']"
   ]
  },
  {
   "cell_type": "code",
   "execution_count": 228,
   "id": "04ed14b1",
   "metadata": {},
   "outputs": [],
   "source": [
    "df['Day_Name']=df['date'].dt.day_name()\n",
    "df['Month_Name']=df['date'].dt.month_name()"
   ]
  },
  {
   "cell_type": "markdown",
   "id": "12b8bbfd",
   "metadata": {},
   "source": [
    "Data is Clean now."
   ]
  },
  {
   "cell_type": "markdown",
   "id": "a0f0ef7c",
   "metadata": {},
   "source": [
    "# Data Visulizations"
   ]
  },
  {
   "cell_type": "markdown",
   "id": "7a76ab68",
   "metadata": {},
   "source": [
    "Total Sales Ampont"
   ]
  },
  {
   "cell_type": "code",
   "execution_count": 229,
   "id": "7fb67a86",
   "metadata": {},
   "outputs": [
    {
     "data": {
      "text/plain": [
       "817860.05"
      ]
     },
     "execution_count": 229,
     "metadata": {},
     "output_type": "execute_result"
    }
   ],
   "source": [
    "df.Sales.sum()"
   ]
  },
  {
   "cell_type": "markdown",
   "id": "506c5259",
   "metadata": {},
   "source": [
    "Total number of Order"
   ]
  },
  {
   "cell_type": "code",
   "execution_count": 230,
   "id": "06e8bb62",
   "metadata": {},
   "outputs": [
    {
     "data": {
      "text/plain": [
       "48620"
      ]
     },
     "execution_count": 230,
     "metadata": {},
     "output_type": "execute_result"
    }
   ],
   "source": [
    "df.order_details_id.count()"
   ]
  },
  {
   "cell_type": "markdown",
   "id": "60cb9f03",
   "metadata": {},
   "source": [
    "Average Sales Price"
   ]
  },
  {
   "cell_type": "code",
   "execution_count": 231,
   "id": "45e1273f",
   "metadata": {},
   "outputs": [
    {
     "data": {
      "text/plain": [
       "16.49413204442518"
      ]
     },
     "execution_count": 231,
     "metadata": {},
     "output_type": "execute_result"
    }
   ],
   "source": [
    "df.price.mean()"
   ]
  },
  {
   "cell_type": "markdown",
   "id": "0238bd65",
   "metadata": {},
   "source": [
    "1. How many customers do we have each day? Are there any peak hours?\n"
   ]
  },
  {
   "cell_type": "code",
   "execution_count": 232,
   "id": "c0e68d27",
   "metadata": {},
   "outputs": [
    {
     "data": {
      "text/html": [
       "<div>\n",
       "<style scoped>\n",
       "    .dataframe tbody tr th:only-of-type {\n",
       "        vertical-align: middle;\n",
       "    }\n",
       "\n",
       "    .dataframe tbody tr th {\n",
       "        vertical-align: top;\n",
       "    }\n",
       "\n",
       "    .dataframe thead th {\n",
       "        text-align: right;\n",
       "    }\n",
       "</style>\n",
       "<table border=\"1\" class=\"dataframe\">\n",
       "  <thead>\n",
       "    <tr style=\"text-align: right;\">\n",
       "      <th></th>\n",
       "      <th>order_details_id</th>\n",
       "      <th>order_id</th>\n",
       "      <th>pizza_id</th>\n",
       "      <th>quantity</th>\n",
       "      <th>date</th>\n",
       "      <th>time</th>\n",
       "      <th>pizza_type_id</th>\n",
       "      <th>size</th>\n",
       "      <th>price</th>\n",
       "      <th>name</th>\n",
       "      <th>...</th>\n",
       "      <th>Year</th>\n",
       "      <th>Month</th>\n",
       "      <th>Day</th>\n",
       "      <th>Sales</th>\n",
       "      <th>Day_Name</th>\n",
       "      <th>order_time</th>\n",
       "      <th>Hour</th>\n",
       "      <th>Minutes</th>\n",
       "      <th>Seconds</th>\n",
       "      <th>Month_Name</th>\n",
       "    </tr>\n",
       "  </thead>\n",
       "  <tbody>\n",
       "    <tr>\n",
       "      <th>0</th>\n",
       "      <td>1</td>\n",
       "      <td>1</td>\n",
       "      <td>hawaiian_m</td>\n",
       "      <td>1</td>\n",
       "      <td>2015-01-01</td>\n",
       "      <td>11:38:36</td>\n",
       "      <td>hawaiian</td>\n",
       "      <td>M</td>\n",
       "      <td>13.25</td>\n",
       "      <td>The Hawaiian Pizza</td>\n",
       "      <td>...</td>\n",
       "      <td>2015</td>\n",
       "      <td>1</td>\n",
       "      <td>1</td>\n",
       "      <td>13.25</td>\n",
       "      <td>Thursday</td>\n",
       "      <td>11:38:36</td>\n",
       "      <td>11</td>\n",
       "      <td>38</td>\n",
       "      <td>36</td>\n",
       "      <td>January</td>\n",
       "    </tr>\n",
       "    <tr>\n",
       "      <th>1</th>\n",
       "      <td>179</td>\n",
       "      <td>77</td>\n",
       "      <td>hawaiian_m</td>\n",
       "      <td>1</td>\n",
       "      <td>2015-01-02</td>\n",
       "      <td>12:22:46</td>\n",
       "      <td>hawaiian</td>\n",
       "      <td>M</td>\n",
       "      <td>13.25</td>\n",
       "      <td>The Hawaiian Pizza</td>\n",
       "      <td>...</td>\n",
       "      <td>2015</td>\n",
       "      <td>1</td>\n",
       "      <td>2</td>\n",
       "      <td>13.25</td>\n",
       "      <td>Friday</td>\n",
       "      <td>12:22:46</td>\n",
       "      <td>12</td>\n",
       "      <td>22</td>\n",
       "      <td>46</td>\n",
       "      <td>January</td>\n",
       "    </tr>\n",
       "  </tbody>\n",
       "</table>\n",
       "<p>2 rows × 22 columns</p>\n",
       "</div>"
      ],
      "text/plain": [
       "   order_details_id  order_id    pizza_id  quantity       date      time  \\\n",
       "0                 1         1  hawaiian_m         1 2015-01-01  11:38:36   \n",
       "1               179        77  hawaiian_m         1 2015-01-02  12:22:46   \n",
       "\n",
       "  pizza_type_id size  price                name  ...  Year Month  Day  Sales  \\\n",
       "0      hawaiian    M  13.25  The Hawaiian Pizza  ...  2015     1    1  13.25   \n",
       "1      hawaiian    M  13.25  The Hawaiian Pizza  ...  2015     1    2  13.25   \n",
       "\n",
       "   Day_Name  order_time Hour Minutes Seconds Month_Name  \n",
       "0  Thursday    11:38:36   11      38      36    January  \n",
       "1    Friday    12:22:46   12      22      46    January  \n",
       "\n",
       "[2 rows x 22 columns]"
      ]
     },
     "execution_count": 232,
     "metadata": {},
     "output_type": "execute_result"
    }
   ],
   "source": [
    "df.head(2)"
   ]
  },
  {
   "cell_type": "code",
   "execution_count": 233,
   "id": "ebe6a0d1",
   "metadata": {},
   "outputs": [
    {
     "data": {
      "text/plain": [
       "Friday       8106\n",
       "Saturday     7355\n",
       "Thursday     7323\n",
       "Wednesday    6797\n",
       "Tuesday      6753\n",
       "Monday       6369\n",
       "Sunday       5917\n",
       "Name: Day_Name, dtype: int64"
      ]
     },
     "execution_count": 233,
     "metadata": {},
     "output_type": "execute_result"
    }
   ],
   "source": [
    "each_day=df.Day_Name.value_counts()\n",
    "each_day"
   ]
  },
  {
   "cell_type": "code",
   "execution_count": 234,
   "id": "e3470a3a",
   "metadata": {},
   "outputs": [
    {
     "data": {
      "image/png": "[encoded data removed]",
      "text/plain": [
       "<Figure size 720x504 with 1 Axes>"
      ]
     },
     "metadata": {
      "needs_background": "light"
     },
     "output_type": "display_data"
    }
   ],
   "source": [
    "#plot\n",
    "each_day=df.Day_Name.value_counts()\n",
    "plt.figure(figsize=(10,7))\n",
    "each_day.plot(kind='bar')\n",
    "plt.title('Each Day of Order',fontsize=15)\n",
    "plt.ylabel('Count of order',fontsize=15);"
   ]
  },
  {
   "cell_type": "markdown",
   "id": "9cc78289",
   "metadata": {},
   "source": [
    "# Are there any peak hours?"
   ]
  },
  {
   "cell_type": "code",
   "execution_count": null,
   "id": "14205180",
   "metadata": {},
   "outputs": [],
   "source": [
    "Peak Hour Per day"
   ]
  },
  {
   "cell_type": "code",
   "execution_count": 161,
   "id": "b23d4b43",
   "metadata": {},
   "outputs": [
    {
     "data": {
      "image/png": "[encoded data removed]",
      "text/plain": [
       "<Figure size 720x504 with 1 Axes>"
      ]
     },
     "metadata": {
      "needs_background": "light"
     },
     "output_type": "display_data"
    }
   ],
   "source": [
    "plt.figure(figsize=(10,7))\n",
    "df['Hour'].value_counts().plot(kind='bar')\n",
    "plt.title('Busiest Hour',fontsize=15)\n",
    "plt.ylabel('Count of order',fontsize=15);"
   ]
  },
  {
   "cell_type": "markdown",
   "id": "315ec829",
   "metadata": {},
   "source": [
    "# Day & Hour by Orders"
   ]
  },
  {
   "cell_type": "code",
   "execution_count": 159,
   "id": "8d9797e1",
   "metadata": {},
   "outputs": [
    {
     "data": {
      "text/html": [
       "<div>\n",
       "<style scoped>\n",
       "    .dataframe tbody tr th:only-of-type {\n",
       "        vertical-align: middle;\n",
       "    }\n",
       "\n",
       "    .dataframe tbody tr th {\n",
       "        vertical-align: top;\n",
       "    }\n",
       "\n",
       "    .dataframe thead th {\n",
       "        text-align: right;\n",
       "    }\n",
       "</style>\n",
       "<table border=\"1\" class=\"dataframe\">\n",
       "  <thead>\n",
       "    <tr style=\"text-align: right;\">\n",
       "      <th>Hour</th>\n",
       "      <th>09</th>\n",
       "      <th>10</th>\n",
       "      <th>11</th>\n",
       "      <th>12</th>\n",
       "      <th>13</th>\n",
       "      <th>14</th>\n",
       "      <th>15</th>\n",
       "      <th>16</th>\n",
       "      <th>17</th>\n",
       "      <th>18</th>\n",
       "      <th>19</th>\n",
       "      <th>20</th>\n",
       "      <th>21</th>\n",
       "      <th>22</th>\n",
       "      <th>23</th>\n",
       "      <th>Total</th>\n",
       "    </tr>\n",
       "    <tr>\n",
       "      <th>Day_Name</th>\n",
       "      <th></th>\n",
       "      <th></th>\n",
       "      <th></th>\n",
       "      <th></th>\n",
       "      <th></th>\n",
       "      <th></th>\n",
       "      <th></th>\n",
       "      <th></th>\n",
       "      <th></th>\n",
       "      <th></th>\n",
       "      <th></th>\n",
       "      <th></th>\n",
       "      <th></th>\n",
       "      <th></th>\n",
       "      <th></th>\n",
       "      <th></th>\n",
       "    </tr>\n",
       "  </thead>\n",
       "  <tbody>\n",
       "    <tr>\n",
       "      <th>Friday</th>\n",
       "      <td>0</td>\n",
       "      <td>0</td>\n",
       "      <td>379</td>\n",
       "      <td>1064</td>\n",
       "      <td>1020</td>\n",
       "      <td>513</td>\n",
       "      <td>432</td>\n",
       "      <td>572</td>\n",
       "      <td>752</td>\n",
       "      <td>926</td>\n",
       "      <td>736</td>\n",
       "      <td>695</td>\n",
       "      <td>613</td>\n",
       "      <td>378</td>\n",
       "      <td>26</td>\n",
       "      <td>8106</td>\n",
       "    </tr>\n",
       "    <tr>\n",
       "      <th>Monday</th>\n",
       "      <td>0</td>\n",
       "      <td>3</td>\n",
       "      <td>461</td>\n",
       "      <td>1101</td>\n",
       "      <td>774</td>\n",
       "      <td>450</td>\n",
       "      <td>407</td>\n",
       "      <td>534</td>\n",
       "      <td>708</td>\n",
       "      <td>654</td>\n",
       "      <td>529</td>\n",
       "      <td>357</td>\n",
       "      <td>277</td>\n",
       "      <td>110</td>\n",
       "      <td>4</td>\n",
       "      <td>6369</td>\n",
       "    </tr>\n",
       "    <tr>\n",
       "      <th>Saturday</th>\n",
       "      <td>0</td>\n",
       "      <td>3</td>\n",
       "      <td>205</td>\n",
       "      <td>603</td>\n",
       "      <td>766</td>\n",
       "      <td>513</td>\n",
       "      <td>516</td>\n",
       "      <td>641</td>\n",
       "      <td>721</td>\n",
       "      <td>873</td>\n",
       "      <td>834</td>\n",
       "      <td>726</td>\n",
       "      <td>584</td>\n",
       "      <td>339</td>\n",
       "      <td>31</td>\n",
       "      <td>7355</td>\n",
       "    </tr>\n",
       "    <tr>\n",
       "      <th>Sunday</th>\n",
       "      <td>0</td>\n",
       "      <td>2</td>\n",
       "      <td>227</td>\n",
       "      <td>580</td>\n",
       "      <td>653</td>\n",
       "      <td>510</td>\n",
       "      <td>481</td>\n",
       "      <td>615</td>\n",
       "      <td>702</td>\n",
       "      <td>728</td>\n",
       "      <td>569</td>\n",
       "      <td>403</td>\n",
       "      <td>301</td>\n",
       "      <td>142</td>\n",
       "      <td>4</td>\n",
       "      <td>5917</td>\n",
       "    </tr>\n",
       "    <tr>\n",
       "      <th>Thursday</th>\n",
       "      <td>0</td>\n",
       "      <td>5</td>\n",
       "      <td>459</td>\n",
       "      <td>1106</td>\n",
       "      <td>1095</td>\n",
       "      <td>563</td>\n",
       "      <td>460</td>\n",
       "      <td>642</td>\n",
       "      <td>840</td>\n",
       "      <td>796</td>\n",
       "      <td>580</td>\n",
       "      <td>447</td>\n",
       "      <td>216</td>\n",
       "      <td>111</td>\n",
       "      <td>3</td>\n",
       "      <td>7323</td>\n",
       "    </tr>\n",
       "    <tr>\n",
       "      <th>Tuesday</th>\n",
       "      <td>4</td>\n",
       "      <td>0</td>\n",
       "      <td>419</td>\n",
       "      <td>1068</td>\n",
       "      <td>988</td>\n",
       "      <td>471</td>\n",
       "      <td>417</td>\n",
       "      <td>618</td>\n",
       "      <td>663</td>\n",
       "      <td>632</td>\n",
       "      <td>590</td>\n",
       "      <td>470</td>\n",
       "      <td>268</td>\n",
       "      <td>145</td>\n",
       "      <td>0</td>\n",
       "      <td>6753</td>\n",
       "    </tr>\n",
       "    <tr>\n",
       "      <th>Wednesday</th>\n",
       "      <td>0</td>\n",
       "      <td>4</td>\n",
       "      <td>522</td>\n",
       "      <td>1021</td>\n",
       "      <td>907</td>\n",
       "      <td>501</td>\n",
       "      <td>457</td>\n",
       "      <td>563</td>\n",
       "      <td>757</td>\n",
       "      <td>750</td>\n",
       "      <td>512</td>\n",
       "      <td>389</td>\n",
       "      <td>269</td>\n",
       "      <td>145</td>\n",
       "      <td>0</td>\n",
       "      <td>6797</td>\n",
       "    </tr>\n",
       "    <tr>\n",
       "      <th>Total</th>\n",
       "      <td>4</td>\n",
       "      <td>17</td>\n",
       "      <td>2672</td>\n",
       "      <td>6543</td>\n",
       "      <td>6203</td>\n",
       "      <td>3521</td>\n",
       "      <td>3170</td>\n",
       "      <td>4185</td>\n",
       "      <td>5143</td>\n",
       "      <td>5359</td>\n",
       "      <td>4350</td>\n",
       "      <td>3487</td>\n",
       "      <td>2528</td>\n",
       "      <td>1370</td>\n",
       "      <td>68</td>\n",
       "      <td>48620</td>\n",
       "    </tr>\n",
       "  </tbody>\n",
       "</table>\n",
       "</div>"
      ],
      "text/plain": [
       "Hour       09  10    11    12    13    14    15    16    17    18    19    20  \\\n",
       "Day_Name                                                                        \n",
       "Friday      0   0   379  1064  1020   513   432   572   752   926   736   695   \n",
       "Monday      0   3   461  1101   774   450   407   534   708   654   529   357   \n",
       "Saturday    0   3   205   603   766   513   516   641   721   873   834   726   \n",
       "Sunday      0   2   227   580   653   510   481   615   702   728   569   403   \n",
       "Thursday    0   5   459  1106  1095   563   460   642   840   796   580   447   \n",
       "Tuesday     4   0   419  1068   988   471   417   618   663   632   590   470   \n",
       "Wednesday   0   4   522  1021   907   501   457   563   757   750   512   389   \n",
       "Total       4  17  2672  6543  6203  3521  3170  4185  5143  5359  4350  3487   \n",
       "\n",
       "Hour         21    22  23  Total  \n",
       "Day_Name                          \n",
       "Friday      613   378  26   8106  \n",
       "Monday      277   110   4   6369  \n",
       "Saturday    584   339  31   7355  \n",
       "Sunday      301   142   4   5917  \n",
       "Thursday    216   111   3   7323  \n",
       "Tuesday     268   145   0   6753  \n",
       "Wednesday   269   145   0   6797  \n",
       "Total      2528  1370  68  48620  "
      ]
     },
     "execution_count": 159,
     "metadata": {},
     "output_type": "execute_result"
    }
   ],
   "source": [
    "pivot=df.pivot_table(index='Day_Name',columns='Hour',values='order_id',aggfunc='count',fill_value=0,margins=True,margins_name='Total')\n",
    "pivot"
   ]
  },
  {
   "cell_type": "code",
   "execution_count": 162,
   "id": "8305ff0d",
   "metadata": {},
   "outputs": [
    {
     "data": {
      "text/html": [
       "<div>\n",
       "<style scoped>\n",
       "    .dataframe tbody tr th:only-of-type {\n",
       "        vertical-align: middle;\n",
       "    }\n",
       "\n",
       "    .dataframe tbody tr th {\n",
       "        vertical-align: top;\n",
       "    }\n",
       "\n",
       "    .dataframe thead th {\n",
       "        text-align: right;\n",
       "    }\n",
       "</style>\n",
       "<table border=\"1\" class=\"dataframe\">\n",
       "  <thead>\n",
       "    <tr style=\"text-align: right;\">\n",
       "      <th></th>\n",
       "      <th>order_details_id</th>\n",
       "      <th>order_id</th>\n",
       "      <th>pizza_id</th>\n",
       "      <th>quantity</th>\n",
       "      <th>date</th>\n",
       "      <th>time</th>\n",
       "      <th>pizza_type_id</th>\n",
       "      <th>size</th>\n",
       "      <th>price</th>\n",
       "      <th>name</th>\n",
       "      <th>...</th>\n",
       "      <th>ingredients</th>\n",
       "      <th>Year</th>\n",
       "      <th>Month</th>\n",
       "      <th>Day</th>\n",
       "      <th>Sales</th>\n",
       "      <th>Day_Name</th>\n",
       "      <th>order_time</th>\n",
       "      <th>Hour</th>\n",
       "      <th>Minutes</th>\n",
       "      <th>Seconds</th>\n",
       "    </tr>\n",
       "  </thead>\n",
       "  <tbody>\n",
       "    <tr>\n",
       "      <th>0</th>\n",
       "      <td>1</td>\n",
       "      <td>1</td>\n",
       "      <td>hawaiian_m</td>\n",
       "      <td>1</td>\n",
       "      <td>2015-01-01</td>\n",
       "      <td>11:38:36</td>\n",
       "      <td>hawaiian</td>\n",
       "      <td>M</td>\n",
       "      <td>13.25</td>\n",
       "      <td>The Hawaiian Pizza</td>\n",
       "      <td>...</td>\n",
       "      <td>Sliced Ham, Pineapple, Mozzarella Cheese</td>\n",
       "      <td>2015</td>\n",
       "      <td>1</td>\n",
       "      <td>1</td>\n",
       "      <td>13.25</td>\n",
       "      <td>Thursday</td>\n",
       "      <td>11:38:36</td>\n",
       "      <td>11</td>\n",
       "      <td>38</td>\n",
       "      <td>36</td>\n",
       "    </tr>\n",
       "    <tr>\n",
       "      <th>1</th>\n",
       "      <td>179</td>\n",
       "      <td>77</td>\n",
       "      <td>hawaiian_m</td>\n",
       "      <td>1</td>\n",
       "      <td>2015-01-02</td>\n",
       "      <td>12:22:46</td>\n",
       "      <td>hawaiian</td>\n",
       "      <td>M</td>\n",
       "      <td>13.25</td>\n",
       "      <td>The Hawaiian Pizza</td>\n",
       "      <td>...</td>\n",
       "      <td>Sliced Ham, Pineapple, Mozzarella Cheese</td>\n",
       "      <td>2015</td>\n",
       "      <td>1</td>\n",
       "      <td>2</td>\n",
       "      <td>13.25</td>\n",
       "      <td>Friday</td>\n",
       "      <td>12:22:46</td>\n",
       "      <td>12</td>\n",
       "      <td>22</td>\n",
       "      <td>46</td>\n",
       "    </tr>\n",
       "  </tbody>\n",
       "</table>\n",
       "<p>2 rows × 21 columns</p>\n",
       "</div>"
      ],
      "text/plain": [
       "   order_details_id  order_id    pizza_id  quantity       date      time  \\\n",
       "0                 1         1  hawaiian_m         1 2015-01-01  11:38:36   \n",
       "1               179        77  hawaiian_m         1 2015-01-02  12:22:46   \n",
       "\n",
       "  pizza_type_id size  price                name  ...  \\\n",
       "0      hawaiian    M  13.25  The Hawaiian Pizza  ...   \n",
       "1      hawaiian    M  13.25  The Hawaiian Pizza  ...   \n",
       "\n",
       "                                ingredients  Year  Month  Day  Sales  \\\n",
       "0  Sliced Ham, Pineapple, Mozzarella Cheese  2015      1    1  13.25   \n",
       "1  Sliced Ham, Pineapple, Mozzarella Cheese  2015      1    2  13.25   \n",
       "\n",
       "   Day_Name order_time Hour Minutes Seconds  \n",
       "0  Thursday   11:38:36   11      38      36  \n",
       "1    Friday   12:22:46   12      22      46  \n",
       "\n",
       "[2 rows x 21 columns]"
      ]
     },
     "execution_count": 162,
     "metadata": {},
     "output_type": "execute_result"
    }
   ],
   "source": [
    "df.head(2)"
   ]
  },
  {
   "cell_type": "markdown",
   "id": "2e585a99",
   "metadata": {},
   "source": [
    "# Pizza Order by Month"
   ]
  },
  {
   "cell_type": "code",
   "execution_count": 201,
   "id": "e4a7464f",
   "metadata": {},
   "outputs": [
    {
     "data": {
      "image/png": "[encoded data removed]",
      "text/plain": [
       "<Figure size 1080x504 with 1 Axes>"
      ]
     },
     "metadata": {
      "needs_background": "light"
     },
     "output_type": "display_data"
    }
   ],
   "source": [
    "plt.figure(figsize=(15,7))\n",
    "df.Month_Name.value_counts().plot(kind='bar')\n",
    "plt.title('Pizza order by Month',fontsize=15)\n",
    "plt.xlabel('Month',fontsize=15);"
   ]
  },
  {
   "cell_type": "code",
   "execution_count": 171,
   "id": "136261b7",
   "metadata": {},
   "outputs": [
    {
     "data": {
      "text/plain": [
       "Index(['order_details_id', 'order_id', 'pizza_id', 'quantity', 'date', 'time',\n",
       "       'pizza_type_id', 'size', 'price', 'name', 'category', 'ingredients',\n",
       "       'Year', 'Month', 'Day', 'Sales', 'Day_Name', 'order_time', 'Hour',\n",
       "       'Minutes', 'Seconds'],\n",
       "      dtype='object')"
      ]
     },
     "execution_count": 171,
     "metadata": {},
     "output_type": "execute_result"
    }
   ],
   "source": [
    "df.columns"
   ]
  },
  {
   "cell_type": "markdown",
   "id": "6dcb2a90",
   "metadata": {},
   "source": [
    "# Category Wise Order"
   ]
  },
  {
   "cell_type": "code",
   "execution_count": 178,
   "id": "289efd21",
   "metadata": {},
   "outputs": [
    {
     "data": {
      "image/png": "[encoded data removed]",
      "text/plain": [
       "<Figure size 720x504 with 1 Axes>"
      ]
     },
     "metadata": {},
     "output_type": "display_data"
    }
   ],
   "source": [
    "plt.figure(figsize=(10,7))\n",
    "df.category.value_counts().plot(kind='pie',autopct='%.2f%%')\n",
    "plt.title('Order by Category',fontsize=15);"
   ]
  },
  {
   "cell_type": "markdown",
   "id": "8bb3ff66",
   "metadata": {},
   "source": [
    "# Order By Size"
   ]
  },
  {
   "cell_type": "code",
   "execution_count": 214,
   "id": "6589121f",
   "metadata": {},
   "outputs": [
    {
     "data": {
      "image/png": "[encoded data removed]",
      "text/plain": [
       "<Figure size 720x504 with 1 Axes>"
      ]
     },
     "metadata": {
      "needs_background": "light"
     },
     "output_type": "display_data"
    }
   ],
   "source": [
    "plt.figure(figsize=(10,7))\n",
    "df['size'].value_counts().plot(kind='bar')\n",
    "plt.title('Order by Size',fontsize=15);"
   ]
  },
  {
   "cell_type": "markdown",
   "id": "5d58e613",
   "metadata": {},
   "source": [
    "# Sales By Year"
   ]
  },
  {
   "cell_type": "code",
   "execution_count": 213,
   "id": "b3f9ec0d",
   "metadata": {},
   "outputs": [
    {
     "data": {
      "image/png": "[encoded data removed]",
      "text/plain": [
       "<Figure size 720x504 with 1 Axes>"
      ]
     },
     "metadata": {
      "needs_background": "light"
     },
     "output_type": "display_data"
    }
   ],
   "source": [
    "sales_by_month=df.groupby('Month_Name')['price'].sum().sort_values(ascending=False)\n",
    "sales_by_month\n",
    "plt.figure(figsize=(10,7))\n",
    "sales_by_month.plot(kind='bar',color='g')\n",
    "plt.title('Sales by Year',fontsize=15)\n",
    "plt.xlabel('Month',fontsize=15)\n",
    "plt.ylabel('Sum Of Sales',fontsize=15);"
   ]
  },
  {
   "cell_type": "markdown",
   "id": "3b430ab6",
   "metadata": {},
   "source": [
    "# Top 10 Pizza By Sales:"
   ]
  },
  {
   "cell_type": "code",
   "execution_count": 209,
   "id": "5b1884a9",
   "metadata": {},
   "outputs": [
    {
     "data": {
      "text/plain": [
       "name\n",
       "The Barbecue Chicken Pizza      41683.00\n",
       "The California Chicken Pizza    40166.50\n",
       "The Classic Deluxe Pizza        37631.50\n",
       "The Four Cheese Pizza           31361.10\n",
       "The Five Cheese Pizza           25141.50\n",
       "The Big Meat Pizza              21732.00\n",
       "The Chicken Alfredo Pizza       16779.00\n",
       "The Chicken Pesto Pizza         16484.75\n",
       "The Calabrese Pizza             15763.75\n",
       "The Brie Carre Pizza            11352.00\n",
       "Name: price, dtype: float64"
      ]
     },
     "execution_count": 209,
     "metadata": {},
     "output_type": "execute_result"
    }
   ],
   "source": [
    "df.groupby('name')['price'].sum()[:10].sort_values(ascending=False)"
   ]
  },
  {
   "cell_type": "markdown",
   "id": "5177e7ea",
   "metadata": {},
   "source": [
    "# Bottom 10 Pizza by Sales:"
   ]
  },
  {
   "cell_type": "code",
   "execution_count": 239,
   "id": "b710a6c7",
   "metadata": {},
   "outputs": [
    {
     "data": {
      "text/plain": [
       "name\n",
       "The Brie Carre Pizza                          11352.00\n",
       "The Green Garden Pizza                        13819.50\n",
       "The Mediterranean Pizza                       15163.00\n",
       "The Calabrese Pizza                           15763.75\n",
       "The Italian Vegetables Pizza                  15930.75\n",
       "The Soppressata Pizza                         16342.75\n",
       "The Chicken Pesto Pizza                       16484.75\n",
       "The Chicken Alfredo Pizza                     16779.00\n",
       "The Pepperoni, Mushroom, and Peppers Pizza    18607.00\n",
       "The Big Meat Pizza                            21732.00\n",
       "The Prosciutto and Arugula Pizza              23679.75\n",
       "The Napolitana Pizza                          23850.50\n",
       "The Italian Capocollo Pizza                   24641.50\n",
       "The Pepper Salami Pizza                       25081.00\n",
       "The Five Cheese Pizza                         25141.50\n",
       "The Mexicana Pizza                            26243.00\n",
       "The Greek Pizza                               28170.10\n",
       "The Pepperoni Pizza                           29538.25\n",
       "The Sicilian Pizza                            30123.75\n",
       "The Four Cheese Pizza                         31361.10\n",
       "The Hawaiian Pizza                            31561.75\n",
       "The Italian Supreme Pizza                     32856.25\n",
       "The Southwest Chicken Pizza                   34081.75\n",
       "The Spicy Italian Pizza                       34163.50\n",
       "The Classic Deluxe Pizza                      37631.50\n",
       "The California Chicken Pizza                  40166.50\n",
       "The Barbecue Chicken Pizza                    41683.00\n",
       "Name: price, dtype: float64"
      ]
     },
     "execution_count": 239,
     "metadata": {},
     "output_type": "execute_result"
    }
   ],
   "source": [
    "df.groupby('name')['price'].sum()[:-5].sort_values(ascending=True)"
   ]
  },
  {
   "cell_type": "markdown",
   "id": "c4207856",
   "metadata": {},
   "source": [
    "Key Insight: Pizza  Sales analysis in the 2015 year.\n",
    "\n",
    "0.  KPI: Total Sales: $817k, No of Orders: 48620, No of Categoris: 4, Type of Pizzas: 32\n",
    "1. The number of orders is high on Fridays & Saturdays, especially weekday.Less  orders Sunday.\n",
    "2. It is usually busy during the 12 PM and 13 PM hrs of the day ( can say during lunch time) followed by evening snacks/dinner time (5  PM to 7 PM  hrs).\n",
    "3. More than other Month Order was come from the month of July.\n",
    "4. Classic pizza is generally preferred and Best Selling.\n",
    "5. L Size pizzas are most popular among other sizes.\n",
    "   Less popular size xxl.\n",
    "6. July Month Has the highest number of sales.\n",
    "7. Top Most Selling Pizza is The Barbecue Chicken Pizza.\n",
    "8. Wrost Selling is the Brie Carre Pizza.  Improve this pizza."
   ]
  },
  {
   "cell_type": "code",
   "execution_count": 243,
   "id": "96d23df8",
   "metadata": {},
   "outputs": [],
   "source": [
    "df.to_excel(r'C:\\\\Users\\\\Rakib Hasan\\\\Downloads\\\\Pizza+Place+Sales\\\\pizza_sales\\\\pizza_sales.xlsx')\n"
   ]
  }
 ],
 "metadata": {
  "kernelspec": {
   "display_name": "Python 3 (ipykernel)",
   "language": "python",
   "name": "python3"
  },
  "language_info": {
   "codemirror_mode": {
    "name": "ipython",
    "version": 3
   },
   "file_extension": ".py",
   "mimetype": "text/x-python",
   "name": "python",
   "nbconvert_exporter": "python",
   "pygments_lexer": "ipython3",
   "version": "3.9.7"
  }
 },
 "nbformat": 4,
 "nbformat_minor": 5
}
