{
 "cells": [
  {
   "cell_type": "markdown",
   "id": "265be93f",
   "metadata": {},
   "source": [
    "## About Dataset:\n",
    "E-commerce has become a new channel to support businesses development. Through e-commerce, businesses can get access and establish a wider market presence by providing cheaper and more efficient distribution channels for their products or services. E-commerce has also changed the way people shop and consume products and services. Many people are turning to their computers or smart devices to order goods, which can easily be delivered to their homes."
   ]
  },
  {
   "cell_type": "code",
   "execution_count": null,
   "id": "c9ae1d5f",
   "metadata": {},
   "outputs": [],
   "source": []
  },
  {
   "cell_type": "markdown",
   "id": "e3996290",
   "metadata": {},
   "source": [
    "## Problem Statment:\n",
    "Information is a main asset of businesses nowadays. The success of a business in a competitive environment depends on its ability to acquire, store, and utilize information. Data is one of the main sources of information. Therefore, data analysis is an important activity for acquiring new and useful information. Analyze this dataset and try to answer the following questions.\n",
    "\n",
    "1. How was the sales trend over the months?\n",
    "\n",
    "2. What are the most frequently purchased products?\n",
    "\n",
    "3. How many products does the customer purchase in each transaction?\n",
    "\n",
    "4. What are the most profitable segment customers?\n",
    "\n",
    "5. Based on your findings, what strategy could you recommend to the business to gain more profit?\n"
   ]
  },
  {
   "cell_type": "markdown",
   "id": "a4007186",
   "metadata": {},
   "source": [
    "## Import Library:"
   ]
  },
  {
   "cell_type": "code",
   "execution_count": 1,
   "id": "d6023e23",
   "metadata": {},
   "outputs": [],
   "source": [
    "import numpy as np\n",
    "import pandas as pd\n",
    "import seaborn as sns\n",
    "import matplotlib.pyplot as plt\n",
    "import kaggle\n",
    "import warnings\n",
    "warnings.filterwarnings('ignore')"
   ]
  },
  {
   "cell_type": "markdown",
   "id": "62ab297d",
   "metadata": {},
   "source": [
    "## Data Collection from Kaggle using API"
   ]
  },
  {
   "cell_type": "code",
   "execution_count": 92,
   "id": "9fbad9c6",
   "metadata": {},
   "outputs": [
    {
     "name": "stdout",
     "output_type": "stream",
     "text": [
      "Warning: Looks like you're using an outdated API Version, please consider updating (server 1.6.14 / client 1.6.12)\n",
      "Dataset URL: https://www.kaggle.com/datasets/gabrielramos87/an-online-shop-business\n",
      "License(s): CC0-1.0\n",
      "an-online-shop-business.zip: Skipping, found more recently modified local copy (use --force to force download)\n"
     ]
    }
   ],
   "source": [
    "!kaggle datasets download gabrielramos87/an-online-shop-business"
   ]
  },
  {
   "cell_type": "code",
   "execution_count": 93,
   "id": "11d8cedf",
   "metadata": {},
   "outputs": [],
   "source": [
    "import zipfile\n",
    "zip_ref = zipfile.ZipFile('an-online-shop-business.zip') \n",
    "zip_ref.extractall() # extract file to dir\n",
    "zip_ref.close() "
   ]
  },
  {
   "cell_type": "code",
   "execution_count": 94,
   "id": "e36dc9f7",
   "metadata": {},
   "outputs": [
    {
     "data": {
      "text/html": [
       "<div>\n",
       "<style scoped>\n",
       "    .dataframe tbody tr th:only-of-type {\n",
       "        vertical-align: middle;\n",
       "    }\n",
       "\n",
       "    .dataframe tbody tr th {\n",
       "        vertical-align: top;\n",
       "    }\n",
       "\n",
       "    .dataframe thead th {\n",
       "        text-align: right;\n",
       "    }\n",
       "</style>\n",
       "<table border=\"1\" class=\"dataframe\">\n",
       "  <thead>\n",
       "    <tr style=\"text-align: right;\">\n",
       "      <th></th>\n",
       "      <th>TransactionNo</th>\n",
       "      <th>Date</th>\n",
       "      <th>ProductNo</th>\n",
       "      <th>ProductName</th>\n",
       "      <th>Price</th>\n",
       "      <th>Quantity</th>\n",
       "      <th>CustomerNo</th>\n",
       "      <th>Country</th>\n",
       "    </tr>\n",
       "  </thead>\n",
       "  <tbody>\n",
       "    <tr>\n",
       "      <th>0</th>\n",
       "      <td>581482</td>\n",
       "      <td>12/9/2019</td>\n",
       "      <td>22485</td>\n",
       "      <td>Set Of 2 Wooden Market Crates</td>\n",
       "      <td>21.47</td>\n",
       "      <td>12</td>\n",
       "      <td>17490.0</td>\n",
       "      <td>United Kingdom</td>\n",
       "    </tr>\n",
       "    <tr>\n",
       "      <th>1</th>\n",
       "      <td>581475</td>\n",
       "      <td>12/9/2019</td>\n",
       "      <td>22596</td>\n",
       "      <td>Christmas Star Wish List Chalkboard</td>\n",
       "      <td>10.65</td>\n",
       "      <td>36</td>\n",
       "      <td>13069.0</td>\n",
       "      <td>United Kingdom</td>\n",
       "    </tr>\n",
       "    <tr>\n",
       "      <th>2</th>\n",
       "      <td>581475</td>\n",
       "      <td>12/9/2019</td>\n",
       "      <td>23235</td>\n",
       "      <td>Storage Tin Vintage Leaf</td>\n",
       "      <td>11.53</td>\n",
       "      <td>12</td>\n",
       "      <td>13069.0</td>\n",
       "      <td>United Kingdom</td>\n",
       "    </tr>\n",
       "    <tr>\n",
       "      <th>3</th>\n",
       "      <td>581475</td>\n",
       "      <td>12/9/2019</td>\n",
       "      <td>23272</td>\n",
       "      <td>Tree T-Light Holder Willie Winkie</td>\n",
       "      <td>10.65</td>\n",
       "      <td>12</td>\n",
       "      <td>13069.0</td>\n",
       "      <td>United Kingdom</td>\n",
       "    </tr>\n",
       "    <tr>\n",
       "      <th>4</th>\n",
       "      <td>581475</td>\n",
       "      <td>12/9/2019</td>\n",
       "      <td>23239</td>\n",
       "      <td>Set Of 4 Knick Knack Tins Poppies</td>\n",
       "      <td>11.94</td>\n",
       "      <td>6</td>\n",
       "      <td>13069.0</td>\n",
       "      <td>United Kingdom</td>\n",
       "    </tr>\n",
       "  </tbody>\n",
       "</table>\n",
       "</div>"
      ],
      "text/plain": [
       "  TransactionNo       Date ProductNo                          ProductName  \\\n",
       "0        581482  12/9/2019     22485        Set Of 2 Wooden Market Crates   \n",
       "1        581475  12/9/2019     22596  Christmas Star Wish List Chalkboard   \n",
       "2        581475  12/9/2019     23235             Storage Tin Vintage Leaf   \n",
       "3        581475  12/9/2019     23272    Tree T-Light Holder Willie Winkie   \n",
       "4        581475  12/9/2019     23239    Set Of 4 Knick Knack Tins Poppies   \n",
       "\n",
       "   Price  Quantity  CustomerNo         Country  \n",
       "0  21.47        12     17490.0  United Kingdom  \n",
       "1  10.65        36     13069.0  United Kingdom  \n",
       "2  11.53        12     13069.0  United Kingdom  \n",
       "3  10.65        12     13069.0  United Kingdom  \n",
       "4  11.94         6     13069.0  United Kingdom  "
      ]
     },
     "execution_count": 94,
     "metadata": {},
     "output_type": "execute_result"
    }
   ],
   "source": [
    "df=pd.read_csv('Sales Transaction v.4a.csv')\n",
    "df.head()"
   ]
  },
  {
   "cell_type": "markdown",
   "id": "ad85c449",
   "metadata": {},
   "source": [
    "## Understanding Data"
   ]
  },
  {
   "cell_type": "code",
   "execution_count": 95,
   "id": "b0fcd627",
   "metadata": {},
   "outputs": [
    {
     "data": {
      "text/html": [
       "<div>\n",
       "<style scoped>\n",
       "    .dataframe tbody tr th:only-of-type {\n",
       "        vertical-align: middle;\n",
       "    }\n",
       "\n",
       "    .dataframe tbody tr th {\n",
       "        vertical-align: top;\n",
       "    }\n",
       "\n",
       "    .dataframe thead th {\n",
       "        text-align: right;\n",
       "    }\n",
       "</style>\n",
       "<table border=\"1\" class=\"dataframe\">\n",
       "  <thead>\n",
       "    <tr style=\"text-align: right;\">\n",
       "      <th></th>\n",
       "      <th>TransactionNo</th>\n",
       "      <th>Date</th>\n",
       "      <th>ProductNo</th>\n",
       "      <th>ProductName</th>\n",
       "      <th>Price</th>\n",
       "      <th>Quantity</th>\n",
       "      <th>CustomerNo</th>\n",
       "      <th>Country</th>\n",
       "    </tr>\n",
       "  </thead>\n",
       "  <tbody>\n",
       "    <tr>\n",
       "      <th>0</th>\n",
       "      <td>581482</td>\n",
       "      <td>12/9/2019</td>\n",
       "      <td>22485</td>\n",
       "      <td>Set Of 2 Wooden Market Crates</td>\n",
       "      <td>21.47</td>\n",
       "      <td>12</td>\n",
       "      <td>17490.0</td>\n",
       "      <td>United Kingdom</td>\n",
       "    </tr>\n",
       "    <tr>\n",
       "      <th>1</th>\n",
       "      <td>581475</td>\n",
       "      <td>12/9/2019</td>\n",
       "      <td>22596</td>\n",
       "      <td>Christmas Star Wish List Chalkboard</td>\n",
       "      <td>10.65</td>\n",
       "      <td>36</td>\n",
       "      <td>13069.0</td>\n",
       "      <td>United Kingdom</td>\n",
       "    </tr>\n",
       "    <tr>\n",
       "      <th>2</th>\n",
       "      <td>581475</td>\n",
       "      <td>12/9/2019</td>\n",
       "      <td>23235</td>\n",
       "      <td>Storage Tin Vintage Leaf</td>\n",
       "      <td>11.53</td>\n",
       "      <td>12</td>\n",
       "      <td>13069.0</td>\n",
       "      <td>United Kingdom</td>\n",
       "    </tr>\n",
       "    <tr>\n",
       "      <th>3</th>\n",
       "      <td>581475</td>\n",
       "      <td>12/9/2019</td>\n",
       "      <td>23272</td>\n",
       "      <td>Tree T-Light Holder Willie Winkie</td>\n",
       "      <td>10.65</td>\n",
       "      <td>12</td>\n",
       "      <td>13069.0</td>\n",
       "      <td>United Kingdom</td>\n",
       "    </tr>\n",
       "    <tr>\n",
       "      <th>4</th>\n",
       "      <td>581475</td>\n",
       "      <td>12/9/2019</td>\n",
       "      <td>23239</td>\n",
       "      <td>Set Of 4 Knick Knack Tins Poppies</td>\n",
       "      <td>11.94</td>\n",
       "      <td>6</td>\n",
       "      <td>13069.0</td>\n",
       "      <td>United Kingdom</td>\n",
       "    </tr>\n",
       "  </tbody>\n",
       "</table>\n",
       "</div>"
      ],
      "text/plain": [
       "  TransactionNo       Date ProductNo                          ProductName  \\\n",
       "0        581482  12/9/2019     22485        Set Of 2 Wooden Market Crates   \n",
       "1        581475  12/9/2019     22596  Christmas Star Wish List Chalkboard   \n",
       "2        581475  12/9/2019     23235             Storage Tin Vintage Leaf   \n",
       "3        581475  12/9/2019     23272    Tree T-Light Holder Willie Winkie   \n",
       "4        581475  12/9/2019     23239    Set Of 4 Knick Knack Tins Poppies   \n",
       "\n",
       "   Price  Quantity  CustomerNo         Country  \n",
       "0  21.47        12     17490.0  United Kingdom  \n",
       "1  10.65        36     13069.0  United Kingdom  \n",
       "2  11.53        12     13069.0  United Kingdom  \n",
       "3  10.65        12     13069.0  United Kingdom  \n",
       "4  11.94         6     13069.0  United Kingdom  "
      ]
     },
     "execution_count": 95,
     "metadata": {},
     "output_type": "execute_result"
    }
   ],
   "source": [
    "# to see 1st five rows\n",
    "df.head(5)"
   ]
  },
  {
   "cell_type": "code",
   "execution_count": 96,
   "id": "a82014df",
   "metadata": {},
   "outputs": [
    {
     "data": {
      "text/html": [
       "<div>\n",
       "<style scoped>\n",
       "    .dataframe tbody tr th:only-of-type {\n",
       "        vertical-align: middle;\n",
       "    }\n",
       "\n",
       "    .dataframe tbody tr th {\n",
       "        vertical-align: top;\n",
       "    }\n",
       "\n",
       "    .dataframe thead th {\n",
       "        text-align: right;\n",
       "    }\n",
       "</style>\n",
       "<table border=\"1\" class=\"dataframe\">\n",
       "  <thead>\n",
       "    <tr style=\"text-align: right;\">\n",
       "      <th></th>\n",
       "      <th>TransactionNo</th>\n",
       "      <th>Date</th>\n",
       "      <th>ProductNo</th>\n",
       "      <th>ProductName</th>\n",
       "      <th>Price</th>\n",
       "      <th>Quantity</th>\n",
       "      <th>CustomerNo</th>\n",
       "      <th>Country</th>\n",
       "    </tr>\n",
       "  </thead>\n",
       "  <tbody>\n",
       "    <tr>\n",
       "      <th>536345</th>\n",
       "      <td>C536548</td>\n",
       "      <td>12/1/2018</td>\n",
       "      <td>22168</td>\n",
       "      <td>Organiser Wood Antique White</td>\n",
       "      <td>18.96</td>\n",
       "      <td>-2</td>\n",
       "      <td>12472.0</td>\n",
       "      <td>Germany</td>\n",
       "    </tr>\n",
       "    <tr>\n",
       "      <th>536346</th>\n",
       "      <td>C536548</td>\n",
       "      <td>12/1/2018</td>\n",
       "      <td>21218</td>\n",
       "      <td>Red Spotty Biscuit Tin</td>\n",
       "      <td>14.09</td>\n",
       "      <td>-3</td>\n",
       "      <td>12472.0</td>\n",
       "      <td>Germany</td>\n",
       "    </tr>\n",
       "    <tr>\n",
       "      <th>536347</th>\n",
       "      <td>C536548</td>\n",
       "      <td>12/1/2018</td>\n",
       "      <td>20957</td>\n",
       "      <td>Porcelain Hanging Bell Small</td>\n",
       "      <td>11.74</td>\n",
       "      <td>-1</td>\n",
       "      <td>12472.0</td>\n",
       "      <td>Germany</td>\n",
       "    </tr>\n",
       "    <tr>\n",
       "      <th>536348</th>\n",
       "      <td>C536548</td>\n",
       "      <td>12/1/2018</td>\n",
       "      <td>22580</td>\n",
       "      <td>Advent Calendar Gingham Sack</td>\n",
       "      <td>16.35</td>\n",
       "      <td>-4</td>\n",
       "      <td>12472.0</td>\n",
       "      <td>Germany</td>\n",
       "    </tr>\n",
       "    <tr>\n",
       "      <th>536349</th>\n",
       "      <td>C536548</td>\n",
       "      <td>12/1/2018</td>\n",
       "      <td>22767</td>\n",
       "      <td>Triple Photo Frame Cornice</td>\n",
       "      <td>20.45</td>\n",
       "      <td>-2</td>\n",
       "      <td>12472.0</td>\n",
       "      <td>Germany</td>\n",
       "    </tr>\n",
       "  </tbody>\n",
       "</table>\n",
       "</div>"
      ],
      "text/plain": [
       "       TransactionNo       Date ProductNo                   ProductName  \\\n",
       "536345       C536548  12/1/2018     22168  Organiser Wood Antique White   \n",
       "536346       C536548  12/1/2018     21218        Red Spotty Biscuit Tin   \n",
       "536347       C536548  12/1/2018     20957  Porcelain Hanging Bell Small   \n",
       "536348       C536548  12/1/2018     22580  Advent Calendar Gingham Sack   \n",
       "536349       C536548  12/1/2018     22767    Triple Photo Frame Cornice   \n",
       "\n",
       "        Price  Quantity  CustomerNo  Country  \n",
       "536345  18.96        -2     12472.0  Germany  \n",
       "536346  14.09        -3     12472.0  Germany  \n",
       "536347  11.74        -1     12472.0  Germany  \n",
       "536348  16.35        -4     12472.0  Germany  \n",
       "536349  20.45        -2     12472.0  Germany  "
      ]
     },
     "execution_count": 96,
     "metadata": {},
     "output_type": "execute_result"
    }
   ],
   "source": [
    "# to see last five rows\n",
    "df.tail(5)"
   ]
  },
  {
   "cell_type": "code",
   "execution_count": 97,
   "id": "b74cd8fe",
   "metadata": {},
   "outputs": [
    {
     "data": {
      "text/html": [
       "<div>\n",
       "<style scoped>\n",
       "    .dataframe tbody tr th:only-of-type {\n",
       "        vertical-align: middle;\n",
       "    }\n",
       "\n",
       "    .dataframe tbody tr th {\n",
       "        vertical-align: top;\n",
       "    }\n",
       "\n",
       "    .dataframe thead th {\n",
       "        text-align: right;\n",
       "    }\n",
       "</style>\n",
       "<table border=\"1\" class=\"dataframe\">\n",
       "  <thead>\n",
       "    <tr style=\"text-align: right;\">\n",
       "      <th></th>\n",
       "      <th>TransactionNo</th>\n",
       "      <th>Date</th>\n",
       "      <th>ProductNo</th>\n",
       "      <th>ProductName</th>\n",
       "      <th>Price</th>\n",
       "      <th>Quantity</th>\n",
       "      <th>CustomerNo</th>\n",
       "      <th>Country</th>\n",
       "    </tr>\n",
       "  </thead>\n",
       "  <tbody>\n",
       "    <tr>\n",
       "      <th>482684</th>\n",
       "      <td>540977</td>\n",
       "      <td>1/12/2019</td>\n",
       "      <td>22210</td>\n",
       "      <td>Wood Stamp Set Best Wishes</td>\n",
       "      <td>11.95</td>\n",
       "      <td>1</td>\n",
       "      <td>14977.0</td>\n",
       "      <td>United Kingdom</td>\n",
       "    </tr>\n",
       "    <tr>\n",
       "      <th>278303</th>\n",
       "      <td>559774</td>\n",
       "      <td>7/12/2019</td>\n",
       "      <td>22488</td>\n",
       "      <td>Natural Slate Rectangle Chalkboard</td>\n",
       "      <td>11.94</td>\n",
       "      <td>2</td>\n",
       "      <td>18122.0</td>\n",
       "      <td>United Kingdom</td>\n",
       "    </tr>\n",
       "    <tr>\n",
       "      <th>359009</th>\n",
       "      <td>552296</td>\n",
       "      <td>5/8/2019</td>\n",
       "      <td>22951</td>\n",
       "      <td>60 Cake Cases Dolly Girl Design</td>\n",
       "      <td>10.81</td>\n",
       "      <td>4</td>\n",
       "      <td>15518.0</td>\n",
       "      <td>United Kingdom</td>\n",
       "    </tr>\n",
       "    <tr>\n",
       "      <th>470106</th>\n",
       "      <td>541811</td>\n",
       "      <td>1/21/2019</td>\n",
       "      <td>22195</td>\n",
       "      <td>Large Heart Measuring Spoons</td>\n",
       "      <td>13.62</td>\n",
       "      <td>2</td>\n",
       "      <td>15811.0</td>\n",
       "      <td>United Kingdom</td>\n",
       "    </tr>\n",
       "    <tr>\n",
       "      <th>514599</th>\n",
       "      <td>538012</td>\n",
       "      <td>12/9/2018</td>\n",
       "      <td>22525</td>\n",
       "      <td>Childrens Garden Gloves Pink</td>\n",
       "      <td>11.53</td>\n",
       "      <td>1</td>\n",
       "      <td>14527.0</td>\n",
       "      <td>United Kingdom</td>\n",
       "    </tr>\n",
       "  </tbody>\n",
       "</table>\n",
       "</div>"
      ],
      "text/plain": [
       "       TransactionNo       Date ProductNo                         ProductName  \\\n",
       "482684        540977  1/12/2019     22210          Wood Stamp Set Best Wishes   \n",
       "278303        559774  7/12/2019     22488  Natural Slate Rectangle Chalkboard   \n",
       "359009        552296   5/8/2019     22951     60 Cake Cases Dolly Girl Design   \n",
       "470106        541811  1/21/2019     22195        Large Heart Measuring Spoons   \n",
       "514599        538012  12/9/2018     22525        Childrens Garden Gloves Pink   \n",
       "\n",
       "        Price  Quantity  CustomerNo         Country  \n",
       "482684  11.95         1     14977.0  United Kingdom  \n",
       "278303  11.94         2     18122.0  United Kingdom  \n",
       "359009  10.81         4     15518.0  United Kingdom  \n",
       "470106  13.62         2     15811.0  United Kingdom  \n",
       "514599  11.53         1     14527.0  United Kingdom  "
      ]
     },
     "execution_count": 97,
     "metadata": {},
     "output_type": "execute_result"
    }
   ],
   "source": [
    "# to see sample five rows\n",
    "df.sample(5)"
   ]
  },
  {
   "cell_type": "code",
   "execution_count": 98,
   "id": "c664f114",
   "metadata": {},
   "outputs": [
    {
     "data": {
      "text/plain": [
       "(536350, 8)"
      ]
     },
     "execution_count": 98,
     "metadata": {},
     "output_type": "execute_result"
    }
   ],
   "source": [
    "# to see data shape\n",
    "df.shape"
   ]
  },
  {
   "cell_type": "code",
   "execution_count": 99,
   "id": "f09a3011",
   "metadata": {},
   "outputs": [
    {
     "data": {
      "text/plain": [
       "Index(['TransactionNo', 'Date', 'ProductNo', 'ProductName', 'Price',\n",
       "       'Quantity', 'CustomerNo', 'Country'],\n",
       "      dtype='object')"
      ]
     },
     "execution_count": 99,
     "metadata": {},
     "output_type": "execute_result"
    }
   ],
   "source": [
    "# to see columns name\n",
    "df.columns"
   ]
  },
  {
   "cell_type": "code",
   "execution_count": 100,
   "id": "d7812c72",
   "metadata": {},
   "outputs": [
    {
     "name": "stdout",
     "output_type": "stream",
     "text": [
      "<class 'pandas.core.frame.DataFrame'>\n",
      "RangeIndex: 536350 entries, 0 to 536349\n",
      "Data columns (total 8 columns):\n",
      " #   Column         Non-Null Count   Dtype  \n",
      "---  ------         --------------   -----  \n",
      " 0   TransactionNo  536350 non-null  object \n",
      " 1   Date           536350 non-null  object \n",
      " 2   ProductNo      536350 non-null  object \n",
      " 3   ProductName    536350 non-null  object \n",
      " 4   Price          536350 non-null  float64\n",
      " 5   Quantity       536350 non-null  int64  \n",
      " 6   CustomerNo     536295 non-null  float64\n",
      " 7   Country        536350 non-null  object \n",
      "dtypes: float64(2), int64(1), object(5)\n",
      "memory usage: 32.7+ MB\n"
     ]
    }
   ],
   "source": [
    "# to see basic info\n",
    "df.info()"
   ]
  },
  {
   "cell_type": "code",
   "execution_count": 101,
   "id": "1bb0d664",
   "metadata": {},
   "outputs": [
    {
     "data": {
      "text/html": [
       "<div>\n",
       "<style scoped>\n",
       "    .dataframe tbody tr th:only-of-type {\n",
       "        vertical-align: middle;\n",
       "    }\n",
       "\n",
       "    .dataframe tbody tr th {\n",
       "        vertical-align: top;\n",
       "    }\n",
       "\n",
       "    .dataframe thead th {\n",
       "        text-align: right;\n",
       "    }\n",
       "</style>\n",
       "<table border=\"1\" class=\"dataframe\">\n",
       "  <thead>\n",
       "    <tr style=\"text-align: right;\">\n",
       "      <th></th>\n",
       "      <th>Price</th>\n",
       "      <th>Quantity</th>\n",
       "      <th>CustomerNo</th>\n",
       "    </tr>\n",
       "  </thead>\n",
       "  <tbody>\n",
       "    <tr>\n",
       "      <th>count</th>\n",
       "      <td>536350.000000</td>\n",
       "      <td>536350.000000</td>\n",
       "      <td>536295.000000</td>\n",
       "    </tr>\n",
       "    <tr>\n",
       "      <th>mean</th>\n",
       "      <td>12.662182</td>\n",
       "      <td>9.919347</td>\n",
       "      <td>15227.893178</td>\n",
       "    </tr>\n",
       "    <tr>\n",
       "      <th>std</th>\n",
       "      <td>8.490450</td>\n",
       "      <td>216.662300</td>\n",
       "      <td>1716.582932</td>\n",
       "    </tr>\n",
       "    <tr>\n",
       "      <th>min</th>\n",
       "      <td>5.130000</td>\n",
       "      <td>-80995.000000</td>\n",
       "      <td>12004.000000</td>\n",
       "    </tr>\n",
       "    <tr>\n",
       "      <th>25%</th>\n",
       "      <td>10.990000</td>\n",
       "      <td>1.000000</td>\n",
       "      <td>13807.000000</td>\n",
       "    </tr>\n",
       "    <tr>\n",
       "      <th>50%</th>\n",
       "      <td>11.940000</td>\n",
       "      <td>3.000000</td>\n",
       "      <td>15152.000000</td>\n",
       "    </tr>\n",
       "    <tr>\n",
       "      <th>75%</th>\n",
       "      <td>14.090000</td>\n",
       "      <td>10.000000</td>\n",
       "      <td>16729.000000</td>\n",
       "    </tr>\n",
       "    <tr>\n",
       "      <th>max</th>\n",
       "      <td>660.620000</td>\n",
       "      <td>80995.000000</td>\n",
       "      <td>18287.000000</td>\n",
       "    </tr>\n",
       "  </tbody>\n",
       "</table>\n",
       "</div>"
      ],
      "text/plain": [
       "               Price       Quantity     CustomerNo\n",
       "count  536350.000000  536350.000000  536295.000000\n",
       "mean       12.662182       9.919347   15227.893178\n",
       "std         8.490450     216.662300    1716.582932\n",
       "min         5.130000  -80995.000000   12004.000000\n",
       "25%        10.990000       1.000000   13807.000000\n",
       "50%        11.940000       3.000000   15152.000000\n",
       "75%        14.090000      10.000000   16729.000000\n",
       "max       660.620000   80995.000000   18287.000000"
      ]
     },
     "execution_count": 101,
     "metadata": {},
     "output_type": "execute_result"
    }
   ],
   "source": [
    "# to see basic descriptive statistics\n",
    "df.describe()"
   ]
  },
  {
   "cell_type": "markdown",
   "id": "b0c242b1",
   "metadata": {},
   "source": [
    "## Data Cleaning:"
   ]
  },
  {
   "cell_type": "code",
   "execution_count": 102,
   "id": "067ea62e",
   "metadata": {},
   "outputs": [
    {
     "data": {
      "text/plain": [
       "5200"
      ]
     },
     "execution_count": 102,
     "metadata": {},
     "output_type": "execute_result"
    }
   ],
   "source": [
    "# to cehck duplicate\n",
    "df.duplicated().sum()"
   ]
  },
  {
   "cell_type": "code",
   "execution_count": 103,
   "id": "a5830f90",
   "metadata": {},
   "outputs": [],
   "source": [
    "# to drop duplicated\n",
    "df.drop_duplicates(inplace=True)"
   ]
  },
  {
   "cell_type": "code",
   "execution_count": 104,
   "id": "8cb7bd8a",
   "metadata": {},
   "outputs": [
    {
     "data": {
      "text/plain": [
       "0"
      ]
     },
     "execution_count": 104,
     "metadata": {},
     "output_type": "execute_result"
    }
   ],
   "source": [
    "# Again to cehck duplicate\n",
    "df.duplicated().sum()"
   ]
  },
  {
   "cell_type": "code",
   "execution_count": 105,
   "id": "6c1b8d24",
   "metadata": {},
   "outputs": [
    {
     "data": {
      "text/plain": [
       "TransactionNo     0\n",
       "Date              0\n",
       "ProductNo         0\n",
       "ProductName       0\n",
       "Price             0\n",
       "Quantity          0\n",
       "CustomerNo       55\n",
       "Country           0\n",
       "dtype: int64"
      ]
     },
     "execution_count": 105,
     "metadata": {},
     "output_type": "execute_result"
    }
   ],
   "source": [
    "# to check missing values\n",
    "df.isnull().sum()"
   ]
  },
  {
   "cell_type": "code",
   "execution_count": 106,
   "id": "e8668ebe",
   "metadata": {},
   "outputs": [
    {
     "data": {
      "image/png": "[encoded data removed]",
      "text/plain": [
       "<Figure size 432x288 with 2 Axes>"
      ]
     },
     "metadata": {
      "needs_background": "light"
     },
     "output_type": "display_data"
    }
   ],
   "source": [
    "# ploting heatmap\n",
    "sns.heatmap(df.isnull(),cbar=True,cmap='viridis',yticklabels=False);"
   ]
  },
  {
   "cell_type": "code",
   "execution_count": 107,
   "id": "baee74a0",
   "metadata": {},
   "outputs": [
    {
     "data": {
      "text/plain": [
       "0    17841.0\n",
       "dtype: float64"
      ]
     },
     "execution_count": 107,
     "metadata": {},
     "output_type": "execute_result"
    }
   ],
   "source": [
    "# missing handeling values\n",
    "df['CustomerNo'].mode()"
   ]
  },
  {
   "cell_type": "code",
   "execution_count": 108,
   "id": "8bf77029",
   "metadata": {},
   "outputs": [],
   "source": [
    "# drop the missing values\n",
    "df.dropna(inplace=True)"
   ]
  },
  {
   "cell_type": "code",
   "execution_count": 109,
   "id": "5a2d5341",
   "metadata": {},
   "outputs": [
    {
     "data": {
      "text/plain": [
       "TransactionNo    0\n",
       "Date             0\n",
       "ProductNo        0\n",
       "ProductName      0\n",
       "Price            0\n",
       "Quantity         0\n",
       "CustomerNo       0\n",
       "Country          0\n",
       "dtype: int64"
      ]
     },
     "execution_count": 109,
     "metadata": {},
     "output_type": "execute_result"
    }
   ],
   "source": [
    "# again check missing value\n",
    "df.isnull().sum()"
   ]
  },
  {
   "cell_type": "code",
   "execution_count": 110,
   "id": "9836a137",
   "metadata": {},
   "outputs": [],
   "source": [
    "# convert date column in the date format\n",
    "df['Date']=pd.to_datetime(df['Date'])"
   ]
  },
  {
   "cell_type": "code",
   "execution_count": 111,
   "id": "7d7d8003",
   "metadata": {},
   "outputs": [],
   "source": [
    "df['Revenue']=df['Price']*df['Quantity']"
   ]
  },
  {
   "cell_type": "code",
   "execution_count": 112,
   "id": "be137d32",
   "metadata": {},
   "outputs": [
    {
     "data": {
      "text/html": [
       "<div>\n",
       "<style scoped>\n",
       "    .dataframe tbody tr th:only-of-type {\n",
       "        vertical-align: middle;\n",
       "    }\n",
       "\n",
       "    .dataframe tbody tr th {\n",
       "        vertical-align: top;\n",
       "    }\n",
       "\n",
       "    .dataframe thead th {\n",
       "        text-align: right;\n",
       "    }\n",
       "</style>\n",
       "<table border=\"1\" class=\"dataframe\">\n",
       "  <thead>\n",
       "    <tr style=\"text-align: right;\">\n",
       "      <th></th>\n",
       "      <th>TransactionNo</th>\n",
       "      <th>Date</th>\n",
       "      <th>ProductNo</th>\n",
       "      <th>ProductName</th>\n",
       "      <th>Price</th>\n",
       "      <th>Quantity</th>\n",
       "      <th>CustomerNo</th>\n",
       "      <th>Country</th>\n",
       "      <th>Revenue</th>\n",
       "    </tr>\n",
       "  </thead>\n",
       "  <tbody>\n",
       "    <tr>\n",
       "      <th>0</th>\n",
       "      <td>581482</td>\n",
       "      <td>2019-12-09</td>\n",
       "      <td>22485</td>\n",
       "      <td>Set Of 2 Wooden Market Crates</td>\n",
       "      <td>21.47</td>\n",
       "      <td>12</td>\n",
       "      <td>17490.0</td>\n",
       "      <td>United Kingdom</td>\n",
       "      <td>257.64</td>\n",
       "    </tr>\n",
       "    <tr>\n",
       "      <th>1</th>\n",
       "      <td>581475</td>\n",
       "      <td>2019-12-09</td>\n",
       "      <td>22596</td>\n",
       "      <td>Christmas Star Wish List Chalkboard</td>\n",
       "      <td>10.65</td>\n",
       "      <td>36</td>\n",
       "      <td>13069.0</td>\n",
       "      <td>United Kingdom</td>\n",
       "      <td>383.40</td>\n",
       "    </tr>\n",
       "  </tbody>\n",
       "</table>\n",
       "</div>"
      ],
      "text/plain": [
       "  TransactionNo       Date ProductNo                          ProductName  \\\n",
       "0        581482 2019-12-09     22485        Set Of 2 Wooden Market Crates   \n",
       "1        581475 2019-12-09     22596  Christmas Star Wish List Chalkboard   \n",
       "\n",
       "   Price  Quantity  CustomerNo         Country  Revenue  \n",
       "0  21.47        12     17490.0  United Kingdom   257.64  \n",
       "1  10.65        36     13069.0  United Kingdom   383.40  "
      ]
     },
     "execution_count": 112,
     "metadata": {},
     "output_type": "execute_result"
    }
   ],
   "source": [
    "df.head(2)"
   ]
  },
  {
   "cell_type": "code",
   "execution_count": 113,
   "id": "7814e4ee",
   "metadata": {},
   "outputs": [
    {
     "data": {
      "text/plain": [
       "3767"
      ]
     },
     "execution_count": 113,
     "metadata": {},
     "output_type": "execute_result"
    }
   ],
   "source": [
    "df['ProductName'].nunique()"
   ]
  },
  {
   "cell_type": "code",
   "execution_count": 114,
   "id": "31d524df",
   "metadata": {},
   "outputs": [],
   "source": [
    "df=df[df['Quantity']>=0]"
   ]
  },
  {
   "cell_type": "code",
   "execution_count": 115,
   "id": "4ee999d3",
   "metadata": {},
   "outputs": [
    {
     "data": {
      "text/plain": [
       "0         12\n",
       "1         36\n",
       "2         12\n",
       "3         12\n",
       "4          6\n",
       "          ..\n",
       "536320     2\n",
       "536321     1\n",
       "536322     2\n",
       "536323     1\n",
       "536324     1\n",
       "Name: Quantity, Length: 522601, dtype: int64"
      ]
     },
     "execution_count": 115,
     "metadata": {},
     "output_type": "execute_result"
    }
   ],
   "source": [
    "df['Quantity']"
   ]
  },
  {
   "cell_type": "markdown",
   "id": "0b572cc3",
   "metadata": {},
   "source": [
    "## Feature Engineering"
   ]
  },
  {
   "cell_type": "code",
   "execution_count": 116,
   "id": "9399fc3f",
   "metadata": {},
   "outputs": [],
   "source": [
    "df['Month']=df['Date'].dt.month\n",
    "df['MonthName']=df['Date'].dt.month_name()\n",
    "df['Day']=df['Date'].dt.day\n",
    "df['DayName']=df['Date'].dt.day_name()\n",
    "df['Quarter']=df['Date'].dt.quarter"
   ]
  },
  {
   "cell_type": "code",
   "execution_count": 117,
   "id": "69d28bb5",
   "metadata": {},
   "outputs": [
    {
     "data": {
      "text/html": [
       "<div>\n",
       "<style scoped>\n",
       "    .dataframe tbody tr th:only-of-type {\n",
       "        vertical-align: middle;\n",
       "    }\n",
       "\n",
       "    .dataframe tbody tr th {\n",
       "        vertical-align: top;\n",
       "    }\n",
       "\n",
       "    .dataframe thead th {\n",
       "        text-align: right;\n",
       "    }\n",
       "</style>\n",
       "<table border=\"1\" class=\"dataframe\">\n",
       "  <thead>\n",
       "    <tr style=\"text-align: right;\">\n",
       "      <th></th>\n",
       "      <th>TransactionNo</th>\n",
       "      <th>Date</th>\n",
       "      <th>ProductNo</th>\n",
       "      <th>ProductName</th>\n",
       "      <th>Price</th>\n",
       "      <th>Quantity</th>\n",
       "      <th>CustomerNo</th>\n",
       "      <th>Country</th>\n",
       "      <th>Revenue</th>\n",
       "      <th>Month</th>\n",
       "      <th>MonthName</th>\n",
       "      <th>Day</th>\n",
       "      <th>DayName</th>\n",
       "      <th>Quarter</th>\n",
       "    </tr>\n",
       "  </thead>\n",
       "  <tbody>\n",
       "    <tr>\n",
       "      <th>0</th>\n",
       "      <td>581482</td>\n",
       "      <td>2019-12-09</td>\n",
       "      <td>22485</td>\n",
       "      <td>Set Of 2 Wooden Market Crates</td>\n",
       "      <td>21.47</td>\n",
       "      <td>12</td>\n",
       "      <td>17490.0</td>\n",
       "      <td>United Kingdom</td>\n",
       "      <td>257.64</td>\n",
       "      <td>12</td>\n",
       "      <td>December</td>\n",
       "      <td>9</td>\n",
       "      <td>Monday</td>\n",
       "      <td>4</td>\n",
       "    </tr>\n",
       "    <tr>\n",
       "      <th>1</th>\n",
       "      <td>581475</td>\n",
       "      <td>2019-12-09</td>\n",
       "      <td>22596</td>\n",
       "      <td>Christmas Star Wish List Chalkboard</td>\n",
       "      <td>10.65</td>\n",
       "      <td>36</td>\n",
       "      <td>13069.0</td>\n",
       "      <td>United Kingdom</td>\n",
       "      <td>383.40</td>\n",
       "      <td>12</td>\n",
       "      <td>December</td>\n",
       "      <td>9</td>\n",
       "      <td>Monday</td>\n",
       "      <td>4</td>\n",
       "    </tr>\n",
       "    <tr>\n",
       "      <th>2</th>\n",
       "      <td>581475</td>\n",
       "      <td>2019-12-09</td>\n",
       "      <td>23235</td>\n",
       "      <td>Storage Tin Vintage Leaf</td>\n",
       "      <td>11.53</td>\n",
       "      <td>12</td>\n",
       "      <td>13069.0</td>\n",
       "      <td>United Kingdom</td>\n",
       "      <td>138.36</td>\n",
       "      <td>12</td>\n",
       "      <td>December</td>\n",
       "      <td>9</td>\n",
       "      <td>Monday</td>\n",
       "      <td>4</td>\n",
       "    </tr>\n",
       "    <tr>\n",
       "      <th>3</th>\n",
       "      <td>581475</td>\n",
       "      <td>2019-12-09</td>\n",
       "      <td>23272</td>\n",
       "      <td>Tree T-Light Holder Willie Winkie</td>\n",
       "      <td>10.65</td>\n",
       "      <td>12</td>\n",
       "      <td>13069.0</td>\n",
       "      <td>United Kingdom</td>\n",
       "      <td>127.80</td>\n",
       "      <td>12</td>\n",
       "      <td>December</td>\n",
       "      <td>9</td>\n",
       "      <td>Monday</td>\n",
       "      <td>4</td>\n",
       "    </tr>\n",
       "    <tr>\n",
       "      <th>4</th>\n",
       "      <td>581475</td>\n",
       "      <td>2019-12-09</td>\n",
       "      <td>23239</td>\n",
       "      <td>Set Of 4 Knick Knack Tins Poppies</td>\n",
       "      <td>11.94</td>\n",
       "      <td>6</td>\n",
       "      <td>13069.0</td>\n",
       "      <td>United Kingdom</td>\n",
       "      <td>71.64</td>\n",
       "      <td>12</td>\n",
       "      <td>December</td>\n",
       "      <td>9</td>\n",
       "      <td>Monday</td>\n",
       "      <td>4</td>\n",
       "    </tr>\n",
       "  </tbody>\n",
       "</table>\n",
       "</div>"
      ],
      "text/plain": [
       "  TransactionNo       Date ProductNo                          ProductName  \\\n",
       "0        581482 2019-12-09     22485        Set Of 2 Wooden Market Crates   \n",
       "1        581475 2019-12-09     22596  Christmas Star Wish List Chalkboard   \n",
       "2        581475 2019-12-09     23235             Storage Tin Vintage Leaf   \n",
       "3        581475 2019-12-09     23272    Tree T-Light Holder Willie Winkie   \n",
       "4        581475 2019-12-09     23239    Set Of 4 Knick Knack Tins Poppies   \n",
       "\n",
       "   Price  Quantity  CustomerNo         Country  Revenue  Month MonthName  Day  \\\n",
       "0  21.47        12     17490.0  United Kingdom   257.64     12  December    9   \n",
       "1  10.65        36     13069.0  United Kingdom   383.40     12  December    9   \n",
       "2  11.53        12     13069.0  United Kingdom   138.36     12  December    9   \n",
       "3  10.65        12     13069.0  United Kingdom   127.80     12  December    9   \n",
       "4  11.94         6     13069.0  United Kingdom    71.64     12  December    9   \n",
       "\n",
       "  DayName  Quarter  \n",
       "0  Monday        4  \n",
       "1  Monday        4  \n",
       "2  Monday        4  \n",
       "3  Monday        4  \n",
       "4  Monday        4  "
      ]
     },
     "execution_count": 117,
     "metadata": {},
     "output_type": "execute_result"
    }
   ],
   "source": [
    "df.head()"
   ]
  },
  {
   "cell_type": "code",
   "execution_count": 118,
   "id": "6a514ce6",
   "metadata": {},
   "outputs": [],
   "source": [
    "def week_day(feature):\n",
    "    if feature==\"Saturday\":\n",
    "        return 1\n",
    "    elif feature==\"Sunday\":\n",
    "        return 1\n",
    "    else:\n",
    "        return 0"
   ]
  },
  {
   "cell_type": "code",
   "execution_count": 119,
   "id": "bc1acb33",
   "metadata": {},
   "outputs": [],
   "source": [
    "df['Weekday']=df['DayName'].apply(week_day)"
   ]
  },
  {
   "cell_type": "code",
   "execution_count": 120,
   "id": "54cae66a",
   "metadata": {},
   "outputs": [
    {
     "data": {
      "text/plain": [
       "TransactionNo            object\n",
       "Date             datetime64[ns]\n",
       "ProductNo                object\n",
       "ProductName              object\n",
       "Price                   float64\n",
       "Quantity                  int64\n",
       "CustomerNo              float64\n",
       "Country                  object\n",
       "Revenue                 float64\n",
       "Month                     int64\n",
       "MonthName                object\n",
       "Day                       int64\n",
       "DayName                  object\n",
       "Quarter                   int64\n",
       "Weekday                   int64\n",
       "dtype: object"
      ]
     },
     "execution_count": 120,
     "metadata": {},
     "output_type": "execute_result"
    }
   ],
   "source": [
    "# check data type\n",
    "df.dtypes"
   ]
  },
  {
   "cell_type": "markdown",
   "id": "ab79dac5",
   "metadata": {},
   "source": [
    "## Handeling Outlier:"
   ]
  },
  {
   "cell_type": "code",
   "execution_count": 217,
   "id": "67a4467d",
   "metadata": {},
   "outputs": [
    {
     "data": {
      "image/png": "[encoded data removed]",
      "text/plain": [
       "<Figure size 1080x432 with 2 Axes>"
      ]
     },
     "metadata": {},
     "output_type": "display_data"
    }
   ],
   "source": [
    "fig,axes=plt.subplots(1,2,figsize=(15,6))\n",
    "fig.patch.set_facecolor('lightblue')\n",
    "\n",
    "sns.boxplot(data=df,x=df['Quantity'],ax=axes[0])\n",
    "axes[0].set_title('Boxplot of Revenue')\n",
    "\n",
    "sns.boxplot(data=df, x=df['Revenue'], ax=axes[1])\n",
    "axes[1].set_title('Boxplot of Revenue');"
   ]
  },
  {
   "cell_type": "code",
   "execution_count": 133,
   "id": "8adbc9eb",
   "metadata": {},
   "outputs": [],
   "source": [
    "data=df.copy()"
   ]
  },
  {
   "cell_type": "code",
   "execution_count": 134,
   "id": "fe340058",
   "metadata": {},
   "outputs": [],
   "source": [
    "q1=data['Revenue'].quantile(0.25)\n",
    "q3=data['Revenue'].quantile(0.75)\n",
    "iqr=q3-q1\n",
    "lower_revenue=q1-1.5*iqr\n",
    "upper_revenue=q3+1.5*iqr\n",
    "data=data[(data['Revenue'] >= lower_revenue)&(data['Revenue'] <= upper_revenue)]"
   ]
  },
  {
   "cell_type": "code",
   "execution_count": 143,
   "id": "7e790a56",
   "metadata": {},
   "outputs": [],
   "source": [
    "q1=data['Quantity'].quantile(0.25)\n",
    "q3=data['Quantity'].quantile(0.75)\n",
    "iqr=q3-q1\n",
    "lower_quantity=q1-1.5*iqr\n",
    "upper_quantity=q3+1.5*iqr\n",
    "data=data[(data['Quantity']>=lower_quantity)&(data['Quantity']<=upper_quantity)]"
   ]
  },
  {
   "cell_type": "code",
   "execution_count": 147,
   "id": "48fea9a0",
   "metadata": {},
   "outputs": [],
   "source": [
    "df=data.copy()"
   ]
  },
  {
   "cell_type": "markdown",
   "id": "8fa25e21",
   "metadata": {},
   "source": [
    "## Answer The Business Question:"
   ]
  },
  {
   "cell_type": "markdown",
   "id": "bd246f15",
   "metadata": {},
   "source": [
    "### How was the sales trend over the months?"
   ]
  },
  {
   "cell_type": "code",
   "execution_count": 222,
   "id": "fb858a5e",
   "metadata": {},
   "outputs": [],
   "source": [
    "month_revenue=df.groupby('MonthName')['Revenue'].sum().reset_index()\n",
    "\n",
    "month_quantity=df.groupby('MonthName')['Quantity'].sum().reset_index()\n"
   ]
  },
  {
   "cell_type": "code",
   "execution_count": 221,
   "id": "332a695e",
   "metadata": {},
   "outputs": [
    {
     "name": "stdout",
     "output_type": "stream",
     "text": [
      "Month Quantity      MonthName  Quantity\n",
      "0       April    117781\n",
      "1      August    147060\n",
      "2    December    237166\n",
      "3    February    107309\n",
      "4     January    128686\n",
      "5        July    149833\n",
      "6        June    142499\n",
      "7       March    141772\n",
      "8         May    153497\n",
      "9    November    314145\n",
      "10    October    242708\n",
      "11  September    212584\n"
     ]
    }
   ],
   "source": [
    "print(\"Month Quantity \",month_quantity)"
   ]
  },
  {
   "cell_type": "code",
   "execution_count": 223,
   "id": "e9ddfa3c",
   "metadata": {},
   "outputs": [
    {
     "name": "stdout",
     "output_type": "stream",
     "text": [
      "Monthly Total Revenue      MonthName     Revenue\n",
      "0       April  1454829.34\n",
      "1      August  1774685.93\n",
      "2    December  2471278.51\n",
      "3    February  1351604.31\n",
      "4     January  1615487.47\n",
      "5        July  1802352.16\n",
      "6        June  1745553.33\n",
      "7       March  1777057.41\n",
      "8         May  1883727.79\n",
      "9    November  3342159.68\n",
      "10    October  2995360.44\n",
      "11  September  2585676.59\n"
     ]
    }
   ],
   "source": [
    "print(\"Monthly Total Revenue \",month_revenue)"
   ]
  },
  {
   "cell_type": "code",
   "execution_count": 167,
   "id": "adf63b97",
   "metadata": {},
   "outputs": [
    {
     "data": {
      "image/png": "[encoded data removed]",
      "text/plain": [
       "<Figure size 1080x432 with 2 Axes>"
      ]
     },
     "metadata": {},
     "output_type": "display_data"
    }
   ],
   "source": [
    "fig,axes=plt.subplots(1,2,figsize=(15,6))\n",
    "fig.patch.set_facecolor('lightblue')\n",
    "\n",
    "sns.lineplot(data=month_revenue,x=month_revenue['MonthName'],y=month_revenue['Revenue'],ax=axes[0])\n",
    "axes[0].set_title('Monthly Sales Trend')\n",
    "axes[0].tick_params(axis='x', rotation=90) \n",
    "#axes[0].set_ylim(0, 1000)\n",
    "\n",
    "sns.lineplot(data=month_quantity,x=month_quantity['MonthName'],y=month_quantity['Quantity'],ax=axes[1])\n",
    "axes[1].set_title('Monthly Quantity Trend')\n",
    "axes[1].tick_params(axis='x', rotation=90) \n",
    "#axes[1].set_ylim(0, 500);"
   ]
  },
  {
   "cell_type": "markdown",
   "id": "99f89f25",
   "metadata": {},
   "source": [
    "##### Insight: The highest quantity was sold in November and the highest revenue was generated in this month."
   ]
  },
  {
   "cell_type": "markdown",
   "id": "c8642958",
   "metadata": {},
   "source": [
    "## How was the sales trend over the Days?"
   ]
  },
  {
   "cell_type": "code",
   "execution_count": 160,
   "id": "9b21f14b",
   "metadata": {},
   "outputs": [
    {
     "data": {
      "text/html": [
       "<div>\n",
       "<style scoped>\n",
       "    .dataframe tbody tr th:only-of-type {\n",
       "        vertical-align: middle;\n",
       "    }\n",
       "\n",
       "    .dataframe tbody tr th {\n",
       "        vertical-align: top;\n",
       "    }\n",
       "\n",
       "    .dataframe thead th {\n",
       "        text-align: right;\n",
       "    }\n",
       "</style>\n",
       "<table border=\"1\" class=\"dataframe\">\n",
       "  <thead>\n",
       "    <tr style=\"text-align: right;\">\n",
       "      <th></th>\n",
       "      <th>DayName</th>\n",
       "      <th>Quantity</th>\n",
       "    </tr>\n",
       "  </thead>\n",
       "  <tbody>\n",
       "    <tr>\n",
       "      <th>0</th>\n",
       "      <td>Friday</td>\n",
       "      <td>379845</td>\n",
       "    </tr>\n",
       "    <tr>\n",
       "      <th>1</th>\n",
       "      <td>Monday</td>\n",
       "      <td>328135</td>\n",
       "    </tr>\n",
       "    <tr>\n",
       "      <th>2</th>\n",
       "      <td>Saturday</td>\n",
       "      <td>367088</td>\n",
       "    </tr>\n",
       "    <tr>\n",
       "      <th>3</th>\n",
       "      <td>Sunday</td>\n",
       "      <td>427673</td>\n",
       "    </tr>\n",
       "    <tr>\n",
       "      <th>4</th>\n",
       "      <td>Thursday</td>\n",
       "      <td>355425</td>\n",
       "    </tr>\n",
       "    <tr>\n",
       "      <th>5</th>\n",
       "      <td>Wednesday</td>\n",
       "      <td>236874</td>\n",
       "    </tr>\n",
       "  </tbody>\n",
       "</table>\n",
       "</div>"
      ],
      "text/plain": [
       "     DayName  Quantity\n",
       "0     Friday    379845\n",
       "1     Monday    328135\n",
       "2   Saturday    367088\n",
       "3     Sunday    427673\n",
       "4   Thursday    355425\n",
       "5  Wednesday    236874"
      ]
     },
     "execution_count": 160,
     "metadata": {},
     "output_type": "execute_result"
    }
   ],
   "source": [
    "day_revenue=df.groupby('DayName')['Revenue'].sum().reset_index()\n",
    "day_revenue\n",
    "day_quantity=df.groupby('DayName')['Quantity'].sum().reset_index()\n",
    "day_quantity"
   ]
  },
  {
   "cell_type": "code",
   "execution_count": 224,
   "id": "e05d536b",
   "metadata": {},
   "outputs": [
    {
     "name": "stdout",
     "output_type": "stream",
     "text": [
      "Day Wise Total Revenue       DayName     Revenue\n",
      "0     Friday  4545175.30\n",
      "1     Monday  3913063.44\n",
      "2   Saturday  4308052.29\n",
      "3     Sunday  5018408.62\n",
      "4   Thursday  4224113.93\n",
      "5  Wednesday  2790959.38\n"
     ]
    }
   ],
   "source": [
    "print(\"Day Wise Total Revenue \",day_revenue)"
   ]
  },
  {
   "cell_type": "code",
   "execution_count": 225,
   "id": "e70cf08a",
   "metadata": {},
   "outputs": [
    {
     "name": "stdout",
     "output_type": "stream",
     "text": [
      "Day Wise Total Quantity       DayName  Quantity\n",
      "0     Friday    379845\n",
      "1     Monday    328135\n",
      "2   Saturday    367088\n",
      "3     Sunday    427673\n",
      "4   Thursday    355425\n",
      "5  Wednesday    236874\n"
     ]
    }
   ],
   "source": [
    "print(\"Day Wise Total Quantity \",day_quantity)"
   ]
  },
  {
   "cell_type": "code",
   "execution_count": 163,
   "id": "5e38c127",
   "metadata": {},
   "outputs": [
    {
     "data": {
      "image/png": "[encoded data removed]",
      "text/plain": [
       "<Figure size 1080x432 with 2 Axes>"
      ]
     },
     "metadata": {},
     "output_type": "display_data"
    }
   ],
   "source": [
    "fig,axes=plt.subplots(1,2,figsize=(15,6))\n",
    "fig.patch.set_facecolor('lightblue')\n",
    "\n",
    "sns.lineplot(data=day_revenue,x=day_revenue['DayName'],y=day_revenue['Revenue'],ax=axes[0],marker='*')\n",
    "axes[0].set_title('Day Sales Trend')\n",
    "axes[0].tick_params(axis='x', rotation=90) \n",
    "#axes[0].set_ylim(0, 1000)\n",
    "\n",
    "sns.lineplot(data=day_quantity,x=day_quantity['DayName'],y=day_quantity['Quantity'],ax=axes[1],marker='*')\n",
    "axes[1].set_title('Day Quantity Trend')\n",
    "axes[1].tick_params(axis='x', rotation=90) \n",
    "#axes[1].set_ylim(0, 500);"
   ]
  },
  {
   "cell_type": "markdown",
   "id": "c36f7ad8",
   "metadata": {},
   "source": [
    "#### Insight: Sunday has the highest quantity sold in a day and the highest revenue in this month."
   ]
  },
  {
   "cell_type": "markdown",
   "id": "b41711d1",
   "metadata": {},
   "source": [
    "## How was the sales and Quantity trend over the Quarter?"
   ]
  },
  {
   "cell_type": "code",
   "execution_count": 230,
   "id": "aadcf4f3",
   "metadata": {},
   "outputs": [],
   "source": [
    "quarter_revenue=df.groupby('Quarter')['Revenue'].sum().reset_index()\n",
    "quarter_quantity=df.groupby('Quarter')['Quantity'].sum().reset_index()"
   ]
  },
  {
   "cell_type": "code",
   "execution_count": 226,
   "id": "27b80a1f",
   "metadata": {},
   "outputs": [
    {
     "name": "stdout",
     "output_type": "stream",
     "text": [
      "Quarter Wise Revenue     Quarter     Revenue\n",
      "0        1  4744149.19\n",
      "1        2  5084110.46\n",
      "2        3  6162714.68\n",
      "3        4  8808798.63\n"
     ]
    }
   ],
   "source": [
    "print('Quarter Wise Revenue ',quarter_revenue)"
   ]
  },
  {
   "cell_type": "code",
   "execution_count": 231,
   "id": "437657c4",
   "metadata": {},
   "outputs": [
    {
     "name": "stdout",
     "output_type": "stream",
     "text": [
      "Quarter Wise Quantity     Quarter  Quantity\n",
      "0        1    377767\n",
      "1        2    413777\n",
      "2        3    509477\n",
      "3        4    794019\n"
     ]
    }
   ],
   "source": [
    "print('Quarter Wise Quantity ',quarter_quantity)"
   ]
  },
  {
   "cell_type": "code",
   "execution_count": 166,
   "id": "df941ce5",
   "metadata": {},
   "outputs": [
    {
     "data": {
      "image/png": "[encoded data removed]",
      "text/plain": [
       "<Figure size 1080x432 with 2 Axes>"
      ]
     },
     "metadata": {},
     "output_type": "display_data"
    }
   ],
   "source": [
    "fig,axes=plt.subplots(1,2,figsize=(15,6))\n",
    "fig.patch.set_facecolor('lightblue')\n",
    "\n",
    "sns.lineplot(data=quarter_revenue,x=quarter_revenue['Quarter'],y=quarter_revenue['Revenue'],ax=axes[0],marker='*')\n",
    "axes[0].set_title('Quarter Sales Trend')\n",
    "axes[0].tick_params(axis='x', rotation=90) \n",
    "#axes[0].set_ylim(0, 1000)\n",
    "\n",
    "sns.lineplot(data=quarter_quantity,x=quarter_quantity['Quarter'],y=quarter_quantity['Quantity'],ax=axes[1],marker='*')\n",
    "axes[1].set_title('Quarter Quantity Trend')\n",
    "axes[1].tick_params(axis='x', rotation=90) \n",
    "axes[1].set_xlim(1, 4);"
   ]
  },
  {
   "cell_type": "markdown",
   "id": "d0dab02d",
   "metadata": {},
   "source": [
    "#### Quarter No. 4 saw the highest quantity sold and the highest revenue in this month."
   ]
  },
  {
   "cell_type": "markdown",
   "id": "53921f4b",
   "metadata": {},
   "source": [
    "## What are the most frequently purchased products by  and Quantity?"
   ]
  },
  {
   "cell_type": "code",
   "execution_count": 180,
   "id": "c7d1d72e",
   "metadata": {},
   "outputs": [
    {
     "data": {
      "text/html": [
       "<div>\n",
       "<style scoped>\n",
       "    .dataframe tbody tr th:only-of-type {\n",
       "        vertical-align: middle;\n",
       "    }\n",
       "\n",
       "    .dataframe tbody tr th {\n",
       "        vertical-align: top;\n",
       "    }\n",
       "\n",
       "    .dataframe thead th {\n",
       "        text-align: right;\n",
       "    }\n",
       "</style>\n",
       "<table border=\"1\" class=\"dataframe\">\n",
       "  <thead>\n",
       "    <tr style=\"text-align: right;\">\n",
       "      <th></th>\n",
       "      <th>ProductName</th>\n",
       "      <th>Quantity</th>\n",
       "    </tr>\n",
       "  </thead>\n",
       "  <tbody>\n",
       "    <tr>\n",
       "      <th>2310</th>\n",
       "      <td>Pink Feather Christmas Decoration</td>\n",
       "      <td>1</td>\n",
       "    </tr>\n",
       "    <tr>\n",
       "      <th>2293</th>\n",
       "      <td>Pink Crystal Guitar Phone Charm</td>\n",
       "      <td>1</td>\n",
       "    </tr>\n",
       "    <tr>\n",
       "      <th>1176</th>\n",
       "      <td>Flower Shop Design Mug</td>\n",
       "      <td>1</td>\n",
       "    </tr>\n",
       "    <tr>\n",
       "      <th>3320</th>\n",
       "      <td>Toybox Wrap</td>\n",
       "      <td>1</td>\n",
       "    </tr>\n",
       "    <tr>\n",
       "      <th>1410</th>\n",
       "      <td>Green Pendant Shell Necklace</td>\n",
       "      <td>1</td>\n",
       "    </tr>\n",
       "    <tr>\n",
       "      <th>1795</th>\n",
       "      <td>Lily Brooch White/Silver Colour</td>\n",
       "      <td>1</td>\n",
       "    </tr>\n",
       "    <tr>\n",
       "      <th>574</th>\n",
       "      <td>Capiz Chandelier</td>\n",
       "      <td>1</td>\n",
       "    </tr>\n",
       "    <tr>\n",
       "      <th>2785</th>\n",
       "      <td>Set 10 Cards Christmas Bauble 16954</td>\n",
       "      <td>1</td>\n",
       "    </tr>\n",
       "    <tr>\n",
       "      <th>3514</th>\n",
       "      <td>Watering Can Single Hook Pistachio</td>\n",
       "      <td>1</td>\n",
       "    </tr>\n",
       "    <tr>\n",
       "      <th>3647</th>\n",
       "      <td>Wrap English Rose</td>\n",
       "      <td>1</td>\n",
       "    </tr>\n",
       "  </tbody>\n",
       "</table>\n",
       "</div>"
      ],
      "text/plain": [
       "                              ProductName  Quantity\n",
       "2310    Pink Feather Christmas Decoration         1\n",
       "2293      Pink Crystal Guitar Phone Charm         1\n",
       "1176               Flower Shop Design Mug         1\n",
       "3320                          Toybox Wrap         1\n",
       "1410         Green Pendant Shell Necklace         1\n",
       "1795      Lily Brooch White/Silver Colour         1\n",
       "574                      Capiz Chandelier         1\n",
       "2785  Set 10 Cards Christmas Bauble 16954         1\n",
       "3514   Watering Can Single Hook Pistachio         1\n",
       "3647                    Wrap English Rose         1"
      ]
     },
     "execution_count": 180,
     "metadata": {},
     "output_type": "execute_result"
    }
   ],
   "source": [
    "top_10_product_quantity=df.groupby('ProductName')['Quantity'].sum().reset_index().sort_values(by='Quantity',ascending=False).head(10)\n",
    "\n",
    "bottom_10_product_quantity=df.groupby('ProductName')['Quantity'].sum().reset_index().sort_values(by='Quantity',ascending=True).head(10)\n",
    "bottom_10_product_quantity\n"
   ]
  },
  {
   "cell_type": "code",
   "execution_count": 232,
   "id": "45145774",
   "metadata": {
    "scrolled": true
   },
   "outputs": [
    {
     "name": "stdout",
     "output_type": "stream",
     "text": [
      "Top 10 Prouct By Quantity                               ProductName  Quantity\n",
      "202        Assorted Colour Bird Ornament     10879\n",
      "815   Cream Hanging Heart T-Light Holder     10714\n",
      "1656             Jumbo Bag Red Retrospot     10181\n",
      "1823             Lunch Bag Red Retrospot      8098\n",
      "1624              Jam Making Set Printed      7581\n",
      "2200                       Party Bunting      7183\n",
      "1662             Jumbo Bag Vintage Doily      6758\n",
      "1514               Heart Of Wicker Small      6719\n",
      "2451                      Popcorn Holder      6697\n",
      "3391     Victorian Glass Hanging T-Light      6593\n"
     ]
    }
   ],
   "source": [
    "print('Top 10 Prouct By Quantity ',top_10_product_quantity)"
   ]
  },
  {
   "cell_type": "code",
   "execution_count": 233,
   "id": "89f12337",
   "metadata": {},
   "outputs": [
    {
     "name": "stdout",
     "output_type": "stream",
     "text": [
      "Bottom 10 Prouct By Quantity                                ProductName  Quantity\n",
      "2310    Pink Feather Christmas Decoration         1\n",
      "2293      Pink Crystal Guitar Phone Charm         1\n",
      "1176               Flower Shop Design Mug         1\n",
      "3320                          Toybox Wrap         1\n",
      "1410         Green Pendant Shell Necklace         1\n",
      "1795      Lily Brooch White/Silver Colour         1\n",
      "574                      Capiz Chandelier         1\n",
      "2785  Set 10 Cards Christmas Bauble 16954         1\n",
      "3514   Watering Can Single Hook Pistachio         1\n",
      "3647                    Wrap English Rose         1\n"
     ]
    }
   ],
   "source": [
    "print('Bottom 10 Prouct By Quantity ',bottom_10_product_quantity)"
   ]
  },
  {
   "cell_type": "code",
   "execution_count": 188,
   "id": "f2a7762c",
   "metadata": {},
   "outputs": [
    {
     "data": {
      "image/png": "[encoded data removed]",
      "text/plain": [
       "<Figure size 1080x432 with 2 Axes>"
      ]
     },
     "metadata": {},
     "output_type": "display_data"
    }
   ],
   "source": [
    "fig,axes=plt.subplots(1,2,figsize=(15,6))\n",
    "fig.patch.set_facecolor('lightblue')\n",
    "\n",
    "sns.barplot(data=top_10_product_quantity,x=top_10_product_quantity['ProductName'],y=top_10_product_quantity['Quantity'],ax=axes[0])\n",
    "axes[0].set_title('Top 10 Product by Quantity Sold')\n",
    "axes[0].tick_params(axis='x', rotation=90) \n",
    "#axes[0].set_ylim(0, 1000)\n",
    "\n",
    "sns.barplot(data=bottom_10_product_quantity,x=bottom_10_product_quantity['ProductName'],y=bottom_10_product_quantity['Quantity'],ax=axes[1])\n",
    "axes[1].set_title('Bottom 10 Product by Quantity Sold')\n",
    "axes[1].tick_params(axis='x', rotation=90) \n",
    "#axes[1].set_xlim(1, 100);"
   ]
  },
  {
   "cell_type": "markdown",
   "id": "5c3a76fc",
   "metadata": {},
   "source": [
    "## What are the most frequently purchased products by  and Revenue?"
   ]
  },
  {
   "cell_type": "code",
   "execution_count": 236,
   "id": "c67f30a3",
   "metadata": {},
   "outputs": [],
   "source": [
    "top_10_product_revenue=df.groupby('ProductName')['Revenue'].sum().reset_index().sort_values(by='Revenue',ascending=False).head(10)\n",
    "bottom_10_product_revenue=df.groupby('ProductName')['Revenue'].sum().reset_index().sort_values(by='Revenue',ascending=True).head(10)"
   ]
  },
  {
   "cell_type": "code",
   "execution_count": 234,
   "id": "14ae1a25",
   "metadata": {},
   "outputs": [
    {
     "name": "stdout",
     "output_type": "stream",
     "text": [
      "Top 10 Products by Revenue                               ProductName    Revenue\n",
      "815   Cream Hanging Heart T-Light Holder  140093.10\n",
      "202        Assorted Colour Bird Ornament  126903.66\n",
      "2200                       Party Bunting  111118.45\n",
      "2622            Regency Cakestand 3 Tier   97639.95\n",
      "1624              Jam Making Set Printed   87240.69\n",
      "2002      Natural Slate Heart Chalkboard   80579.54\n",
      "1514               Heart Of Wicker Small   79523.94\n",
      "1625            Jam Making Set With Jars   76416.14\n",
      "3391     Victorian Glass Hanging T-Light   75805.45\n",
      "2451                      Popcorn Holder   73080.44\n"
     ]
    }
   ],
   "source": [
    "print('Top 10 Products by Revenue ',top_10_product_revenue)"
   ]
  },
  {
   "cell_type": "code",
   "execution_count": 235,
   "id": "4128f64f",
   "metadata": {},
   "outputs": [
    {
     "name": "stdout",
     "output_type": "stream",
     "text": [
      "Bottom 10 Products by Revenue                            ProductName  Revenue\n",
      "826    Crochet Lilac/Red Bear Keyring     6.19\n",
      "2807   Set 10 Cards Snowy Robin 17099     6.19\n",
      "3639             Wrap Alphabet Design    10.68\n",
      "1530        Hen House W Chick In Nest    10.68\n",
      "3656         Wrap Vintage Leaf Design    10.68\n",
      "3320                      Toybox Wrap    10.68\n",
      "3647                Wrap English Rose    10.68\n",
      "3650               Wrap I Love London    10.68\n",
      "2293  Pink Crystal Guitar Phone Charm    11.12\n",
      "371          Blackchristmas Tree 30cm    11.53\n"
     ]
    }
   ],
   "source": [
    "print('Bottom 10 Products by Revenue ',bottom_10_product_revenue)"
   ]
  },
  {
   "cell_type": "code",
   "execution_count": 193,
   "id": "92e6a4dd",
   "metadata": {},
   "outputs": [
    {
     "data": {
      "image/png": "[encoded data removed]",
      "text/plain": [
       "<Figure size 1080x432 with 2 Axes>"
      ]
     },
     "metadata": {},
     "output_type": "display_data"
    }
   ],
   "source": [
    "fig,axes=plt.subplots(1,2,figsize=(15,6))\n",
    "fig.patch.set_facecolor('lightblue')\n",
    "\n",
    "ax1=sns.barplot(data=top_10_product_revenue,x=top_10_product_revenue['ProductName'],y=top_10_product_revenue['Revenue'],ax=axes[0])\n",
    "axes[0].set_title('Top 10 Product by Total Revenue')\n",
    "axes[0].tick_params(axis='x', rotation=90) \n",
    "#axes[0].set_ylim(0, 1000)\n",
    "\n",
    "ax2=sns.barplot(data=bottom_10_product_revenue,x=bottom_10_product_revenue['ProductName'],y=bottom_10_product_revenue['Revenue'],ax=axes[1])\n",
    "axes[1].set_title('Bottom 10 Product by Total Revenue')\n",
    "axes[1].tick_params(axis='x', rotation=90) \n",
    "#axes[1].set_xlim(1, 100);"
   ]
  },
  {
   "cell_type": "code",
   "execution_count": null,
   "id": "d3ba65ea",
   "metadata": {},
   "outputs": [],
   "source": []
  },
  {
   "cell_type": "markdown",
   "id": "498d57cb",
   "metadata": {},
   "source": [
    "## What are the most frequently Revenue by Country?"
   ]
  },
  {
   "cell_type": "code",
   "execution_count": 239,
   "id": "22e928dc",
   "metadata": {},
   "outputs": [],
   "source": [
    "top_10_country_revenue=df.groupby('Country')['Revenue'].sum().reset_index().sort_values(by='Revenue',ascending=False).head(10)\n",
    "bottom_10_country_revenue=df.groupby('Country')['Revenue'].sum().reset_index().sort_values(by='Revenue',ascending=True).head(10)"
   ]
  },
  {
   "cell_type": "code",
   "execution_count": 237,
   "id": "cb2c80f4",
   "metadata": {},
   "outputs": [
    {
     "name": "stdout",
     "output_type": "stream",
     "text": [
      "Top 10 Country by Revenue             Country      Revenue\n",
      "36  United Kingdom  21696363.20\n",
      "14         Germany    711568.74\n",
      "13          France    656111.10\n",
      "10            EIRE    541187.22\n",
      "3          Belgium    162733.47\n",
      "31           Spain    154778.24\n",
      "33     Switzerland    145943.16\n",
      "27        Portugal    101712.25\n",
      "25          Norway     61936.69\n",
      "0        Australia     59713.13\n"
     ]
    }
   ],
   "source": [
    "print(\"Top 10 Country by Revenue \",top_10_country_revenue)"
   ]
  },
  {
   "cell_type": "code",
   "execution_count": 238,
   "id": "55756cfa",
   "metadata": {},
   "outputs": [
    {
     "name": "stdout",
     "output_type": "stream",
     "text": [
      "Bottom 10 Country by Revenue                 Country  Revenue\n",
      "29        Saudi Arabia   969.50\n",
      "8       Czech Republic   973.96\n",
      "2              Bahrain  1151.46\n",
      "4               Brazil  1884.99\n",
      "22           Lithuania  3751.64\n",
      "28                 RSA  4259.83\n",
      "15              Greece  4512.73\n",
      "11  European Community  4604.15\n",
      "21             Lebanon  5153.04\n",
      "20               Japan  5183.25\n"
     ]
    }
   ],
   "source": [
    "print(\"Bottom 10 Country by Revenue \",bottom_10_country_revenue)"
   ]
  },
  {
   "cell_type": "code",
   "execution_count": 205,
   "id": "d26410b4",
   "metadata": {},
   "outputs": [
    {
     "data": {
      "image/png": "[encoded data removed]",
      "text/plain": [
       "<Figure size 1080x432 with 2 Axes>"
      ]
     },
     "metadata": {},
     "output_type": "display_data"
    }
   ],
   "source": [
    "fig,axes=plt.subplots(1,2,figsize=(15,6))\n",
    "fig.patch.set_facecolor('lightblue')\n",
    "\n",
    "ax1=sns.barplot(data=top_10_country_revenue,x=top_10_country_revenue['Country'],y=top_10_country_revenue['Revenue'],ax=axes[0])\n",
    "axes[0].set_title('Top 10 Country by Total Revenue')\n",
    "axes[0].tick_params(axis='x', rotation=90) \n",
    "axes[0].set_ylim(0, 2000000)\n",
    "\n",
    "ax2=sns.barplot(data=bottom_10_country_revenue,x=bottom_10_country_revenue['Country'],y=bottom_10_country_revenue['Revenue'],ax=axes[1])\n",
    "axes[1].set_title('Bottom 10 Country by Total Revenue')\n",
    "axes[1].tick_params(axis='x', rotation=90) \n",
    "#axes[1].set_xlim(1, 100);"
   ]
  },
  {
   "cell_type": "markdown",
   "id": "883a42b3",
   "metadata": {},
   "source": [
    "#### The highest revenue came from the UK and the lowest came from Saudi Arabia."
   ]
  },
  {
   "cell_type": "markdown",
   "id": "f7b9f0c0",
   "metadata": {},
   "source": [
    "## What are the most frequently Quantity by Country?"
   ]
  },
  {
   "cell_type": "code",
   "execution_count": 211,
   "id": "5e2da3a5",
   "metadata": {},
   "outputs": [],
   "source": [
    "top_10_country_quantity=df.groupby('Country')['Quantity'].sum().reset_index().sort_values(by='Quantity',ascending=False).head(10)\n",
    "bottom_10_country_quantity=df.groupby('Country')['Quantity'].sum().reset_index().sort_values(by='Quantity',ascending=True).head(10)\n"
   ]
  },
  {
   "cell_type": "code",
   "execution_count": 209,
   "id": "5478301f",
   "metadata": {},
   "outputs": [
    {
     "name": "stdout",
     "output_type": "stream",
     "text": [
      "Top 10 COuntry by Quantity            Country  Quantity\n",
      "36  United Kingdom   1836000\n",
      "14         Germany     60194\n",
      "13          France     56785\n",
      "10            EIRE     44661\n",
      "3          Belgium     13585\n",
      "31           Spain     12408\n",
      "33     Switzerland     11670\n",
      "27        Portugal      9005\n",
      "25          Norway      5036\n",
      "0        Australia      4711\n"
     ]
    }
   ],
   "source": [
    "print(\"Top 10 COuntry by Quantity \",top_10_country_quantity,sep='')"
   ]
  },
  {
   "cell_type": "code",
   "execution_count": 210,
   "id": "1633a3e7",
   "metadata": {},
   "outputs": [
    {
     "name": "stdout",
     "output_type": "stream",
     "text": [
      "Bottom 10 COuntry by Quantity                 Country  Quantity\n",
      "8       Czech Republic        74\n",
      "2              Bahrain        80\n",
      "29        Saudi Arabia        80\n",
      "4               Brazil       145\n",
      "22           Lithuania       278\n",
      "11  European Community       346\n",
      "21             Lebanon       350\n",
      "28                 RSA       351\n",
      "15              Greece       403\n",
      "20               Japan       411\n"
     ]
    }
   ],
   "source": [
    "print(\"Bottom 10 COuntry by Quantity \",bottom_10_country_quantity)"
   ]
  },
  {
   "cell_type": "code",
   "execution_count": 219,
   "id": "5caaa977",
   "metadata": {},
   "outputs": [
    {
     "data": {
      "image/png": "[encoded data removed]",
      "text/plain": [
       "<Figure size 1080x432 with 2 Axes>"
      ]
     },
     "metadata": {},
     "output_type": "display_data"
    }
   ],
   "source": [
    "fig,axes=plt.subplots(1,2,figsize=(15,6))\n",
    "fig.patch.set_facecolor('lightblue')\n",
    "\n",
    "sns.barplot(data=top_10_country_quantity,x=top_10_country_quantity['Country'],y=top_10_country_quantity['Quantity'],ax=axes[0])\n",
    "axes[0].set_title('Top 10 Country by Quantity Sold')\n",
    "axes[0].tick_params(axis='x', rotation=90) \n",
    "axes[0].set_ylim(1, 300000)\n",
    "\n",
    "sns.barplot(data=bottom_10_country_quantity,x=bottom_10_country_quantity['Country'],y=bottom_10_country_quantity['Quantity'],ax=axes[1])\n",
    "axes[1].set_title('Bottom 10 Country by Quantity Sold')\n",
    "axes[1].tick_params(axis='x', rotation=90) \n",
    "#axes[1].set_xlim(1, 100);"
   ]
  },
  {
   "cell_type": "markdown",
   "id": "39895a5f",
   "metadata": {},
   "source": [
    "#### The largest quantity of sales came from the UK followed by the Czech Republic."
   ]
  },
  {
   "cell_type": "code",
   "execution_count": 19,
   "id": "be1c8176",
   "metadata": {},
   "outputs": [],
   "source": [
    "country_month_revenue=df.groupby(['ProductName','Country'])['Revenue'].sum().reset_index().sort_values(by='Revenue',ascending=False)"
   ]
  },
  {
   "cell_type": "code",
   "execution_count": 20,
   "id": "738d09c1",
   "metadata": {},
   "outputs": [
    {
     "data": {
      "text/html": [
       "<div>\n",
       "<style scoped>\n",
       "    .dataframe tbody tr th:only-of-type {\n",
       "        vertical-align: middle;\n",
       "    }\n",
       "\n",
       "    .dataframe tbody tr th {\n",
       "        vertical-align: top;\n",
       "    }\n",
       "\n",
       "    .dataframe thead th {\n",
       "        text-align: right;\n",
       "    }\n",
       "</style>\n",
       "<table border=\"1\" class=\"dataframe\">\n",
       "  <thead>\n",
       "    <tr style=\"text-align: right;\">\n",
       "      <th></th>\n",
       "      <th>ProductName</th>\n",
       "      <th>Country</th>\n",
       "      <th>Revenue</th>\n",
       "    </tr>\n",
       "  </thead>\n",
       "  <tbody>\n",
       "    <tr>\n",
       "      <th>4249</th>\n",
       "      <td>Cream Hanging Heart T-Light Holder</td>\n",
       "      <td>United Kingdom</td>\n",
       "      <td>133473.08</td>\n",
       "    </tr>\n",
       "    <tr>\n",
       "      <th>1075</th>\n",
       "      <td>Assorted Colour Bird Ornament</td>\n",
       "      <td>United Kingdom</td>\n",
       "      <td>120999.26</td>\n",
       "    </tr>\n",
       "    <tr>\n",
       "      <th>11340</th>\n",
       "      <td>Party Bunting</td>\n",
       "      <td>United Kingdom</td>\n",
       "      <td>104073.37</td>\n",
       "    </tr>\n",
       "    <tr>\n",
       "      <th>13598</th>\n",
       "      <td>Regency Cakestand 3 Tier</td>\n",
       "      <td>United Kingdom</td>\n",
       "      <td>82037.37</td>\n",
       "    </tr>\n",
       "    <tr>\n",
       "      <th>10339</th>\n",
       "      <td>Natural Slate Heart Chalkboard</td>\n",
       "      <td>United Kingdom</td>\n",
       "      <td>76987.07</td>\n",
       "    </tr>\n",
       "    <tr>\n",
       "      <th>...</th>\n",
       "      <td>...</td>\n",
       "      <td>...</td>\n",
       "      <td>...</td>\n",
       "    </tr>\n",
       "    <tr>\n",
       "      <th>6674</th>\n",
       "      <td>Gift Bag Psychedelic Apples</td>\n",
       "      <td>Switzerland</td>\n",
       "      <td>5.77</td>\n",
       "    </tr>\n",
       "    <tr>\n",
       "      <th>6669</th>\n",
       "      <td>Gift Bag Psychedelic Apples</td>\n",
       "      <td>Austria</td>\n",
       "      <td>5.55</td>\n",
       "    </tr>\n",
       "    <tr>\n",
       "      <th>13480</th>\n",
       "      <td>Red Spot Paper Gift Bag</td>\n",
       "      <td>Netherlands</td>\n",
       "      <td>5.55</td>\n",
       "    </tr>\n",
       "    <tr>\n",
       "      <th>6549</th>\n",
       "      <td>Funky Monkey Gift Bag Medium</td>\n",
       "      <td>France</td>\n",
       "      <td>5.55</td>\n",
       "    </tr>\n",
       "    <tr>\n",
       "      <th>14362</th>\n",
       "      <td>Round Storage Tin Vintage Leaf</td>\n",
       "      <td>Iceland</td>\n",
       "      <td>5.13</td>\n",
       "    </tr>\n",
       "  </tbody>\n",
       "</table>\n",
       "<p>19516 rows × 3 columns</p>\n",
       "</div>"
      ],
      "text/plain": [
       "                              ProductName         Country    Revenue\n",
       "4249   Cream Hanging Heart T-Light Holder  United Kingdom  133473.08\n",
       "1075        Assorted Colour Bird Ornament  United Kingdom  120999.26\n",
       "11340                       Party Bunting  United Kingdom  104073.37\n",
       "13598            Regency Cakestand 3 Tier  United Kingdom   82037.37\n",
       "10339      Natural Slate Heart Chalkboard  United Kingdom   76987.07\n",
       "...                                   ...             ...        ...\n",
       "6674          Gift Bag Psychedelic Apples     Switzerland       5.77\n",
       "6669          Gift Bag Psychedelic Apples         Austria       5.55\n",
       "13480             Red Spot Paper Gift Bag     Netherlands       5.55\n",
       "6549         Funky Monkey Gift Bag Medium          France       5.55\n",
       "14362      Round Storage Tin Vintage Leaf         Iceland       5.13\n",
       "\n",
       "[19516 rows x 3 columns]"
      ]
     },
     "execution_count": 20,
     "metadata": {},
     "output_type": "execute_result"
    }
   ],
   "source": [
    "country_month_revenue"
   ]
  },
  {
   "cell_type": "code",
   "execution_count": null,
   "id": "5345f3ce",
   "metadata": {},
   "outputs": [],
   "source": []
  },
  {
   "cell_type": "markdown",
   "id": "148e3038",
   "metadata": {},
   "source": [
    "Insight: \n",
    "1. The highest quantity was sold in November and the highest revenue was generated in this month.\n",
    "\n",
    "2. Sunday has the highest quantity sold in a day and the highest revenue in this month.\n",
    "\n",
    "3. Quarter No. 4 saw the highest quantity sold and the highest revenue in this month.\n",
    "\n",
    "4. The highest revenue came from the UK and the lowest came from Saudi Arabia.\n",
    "\n",
    "5. The largest quantity of sales came from the UK followed by the Czech Republic.\n",
    "\n",
    "6. Cream Hanging Heart T-Light Holder Product is the highly revenue generated product and Crochet Lilac/Red Bear Keyring this is the lowest revenue generated product.\n",
    "\n",
    "7.  Assorted Colour Bird Ornament this is the highly quatity sold product Pink Feather Christmas Decoration this the lowest quantity sold product."
   ]
  },
  {
   "cell_type": "markdown",
   "id": "7d659355",
   "metadata": {},
   "source": [
    "### Recomendetion"
   ]
  },
  {
   "cell_type": "markdown",
   "id": "ca361190",
   "metadata": {},
   "source": [
    "#### Seasonal Marketing\n",
    "Because this strategy can help your business increase sales and revenue of business products or services by attracting new and existing consumers on special offers. In practice, this strategy can be used at specific times such as Christmas. Because the region or country with the most sales is dominated by a country with a majority population celebrating Christmas."
   ]
  },
  {
   "cell_type": "markdown",
   "id": "cdd90acb",
   "metadata": {},
   "source": [
    "#### Maximizing sales through social media\n",
    "This is also important, because social media users are now widespread and therefore the use of advertisements on social media can increase customer attractiveness."
   ]
  },
  {
   "cell_type": "code",
   "execution_count": null,
   "id": "22929a85",
   "metadata": {},
   "outputs": [],
   "source": []
  }
 ],
 "metadata": {
  "kernelspec": {
   "display_name": "Python 3 (ipykernel)",
   "language": "python",
   "name": "python3"
  },
  "language_info": {
   "codemirror_mode": {
    "name": "ipython",
    "version": 3
   },
   "file_extension": ".py",
   "mimetype": "text/x-python",
   "name": "python",
   "nbconvert_exporter": "python",
   "pygments_lexer": "ipython3",
   "version": "3.9.7"
  }
 },
 "nbformat": 4,
 "nbformat_minor": 5
}
