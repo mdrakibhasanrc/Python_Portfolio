{
 "cells": [
  {
   "cell_type": "markdown",
   "id": "631ab9bd",
   "metadata": {},
   "source": [
    "0. Author: Md Rakib Hasan\n",
    "1. Date: 19-3-2023"
   ]
  },
  {
   "cell_type": "markdown",
   "id": "810edb73",
   "metadata": {},
   "source": [
    "# Project:Mobile Phone Price Data Analysis and Feature Engineering"
   ]
  },
  {
   "cell_type": "markdown",
   "id": "731a885d",
   "metadata": {},
   "source": [
    "About: This dataset contains information on the prices of several mobile phones from different brands. It includes details such as the storage capacity, RAM, screen size, camera specifications, battery capacity, and price of each device.\n",
    "Columns\n",
    "1. • Brand: the manufacturer of the phone\n",
    "2. • Model: the name of the phone model\n",
    "3. • Storage (GB): the amount of storage space (in gigabytes) available on the phone\n",
    "4. • RAM (GB): the amount of RAM (in gigabytes) available on the phone\n",
    "5. • Screen Size (inches): the size of the phone's display screen in inches\n",
    "6. • Camera (MP): the megapixel count of the phone's rear camera(s)\n",
    "7. • Battery Capacity (mAh): the capacity of the phone's battery in milliampere hours\n",
    "8. • Price ($): the retail price of the phone in US dollars\n",
    "Each row represents a different mobile phone model. The data can be used to analyze pricing trends and compare the features and prices of different mobile phones."
   ]
  },
  {
   "cell_type": "markdown",
   "id": "479ca3e7",
   "metadata": {},
   "source": [
    "# Import Library:"
   ]
  },
  {
   "cell_type": "code",
   "execution_count": 6,
   "id": "15be8d0c",
   "metadata": {},
   "outputs": [],
   "source": [
    "import pandas as pd\n",
    "import numpy as np\n",
    "import matplotlib.pyplot as plt\n",
    "import seaborn as sns\n",
    "%matplotlib inline\n",
    "import warnings\n",
    "warnings.filterwarnings(\"ignore\")"
   ]
  },
  {
   "cell_type": "markdown",
   "id": "394ca343",
   "metadata": {},
   "source": [
    "# Data Gathering:"
   ]
  },
  {
   "cell_type": "code",
   "execution_count": 7,
   "id": "1271b976",
   "metadata": {},
   "outputs": [
    {
     "data": {
      "text/html": [
       "<div>\n",
       "<style scoped>\n",
       "    .dataframe tbody tr th:only-of-type {\n",
       "        vertical-align: middle;\n",
       "    }\n",
       "\n",
       "    .dataframe tbody tr th {\n",
       "        vertical-align: top;\n",
       "    }\n",
       "\n",
       "    .dataframe thead th {\n",
       "        text-align: right;\n",
       "    }\n",
       "</style>\n",
       "<table border=\"1\" class=\"dataframe\">\n",
       "  <thead>\n",
       "    <tr style=\"text-align: right;\">\n",
       "      <th></th>\n",
       "      <th>Brand</th>\n",
       "      <th>Model</th>\n",
       "      <th>Storage</th>\n",
       "      <th>RAM</th>\n",
       "      <th>Screen Size (inches)</th>\n",
       "      <th>Camera (MP)</th>\n",
       "      <th>Battery Capacity (mAh)</th>\n",
       "      <th>Price ($)</th>\n",
       "    </tr>\n",
       "  </thead>\n",
       "  <tbody>\n",
       "    <tr>\n",
       "      <th>0</th>\n",
       "      <td>Apple</td>\n",
       "      <td>iPhone 13 Pro</td>\n",
       "      <td>128 GB</td>\n",
       "      <td>6 GB</td>\n",
       "      <td>6.1</td>\n",
       "      <td>12 + 12 + 12</td>\n",
       "      <td>3095</td>\n",
       "      <td>999</td>\n",
       "    </tr>\n",
       "    <tr>\n",
       "      <th>1</th>\n",
       "      <td>Samsung</td>\n",
       "      <td>Galaxy S21 Ultra</td>\n",
       "      <td>256 GB</td>\n",
       "      <td>12 GB</td>\n",
       "      <td>6.8</td>\n",
       "      <td>108 + 10 + 10 + 12</td>\n",
       "      <td>5000</td>\n",
       "      <td>1199</td>\n",
       "    </tr>\n",
       "    <tr>\n",
       "      <th>2</th>\n",
       "      <td>OnePlus</td>\n",
       "      <td>9 Pro</td>\n",
       "      <td>128 GB</td>\n",
       "      <td>8 GB</td>\n",
       "      <td>6.7</td>\n",
       "      <td>48 + 50 + 8 + 2</td>\n",
       "      <td>4500</td>\n",
       "      <td>899</td>\n",
       "    </tr>\n",
       "    <tr>\n",
       "      <th>3</th>\n",
       "      <td>Xiaomi</td>\n",
       "      <td>Redmi Note 10 Pro</td>\n",
       "      <td>128 GB</td>\n",
       "      <td>6 GB</td>\n",
       "      <td>6.67</td>\n",
       "      <td>64 + 8 + 5 + 2</td>\n",
       "      <td>5020</td>\n",
       "      <td>279</td>\n",
       "    </tr>\n",
       "    <tr>\n",
       "      <th>4</th>\n",
       "      <td>Google</td>\n",
       "      <td>Pixel 6</td>\n",
       "      <td>128 GB</td>\n",
       "      <td>8 GB</td>\n",
       "      <td>6.4</td>\n",
       "      <td>50 + 12.2</td>\n",
       "      <td>4614</td>\n",
       "      <td>799</td>\n",
       "    </tr>\n",
       "    <tr>\n",
       "      <th>...</th>\n",
       "      <td>...</td>\n",
       "      <td>...</td>\n",
       "      <td>...</td>\n",
       "      <td>...</td>\n",
       "      <td>...</td>\n",
       "      <td>...</td>\n",
       "      <td>...</td>\n",
       "      <td>...</td>\n",
       "    </tr>\n",
       "    <tr>\n",
       "      <th>402</th>\n",
       "      <td>Samsung</td>\n",
       "      <td>Galaxy Note20 5G</td>\n",
       "      <td>128</td>\n",
       "      <td>8</td>\n",
       "      <td>6.7</td>\n",
       "      <td>12+64+12</td>\n",
       "      <td>4300</td>\n",
       "      <td>1049</td>\n",
       "    </tr>\n",
       "    <tr>\n",
       "      <th>403</th>\n",
       "      <td>Xiaomi</td>\n",
       "      <td>Mi 10 Lite 5G</td>\n",
       "      <td>128</td>\n",
       "      <td>6</td>\n",
       "      <td>6.57</td>\n",
       "      <td>48+8+2+2</td>\n",
       "      <td>4160</td>\n",
       "      <td>349</td>\n",
       "    </tr>\n",
       "    <tr>\n",
       "      <th>404</th>\n",
       "      <td>Apple</td>\n",
       "      <td>iPhone 12 Pro Max</td>\n",
       "      <td>128</td>\n",
       "      <td>6</td>\n",
       "      <td>6.7</td>\n",
       "      <td>12+12+12</td>\n",
       "      <td>3687</td>\n",
       "      <td>1099</td>\n",
       "    </tr>\n",
       "    <tr>\n",
       "      <th>405</th>\n",
       "      <td>Oppo</td>\n",
       "      <td>Reno3</td>\n",
       "      <td>128</td>\n",
       "      <td>8</td>\n",
       "      <td>6.4</td>\n",
       "      <td>48+13+8+2</td>\n",
       "      <td>4025</td>\n",
       "      <td>429</td>\n",
       "    </tr>\n",
       "    <tr>\n",
       "      <th>406</th>\n",
       "      <td>Samsung</td>\n",
       "      <td>Galaxy S10 Lite</td>\n",
       "      <td>128</td>\n",
       "      <td>6</td>\n",
       "      <td>6.7</td>\n",
       "      <td>48+12+5</td>\n",
       "      <td>4500</td>\n",
       "      <td>649</td>\n",
       "    </tr>\n",
       "  </tbody>\n",
       "</table>\n",
       "<p>407 rows × 8 columns</p>\n",
       "</div>"
      ],
      "text/plain": [
       "       Brand              Model Storage    RAM  Screen Size (inches)  \\\n",
       "0      Apple      iPhone 13 Pro   128 GB   6 GB                  6.1   \n",
       "1    Samsung   Galaxy S21 Ultra   256 GB  12 GB                  6.8   \n",
       "2    OnePlus              9 Pro   128 GB   8 GB                  6.7   \n",
       "3     Xiaomi  Redmi Note 10 Pro   128 GB   6 GB                 6.67   \n",
       "4     Google            Pixel 6   128 GB   8 GB                  6.4   \n",
       "..       ...                ...      ...    ...                  ...   \n",
       "402  Samsung   Galaxy Note20 5G      128      8                  6.7   \n",
       "403   Xiaomi      Mi 10 Lite 5G      128      6                 6.57   \n",
       "404    Apple  iPhone 12 Pro Max      128      6                  6.7   \n",
       "405     Oppo              Reno3      128      8                  6.4   \n",
       "406  Samsung    Galaxy S10 Lite      128      6                  6.7   \n",
       "\n",
       "            Camera (MP)  Battery Capacity (mAh) Price ($)  \n",
       "0          12 + 12 + 12                    3095       999  \n",
       "1    108 + 10 + 10 + 12                    5000      1199  \n",
       "2       48 + 50 + 8 + 2                    4500       899  \n",
       "3        64 + 8 + 5 + 2                    5020       279  \n",
       "4             50 + 12.2                    4614       799  \n",
       "..                  ...                     ...       ...  \n",
       "402            12+64+12                    4300      1049  \n",
       "403            48+8+2+2                    4160       349  \n",
       "404            12+12+12                    3687      1099  \n",
       "405           48+13+8+2                    4025       429  \n",
       "406             48+12+5                    4500       649  \n",
       "\n",
       "[407 rows x 8 columns]"
      ]
     },
     "execution_count": 7,
     "metadata": {},
     "output_type": "execute_result"
    }
   ],
   "source": [
    "df=pd.read_csv('Mobile phone price.csv')\n",
    "df"
   ]
  },
  {
   "cell_type": "markdown",
   "id": "088eee30",
   "metadata": {},
   "source": [
    "# Understanding Data:"
   ]
  },
  {
   "cell_type": "code",
   "execution_count": 8,
   "id": "639deac9",
   "metadata": {},
   "outputs": [
    {
     "data": {
      "text/html": [
       "<div>\n",
       "<style scoped>\n",
       "    .dataframe tbody tr th:only-of-type {\n",
       "        vertical-align: middle;\n",
       "    }\n",
       "\n",
       "    .dataframe tbody tr th {\n",
       "        vertical-align: top;\n",
       "    }\n",
       "\n",
       "    .dataframe thead th {\n",
       "        text-align: right;\n",
       "    }\n",
       "</style>\n",
       "<table border=\"1\" class=\"dataframe\">\n",
       "  <thead>\n",
       "    <tr style=\"text-align: right;\">\n",
       "      <th></th>\n",
       "      <th>Brand</th>\n",
       "      <th>Model</th>\n",
       "      <th>Storage</th>\n",
       "      <th>RAM</th>\n",
       "      <th>Screen Size (inches)</th>\n",
       "      <th>Camera (MP)</th>\n",
       "      <th>Battery Capacity (mAh)</th>\n",
       "      <th>Price ($)</th>\n",
       "    </tr>\n",
       "  </thead>\n",
       "  <tbody>\n",
       "    <tr>\n",
       "      <th>0</th>\n",
       "      <td>Apple</td>\n",
       "      <td>iPhone 13 Pro</td>\n",
       "      <td>128 GB</td>\n",
       "      <td>6 GB</td>\n",
       "      <td>6.1</td>\n",
       "      <td>12 + 12 + 12</td>\n",
       "      <td>3095</td>\n",
       "      <td>999</td>\n",
       "    </tr>\n",
       "    <tr>\n",
       "      <th>1</th>\n",
       "      <td>Samsung</td>\n",
       "      <td>Galaxy S21 Ultra</td>\n",
       "      <td>256 GB</td>\n",
       "      <td>12 GB</td>\n",
       "      <td>6.8</td>\n",
       "      <td>108 + 10 + 10 + 12</td>\n",
       "      <td>5000</td>\n",
       "      <td>1199</td>\n",
       "    </tr>\n",
       "    <tr>\n",
       "      <th>2</th>\n",
       "      <td>OnePlus</td>\n",
       "      <td>9 Pro</td>\n",
       "      <td>128 GB</td>\n",
       "      <td>8 GB</td>\n",
       "      <td>6.7</td>\n",
       "      <td>48 + 50 + 8 + 2</td>\n",
       "      <td>4500</td>\n",
       "      <td>899</td>\n",
       "    </tr>\n",
       "    <tr>\n",
       "      <th>3</th>\n",
       "      <td>Xiaomi</td>\n",
       "      <td>Redmi Note 10 Pro</td>\n",
       "      <td>128 GB</td>\n",
       "      <td>6 GB</td>\n",
       "      <td>6.67</td>\n",
       "      <td>64 + 8 + 5 + 2</td>\n",
       "      <td>5020</td>\n",
       "      <td>279</td>\n",
       "    </tr>\n",
       "    <tr>\n",
       "      <th>4</th>\n",
       "      <td>Google</td>\n",
       "      <td>Pixel 6</td>\n",
       "      <td>128 GB</td>\n",
       "      <td>8 GB</td>\n",
       "      <td>6.4</td>\n",
       "      <td>50 + 12.2</td>\n",
       "      <td>4614</td>\n",
       "      <td>799</td>\n",
       "    </tr>\n",
       "  </tbody>\n",
       "</table>\n",
       "</div>"
      ],
      "text/plain": [
       "     Brand              Model Storage    RAM  Screen Size (inches)  \\\n",
       "0    Apple      iPhone 13 Pro   128 GB   6 GB                  6.1   \n",
       "1  Samsung   Galaxy S21 Ultra   256 GB  12 GB                  6.8   \n",
       "2  OnePlus              9 Pro   128 GB   8 GB                  6.7   \n",
       "3   Xiaomi  Redmi Note 10 Pro   128 GB   6 GB                 6.67   \n",
       "4   Google            Pixel 6   128 GB   8 GB                  6.4   \n",
       "\n",
       "          Camera (MP)  Battery Capacity (mAh) Price ($)  \n",
       "0        12 + 12 + 12                    3095       999  \n",
       "1  108 + 10 + 10 + 12                    5000      1199  \n",
       "2     48 + 50 + 8 + 2                    4500       899  \n",
       "3      64 + 8 + 5 + 2                    5020       279  \n",
       "4           50 + 12.2                    4614       799  "
      ]
     },
     "execution_count": 8,
     "metadata": {},
     "output_type": "execute_result"
    }
   ],
   "source": [
    "# show first five rows\n",
    "df.head(5)"
   ]
  },
  {
   "cell_type": "code",
   "execution_count": 9,
   "id": "4b3eae0a",
   "metadata": {},
   "outputs": [
    {
     "data": {
      "text/html": [
       "<div>\n",
       "<style scoped>\n",
       "    .dataframe tbody tr th:only-of-type {\n",
       "        vertical-align: middle;\n",
       "    }\n",
       "\n",
       "    .dataframe tbody tr th {\n",
       "        vertical-align: top;\n",
       "    }\n",
       "\n",
       "    .dataframe thead th {\n",
       "        text-align: right;\n",
       "    }\n",
       "</style>\n",
       "<table border=\"1\" class=\"dataframe\">\n",
       "  <thead>\n",
       "    <tr style=\"text-align: right;\">\n",
       "      <th></th>\n",
       "      <th>Brand</th>\n",
       "      <th>Model</th>\n",
       "      <th>Storage</th>\n",
       "      <th>RAM</th>\n",
       "      <th>Screen Size (inches)</th>\n",
       "      <th>Camera (MP)</th>\n",
       "      <th>Battery Capacity (mAh)</th>\n",
       "      <th>Price ($)</th>\n",
       "    </tr>\n",
       "  </thead>\n",
       "  <tbody>\n",
       "    <tr>\n",
       "      <th>402</th>\n",
       "      <td>Samsung</td>\n",
       "      <td>Galaxy Note20 5G</td>\n",
       "      <td>128</td>\n",
       "      <td>8</td>\n",
       "      <td>6.7</td>\n",
       "      <td>12+64+12</td>\n",
       "      <td>4300</td>\n",
       "      <td>1049</td>\n",
       "    </tr>\n",
       "    <tr>\n",
       "      <th>403</th>\n",
       "      <td>Xiaomi</td>\n",
       "      <td>Mi 10 Lite 5G</td>\n",
       "      <td>128</td>\n",
       "      <td>6</td>\n",
       "      <td>6.57</td>\n",
       "      <td>48+8+2+2</td>\n",
       "      <td>4160</td>\n",
       "      <td>349</td>\n",
       "    </tr>\n",
       "    <tr>\n",
       "      <th>404</th>\n",
       "      <td>Apple</td>\n",
       "      <td>iPhone 12 Pro Max</td>\n",
       "      <td>128</td>\n",
       "      <td>6</td>\n",
       "      <td>6.7</td>\n",
       "      <td>12+12+12</td>\n",
       "      <td>3687</td>\n",
       "      <td>1099</td>\n",
       "    </tr>\n",
       "    <tr>\n",
       "      <th>405</th>\n",
       "      <td>Oppo</td>\n",
       "      <td>Reno3</td>\n",
       "      <td>128</td>\n",
       "      <td>8</td>\n",
       "      <td>6.4</td>\n",
       "      <td>48+13+8+2</td>\n",
       "      <td>4025</td>\n",
       "      <td>429</td>\n",
       "    </tr>\n",
       "    <tr>\n",
       "      <th>406</th>\n",
       "      <td>Samsung</td>\n",
       "      <td>Galaxy S10 Lite</td>\n",
       "      <td>128</td>\n",
       "      <td>6</td>\n",
       "      <td>6.7</td>\n",
       "      <td>48+12+5</td>\n",
       "      <td>4500</td>\n",
       "      <td>649</td>\n",
       "    </tr>\n",
       "  </tbody>\n",
       "</table>\n",
       "</div>"
      ],
      "text/plain": [
       "       Brand              Model Storage  RAM  Screen Size (inches)  \\\n",
       "402  Samsung   Galaxy Note20 5G      128    8                  6.7   \n",
       "403   Xiaomi      Mi 10 Lite 5G      128    6                 6.57   \n",
       "404    Apple  iPhone 12 Pro Max      128    6                  6.7   \n",
       "405     Oppo              Reno3      128    8                  6.4   \n",
       "406  Samsung    Galaxy S10 Lite      128    6                  6.7   \n",
       "\n",
       "    Camera (MP)  Battery Capacity (mAh) Price ($)  \n",
       "402    12+64+12                    4300      1049  \n",
       "403    48+8+2+2                    4160       349  \n",
       "404    12+12+12                    3687      1099  \n",
       "405   48+13+8+2                    4025       429  \n",
       "406     48+12+5                    4500       649  "
      ]
     },
     "execution_count": 9,
     "metadata": {},
     "output_type": "execute_result"
    }
   ],
   "source": [
    "# show last five rows\n",
    "df.tail(5)"
   ]
  },
  {
   "cell_type": "code",
   "execution_count": 10,
   "id": "8b44ac48",
   "metadata": {},
   "outputs": [
    {
     "data": {
      "text/html": [
       "<div>\n",
       "<style scoped>\n",
       "    .dataframe tbody tr th:only-of-type {\n",
       "        vertical-align: middle;\n",
       "    }\n",
       "\n",
       "    .dataframe tbody tr th {\n",
       "        vertical-align: top;\n",
       "    }\n",
       "\n",
       "    .dataframe thead th {\n",
       "        text-align: right;\n",
       "    }\n",
       "</style>\n",
       "<table border=\"1\" class=\"dataframe\">\n",
       "  <thead>\n",
       "    <tr style=\"text-align: right;\">\n",
       "      <th></th>\n",
       "      <th>Brand</th>\n",
       "      <th>Model</th>\n",
       "      <th>Storage</th>\n",
       "      <th>RAM</th>\n",
       "      <th>Screen Size (inches)</th>\n",
       "      <th>Camera (MP)</th>\n",
       "      <th>Battery Capacity (mAh)</th>\n",
       "      <th>Price ($)</th>\n",
       "    </tr>\n",
       "  </thead>\n",
       "  <tbody>\n",
       "    <tr>\n",
       "      <th>387</th>\n",
       "      <td>Samsung</td>\n",
       "      <td>Galaxy S21</td>\n",
       "      <td>128</td>\n",
       "      <td>8</td>\n",
       "      <td>6.2</td>\n",
       "      <td>64+12+12</td>\n",
       "      <td>4000</td>\n",
       "      <td>799</td>\n",
       "    </tr>\n",
       "    <tr>\n",
       "      <th>195</th>\n",
       "      <td>Oppo</td>\n",
       "      <td>A74 5G</td>\n",
       "      <td>128GB</td>\n",
       "      <td>6GB</td>\n",
       "      <td>6.5</td>\n",
       "      <td>48MP + 2MP + 2MP</td>\n",
       "      <td>5000</td>\n",
       "      <td>$299</td>\n",
       "    </tr>\n",
       "    <tr>\n",
       "      <th>213</th>\n",
       "      <td>Xiaomi</td>\n",
       "      <td>Poco X3 Pro</td>\n",
       "      <td>128GB</td>\n",
       "      <td>6GB</td>\n",
       "      <td>6.67</td>\n",
       "      <td>48MP + 8MP + 2MP + 2MP</td>\n",
       "      <td>5160</td>\n",
       "      <td>$299</td>\n",
       "    </tr>\n",
       "    <tr>\n",
       "      <th>288</th>\n",
       "      <td>Samsung</td>\n",
       "      <td>Galaxy Note 20 Ultra</td>\n",
       "      <td>256</td>\n",
       "      <td>12</td>\n",
       "      <td>6.9</td>\n",
       "      <td>108+12+12</td>\n",
       "      <td>4500</td>\n",
       "      <td>1299</td>\n",
       "    </tr>\n",
       "    <tr>\n",
       "      <th>101</th>\n",
       "      <td>CAT</td>\n",
       "      <td>S42</td>\n",
       "      <td>32GB</td>\n",
       "      <td>3GB</td>\n",
       "      <td>5.5</td>\n",
       "      <td>13MP + 5MP</td>\n",
       "      <td>4200</td>\n",
       "      <td>$299</td>\n",
       "    </tr>\n",
       "  </tbody>\n",
       "</table>\n",
       "</div>"
      ],
      "text/plain": [
       "       Brand                 Model Storage  RAM  Screen Size (inches)  \\\n",
       "387  Samsung            Galaxy S21      128    8                  6.2   \n",
       "195     Oppo                A74 5G    128GB  6GB                  6.5   \n",
       "213   Xiaomi           Poco X3 Pro    128GB  6GB                 6.67   \n",
       "288  Samsung  Galaxy Note 20 Ultra      256   12                  6.9   \n",
       "101      CAT                   S42     32GB  3GB                  5.5   \n",
       "\n",
       "                Camera (MP)  Battery Capacity (mAh) Price ($)  \n",
       "387                64+12+12                    4000       799  \n",
       "195        48MP + 2MP + 2MP                    5000     $299   \n",
       "213  48MP + 8MP + 2MP + 2MP                    5160     $299   \n",
       "288               108+12+12                    4500      1299  \n",
       "101              13MP + 5MP                    4200     $299   "
      ]
     },
     "execution_count": 10,
     "metadata": {},
     "output_type": "execute_result"
    }
   ],
   "source": [
    "# show random five rows\n",
    "df.sample(5)"
   ]
  },
  {
   "cell_type": "code",
   "execution_count": 12,
   "id": "d8c1a01c",
   "metadata": {},
   "outputs": [
    {
     "data": {
      "text/plain": [
       "Index(['Brand', 'Model', 'Storage ', 'RAM ', 'Screen Size (inches)',\n",
       "       'Camera (MP)', 'Battery Capacity (mAh)', 'Price ($)'],\n",
       "      dtype='object')"
      ]
     },
     "execution_count": 12,
     "metadata": {},
     "output_type": "execute_result"
    }
   ],
   "source": [
    "# show data columns\n",
    "df.columns"
   ]
  },
  {
   "cell_type": "code",
   "execution_count": 13,
   "id": "50336886",
   "metadata": {},
   "outputs": [
    {
     "data": {
      "text/plain": [
       "(407, 8)"
      ]
     },
     "execution_count": 13,
     "metadata": {},
     "output_type": "execute_result"
    }
   ],
   "source": [
    "# show data shape\n",
    "df.shape"
   ]
  },
  {
   "cell_type": "code",
   "execution_count": 14,
   "id": "57c37b5f",
   "metadata": {},
   "outputs": [
    {
     "data": {
      "text/plain": [
       "Brand                     object\n",
       "Model                     object\n",
       "Storage                   object\n",
       "RAM                       object\n",
       "Screen Size (inches)      object\n",
       "Camera (MP)               object\n",
       "Battery Capacity (mAh)     int64\n",
       "Price ($)                 object\n",
       "dtype: object"
      ]
     },
     "execution_count": 14,
     "metadata": {},
     "output_type": "execute_result"
    }
   ],
   "source": [
    "# show data types\n",
    "df.dtypes"
   ]
  },
  {
   "cell_type": "code",
   "execution_count": 15,
   "id": "29779302",
   "metadata": {},
   "outputs": [
    {
     "name": "stdout",
     "output_type": "stream",
     "text": [
      "<class 'pandas.core.frame.DataFrame'>\n",
      "RangeIndex: 407 entries, 0 to 406\n",
      "Data columns (total 8 columns):\n",
      " #   Column                  Non-Null Count  Dtype \n",
      "---  ------                  --------------  ----- \n",
      " 0   Brand                   407 non-null    object\n",
      " 1   Model                   407 non-null    object\n",
      " 2   Storage                 407 non-null    object\n",
      " 3   RAM                     407 non-null    object\n",
      " 4   Screen Size (inches)    407 non-null    object\n",
      " 5   Camera (MP)             407 non-null    object\n",
      " 6   Battery Capacity (mAh)  407 non-null    int64 \n",
      " 7   Price ($)               407 non-null    object\n",
      "dtypes: int64(1), object(7)\n",
      "memory usage: 25.6+ KB\n"
     ]
    }
   ],
   "source": [
    "# show basic info\n",
    "df.info()"
   ]
  },
  {
   "cell_type": "markdown",
   "id": "c0e91fc5",
   "metadata": {},
   "source": [
    "# Data Cleaning:"
   ]
  },
  {
   "cell_type": "code",
   "execution_count": 16,
   "id": "1f1d7a95",
   "metadata": {},
   "outputs": [],
   "source": [
    "#rename columns\n",
    "df.rename(columns={\"Screen Size (inches)\":\"Screen_Size\",\"Camera (MP)\":\"Camera\",\"Battery Capacity (mAh)\":\"Battery_Capacity\",\"Price ($)\":\"Price\"},inplace=True)"
   ]
  },
  {
   "cell_type": "code",
   "execution_count": 28,
   "id": "2c184265",
   "metadata": {},
   "outputs": [],
   "source": [
    "#change data type price column\n",
    "df['Price']=df['Price'].str.replace('$',' ')\n",
    "df['Price']=df['Price'].str.replace(',',' ')\n",
    "df['Price']=df['Price'].str.replace(' ','')"
   ]
  },
  {
   "cell_type": "code",
   "execution_count": 29,
   "id": "dd906010",
   "metadata": {},
   "outputs": [],
   "source": [
    "#change data type price column\n",
    "df['Price']=df['Price'].astype('int')"
   ]
  },
  {
   "cell_type": "code",
   "execution_count": 30,
   "id": "263c3870",
   "metadata": {},
   "outputs": [
    {
     "data": {
      "text/html": [
       "<div>\n",
       "<style scoped>\n",
       "    .dataframe tbody tr th:only-of-type {\n",
       "        vertical-align: middle;\n",
       "    }\n",
       "\n",
       "    .dataframe tbody tr th {\n",
       "        vertical-align: top;\n",
       "    }\n",
       "\n",
       "    .dataframe thead th {\n",
       "        text-align: right;\n",
       "    }\n",
       "</style>\n",
       "<table border=\"1\" class=\"dataframe\">\n",
       "  <thead>\n",
       "    <tr style=\"text-align: right;\">\n",
       "      <th></th>\n",
       "      <th>Brand</th>\n",
       "      <th>Model</th>\n",
       "      <th>Storage</th>\n",
       "      <th>RAM</th>\n",
       "      <th>Screen_Size</th>\n",
       "      <th>Camera</th>\n",
       "      <th>Battery_Capacity</th>\n",
       "      <th>Price</th>\n",
       "    </tr>\n",
       "  </thead>\n",
       "  <tbody>\n",
       "    <tr>\n",
       "      <th>0</th>\n",
       "      <td>Apple</td>\n",
       "      <td>iPhone 13 Pro</td>\n",
       "      <td>128 GB</td>\n",
       "      <td>6 GB</td>\n",
       "      <td>6.1</td>\n",
       "      <td>12 + 12 + 12</td>\n",
       "      <td>3095</td>\n",
       "      <td>999</td>\n",
       "    </tr>\n",
       "    <tr>\n",
       "      <th>1</th>\n",
       "      <td>Samsung</td>\n",
       "      <td>Galaxy S21 Ultra</td>\n",
       "      <td>256 GB</td>\n",
       "      <td>12 GB</td>\n",
       "      <td>6.8</td>\n",
       "      <td>108 + 10 + 10 + 12</td>\n",
       "      <td>5000</td>\n",
       "      <td>1199</td>\n",
       "    </tr>\n",
       "  </tbody>\n",
       "</table>\n",
       "</div>"
      ],
      "text/plain": [
       "     Brand             Model Storage    RAM  Screen_Size              Camera  \\\n",
       "0    Apple     iPhone 13 Pro   128 GB   6 GB         6.1        12 + 12 + 12   \n",
       "1  Samsung  Galaxy S21 Ultra   256 GB  12 GB         6.8  108 + 10 + 10 + 12   \n",
       "\n",
       "   Battery_Capacity  Price  \n",
       "0              3095    999  \n",
       "1              5000   1199  "
      ]
     },
     "execution_count": 30,
     "metadata": {},
     "output_type": "execute_result"
    }
   ],
   "source": [
    "df.head(2)"
   ]
  },
  {
   "cell_type": "code",
   "execution_count": 39,
   "id": "f3be90e1",
   "metadata": {},
   "outputs": [
    {
     "ename": "KeyError",
     "evalue": "'Storage'",
     "output_type": "error",
     "traceback": [
      "\u001b[1;31m---------------------------------------------------------------------------\u001b[0m",
      "\u001b[1;31mKeyError\u001b[0m                                  Traceback (most recent call last)",
      "\u001b[1;32m~\\anaconda3\\lib\\site-packages\\pandas\\core\\indexes\\base.py\u001b[0m in \u001b[0;36mget_loc\u001b[1;34m(self, key, method, tolerance)\u001b[0m\n\u001b[0;32m   3360\u001b[0m             \u001b[1;32mtry\u001b[0m\u001b[1;33m:\u001b[0m\u001b[1;33m\u001b[0m\u001b[1;33m\u001b[0m\u001b[0m\n\u001b[1;32m-> 3361\u001b[1;33m                 \u001b[1;32mreturn\u001b[0m \u001b[0mself\u001b[0m\u001b[1;33m.\u001b[0m\u001b[0m_engine\u001b[0m\u001b[1;33m.\u001b[0m\u001b[0mget_loc\u001b[0m\u001b[1;33m(\u001b[0m\u001b[0mcasted_key\u001b[0m\u001b[1;33m)\u001b[0m\u001b[1;33m\u001b[0m\u001b[1;33m\u001b[0m\u001b[0m\n\u001b[0m\u001b[0;32m   3362\u001b[0m             \u001b[1;32mexcept\u001b[0m \u001b[0mKeyError\u001b[0m \u001b[1;32mas\u001b[0m \u001b[0merr\u001b[0m\u001b[1;33m:\u001b[0m\u001b[1;33m\u001b[0m\u001b[1;33m\u001b[0m\u001b[0m\n",
      "\u001b[1;32m~\\anaconda3\\lib\\site-packages\\pandas\\_libs\\index.pyx\u001b[0m in \u001b[0;36mpandas._libs.index.IndexEngine.get_loc\u001b[1;34m()\u001b[0m\n",
      "\u001b[1;32m~\\anaconda3\\lib\\site-packages\\pandas\\_libs\\index.pyx\u001b[0m in \u001b[0;36mpandas._libs.index.IndexEngine.get_loc\u001b[1;34m()\u001b[0m\n",
      "\u001b[1;32mpandas\\_libs\\hashtable_class_helper.pxi\u001b[0m in \u001b[0;36mpandas._libs.hashtable.PyObjectHashTable.get_item\u001b[1;34m()\u001b[0m\n",
      "\u001b[1;32mpandas\\_libs\\hashtable_class_helper.pxi\u001b[0m in \u001b[0;36mpandas._libs.hashtable.PyObjectHashTable.get_item\u001b[1;34m()\u001b[0m\n",
      "\u001b[1;31mKeyError\u001b[0m: 'Storage'",
      "\nThe above exception was the direct cause of the following exception:\n",
      "\u001b[1;31mKeyError\u001b[0m                                  Traceback (most recent call last)",
      "\u001b[1;32mC:\\Users\\RAKIBH~1\\AppData\\Local\\Temp/ipykernel_6704/665336964.py\u001b[0m in \u001b[0;36m<module>\u001b[1;34m\u001b[0m\n\u001b[1;32m----> 1\u001b[1;33m \u001b[0mdf\u001b[0m\u001b[1;33m[\u001b[0m\u001b[1;34m'Storage'\u001b[0m\u001b[1;33m]\u001b[0m\u001b[1;33m=\u001b[0m\u001b[0mdf\u001b[0m\u001b[1;33m[\u001b[0m\u001b[1;34m'Storage'\u001b[0m\u001b[1;33m]\u001b[0m\u001b[1;33m.\u001b[0m\u001b[0mstr\u001b[0m\u001b[1;33m.\u001b[0m\u001b[0mreplace\u001b[0m\u001b[1;33m(\u001b[0m\u001b[1;34m'GB'\u001b[0m\u001b[1;33m,\u001b[0m\u001b[1;34m''\u001b[0m\u001b[1;33m)\u001b[0m\u001b[1;33m\u001b[0m\u001b[1;33m\u001b[0m\u001b[0m\n\u001b[0m\u001b[0;32m      2\u001b[0m \u001b[0mdf\u001b[0m\u001b[1;33m[\u001b[0m\u001b[1;34m'RAM'\u001b[0m\u001b[1;33m]\u001b[0m\u001b[1;33m=\u001b[0m\u001b[0mdf\u001b[0m\u001b[1;33m[\u001b[0m\u001b[1;34m'RAM'\u001b[0m\u001b[1;33m]\u001b[0m\u001b[1;33m.\u001b[0m\u001b[0mstr\u001b[0m\u001b[1;33m.\u001b[0m\u001b[0mreplace\u001b[0m\u001b[1;33m(\u001b[0m\u001b[1;34m'GB'\u001b[0m\u001b[1;33m,\u001b[0m\u001b[1;34m''\u001b[0m\u001b[1;33m)\u001b[0m\u001b[1;33m\u001b[0m\u001b[1;33m\u001b[0m\u001b[0m\n",
      "\u001b[1;32m~\\anaconda3\\lib\\site-packages\\pandas\\core\\frame.py\u001b[0m in \u001b[0;36m__getitem__\u001b[1;34m(self, key)\u001b[0m\n\u001b[0;32m   3456\u001b[0m             \u001b[1;32mif\u001b[0m \u001b[0mself\u001b[0m\u001b[1;33m.\u001b[0m\u001b[0mcolumns\u001b[0m\u001b[1;33m.\u001b[0m\u001b[0mnlevels\u001b[0m \u001b[1;33m>\u001b[0m \u001b[1;36m1\u001b[0m\u001b[1;33m:\u001b[0m\u001b[1;33m\u001b[0m\u001b[1;33m\u001b[0m\u001b[0m\n\u001b[0;32m   3457\u001b[0m                 \u001b[1;32mreturn\u001b[0m \u001b[0mself\u001b[0m\u001b[1;33m.\u001b[0m\u001b[0m_getitem_multilevel\u001b[0m\u001b[1;33m(\u001b[0m\u001b[0mkey\u001b[0m\u001b[1;33m)\u001b[0m\u001b[1;33m\u001b[0m\u001b[1;33m\u001b[0m\u001b[0m\n\u001b[1;32m-> 3458\u001b[1;33m             \u001b[0mindexer\u001b[0m \u001b[1;33m=\u001b[0m \u001b[0mself\u001b[0m\u001b[1;33m.\u001b[0m\u001b[0mcolumns\u001b[0m\u001b[1;33m.\u001b[0m\u001b[0mget_loc\u001b[0m\u001b[1;33m(\u001b[0m\u001b[0mkey\u001b[0m\u001b[1;33m)\u001b[0m\u001b[1;33m\u001b[0m\u001b[1;33m\u001b[0m\u001b[0m\n\u001b[0m\u001b[0;32m   3459\u001b[0m             \u001b[1;32mif\u001b[0m \u001b[0mis_integer\u001b[0m\u001b[1;33m(\u001b[0m\u001b[0mindexer\u001b[0m\u001b[1;33m)\u001b[0m\u001b[1;33m:\u001b[0m\u001b[1;33m\u001b[0m\u001b[1;33m\u001b[0m\u001b[0m\n\u001b[0;32m   3460\u001b[0m                 \u001b[0mindexer\u001b[0m \u001b[1;33m=\u001b[0m \u001b[1;33m[\u001b[0m\u001b[0mindexer\u001b[0m\u001b[1;33m]\u001b[0m\u001b[1;33m\u001b[0m\u001b[1;33m\u001b[0m\u001b[0m\n",
      "\u001b[1;32m~\\anaconda3\\lib\\site-packages\\pandas\\core\\indexes\\base.py\u001b[0m in \u001b[0;36mget_loc\u001b[1;34m(self, key, method, tolerance)\u001b[0m\n\u001b[0;32m   3361\u001b[0m                 \u001b[1;32mreturn\u001b[0m \u001b[0mself\u001b[0m\u001b[1;33m.\u001b[0m\u001b[0m_engine\u001b[0m\u001b[1;33m.\u001b[0m\u001b[0mget_loc\u001b[0m\u001b[1;33m(\u001b[0m\u001b[0mcasted_key\u001b[0m\u001b[1;33m)\u001b[0m\u001b[1;33m\u001b[0m\u001b[1;33m\u001b[0m\u001b[0m\n\u001b[0;32m   3362\u001b[0m             \u001b[1;32mexcept\u001b[0m \u001b[0mKeyError\u001b[0m \u001b[1;32mas\u001b[0m \u001b[0merr\u001b[0m\u001b[1;33m:\u001b[0m\u001b[1;33m\u001b[0m\u001b[1;33m\u001b[0m\u001b[0m\n\u001b[1;32m-> 3363\u001b[1;33m                 \u001b[1;32mraise\u001b[0m \u001b[0mKeyError\u001b[0m\u001b[1;33m(\u001b[0m\u001b[0mkey\u001b[0m\u001b[1;33m)\u001b[0m \u001b[1;32mfrom\u001b[0m \u001b[0merr\u001b[0m\u001b[1;33m\u001b[0m\u001b[1;33m\u001b[0m\u001b[0m\n\u001b[0m\u001b[0;32m   3364\u001b[0m \u001b[1;33m\u001b[0m\u001b[0m\n\u001b[0;32m   3365\u001b[0m         \u001b[1;32mif\u001b[0m \u001b[0mis_scalar\u001b[0m\u001b[1;33m(\u001b[0m\u001b[0mkey\u001b[0m\u001b[1;33m)\u001b[0m \u001b[1;32mand\u001b[0m \u001b[0misna\u001b[0m\u001b[1;33m(\u001b[0m\u001b[0mkey\u001b[0m\u001b[1;33m)\u001b[0m \u001b[1;32mand\u001b[0m \u001b[1;32mnot\u001b[0m \u001b[0mself\u001b[0m\u001b[1;33m.\u001b[0m\u001b[0mhasnans\u001b[0m\u001b[1;33m:\u001b[0m\u001b[1;33m\u001b[0m\u001b[1;33m\u001b[0m\u001b[0m\n",
      "\u001b[1;31mKeyError\u001b[0m: 'Storage'"
     ]
    }
   ],
   "source": [
    "df['Storage']=df['Storage'].str.replace('GB','')\n",
    "df['RAM']=df['RAM'].str.replace('GB','')"
   ]
  },
  {
   "cell_type": "code",
   "execution_count": 41,
   "id": "b186ed1b",
   "metadata": {},
   "outputs": [
    {
     "data": {
      "text/plain": [
       "26"
      ]
     },
     "execution_count": 41,
     "metadata": {},
     "output_type": "execute_result"
    }
   ],
   "source": [
    "#check duplicated Value\n",
    "df.duplicated().sum()"
   ]
  },
  {
   "cell_type": "code",
   "execution_count": 42,
   "id": "1c172e30",
   "metadata": {},
   "outputs": [],
   "source": [
    "#drop duplicatd values\n",
    "df.drop_duplicates(inplace=True)"
   ]
  },
  {
   "cell_type": "code",
   "execution_count": 43,
   "id": "821be688",
   "metadata": {},
   "outputs": [
    {
     "data": {
      "text/plain": [
       "0"
      ]
     },
     "execution_count": 43,
     "metadata": {},
     "output_type": "execute_result"
    }
   ],
   "source": [
    "df.duplicated().sum()"
   ]
  },
  {
   "cell_type": "code",
   "execution_count": 44,
   "id": "91fc144a",
   "metadata": {},
   "outputs": [
    {
     "data": {
      "text/plain": [
       "Brand               0\n",
       "Model               0\n",
       "Storage             0\n",
       "RAM                 0\n",
       "Screen_Size         0\n",
       "Camera              0\n",
       "Battery_Capacity    0\n",
       "Price               0\n",
       "dtype: int64"
      ]
     },
     "execution_count": 44,
     "metadata": {},
     "output_type": "execute_result"
    }
   ],
   "source": [
    "#check null value\n",
    "df.isnull().sum()"
   ]
  },
  {
   "cell_type": "code",
   "execution_count": 45,
   "id": "57381f28",
   "metadata": {},
   "outputs": [
    {
     "data": {
      "image/png": "[encoded data removed]",
      "text/plain": [
       "<Figure size 432x288 with 1 Axes>"
      ]
     },
     "metadata": {
      "needs_background": "light"
     },
     "output_type": "display_data"
    }
   ],
   "source": [
    "#plot null values\n",
    "sns.heatmap(df.isnull(),yticklabels=False,cmap='viridis',cbar=False)\n",
    "plt.title('Missing Value Plot');"
   ]
  },
  {
   "cell_type": "markdown",
   "id": "eb8d8477",
   "metadata": {},
   "source": [
    "# Feature Engineering:"
   ]
  },
  {
   "cell_type": "code",
   "execution_count": 46,
   "id": "1de0fcfd",
   "metadata": {},
   "outputs": [],
   "source": [
    "#create new feature\n",
    "df['n_camera']=df['Camera'].str.count(\"\\\\+\")+1"
   ]
  },
  {
   "cell_type": "code",
   "execution_count": 50,
   "id": "c8af7549",
   "metadata": {},
   "outputs": [],
   "source": [
    "res1=[]\n",
    "res2=[]\n",
    "res3=[]\n",
    "res4=[]\n",
    "\n",
    "for x in df['Camera']:\n",
    "    res=x.split('+')\n",
    "    tam=len(res)\n",
    "    \n",
    "    if tam==1:\n",
    "        res1.append(res[0])\n",
    "        res2.append(\"0\")\n",
    "        res3.append(\"0\")\n",
    "        res4.append(\"0\")\n",
    "    if tam==2:\n",
    "        res1.append(res[0])\n",
    "        res2.append(res[1])\n",
    "        res3.append(\"0\")\n",
    "        res4.append(\"0\")\n",
    "    if tam==3:\n",
    "        res1.append(res[0])\n",
    "        res2.append(res[1])\n",
    "        res3.append(res[2])\n",
    "        res4.append(\"0\")\n",
    "    if tam==4:\n",
    "        res1.append(res[0])\n",
    "        res2.append(res[1])\n",
    "        res3.append(res[2])\n",
    "        res4.append(res[3])\n",
    "df['Res1']=res1\n",
    "df['Res2']=res2\n",
    "df['Res3']=res3\n",
    "df['Res4']=res4"
   ]
  },
  {
   "cell_type": "code",
   "execution_count": 52,
   "id": "8c8f4268",
   "metadata": {},
   "outputs": [],
   "source": [
    "df.drop(columns=['Camera'],axis=1,inplace=True)"
   ]
  },
  {
   "cell_type": "code",
   "execution_count": 53,
   "id": "94049d1d",
   "metadata": {},
   "outputs": [
    {
     "data": {
      "text/html": [
       "<div>\n",
       "<style scoped>\n",
       "    .dataframe tbody tr th:only-of-type {\n",
       "        vertical-align: middle;\n",
       "    }\n",
       "\n",
       "    .dataframe tbody tr th {\n",
       "        vertical-align: top;\n",
       "    }\n",
       "\n",
       "    .dataframe thead th {\n",
       "        text-align: right;\n",
       "    }\n",
       "</style>\n",
       "<table border=\"1\" class=\"dataframe\">\n",
       "  <thead>\n",
       "    <tr style=\"text-align: right;\">\n",
       "      <th></th>\n",
       "      <th>Brand</th>\n",
       "      <th>Model</th>\n",
       "      <th>Storage</th>\n",
       "      <th>RAM</th>\n",
       "      <th>Screen_Size</th>\n",
       "      <th>Battery_Capacity</th>\n",
       "      <th>Price</th>\n",
       "      <th>n_camera</th>\n",
       "      <th>Res1</th>\n",
       "      <th>Res2</th>\n",
       "      <th>Res3</th>\n",
       "      <th>Res4</th>\n",
       "    </tr>\n",
       "  </thead>\n",
       "  <tbody>\n",
       "    <tr>\n",
       "      <th>0</th>\n",
       "      <td>Apple</td>\n",
       "      <td>iPhone 13 Pro</td>\n",
       "      <td>128 GB</td>\n",
       "      <td>6 GB</td>\n",
       "      <td>6.1</td>\n",
       "      <td>3095</td>\n",
       "      <td>999</td>\n",
       "      <td>3</td>\n",
       "      <td>12</td>\n",
       "      <td>12</td>\n",
       "      <td>12</td>\n",
       "      <td>0</td>\n",
       "    </tr>\n",
       "    <tr>\n",
       "      <th>1</th>\n",
       "      <td>Samsung</td>\n",
       "      <td>Galaxy S21 Ultra</td>\n",
       "      <td>256 GB</td>\n",
       "      <td>12 GB</td>\n",
       "      <td>6.8</td>\n",
       "      <td>5000</td>\n",
       "      <td>1199</td>\n",
       "      <td>4</td>\n",
       "      <td>108</td>\n",
       "      <td>10</td>\n",
       "      <td>10</td>\n",
       "      <td>12</td>\n",
       "    </tr>\n",
       "    <tr>\n",
       "      <th>2</th>\n",
       "      <td>OnePlus</td>\n",
       "      <td>9 Pro</td>\n",
       "      <td>128 GB</td>\n",
       "      <td>8 GB</td>\n",
       "      <td>6.7</td>\n",
       "      <td>4500</td>\n",
       "      <td>899</td>\n",
       "      <td>4</td>\n",
       "      <td>48</td>\n",
       "      <td>50</td>\n",
       "      <td>8</td>\n",
       "      <td>2</td>\n",
       "    </tr>\n",
       "    <tr>\n",
       "      <th>3</th>\n",
       "      <td>Xiaomi</td>\n",
       "      <td>Redmi Note 10 Pro</td>\n",
       "      <td>128 GB</td>\n",
       "      <td>6 GB</td>\n",
       "      <td>6.67</td>\n",
       "      <td>5020</td>\n",
       "      <td>279</td>\n",
       "      <td>4</td>\n",
       "      <td>64</td>\n",
       "      <td>8</td>\n",
       "      <td>5</td>\n",
       "      <td>2</td>\n",
       "    </tr>\n",
       "    <tr>\n",
       "      <th>4</th>\n",
       "      <td>Google</td>\n",
       "      <td>Pixel 6</td>\n",
       "      <td>128 GB</td>\n",
       "      <td>8 GB</td>\n",
       "      <td>6.4</td>\n",
       "      <td>4614</td>\n",
       "      <td>799</td>\n",
       "      <td>2</td>\n",
       "      <td>50</td>\n",
       "      <td>12.2</td>\n",
       "      <td>0</td>\n",
       "      <td>0</td>\n",
       "    </tr>\n",
       "    <tr>\n",
       "      <th>...</th>\n",
       "      <td>...</td>\n",
       "      <td>...</td>\n",
       "      <td>...</td>\n",
       "      <td>...</td>\n",
       "      <td>...</td>\n",
       "      <td>...</td>\n",
       "      <td>...</td>\n",
       "      <td>...</td>\n",
       "      <td>...</td>\n",
       "      <td>...</td>\n",
       "      <td>...</td>\n",
       "      <td>...</td>\n",
       "    </tr>\n",
       "    <tr>\n",
       "      <th>401</th>\n",
       "      <td>Huawei</td>\n",
       "      <td>P30 Lite</td>\n",
       "      <td>128</td>\n",
       "      <td>4</td>\n",
       "      <td>6.15</td>\n",
       "      <td>3340</td>\n",
       "      <td>329</td>\n",
       "      <td>3</td>\n",
       "      <td>48</td>\n",
       "      <td>8</td>\n",
       "      <td>2</td>\n",
       "      <td>0</td>\n",
       "    </tr>\n",
       "    <tr>\n",
       "      <th>402</th>\n",
       "      <td>Samsung</td>\n",
       "      <td>Galaxy Note20 5G</td>\n",
       "      <td>128</td>\n",
       "      <td>8</td>\n",
       "      <td>6.7</td>\n",
       "      <td>4300</td>\n",
       "      <td>1049</td>\n",
       "      <td>3</td>\n",
       "      <td>12</td>\n",
       "      <td>64</td>\n",
       "      <td>12</td>\n",
       "      <td>0</td>\n",
       "    </tr>\n",
       "    <tr>\n",
       "      <th>403</th>\n",
       "      <td>Xiaomi</td>\n",
       "      <td>Mi 10 Lite 5G</td>\n",
       "      <td>128</td>\n",
       "      <td>6</td>\n",
       "      <td>6.57</td>\n",
       "      <td>4160</td>\n",
       "      <td>349</td>\n",
       "      <td>4</td>\n",
       "      <td>48</td>\n",
       "      <td>8</td>\n",
       "      <td>2</td>\n",
       "      <td>2</td>\n",
       "    </tr>\n",
       "    <tr>\n",
       "      <th>404</th>\n",
       "      <td>Apple</td>\n",
       "      <td>iPhone 12 Pro Max</td>\n",
       "      <td>128</td>\n",
       "      <td>6</td>\n",
       "      <td>6.7</td>\n",
       "      <td>3687</td>\n",
       "      <td>1099</td>\n",
       "      <td>3</td>\n",
       "      <td>12</td>\n",
       "      <td>12</td>\n",
       "      <td>12</td>\n",
       "      <td>0</td>\n",
       "    </tr>\n",
       "    <tr>\n",
       "      <th>405</th>\n",
       "      <td>Oppo</td>\n",
       "      <td>Reno3</td>\n",
       "      <td>128</td>\n",
       "      <td>8</td>\n",
       "      <td>6.4</td>\n",
       "      <td>4025</td>\n",
       "      <td>429</td>\n",
       "      <td>4</td>\n",
       "      <td>48</td>\n",
       "      <td>13</td>\n",
       "      <td>8</td>\n",
       "      <td>2</td>\n",
       "    </tr>\n",
       "  </tbody>\n",
       "</table>\n",
       "<p>381 rows × 12 columns</p>\n",
       "</div>"
      ],
      "text/plain": [
       "       Brand              Model Storage    RAM  Screen_Size  Battery_Capacity  \\\n",
       "0      Apple      iPhone 13 Pro   128 GB   6 GB         6.1              3095   \n",
       "1    Samsung   Galaxy S21 Ultra   256 GB  12 GB         6.8              5000   \n",
       "2    OnePlus              9 Pro   128 GB   8 GB         6.7              4500   \n",
       "3     Xiaomi  Redmi Note 10 Pro   128 GB   6 GB        6.67              5020   \n",
       "4     Google            Pixel 6   128 GB   8 GB         6.4              4614   \n",
       "..       ...                ...      ...    ...         ...               ...   \n",
       "401   Huawei           P30 Lite      128      4        6.15              3340   \n",
       "402  Samsung   Galaxy Note20 5G      128      8         6.7              4300   \n",
       "403   Xiaomi      Mi 10 Lite 5G      128      6        6.57              4160   \n",
       "404    Apple  iPhone 12 Pro Max      128      6         6.7              3687   \n",
       "405     Oppo              Reno3      128      8         6.4              4025   \n",
       "\n",
       "     Price  n_camera  Res1   Res2  Res3 Res4  \n",
       "0      999         3   12     12     12    0  \n",
       "1     1199         4  108     10    10    12  \n",
       "2      899         4   48     50     8     2  \n",
       "3      279         4   64      8     5     2  \n",
       "4      799         2   50    12.2     0    0  \n",
       "..     ...       ...   ...    ...   ...  ...  \n",
       "401    329         3    48      8     2    0  \n",
       "402   1049         3    12     64    12    0  \n",
       "403    349         4    48      8     2    2  \n",
       "404   1099         3    12     12    12    0  \n",
       "405    429         4    48     13     8    2  \n",
       "\n",
       "[381 rows x 12 columns]"
      ]
     },
     "execution_count": 53,
     "metadata": {},
     "output_type": "execute_result"
    }
   ],
   "source": [
    "df"
   ]
  },
  {
   "cell_type": "code",
   "execution_count": 56,
   "id": "5f9831e3",
   "metadata": {},
   "outputs": [],
   "source": [
    "df['Res1']=df['Res1'].str.replace('MP','')\n",
    "df['Res2']=df['Res1'].str.replace('MP','')\n",
    "df['Res3']=df['Res1'].str.replace('MP','')\n",
    "df['Res4']=df['Res1'].str.replace('MP','')"
   ]
  },
  {
   "cell_type": "code",
   "execution_count": 64,
   "id": "9c21ca7a",
   "metadata": {},
   "outputs": [],
   "source": [
    "df['Price'] = pd.to_numeric(df['Price'])\n",
    "\n",
    "df['Res1'] = pd.to_numeric(df['Res1'])\n",
    "\n",
    "df['Res2'] = pd.to_numeric(df['Res2'])\n",
    "\n",
    "df['Res3'] = pd.to_numeric(df['Res3'])\n",
    "\n",
    "df['Res4'] = pd.to_numeric(df['Res4'])\n",
    "df['Battery_Capacity'] = pd.to_numeric(df['Battery_Capacity'])"
   ]
  },
  {
   "cell_type": "code",
   "execution_count": 92,
   "id": "4aabecd4",
   "metadata": {},
   "outputs": [],
   "source": [
    "df['Screen_Size']=df['Screen_Size'].str.replace('+','')\n",
    "df['Screen_Size']=df['Screen_Size'].str.replace('(unfolded)','')\n",
    "df['Screen_Size']=df['Screen_Size'].str.replace('()','')"
   ]
  },
  {
   "cell_type": "code",
   "execution_count": 93,
   "id": "554cc6bf",
   "metadata": {},
   "outputs": [
    {
     "data": {
      "text/plain": [
       "array(['6.1', '6.8', '6.7', '6.67', '6.4', '6.55', '6.78', '6.43', '6.5',\n",
       "       '6.62', '5.4', '6.2', '6.51', '6.6', '4.7', '6.58', '6.52', '6.44',\n",
       "       '6.53', '6.56', '6.8  3.9', '4.5', '6.39', '5.9', '5.5', '6.81',\n",
       "       '5.99', '6.82', '6.3', '6.22', '6', '6.35', '6.9', '6.76', '6.49',\n",
       "       '6.72', '5.7', '6.47', '7.6 ()', '6.15', '6.57'], dtype=object)"
      ]
     },
     "execution_count": 93,
     "metadata": {},
     "output_type": "execute_result"
    }
   ],
   "source": [
    "df['Screen_Size'].unique()"
   ]
  },
  {
   "cell_type": "code",
   "execution_count": 68,
   "id": "a72559ca",
   "metadata": {},
   "outputs": [
    {
     "data": {
      "text/html": [
       "<div>\n",
       "<style scoped>\n",
       "    .dataframe tbody tr th:only-of-type {\n",
       "        vertical-align: middle;\n",
       "    }\n",
       "\n",
       "    .dataframe tbody tr th {\n",
       "        vertical-align: top;\n",
       "    }\n",
       "\n",
       "    .dataframe thead th {\n",
       "        text-align: right;\n",
       "    }\n",
       "</style>\n",
       "<table border=\"1\" class=\"dataframe\">\n",
       "  <thead>\n",
       "    <tr style=\"text-align: right;\">\n",
       "      <th></th>\n",
       "      <th>Brand</th>\n",
       "      <th>Model</th>\n",
       "      <th>Storage</th>\n",
       "      <th>RAM</th>\n",
       "      <th>Screen_Size</th>\n",
       "      <th>Battery_Capacity</th>\n",
       "      <th>Price</th>\n",
       "      <th>n_camera</th>\n",
       "      <th>Res1</th>\n",
       "      <th>Res2</th>\n",
       "      <th>Res3</th>\n",
       "      <th>Res4</th>\n",
       "    </tr>\n",
       "  </thead>\n",
       "  <tbody>\n",
       "    <tr>\n",
       "      <th>0</th>\n",
       "      <td>Apple</td>\n",
       "      <td>iPhone 13 Pro</td>\n",
       "      <td>128 GB</td>\n",
       "      <td>6 GB</td>\n",
       "      <td>6.1</td>\n",
       "      <td>3095</td>\n",
       "      <td>999</td>\n",
       "      <td>3</td>\n",
       "      <td>12.0</td>\n",
       "      <td>12.0</td>\n",
       "      <td>12.0</td>\n",
       "      <td>12.0</td>\n",
       "    </tr>\n",
       "    <tr>\n",
       "      <th>1</th>\n",
       "      <td>Samsung</td>\n",
       "      <td>Galaxy S21 Ultra</td>\n",
       "      <td>256 GB</td>\n",
       "      <td>12 GB</td>\n",
       "      <td>6.8</td>\n",
       "      <td>5000</td>\n",
       "      <td>1199</td>\n",
       "      <td>4</td>\n",
       "      <td>108.0</td>\n",
       "      <td>108.0</td>\n",
       "      <td>108.0</td>\n",
       "      <td>108.0</td>\n",
       "    </tr>\n",
       "    <tr>\n",
       "      <th>2</th>\n",
       "      <td>OnePlus</td>\n",
       "      <td>9 Pro</td>\n",
       "      <td>128 GB</td>\n",
       "      <td>8 GB</td>\n",
       "      <td>6.7</td>\n",
       "      <td>4500</td>\n",
       "      <td>899</td>\n",
       "      <td>4</td>\n",
       "      <td>48.0</td>\n",
       "      <td>48.0</td>\n",
       "      <td>48.0</td>\n",
       "      <td>48.0</td>\n",
       "    </tr>\n",
       "    <tr>\n",
       "      <th>3</th>\n",
       "      <td>Xiaomi</td>\n",
       "      <td>Redmi Note 10 Pro</td>\n",
       "      <td>128 GB</td>\n",
       "      <td>6 GB</td>\n",
       "      <td>6.67</td>\n",
       "      <td>5020</td>\n",
       "      <td>279</td>\n",
       "      <td>4</td>\n",
       "      <td>64.0</td>\n",
       "      <td>64.0</td>\n",
       "      <td>64.0</td>\n",
       "      <td>64.0</td>\n",
       "    </tr>\n",
       "    <tr>\n",
       "      <th>4</th>\n",
       "      <td>Google</td>\n",
       "      <td>Pixel 6</td>\n",
       "      <td>128 GB</td>\n",
       "      <td>8 GB</td>\n",
       "      <td>6.4</td>\n",
       "      <td>4614</td>\n",
       "      <td>799</td>\n",
       "      <td>2</td>\n",
       "      <td>50.0</td>\n",
       "      <td>50.0</td>\n",
       "      <td>50.0</td>\n",
       "      <td>50.0</td>\n",
       "    </tr>\n",
       "    <tr>\n",
       "      <th>...</th>\n",
       "      <td>...</td>\n",
       "      <td>...</td>\n",
       "      <td>...</td>\n",
       "      <td>...</td>\n",
       "      <td>...</td>\n",
       "      <td>...</td>\n",
       "      <td>...</td>\n",
       "      <td>...</td>\n",
       "      <td>...</td>\n",
       "      <td>...</td>\n",
       "      <td>...</td>\n",
       "      <td>...</td>\n",
       "    </tr>\n",
       "    <tr>\n",
       "      <th>401</th>\n",
       "      <td>Huawei</td>\n",
       "      <td>P30 Lite</td>\n",
       "      <td>128</td>\n",
       "      <td>4</td>\n",
       "      <td>6.15</td>\n",
       "      <td>3340</td>\n",
       "      <td>329</td>\n",
       "      <td>3</td>\n",
       "      <td>48.0</td>\n",
       "      <td>48.0</td>\n",
       "      <td>48.0</td>\n",
       "      <td>48.0</td>\n",
       "    </tr>\n",
       "    <tr>\n",
       "      <th>402</th>\n",
       "      <td>Samsung</td>\n",
       "      <td>Galaxy Note20 5G</td>\n",
       "      <td>128</td>\n",
       "      <td>8</td>\n",
       "      <td>6.7</td>\n",
       "      <td>4300</td>\n",
       "      <td>1049</td>\n",
       "      <td>3</td>\n",
       "      <td>12.0</td>\n",
       "      <td>12.0</td>\n",
       "      <td>12.0</td>\n",
       "      <td>12.0</td>\n",
       "    </tr>\n",
       "    <tr>\n",
       "      <th>403</th>\n",
       "      <td>Xiaomi</td>\n",
       "      <td>Mi 10 Lite 5G</td>\n",
       "      <td>128</td>\n",
       "      <td>6</td>\n",
       "      <td>6.57</td>\n",
       "      <td>4160</td>\n",
       "      <td>349</td>\n",
       "      <td>4</td>\n",
       "      <td>48.0</td>\n",
       "      <td>48.0</td>\n",
       "      <td>48.0</td>\n",
       "      <td>48.0</td>\n",
       "    </tr>\n",
       "    <tr>\n",
       "      <th>404</th>\n",
       "      <td>Apple</td>\n",
       "      <td>iPhone 12 Pro Max</td>\n",
       "      <td>128</td>\n",
       "      <td>6</td>\n",
       "      <td>6.7</td>\n",
       "      <td>3687</td>\n",
       "      <td>1099</td>\n",
       "      <td>3</td>\n",
       "      <td>12.0</td>\n",
       "      <td>12.0</td>\n",
       "      <td>12.0</td>\n",
       "      <td>12.0</td>\n",
       "    </tr>\n",
       "    <tr>\n",
       "      <th>405</th>\n",
       "      <td>Oppo</td>\n",
       "      <td>Reno3</td>\n",
       "      <td>128</td>\n",
       "      <td>8</td>\n",
       "      <td>6.4</td>\n",
       "      <td>4025</td>\n",
       "      <td>429</td>\n",
       "      <td>4</td>\n",
       "      <td>48.0</td>\n",
       "      <td>48.0</td>\n",
       "      <td>48.0</td>\n",
       "      <td>48.0</td>\n",
       "    </tr>\n",
       "  </tbody>\n",
       "</table>\n",
       "<p>381 rows × 12 columns</p>\n",
       "</div>"
      ],
      "text/plain": [
       "       Brand              Model Storage    RAM  Screen_Size  Battery_Capacity  \\\n",
       "0      Apple      iPhone 13 Pro   128 GB   6 GB         6.1              3095   \n",
       "1    Samsung   Galaxy S21 Ultra   256 GB  12 GB         6.8              5000   \n",
       "2    OnePlus              9 Pro   128 GB   8 GB         6.7              4500   \n",
       "3     Xiaomi  Redmi Note 10 Pro   128 GB   6 GB        6.67              5020   \n",
       "4     Google            Pixel 6   128 GB   8 GB         6.4              4614   \n",
       "..       ...                ...      ...    ...         ...               ...   \n",
       "401   Huawei           P30 Lite      128      4        6.15              3340   \n",
       "402  Samsung   Galaxy Note20 5G      128      8         6.7              4300   \n",
       "403   Xiaomi      Mi 10 Lite 5G      128      6        6.57              4160   \n",
       "404    Apple  iPhone 12 Pro Max      128      6         6.7              3687   \n",
       "405     Oppo              Reno3      128      8         6.4              4025   \n",
       "\n",
       "     Price  n_camera   Res1   Res2   Res3   Res4  \n",
       "0      999         3   12.0   12.0   12.0   12.0  \n",
       "1     1199         4  108.0  108.0  108.0  108.0  \n",
       "2      899         4   48.0   48.0   48.0   48.0  \n",
       "3      279         4   64.0   64.0   64.0   64.0  \n",
       "4      799         2   50.0   50.0   50.0   50.0  \n",
       "..     ...       ...    ...    ...    ...    ...  \n",
       "401    329         3   48.0   48.0   48.0   48.0  \n",
       "402   1049         3   12.0   12.0   12.0   12.0  \n",
       "403    349         4   48.0   48.0   48.0   48.0  \n",
       "404   1099         3   12.0   12.0   12.0   12.0  \n",
       "405    429         4   48.0   48.0   48.0   48.0  \n",
       "\n",
       "[381 rows x 12 columns]"
      ]
     },
     "execution_count": 68,
     "metadata": {},
     "output_type": "execute_result"
    }
   ],
   "source": [
    "df['Model'].str.lower()\n",
    "df"
   ]
  },
  {
   "cell_type": "code",
   "execution_count": 140,
   "id": "1be420ef",
   "metadata": {},
   "outputs": [
    {
     "data": {
      "text/plain": [
       "array(['Apple', 'Samsung', 'OnePlus', 'Xiaomi', 'Google', 'Oppo', 'Vivo',\n",
       "       'Realme', 'Motorola', 'Nokia', 'Sony', 'LG', 'Asus', 'Blackberry',\n",
       "       'CAT', 'Huawei'], dtype=object)"
      ]
     },
     "execution_count": 140,
     "metadata": {},
     "output_type": "execute_result"
    }
   ],
   "source": [
    "df.Brand.unique()"
   ]
  },
  {
   "cell_type": "code",
   "execution_count": 141,
   "id": "4d3ab234",
   "metadata": {},
   "outputs": [],
   "source": [
    "df[['Country','Continent']]=np.nan"
   ]
  },
  {
   "cell_type": "code",
   "execution_count": 145,
   "id": "835c56a4",
   "metadata": {},
   "outputs": [],
   "source": [
    "for index,Brand in enumerate(df['Brand']):\n",
    "    if Brand in ['Apple','Cat','Google', 'Motorola']:\n",
    "        df.loc[index,'Country']='America'\n",
    "        df.loc[index,'Continent']='North America'\n",
    "        \n",
    "    elif Brand in ['Blackberry']:\n",
    "        df.loc[index,'Country'] = 'canada'\n",
    "        df.loc[index,'Continent'] = 'north america'\n",
    "    \n",
    "    elif Brand in ['Nokia']:\n",
    "        df.loc[index,'Country'] = 'finland'\n",
    "        df.loc[index,'Continent'] = 'europa'\n",
    "        \n",
    "    elif Brand in ['Samsung','LG']:\n",
    "        df.loc[index,'Country'] = 'south korean'\n",
    "        df.loc[index,'Continent'] = 'asia'\n",
    "    else:\n",
    "        df.loc[index,'Country'] = 'china'\n",
    "        df.loc[index,'Continent'] = 'asia'"
   ]
  },
  {
   "cell_type": "code",
   "execution_count": 146,
   "id": "96f67902",
   "metadata": {},
   "outputs": [
    {
     "data": {
      "text/html": [
       "<div>\n",
       "<style scoped>\n",
       "    .dataframe tbody tr th:only-of-type {\n",
       "        vertical-align: middle;\n",
       "    }\n",
       "\n",
       "    .dataframe tbody tr th {\n",
       "        vertical-align: top;\n",
       "    }\n",
       "\n",
       "    .dataframe thead th {\n",
       "        text-align: right;\n",
       "    }\n",
       "</style>\n",
       "<table border=\"1\" class=\"dataframe\">\n",
       "  <thead>\n",
       "    <tr style=\"text-align: right;\">\n",
       "      <th></th>\n",
       "      <th>Brand</th>\n",
       "      <th>Model</th>\n",
       "      <th>Storage</th>\n",
       "      <th>RAM</th>\n",
       "      <th>Screen_Size</th>\n",
       "      <th>Battery_Capacity</th>\n",
       "      <th>Price</th>\n",
       "      <th>n_camera</th>\n",
       "      <th>Res1</th>\n",
       "      <th>Res2</th>\n",
       "      <th>Res3</th>\n",
       "      <th>Res4</th>\n",
       "      <th>Country</th>\n",
       "      <th>Continent</th>\n",
       "    </tr>\n",
       "  </thead>\n",
       "  <tbody>\n",
       "    <tr>\n",
       "      <th>0</th>\n",
       "      <td>Apple</td>\n",
       "      <td>iPhone 13 Pro</td>\n",
       "      <td>128 GB</td>\n",
       "      <td>6 GB</td>\n",
       "      <td>6.1</td>\n",
       "      <td>3095.0</td>\n",
       "      <td>999.0</td>\n",
       "      <td>3.0</td>\n",
       "      <td>12.0</td>\n",
       "      <td>12.0</td>\n",
       "      <td>12.0</td>\n",
       "      <td>12.0</td>\n",
       "      <td>America</td>\n",
       "      <td>North America</td>\n",
       "    </tr>\n",
       "    <tr>\n",
       "      <th>1</th>\n",
       "      <td>Samsung</td>\n",
       "      <td>Galaxy S21 Ultra</td>\n",
       "      <td>256 GB</td>\n",
       "      <td>12 GB</td>\n",
       "      <td>6.8</td>\n",
       "      <td>5000.0</td>\n",
       "      <td>1199.0</td>\n",
       "      <td>4.0</td>\n",
       "      <td>108.0</td>\n",
       "      <td>108.0</td>\n",
       "      <td>108.0</td>\n",
       "      <td>108.0</td>\n",
       "      <td>south korean</td>\n",
       "      <td>asia</td>\n",
       "    </tr>\n",
       "    <tr>\n",
       "      <th>2</th>\n",
       "      <td>OnePlus</td>\n",
       "      <td>9 Pro</td>\n",
       "      <td>128 GB</td>\n",
       "      <td>8 GB</td>\n",
       "      <td>6.7</td>\n",
       "      <td>4500.0</td>\n",
       "      <td>899.0</td>\n",
       "      <td>4.0</td>\n",
       "      <td>48.0</td>\n",
       "      <td>48.0</td>\n",
       "      <td>48.0</td>\n",
       "      <td>48.0</td>\n",
       "      <td>china</td>\n",
       "      <td>asia</td>\n",
       "    </tr>\n",
       "    <tr>\n",
       "      <th>3</th>\n",
       "      <td>Xiaomi</td>\n",
       "      <td>Redmi Note 10 Pro</td>\n",
       "      <td>128 GB</td>\n",
       "      <td>6 GB</td>\n",
       "      <td>6.67</td>\n",
       "      <td>5020.0</td>\n",
       "      <td>279.0</td>\n",
       "      <td>4.0</td>\n",
       "      <td>64.0</td>\n",
       "      <td>64.0</td>\n",
       "      <td>64.0</td>\n",
       "      <td>64.0</td>\n",
       "      <td>china</td>\n",
       "      <td>asia</td>\n",
       "    </tr>\n",
       "    <tr>\n",
       "      <th>4</th>\n",
       "      <td>Google</td>\n",
       "      <td>Pixel 6</td>\n",
       "      <td>128 GB</td>\n",
       "      <td>8 GB</td>\n",
       "      <td>6.4</td>\n",
       "      <td>4614.0</td>\n",
       "      <td>799.0</td>\n",
       "      <td>2.0</td>\n",
       "      <td>50.0</td>\n",
       "      <td>50.0</td>\n",
       "      <td>50.0</td>\n",
       "      <td>50.0</td>\n",
       "      <td>America</td>\n",
       "      <td>North America</td>\n",
       "    </tr>\n",
       "    <tr>\n",
       "      <th>...</th>\n",
       "      <td>...</td>\n",
       "      <td>...</td>\n",
       "      <td>...</td>\n",
       "      <td>...</td>\n",
       "      <td>...</td>\n",
       "      <td>...</td>\n",
       "      <td>...</td>\n",
       "      <td>...</td>\n",
       "      <td>...</td>\n",
       "      <td>...</td>\n",
       "      <td>...</td>\n",
       "      <td>...</td>\n",
       "      <td>...</td>\n",
       "      <td>...</td>\n",
       "    </tr>\n",
       "    <tr>\n",
       "      <th>353</th>\n",
       "      <td>NaN</td>\n",
       "      <td>NaN</td>\n",
       "      <td>NaN</td>\n",
       "      <td>NaN</td>\n",
       "      <td>NaN</td>\n",
       "      <td>NaN</td>\n",
       "      <td>NaN</td>\n",
       "      <td>NaN</td>\n",
       "      <td>NaN</td>\n",
       "      <td>NaN</td>\n",
       "      <td>NaN</td>\n",
       "      <td>NaN</td>\n",
       "      <td>America</td>\n",
       "      <td>North America</td>\n",
       "    </tr>\n",
       "    <tr>\n",
       "      <th>356</th>\n",
       "      <td>NaN</td>\n",
       "      <td>NaN</td>\n",
       "      <td>NaN</td>\n",
       "      <td>NaN</td>\n",
       "      <td>NaN</td>\n",
       "      <td>NaN</td>\n",
       "      <td>NaN</td>\n",
       "      <td>NaN</td>\n",
       "      <td>NaN</td>\n",
       "      <td>NaN</td>\n",
       "      <td>NaN</td>\n",
       "      <td>NaN</td>\n",
       "      <td>china</td>\n",
       "      <td>asia</td>\n",
       "    </tr>\n",
       "    <tr>\n",
       "      <th>357</th>\n",
       "      <td>NaN</td>\n",
       "      <td>NaN</td>\n",
       "      <td>NaN</td>\n",
       "      <td>NaN</td>\n",
       "      <td>NaN</td>\n",
       "      <td>NaN</td>\n",
       "      <td>NaN</td>\n",
       "      <td>NaN</td>\n",
       "      <td>NaN</td>\n",
       "      <td>NaN</td>\n",
       "      <td>NaN</td>\n",
       "      <td>NaN</td>\n",
       "      <td>china</td>\n",
       "      <td>asia</td>\n",
       "    </tr>\n",
       "    <tr>\n",
       "      <th>365</th>\n",
       "      <td>NaN</td>\n",
       "      <td>NaN</td>\n",
       "      <td>NaN</td>\n",
       "      <td>NaN</td>\n",
       "      <td>NaN</td>\n",
       "      <td>NaN</td>\n",
       "      <td>NaN</td>\n",
       "      <td>NaN</td>\n",
       "      <td>NaN</td>\n",
       "      <td>NaN</td>\n",
       "      <td>NaN</td>\n",
       "      <td>NaN</td>\n",
       "      <td>south korean</td>\n",
       "      <td>asia</td>\n",
       "    </tr>\n",
       "    <tr>\n",
       "      <th>377</th>\n",
       "      <td>NaN</td>\n",
       "      <td>NaN</td>\n",
       "      <td>NaN</td>\n",
       "      <td>NaN</td>\n",
       "      <td>NaN</td>\n",
       "      <td>NaN</td>\n",
       "      <td>NaN</td>\n",
       "      <td>NaN</td>\n",
       "      <td>NaN</td>\n",
       "      <td>NaN</td>\n",
       "      <td>NaN</td>\n",
       "      <td>NaN</td>\n",
       "      <td>south korean</td>\n",
       "      <td>asia</td>\n",
       "    </tr>\n",
       "  </tbody>\n",
       "</table>\n",
       "<p>401 rows × 14 columns</p>\n",
       "</div>"
      ],
      "text/plain": [
       "       Brand              Model Storage    RAM  Screen_Size  Battery_Capacity  \\\n",
       "0      Apple      iPhone 13 Pro   128 GB   6 GB         6.1            3095.0   \n",
       "1    Samsung   Galaxy S21 Ultra   256 GB  12 GB         6.8            5000.0   \n",
       "2    OnePlus              9 Pro   128 GB   8 GB         6.7            4500.0   \n",
       "3     Xiaomi  Redmi Note 10 Pro   128 GB   6 GB        6.67            5020.0   \n",
       "4     Google            Pixel 6   128 GB   8 GB         6.4            4614.0   \n",
       "..       ...                ...      ...    ...         ...               ...   \n",
       "353      NaN                NaN      NaN    NaN         NaN               NaN   \n",
       "356      NaN                NaN      NaN    NaN         NaN               NaN   \n",
       "357      NaN                NaN      NaN    NaN         NaN               NaN   \n",
       "365      NaN                NaN      NaN    NaN         NaN               NaN   \n",
       "377      NaN                NaN      NaN    NaN         NaN               NaN   \n",
       "\n",
       "      Price  n_camera   Res1   Res2   Res3   Res4       Country      Continent  \n",
       "0     999.0       3.0   12.0   12.0   12.0   12.0       America  North America  \n",
       "1    1199.0       4.0  108.0  108.0  108.0  108.0  south korean           asia  \n",
       "2     899.0       4.0   48.0   48.0   48.0   48.0         china           asia  \n",
       "3     279.0       4.0   64.0   64.0   64.0   64.0         china           asia  \n",
       "4     799.0       2.0   50.0   50.0   50.0   50.0       America  North America  \n",
       "..      ...       ...    ...    ...    ...    ...           ...            ...  \n",
       "353     NaN       NaN    NaN    NaN    NaN    NaN       America  North America  \n",
       "356     NaN       NaN    NaN    NaN    NaN    NaN         china           asia  \n",
       "357     NaN       NaN    NaN    NaN    NaN    NaN         china           asia  \n",
       "365     NaN       NaN    NaN    NaN    NaN    NaN  south korean           asia  \n",
       "377     NaN       NaN    NaN    NaN    NaN    NaN  south korean           asia  \n",
       "\n",
       "[401 rows x 14 columns]"
      ]
     },
     "execution_count": 146,
     "metadata": {},
     "output_type": "execute_result"
    }
   ],
   "source": [
    "df"
   ]
  },
  {
   "cell_type": "code",
   "execution_count": null,
   "id": "f8b922d2",
   "metadata": {},
   "outputs": [],
   "source": []
  },
  {
   "cell_type": "code",
   "execution_count": null,
   "id": "81f66eb0",
   "metadata": {},
   "outputs": [],
   "source": []
  },
  {
   "cell_type": "markdown",
   "id": "b4550ed4",
   "metadata": {},
   "source": [
    "# Exploratory Data Analysis:"
   ]
  },
  {
   "cell_type": "markdown",
   "id": "7c28bb22",
   "metadata": {},
   "source": [
    "Target Variable: Price"
   ]
  },
  {
   "cell_type": "code",
   "execution_count": 75,
   "id": "16915146",
   "metadata": {},
   "outputs": [
    {
     "name": "stdout",
     "output_type": "stream",
     "text": [
      "1.6062116576351178\n"
     ]
    },
    {
     "data": {
      "image/png": "[encoded data removed]",
      "text/plain": [
       "<Figure size 720x360 with 1 Axes>"
      ]
     },
     "metadata": {
      "needs_background": "light"
     },
     "output_type": "display_data"
    }
   ],
   "source": [
    "#Price column distribution\n",
    "plt.figure(figsize=(10,5))\n",
    "sns.histplot(data=df,x=df['Price'],kde=True)\n",
    "plt.title('Price Distribution ($)',fontsize=15);\n",
    "print(df['Price'].skew())"
   ]
  },
  {
   "cell_type": "markdown",
   "id": "810ee9a8",
   "metadata": {},
   "source": [
    "Conclusion: Most the phone price range between 250-500($). Few phone price range between 750-1250($)."
   ]
  },
  {
   "cell_type": "code",
   "execution_count": 83,
   "id": "3ad5bf85",
   "metadata": {},
   "outputs": [
    {
     "data": {
      "image/png": "[encoded data removed]",
      "text/plain": [
       "<Figure size 720x360 with 1 Axes>"
      ]
     },
     "metadata": {
      "needs_background": "light"
     },
     "output_type": "display_data"
    }
   ],
   "source": [
    "#Brand Columns\n",
    "plt.figure(figsize=(10,5))\n",
    "ax=sns.countplot(data=df,x=df['Brand'])\n",
    "plt.xticks(rotation=30)\n",
    "plt.title('Brand Count',fontsize=15)\n",
    "for i in ax.containers:\n",
    "    ax.bar_label(i,)"
   ]
  },
  {
   "cell_type": "markdown",
   "id": "fed9728d",
   "metadata": {},
   "source": [
    "conclusion: Highest phone brand name Samsung and second phone brand name xiaomi."
   ]
  },
  {
   "cell_type": "code",
   "execution_count": 96,
   "id": "422f5838",
   "metadata": {},
   "outputs": [
    {
     "name": "stdout",
     "output_type": "stream",
     "text": [
      "-0.5338419297861744\n"
     ]
    },
    {
     "data": {
      "image/png": "[encoded data removed]",
      "text/plain": [
       "<Figure size 720x360 with 1 Axes>"
      ]
     },
     "metadata": {
      "needs_background": "light"
     },
     "output_type": "display_data"
    }
   ],
   "source": [
    "#Price column distribution\n",
    "plt.figure(figsize=(10,5))\n",
    "sns.histplot(data=df,x=df['n_camera'],kde=True)\n",
    "plt.title('Camera Distribution',fontsize=15);\n",
    "print(df['n_camera'].skew())"
   ]
  },
  {
   "cell_type": "markdown",
   "id": "e83ad514",
   "metadata": {},
   "source": [
    "Conclusion: Most Of the phone has 3 and 4 camera"
   ]
  },
  {
   "cell_type": "code",
   "execution_count": 97,
   "id": "cfa5b3ca",
   "metadata": {},
   "outputs": [
    {
     "data": {
      "image/png": "[encoded data removed]",
      "text/plain": [
       "<Figure size 720x360 with 1 Axes>"
      ]
     },
     "metadata": {
      "needs_background": "light"
     },
     "output_type": "display_data"
    }
   ],
   "source": [
    "#Brand Columns\n",
    "plt.figure(figsize=(10,5))\n",
    "ax=sns.barplot(data=df,x=df['Brand'],y=df['Price'])\n",
    "plt.xticks(rotation=30)\n",
    "plt.title('Brand Count',fontsize=15)\n",
    "for i in ax.containers:\n",
    "    ax.bar_label(i,)"
   ]
  },
  {
   "cell_type": "markdown",
   "id": "eb58515e",
   "metadata": {},
   "source": [
    "# What is the most expensive cell phone?"
   ]
  },
  {
   "cell_type": "code",
   "execution_count": 102,
   "id": "9a37b3d4",
   "metadata": {},
   "outputs": [
    {
     "data": {
      "text/html": [
       "<div>\n",
       "<style scoped>\n",
       "    .dataframe tbody tr th:only-of-type {\n",
       "        vertical-align: middle;\n",
       "    }\n",
       "\n",
       "    .dataframe tbody tr th {\n",
       "        vertical-align: top;\n",
       "    }\n",
       "\n",
       "    .dataframe thead th {\n",
       "        text-align: right;\n",
       "    }\n",
       "</style>\n",
       "<table border=\"1\" class=\"dataframe\">\n",
       "  <thead>\n",
       "    <tr style=\"text-align: right;\">\n",
       "      <th></th>\n",
       "      <th>Brand</th>\n",
       "      <th>Model</th>\n",
       "      <th>Price</th>\n",
       "    </tr>\n",
       "  </thead>\n",
       "  <tbody>\n",
       "    <tr>\n",
       "      <th>373</th>\n",
       "      <td>Samsung</td>\n",
       "      <td>Galaxy Z Fold2 5G</td>\n",
       "      <td>1999</td>\n",
       "    </tr>\n",
       "    <tr>\n",
       "      <th>361</th>\n",
       "      <td>Huawei</td>\n",
       "      <td>P40 Pro+</td>\n",
       "      <td>1399</td>\n",
       "    </tr>\n",
       "    <tr>\n",
       "      <th>367</th>\n",
       "      <td>Samsung</td>\n",
       "      <td>Galaxy S20 Ultra 5G</td>\n",
       "      <td>1399</td>\n",
       "    </tr>\n",
       "    <tr>\n",
       "      <th>87</th>\n",
       "      <td>Sony</td>\n",
       "      <td>Xperia 5 III</td>\n",
       "      <td>1299</td>\n",
       "    </tr>\n",
       "    <tr>\n",
       "      <th>57</th>\n",
       "      <td>Apple</td>\n",
       "      <td>iPhone 13 Pro Max</td>\n",
       "      <td>1299</td>\n",
       "    </tr>\n",
       "  </tbody>\n",
       "</table>\n",
       "</div>"
      ],
      "text/plain": [
       "       Brand                Model  Price\n",
       "373  Samsung    Galaxy Z Fold2 5G   1999\n",
       "361   Huawei             P40 Pro+   1399\n",
       "367  Samsung  Galaxy S20 Ultra 5G   1399\n",
       "87      Sony         Xperia 5 III   1299\n",
       "57     Apple    iPhone 13 Pro Max   1299"
      ]
     },
     "execution_count": 102,
     "metadata": {},
     "output_type": "execute_result"
    }
   ],
   "source": [
    "df[['Brand','Model','Price']].sort_values(by='Price',ascending=False)[:5]"
   ]
  },
  {
   "cell_type": "markdown",
   "id": "83f4903d",
   "metadata": {},
   "source": [
    "Conclusion: Most Expensive cell phone Brand name Samsung and Brande name Galaxy Z Fold2 5G."
   ]
  },
  {
   "cell_type": "markdown",
   "id": "2e00f7da",
   "metadata": {},
   "source": [
    "# What is the most frequent brand?"
   ]
  },
  {
   "cell_type": "code",
   "execution_count": 103,
   "id": "d53d81d3",
   "metadata": {},
   "outputs": [
    {
     "data": {
      "image/png": "[encoded data removed]",
      "text/plain": [
       "<Figure size 720x360 with 1 Axes>"
      ]
     },
     "metadata": {
      "needs_background": "light"
     },
     "output_type": "display_data"
    }
   ],
   "source": [
    "#Brand Columns\n",
    "plt.figure(figsize=(10,5))\n",
    "ax=sns.countplot(data=df,x=df['Brand'])\n",
    "plt.xticks(rotation=30)\n",
    "plt.title('Brand Count',fontsize=15)\n",
    "for i in ax.containers:\n",
    "    ax.bar_label(i,)"
   ]
  },
  {
   "cell_type": "markdown",
   "id": "d78307d2",
   "metadata": {},
   "source": [
    "Samsung Brand of the entire dataset and is the most frequent brand.\n",
    "\n",
    "The second most frequent brand is Xiaomi\n",
    "\n",
    "Third is Oppo ."
   ]
  },
  {
   "cell_type": "markdown",
   "id": "1a5263ed",
   "metadata": {},
   "source": [
    "# On average, which is the most expensive and cheapest brand?"
   ]
  },
  {
   "cell_type": "code",
   "execution_count": 109,
   "id": "7b39912b",
   "metadata": {},
   "outputs": [
    {
     "name": "stdout",
     "output_type": "stream",
     "text": [
      "On Average Sony costs $1299.0\n",
      "On Average Asus costs $874.0\n",
      "On Average Huawei costs $783.17\n",
      "On Average Apple costs $759.71\n",
      "On Average Google costs $699.0\n",
      "On Average Oneplus costs $669.0\n",
      "On Average Lg costs $615.67\n",
      "On Average Blackberry costs $499.0\n",
      "On Average Samsung costs $486.55\n",
      "On Average Oppo costs $381.45\n",
      "On Average Vivo costs $333.55\n",
      "On Average Cat costs $299.0\n",
      "On Average Xiaomi costs $285.94\n",
      "On Average Motorola costs $272.64\n",
      "On Average Nokia costs $230.25\n",
      "On Average Realme costs $206.91\n"
     ]
    }
   ],
   "source": [
    "costs=df.groupby('Brand')['Price'].mean().sort_values(ascending=False)\n",
    "for Brand,Price in costs.items():\n",
    "    print(f\"On Average {Brand.capitalize()} costs ${round(Price,2)}\")"
   ]
  },
  {
   "cell_type": "markdown",
   "id": "fc4bb95a",
   "metadata": {},
   "source": [
    "Conclusion: Most Expensive Brand Name is Asus & Cheapest Brand Name is Realme"
   ]
  },
  {
   "cell_type": "markdown",
   "id": "ffa0957d",
   "metadata": {},
   "source": [
    "# What is the most expensive and cheapest cell phone for the top 10 brands?"
   ]
  },
  {
   "cell_type": "code",
   "execution_count": 117,
   "id": "399d7bbd",
   "metadata": {},
   "outputs": [],
   "source": [
    "top_10_brands_expensive=df.groupby('Brand')['Price'].mean().sort_values(ascending=False)[:10]"
   ]
  },
  {
   "cell_type": "code",
   "execution_count": 118,
   "id": "6e05bf28",
   "metadata": {},
   "outputs": [
    {
     "data": {
      "text/plain": [
       "Brand\n",
       "Sony          1299.000000\n",
       "Asus           874.000000\n",
       "Huawei         783.166667\n",
       "Apple          759.714286\n",
       "Google         699.000000\n",
       "OnePlus        669.000000\n",
       "LG             615.666667\n",
       "Blackberry     499.000000\n",
       "Samsung        486.547945\n",
       "Oppo           381.452830\n",
       "Name: Price, dtype: float64"
      ]
     },
     "execution_count": 118,
     "metadata": {},
     "output_type": "execute_result"
    }
   ],
   "source": [
    "top_10_brands_expensive"
   ]
  },
  {
   "cell_type": "code",
   "execution_count": 123,
   "id": "a9a3ff9a",
   "metadata": {},
   "outputs": [],
   "source": [
    "top_10_brands_chep=df.groupby('Brand')['Price'].mean().sort_values(ascending=False)[-10:]"
   ]
  },
  {
   "cell_type": "code",
   "execution_count": 124,
   "id": "a60ed266",
   "metadata": {},
   "outputs": [
    {
     "data": {
      "text/plain": [
       "Brand\n",
       "LG            615.666667\n",
       "Blackberry    499.000000\n",
       "Samsung       486.547945\n",
       "Oppo          381.452830\n",
       "Vivo          333.545455\n",
       "CAT           299.000000\n",
       "Xiaomi        285.935484\n",
       "Motorola      272.636364\n",
       "Nokia         230.250000\n",
       "Realme        206.906977\n",
       "Name: Price, dtype: float64"
      ]
     },
     "execution_count": 124,
     "metadata": {},
     "output_type": "execute_result"
    }
   ],
   "source": [
    "top_10_brands_chep"
   ]
  },
  {
   "cell_type": "markdown",
   "id": "fd5296ed",
   "metadata": {},
   "source": [
    "# Corelation:"
   ]
  },
  {
   "cell_type": "code",
   "execution_count": 125,
   "id": "cbc8a273",
   "metadata": {},
   "outputs": [],
   "source": [
    "num=[\"Battery_Capacity\",\"n_camera\",\"Res1\",\"Res2\",\"Res3\",\"Res4\"]"
   ]
  },
  {
   "cell_type": "code",
   "execution_count": 126,
   "id": "c6bdfa6b",
   "metadata": {},
   "outputs": [
    {
     "data": {
      "image/png": "[encoded data removed]",
      "text/plain": [
       "<Figure size 432x288 with 1 Axes>"
      ]
     },
     "metadata": {
      "needs_background": "light"
     },
     "output_type": "display_data"
    }
   ],
   "source": [
    " sns.regplot(y=df['Price'],x=df[fea])"
   ]
  },
  {
   "cell_type": "code",
   "execution_count": 134,
   "id": "99bef507",
   "metadata": {},
   "outputs": [
    {
     "data": {
      "text/plain": [
       "<AxesSubplot:xlabel='n_camera', ylabel='Price'>"
      ]
     },
     "execution_count": 134,
     "metadata": {},
     "output_type": "execute_result"
    },
    {
     "data": {
      "image/png": "[encoded data removed]",
      "text/plain": [
       "<Figure size 432x288 with 1 Axes>"
      ]
     },
     "metadata": {
      "needs_background": "light"
     },
     "output_type": "display_data"
    }
   ],
   "source": [
    "sns.regplot(y=df['Price'],x=df[\"n_camera\"])"
   ]
  },
  {
   "cell_type": "code",
   "execution_count": 136,
   "id": "d4db5144",
   "metadata": {},
   "outputs": [
    {
     "data": {
      "image/png": "[encoded data removed]",
      "text/plain": [
       "<Figure size 432x288 with 1 Axes>"
      ]
     },
     "metadata": {
      "needs_background": "light"
     },
     "output_type": "display_data"
    }
   ],
   "source": [
    "sns.regplot(y=df['Price'],x=df[\"Res1\"]);"
   ]
  },
  {
   "cell_type": "code",
   "execution_count": 139,
   "id": "055296df",
   "metadata": {},
   "outputs": [
    {
     "data": {
      "image/png": "[encoded data removed]",
      "text/plain": [
       "<Figure size 432x288 with 2 Axes>"
      ]
     },
     "metadata": {
      "needs_background": "light"
     },
     "output_type": "display_data"
    }
   ],
   "source": [
    "correlation =df.corr()\n",
    "\n",
    "sns.heatmap(correlation,annot=True,fmt='.2f',linecolor='black', linewidths=2, cmap='inferno')\n",
    "plt.title('Corelation between feaure');"
   ]
  },
  {
   "cell_type": "code",
   "execution_count": 147,
   "id": "a15433cf",
   "metadata": {},
   "outputs": [
    {
     "data": {
      "text/html": [
       "<div>\n",
       "<style scoped>\n",
       "    .dataframe tbody tr th:only-of-type {\n",
       "        vertical-align: middle;\n",
       "    }\n",
       "\n",
       "    .dataframe tbody tr th {\n",
       "        vertical-align: top;\n",
       "    }\n",
       "\n",
       "    .dataframe thead th {\n",
       "        text-align: right;\n",
       "    }\n",
       "</style>\n",
       "<table border=\"1\" class=\"dataframe\">\n",
       "  <thead>\n",
       "    <tr style=\"text-align: right;\">\n",
       "      <th></th>\n",
       "      <th>Brand</th>\n",
       "      <th>Model</th>\n",
       "      <th>Storage</th>\n",
       "      <th>RAM</th>\n",
       "      <th>Screen_Size</th>\n",
       "      <th>Battery_Capacity</th>\n",
       "      <th>Price</th>\n",
       "      <th>n_camera</th>\n",
       "      <th>Res1</th>\n",
       "      <th>Res2</th>\n",
       "      <th>Res3</th>\n",
       "      <th>Res4</th>\n",
       "      <th>Country</th>\n",
       "      <th>Continent</th>\n",
       "    </tr>\n",
       "  </thead>\n",
       "  <tbody>\n",
       "    <tr>\n",
       "      <th>0</th>\n",
       "      <td>Apple</td>\n",
       "      <td>iPhone 13 Pro</td>\n",
       "      <td>128 GB</td>\n",
       "      <td>6 GB</td>\n",
       "      <td>6.1</td>\n",
       "      <td>3095.0</td>\n",
       "      <td>999.0</td>\n",
       "      <td>3.0</td>\n",
       "      <td>12.0</td>\n",
       "      <td>12.0</td>\n",
       "      <td>12.0</td>\n",
       "      <td>12.0</td>\n",
       "      <td>America</td>\n",
       "      <td>North America</td>\n",
       "    </tr>\n",
       "    <tr>\n",
       "      <th>1</th>\n",
       "      <td>Samsung</td>\n",
       "      <td>Galaxy S21 Ultra</td>\n",
       "      <td>256 GB</td>\n",
       "      <td>12 GB</td>\n",
       "      <td>6.8</td>\n",
       "      <td>5000.0</td>\n",
       "      <td>1199.0</td>\n",
       "      <td>4.0</td>\n",
       "      <td>108.0</td>\n",
       "      <td>108.0</td>\n",
       "      <td>108.0</td>\n",
       "      <td>108.0</td>\n",
       "      <td>south korean</td>\n",
       "      <td>asia</td>\n",
       "    </tr>\n",
       "    <tr>\n",
       "      <th>2</th>\n",
       "      <td>OnePlus</td>\n",
       "      <td>9 Pro</td>\n",
       "      <td>128 GB</td>\n",
       "      <td>8 GB</td>\n",
       "      <td>6.7</td>\n",
       "      <td>4500.0</td>\n",
       "      <td>899.0</td>\n",
       "      <td>4.0</td>\n",
       "      <td>48.0</td>\n",
       "      <td>48.0</td>\n",
       "      <td>48.0</td>\n",
       "      <td>48.0</td>\n",
       "      <td>china</td>\n",
       "      <td>asia</td>\n",
       "    </tr>\n",
       "    <tr>\n",
       "      <th>3</th>\n",
       "      <td>Xiaomi</td>\n",
       "      <td>Redmi Note 10 Pro</td>\n",
       "      <td>128 GB</td>\n",
       "      <td>6 GB</td>\n",
       "      <td>6.67</td>\n",
       "      <td>5020.0</td>\n",
       "      <td>279.0</td>\n",
       "      <td>4.0</td>\n",
       "      <td>64.0</td>\n",
       "      <td>64.0</td>\n",
       "      <td>64.0</td>\n",
       "      <td>64.0</td>\n",
       "      <td>china</td>\n",
       "      <td>asia</td>\n",
       "    </tr>\n",
       "    <tr>\n",
       "      <th>4</th>\n",
       "      <td>Google</td>\n",
       "      <td>Pixel 6</td>\n",
       "      <td>128 GB</td>\n",
       "      <td>8 GB</td>\n",
       "      <td>6.4</td>\n",
       "      <td>4614.0</td>\n",
       "      <td>799.0</td>\n",
       "      <td>2.0</td>\n",
       "      <td>50.0</td>\n",
       "      <td>50.0</td>\n",
       "      <td>50.0</td>\n",
       "      <td>50.0</td>\n",
       "      <td>America</td>\n",
       "      <td>North America</td>\n",
       "    </tr>\n",
       "    <tr>\n",
       "      <th>...</th>\n",
       "      <td>...</td>\n",
       "      <td>...</td>\n",
       "      <td>...</td>\n",
       "      <td>...</td>\n",
       "      <td>...</td>\n",
       "      <td>...</td>\n",
       "      <td>...</td>\n",
       "      <td>...</td>\n",
       "      <td>...</td>\n",
       "      <td>...</td>\n",
       "      <td>...</td>\n",
       "      <td>...</td>\n",
       "      <td>...</td>\n",
       "      <td>...</td>\n",
       "    </tr>\n",
       "    <tr>\n",
       "      <th>353</th>\n",
       "      <td>NaN</td>\n",
       "      <td>NaN</td>\n",
       "      <td>NaN</td>\n",
       "      <td>NaN</td>\n",
       "      <td>NaN</td>\n",
       "      <td>NaN</td>\n",
       "      <td>NaN</td>\n",
       "      <td>NaN</td>\n",
       "      <td>NaN</td>\n",
       "      <td>NaN</td>\n",
       "      <td>NaN</td>\n",
       "      <td>NaN</td>\n",
       "      <td>America</td>\n",
       "      <td>North America</td>\n",
       "    </tr>\n",
       "    <tr>\n",
       "      <th>356</th>\n",
       "      <td>NaN</td>\n",
       "      <td>NaN</td>\n",
       "      <td>NaN</td>\n",
       "      <td>NaN</td>\n",
       "      <td>NaN</td>\n",
       "      <td>NaN</td>\n",
       "      <td>NaN</td>\n",
       "      <td>NaN</td>\n",
       "      <td>NaN</td>\n",
       "      <td>NaN</td>\n",
       "      <td>NaN</td>\n",
       "      <td>NaN</td>\n",
       "      <td>china</td>\n",
       "      <td>asia</td>\n",
       "    </tr>\n",
       "    <tr>\n",
       "      <th>357</th>\n",
       "      <td>NaN</td>\n",
       "      <td>NaN</td>\n",
       "      <td>NaN</td>\n",
       "      <td>NaN</td>\n",
       "      <td>NaN</td>\n",
       "      <td>NaN</td>\n",
       "      <td>NaN</td>\n",
       "      <td>NaN</td>\n",
       "      <td>NaN</td>\n",
       "      <td>NaN</td>\n",
       "      <td>NaN</td>\n",
       "      <td>NaN</td>\n",
       "      <td>china</td>\n",
       "      <td>asia</td>\n",
       "    </tr>\n",
       "    <tr>\n",
       "      <th>365</th>\n",
       "      <td>NaN</td>\n",
       "      <td>NaN</td>\n",
       "      <td>NaN</td>\n",
       "      <td>NaN</td>\n",
       "      <td>NaN</td>\n",
       "      <td>NaN</td>\n",
       "      <td>NaN</td>\n",
       "      <td>NaN</td>\n",
       "      <td>NaN</td>\n",
       "      <td>NaN</td>\n",
       "      <td>NaN</td>\n",
       "      <td>NaN</td>\n",
       "      <td>south korean</td>\n",
       "      <td>asia</td>\n",
       "    </tr>\n",
       "    <tr>\n",
       "      <th>377</th>\n",
       "      <td>NaN</td>\n",
       "      <td>NaN</td>\n",
       "      <td>NaN</td>\n",
       "      <td>NaN</td>\n",
       "      <td>NaN</td>\n",
       "      <td>NaN</td>\n",
       "      <td>NaN</td>\n",
       "      <td>NaN</td>\n",
       "      <td>NaN</td>\n",
       "      <td>NaN</td>\n",
       "      <td>NaN</td>\n",
       "      <td>NaN</td>\n",
       "      <td>south korean</td>\n",
       "      <td>asia</td>\n",
       "    </tr>\n",
       "  </tbody>\n",
       "</table>\n",
       "<p>401 rows × 14 columns</p>\n",
       "</div>"
      ],
      "text/plain": [
       "       Brand              Model Storage    RAM  Screen_Size  Battery_Capacity  \\\n",
       "0      Apple      iPhone 13 Pro   128 GB   6 GB         6.1            3095.0   \n",
       "1    Samsung   Galaxy S21 Ultra   256 GB  12 GB         6.8            5000.0   \n",
       "2    OnePlus              9 Pro   128 GB   8 GB         6.7            4500.0   \n",
       "3     Xiaomi  Redmi Note 10 Pro   128 GB   6 GB        6.67            5020.0   \n",
       "4     Google            Pixel 6   128 GB   8 GB         6.4            4614.0   \n",
       "..       ...                ...      ...    ...         ...               ...   \n",
       "353      NaN                NaN      NaN    NaN         NaN               NaN   \n",
       "356      NaN                NaN      NaN    NaN         NaN               NaN   \n",
       "357      NaN                NaN      NaN    NaN         NaN               NaN   \n",
       "365      NaN                NaN      NaN    NaN         NaN               NaN   \n",
       "377      NaN                NaN      NaN    NaN         NaN               NaN   \n",
       "\n",
       "      Price  n_camera   Res1   Res2   Res3   Res4       Country      Continent  \n",
       "0     999.0       3.0   12.0   12.0   12.0   12.0       America  North America  \n",
       "1    1199.0       4.0  108.0  108.0  108.0  108.0  south korean           asia  \n",
       "2     899.0       4.0   48.0   48.0   48.0   48.0         china           asia  \n",
       "3     279.0       4.0   64.0   64.0   64.0   64.0         china           asia  \n",
       "4     799.0       2.0   50.0   50.0   50.0   50.0       America  North America  \n",
       "..      ...       ...    ...    ...    ...    ...           ...            ...  \n",
       "353     NaN       NaN    NaN    NaN    NaN    NaN       America  North America  \n",
       "356     NaN       NaN    NaN    NaN    NaN    NaN         china           asia  \n",
       "357     NaN       NaN    NaN    NaN    NaN    NaN         china           asia  \n",
       "365     NaN       NaN    NaN    NaN    NaN    NaN  south korean           asia  \n",
       "377     NaN       NaN    NaN    NaN    NaN    NaN  south korean           asia  \n",
       "\n",
       "[401 rows x 14 columns]"
      ]
     },
     "execution_count": 147,
     "metadata": {},
     "output_type": "execute_result"
    }
   ],
   "source": [
    "df"
   ]
  },
  {
   "cell_type": "code",
   "execution_count": 148,
   "id": "ee09cb2d",
   "metadata": {},
   "outputs": [
    {
     "data": {
      "image/png": "[encoded data removed]",
      "text/plain": [
       "<Figure size 720x360 with 1 Axes>"
      ]
     },
     "metadata": {
      "needs_background": "light"
     },
     "output_type": "display_data"
    }
   ],
   "source": [
    "#Country Columns\n",
    "plt.figure(figsize=(10,5))\n",
    "ax=sns.countplot(data=df,x=df['Country'])\n",
    "plt.xticks(rotation=30)\n",
    "plt.title('Country Count',fontsize=15)\n",
    "for i in ax.containers:\n",
    "    ax.bar_label(i,)"
   ]
  },
  {
   "cell_type": "code",
   "execution_count": 149,
   "id": "aa6546da",
   "metadata": {},
   "outputs": [
    {
     "data": {
      "image/png": "[encoded data removed]",
      "text/plain": [
       "<Figure size 720x360 with 1 Axes>"
      ]
     },
     "metadata": {
      "needs_background": "light"
     },
     "output_type": "display_data"
    }
   ],
   "source": [
    "#Country Columns\n",
    "plt.figure(figsize=(10,5))\n",
    "ax=sns.countplot(data=df,x=df['Continent'])\n",
    "plt.xticks(rotation=30)\n",
    "plt.title('Continent Count',fontsize=15)\n",
    "for i in ax.containers:\n",
    "    ax.bar_label(i,)"
   ]
  },
  {
   "cell_type": "markdown",
   "id": "15363ad0",
   "metadata": {},
   "source": [
    "Conclusion:\n",
    "We saw that Samsung has the most expensive cell phone, and Samsung makes up (proportionally) 60% of the most expensive top 10 brands.\n",
    "\n",
    "Samsung is also the most frequent brand in our dataset, accounting for 17.75% of all data.\n",
    "\n",
    "The most expensive brand is Asus (on average 874 dollars) and Realme the cheapest (on average 208 dollars). Asus only has a four cell phones in our dataset, so it might be interesting to consider more frequent brands.\n",
    "\n",
    "We saw that most features have some linear correlation with price, however, some features are correlated with others and this may indicate multicollinearity. We can measure this with the Variation Inflation Error."
   ]
  },
  {
   "cell_type": "code",
   "execution_count": null,
   "id": "088fd846",
   "metadata": {},
   "outputs": [],
   "source": []
  }
 ],
 "metadata": {
  "kernelspec": {
   "display_name": "Python 3 (ipykernel)",
   "language": "python",
   "name": "python3"
  },
  "language_info": {
   "codemirror_mode": {
    "name": "ipython",
    "version": 3
   },
   "file_extension": ".py",
   "mimetype": "text/x-python",
   "name": "python",
   "nbconvert_exporter": "python",
   "pygments_lexer": "ipython3",
   "version": "3.9.7"
  }
 },
 "nbformat": 4,
 "nbformat_minor": 5
}
