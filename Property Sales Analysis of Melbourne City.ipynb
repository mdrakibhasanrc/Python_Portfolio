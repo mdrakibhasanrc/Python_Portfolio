{
 "cells": [
  {
   "cell_type": "markdown",
   "id": "86f9df6f",
   "metadata": {},
   "source": [
    "0. Author: Md Rakib Hasan\n",
    "1. Date: 27-3-2023"
   ]
  },
  {
   "cell_type": "markdown",
   "id": "546a9347",
   "metadata": {},
   "source": [
    "# Project Name: Property Sales Analysis of Melbourne City\n"
   ]
  },
  {
   "cell_type": "markdown",
   "id": "57119119",
   "metadata": {},
   "source": [
    "About Dataset:The data provided is a set of property sales in the suburb of Abbotsford, Victoria, Australia. It includes details such as the address, number of rooms, property type, price, method of sale, and seller information, as well as information on the property's location and characteristics, such as distance from the city center, postcode, bedroom and bathroom count, car spaces, land size, building area, year built, council area, latitude and longitude, region name, and property count."
   ]
  },
  {
   "cell_type": "markdown",
   "id": "9f21a71d",
   "metadata": {},
   "source": [
    "Column Description:\n",
    "1. Suburb: Name of the suburb where the property is located\n",
    "2. Address: Street address of the property\n",
    "3. Rooms: Number of rooms in the property (excluding bathrooms and other non-living spaces)\n",
    "4. Price: Sale price of the property in Australian dollars (AUD)\n",
    "5. Method: Method of sale (e.g., S = property sold, SP = property sold prior, PI = property passed in, PN = sold prior not disclosed, SN = sold not disclosed, VB = vendor bid, W = withdrawn prior to auction, SA = sold after auction)\n",
    "6. Type: Type of property (e.g., h = house, t = townhouse, u = unit/apartment)\n",
    "7. SellerG: Real estate agency or agent handling the sale\n",
    "8. Date: Date of the sale\n",
    "9. Distance: Distance from the property to Melbourne central business district (CBD) in kilometers\n",
    "10. Regionname: Name of the region where the property is located (e.g., Eastern Metropolitan, Northern Metropolitan, Southern Metropolitan, Western Metropolitan)\n",
    "11. Propertycount: Number of properties that exist in the suburb\n",
    "12. Bedroom2: Number of bedrooms in the property (including any non-living spaces that could be used as bedrooms)\n",
    "13. Bathroom: Number of bathrooms in the property\n",
    "14. Car: Number of car spaces associated with the property\n",
    "15. Landsize: Land size of the property in square meters\n",
    "16. BuildingArea: Total building area of the property in square meters\n",
    "17. CouncilArea: Name of the local government area where the property is located"
   ]
  },
  {
   "cell_type": "markdown",
   "id": "7b7a0c09",
   "metadata": {},
   "source": [
    "# Import Python Modules"
   ]
  },
  {
   "cell_type": "code",
   "execution_count": 5,
   "id": "26fa330a",
   "metadata": {},
   "outputs": [],
   "source": [
    "import numpy as np\n",
    "import pandas as pd\n",
    "import seaborn as sns\n",
    "import matplotlib.pyplot as plt\n",
    "%matplotlib inline\n",
    "import warnings\n",
    "#warnings.filters('ignore')\n",
    "import datetime"
   ]
  },
  {
   "cell_type": "code",
   "execution_count": 119,
   "id": "f5261b23",
   "metadata": {},
   "outputs": [],
   "source": [
    "from datetime import datetime\n",
    "import warnings\n",
    "warnings.filterwarnings(\"ignore\")"
   ]
  },
  {
   "cell_type": "markdown",
   "id": "9425f76f",
   "metadata": {},
   "source": [
    "# Data Collection"
   ]
  },
  {
   "cell_type": "code",
   "execution_count": 6,
   "id": "0e2adba3",
   "metadata": {},
   "outputs": [
    {
     "data": {
      "text/html": [
       "<div>\n",
       "<style scoped>\n",
       "    .dataframe tbody tr th:only-of-type {\n",
       "        vertical-align: middle;\n",
       "    }\n",
       "\n",
       "    .dataframe tbody tr th {\n",
       "        vertical-align: top;\n",
       "    }\n",
       "\n",
       "    .dataframe thead th {\n",
       "        text-align: right;\n",
       "    }\n",
       "</style>\n",
       "<table border=\"1\" class=\"dataframe\">\n",
       "  <thead>\n",
       "    <tr style=\"text-align: right;\">\n",
       "      <th></th>\n",
       "      <th>Unnamed: 0</th>\n",
       "      <th>Suburb</th>\n",
       "      <th>Address</th>\n",
       "      <th>Rooms</th>\n",
       "      <th>Type</th>\n",
       "      <th>Price</th>\n",
       "      <th>Method</th>\n",
       "      <th>SellerG</th>\n",
       "      <th>Date</th>\n",
       "      <th>Distance</th>\n",
       "      <th>...</th>\n",
       "      <th>Bathroom</th>\n",
       "      <th>Car</th>\n",
       "      <th>Landsize</th>\n",
       "      <th>BuildingArea</th>\n",
       "      <th>YearBuilt</th>\n",
       "      <th>CouncilArea</th>\n",
       "      <th>Lattitude</th>\n",
       "      <th>Longtitude</th>\n",
       "      <th>Regionname</th>\n",
       "      <th>Propertycount</th>\n",
       "    </tr>\n",
       "  </thead>\n",
       "  <tbody>\n",
       "    <tr>\n",
       "      <th>0</th>\n",
       "      <td>1</td>\n",
       "      <td>Abbotsford</td>\n",
       "      <td>85 Turner St</td>\n",
       "      <td>2</td>\n",
       "      <td>h</td>\n",
       "      <td>1480000</td>\n",
       "      <td>S</td>\n",
       "      <td>Biggin</td>\n",
       "      <td>3/12/2016</td>\n",
       "      <td>2.5</td>\n",
       "      <td>...</td>\n",
       "      <td>1.0</td>\n",
       "      <td>1.0</td>\n",
       "      <td>202.0</td>\n",
       "      <td>NaN</td>\n",
       "      <td>NaN</td>\n",
       "      <td>Yarra</td>\n",
       "      <td>-37.79960</td>\n",
       "      <td>144.99840</td>\n",
       "      <td>Northern Metropolitan</td>\n",
       "      <td>4019.0</td>\n",
       "    </tr>\n",
       "    <tr>\n",
       "      <th>1</th>\n",
       "      <td>2</td>\n",
       "      <td>Abbotsford</td>\n",
       "      <td>25 Bloomburg St</td>\n",
       "      <td>2</td>\n",
       "      <td>h</td>\n",
       "      <td>1035000</td>\n",
       "      <td>S</td>\n",
       "      <td>Biggin</td>\n",
       "      <td>4/02/2016</td>\n",
       "      <td>2.5</td>\n",
       "      <td>...</td>\n",
       "      <td>1.0</td>\n",
       "      <td>0.0</td>\n",
       "      <td>156.0</td>\n",
       "      <td>79.0</td>\n",
       "      <td>1900.0</td>\n",
       "      <td>Yarra</td>\n",
       "      <td>-37.80790</td>\n",
       "      <td>144.99340</td>\n",
       "      <td>Northern Metropolitan</td>\n",
       "      <td>4019.0</td>\n",
       "    </tr>\n",
       "    <tr>\n",
       "      <th>2</th>\n",
       "      <td>4</td>\n",
       "      <td>Abbotsford</td>\n",
       "      <td>5 Charles St</td>\n",
       "      <td>3</td>\n",
       "      <td>h</td>\n",
       "      <td>1465000</td>\n",
       "      <td>SP</td>\n",
       "      <td>Biggin</td>\n",
       "      <td>4/03/2017</td>\n",
       "      <td>2.5</td>\n",
       "      <td>...</td>\n",
       "      <td>2.0</td>\n",
       "      <td>0.0</td>\n",
       "      <td>134.0</td>\n",
       "      <td>150.0</td>\n",
       "      <td>1900.0</td>\n",
       "      <td>Yarra</td>\n",
       "      <td>-37.80930</td>\n",
       "      <td>144.99440</td>\n",
       "      <td>Northern Metropolitan</td>\n",
       "      <td>4019.0</td>\n",
       "    </tr>\n",
       "    <tr>\n",
       "      <th>3</th>\n",
       "      <td>5</td>\n",
       "      <td>Abbotsford</td>\n",
       "      <td>40 Federation La</td>\n",
       "      <td>3</td>\n",
       "      <td>h</td>\n",
       "      <td>850000</td>\n",
       "      <td>PI</td>\n",
       "      <td>Biggin</td>\n",
       "      <td>4/03/2017</td>\n",
       "      <td>2.5</td>\n",
       "      <td>...</td>\n",
       "      <td>2.0</td>\n",
       "      <td>1.0</td>\n",
       "      <td>94.0</td>\n",
       "      <td>NaN</td>\n",
       "      <td>NaN</td>\n",
       "      <td>Yarra</td>\n",
       "      <td>-37.79690</td>\n",
       "      <td>144.99690</td>\n",
       "      <td>Northern Metropolitan</td>\n",
       "      <td>4019.0</td>\n",
       "    </tr>\n",
       "    <tr>\n",
       "      <th>4</th>\n",
       "      <td>6</td>\n",
       "      <td>Abbotsford</td>\n",
       "      <td>55a Park St</td>\n",
       "      <td>4</td>\n",
       "      <td>h</td>\n",
       "      <td>1600000</td>\n",
       "      <td>VB</td>\n",
       "      <td>Nelson</td>\n",
       "      <td>4/06/2016</td>\n",
       "      <td>2.5</td>\n",
       "      <td>...</td>\n",
       "      <td>1.0</td>\n",
       "      <td>2.0</td>\n",
       "      <td>120.0</td>\n",
       "      <td>142.0</td>\n",
       "      <td>2014.0</td>\n",
       "      <td>Yarra</td>\n",
       "      <td>-37.80720</td>\n",
       "      <td>144.99410</td>\n",
       "      <td>Northern Metropolitan</td>\n",
       "      <td>4019.0</td>\n",
       "    </tr>\n",
       "    <tr>\n",
       "      <th>...</th>\n",
       "      <td>...</td>\n",
       "      <td>...</td>\n",
       "      <td>...</td>\n",
       "      <td>...</td>\n",
       "      <td>...</td>\n",
       "      <td>...</td>\n",
       "      <td>...</td>\n",
       "      <td>...</td>\n",
       "      <td>...</td>\n",
       "      <td>...</td>\n",
       "      <td>...</td>\n",
       "      <td>...</td>\n",
       "      <td>...</td>\n",
       "      <td>...</td>\n",
       "      <td>...</td>\n",
       "      <td>...</td>\n",
       "      <td>...</td>\n",
       "      <td>...</td>\n",
       "      <td>...</td>\n",
       "      <td>...</td>\n",
       "      <td>...</td>\n",
       "    </tr>\n",
       "    <tr>\n",
       "      <th>18391</th>\n",
       "      <td>23540</td>\n",
       "      <td>Williamstown</td>\n",
       "      <td>8/2 Thompson St</td>\n",
       "      <td>2</td>\n",
       "      <td>t</td>\n",
       "      <td>622500</td>\n",
       "      <td>SP</td>\n",
       "      <td>Greg</td>\n",
       "      <td>26/08/2017</td>\n",
       "      <td>6.8</td>\n",
       "      <td>...</td>\n",
       "      <td>2.0</td>\n",
       "      <td>1.0</td>\n",
       "      <td>NaN</td>\n",
       "      <td>89.0</td>\n",
       "      <td>2010.0</td>\n",
       "      <td>NaN</td>\n",
       "      <td>-37.86393</td>\n",
       "      <td>144.90484</td>\n",
       "      <td>Western Metropolitan</td>\n",
       "      <td>6380.0</td>\n",
       "    </tr>\n",
       "    <tr>\n",
       "      <th>18392</th>\n",
       "      <td>23541</td>\n",
       "      <td>Williamstown</td>\n",
       "      <td>96 Verdon St</td>\n",
       "      <td>4</td>\n",
       "      <td>h</td>\n",
       "      <td>2500000</td>\n",
       "      <td>PI</td>\n",
       "      <td>Sweeney</td>\n",
       "      <td>26/08/2017</td>\n",
       "      <td>6.8</td>\n",
       "      <td>...</td>\n",
       "      <td>1.0</td>\n",
       "      <td>5.0</td>\n",
       "      <td>866.0</td>\n",
       "      <td>157.0</td>\n",
       "      <td>1920.0</td>\n",
       "      <td>NaN</td>\n",
       "      <td>-37.85908</td>\n",
       "      <td>144.89299</td>\n",
       "      <td>Western Metropolitan</td>\n",
       "      <td>6380.0</td>\n",
       "    </tr>\n",
       "    <tr>\n",
       "      <th>18393</th>\n",
       "      <td>23544</td>\n",
       "      <td>Yallambie</td>\n",
       "      <td>17 Amaroo Wy</td>\n",
       "      <td>4</td>\n",
       "      <td>h</td>\n",
       "      <td>1100000</td>\n",
       "      <td>S</td>\n",
       "      <td>Buckingham</td>\n",
       "      <td>26/08/2017</td>\n",
       "      <td>12.7</td>\n",
       "      <td>...</td>\n",
       "      <td>3.0</td>\n",
       "      <td>2.0</td>\n",
       "      <td>NaN</td>\n",
       "      <td>NaN</td>\n",
       "      <td>NaN</td>\n",
       "      <td>NaN</td>\n",
       "      <td>-37.72006</td>\n",
       "      <td>145.10547</td>\n",
       "      <td>Northern Metropolitan</td>\n",
       "      <td>1369.0</td>\n",
       "    </tr>\n",
       "    <tr>\n",
       "      <th>18394</th>\n",
       "      <td>23545</td>\n",
       "      <td>Yarraville</td>\n",
       "      <td>6 Agnes St</td>\n",
       "      <td>4</td>\n",
       "      <td>h</td>\n",
       "      <td>1285000</td>\n",
       "      <td>SP</td>\n",
       "      <td>Village</td>\n",
       "      <td>26/08/2017</td>\n",
       "      <td>6.3</td>\n",
       "      <td>...</td>\n",
       "      <td>1.0</td>\n",
       "      <td>1.0</td>\n",
       "      <td>362.0</td>\n",
       "      <td>112.0</td>\n",
       "      <td>1920.0</td>\n",
       "      <td>NaN</td>\n",
       "      <td>-37.81188</td>\n",
       "      <td>144.88449</td>\n",
       "      <td>Western Metropolitan</td>\n",
       "      <td>6543.0</td>\n",
       "    </tr>\n",
       "    <tr>\n",
       "      <th>18395</th>\n",
       "      <td>23546</td>\n",
       "      <td>Yarraville</td>\n",
       "      <td>33 Freeman St</td>\n",
       "      <td>4</td>\n",
       "      <td>h</td>\n",
       "      <td>1050000</td>\n",
       "      <td>VB</td>\n",
       "      <td>Village</td>\n",
       "      <td>26/08/2017</td>\n",
       "      <td>6.3</td>\n",
       "      <td>...</td>\n",
       "      <td>2.0</td>\n",
       "      <td>2.0</td>\n",
       "      <td>NaN</td>\n",
       "      <td>139.0</td>\n",
       "      <td>1950.0</td>\n",
       "      <td>NaN</td>\n",
       "      <td>-37.81829</td>\n",
       "      <td>144.87404</td>\n",
       "      <td>Western Metropolitan</td>\n",
       "      <td>6543.0</td>\n",
       "    </tr>\n",
       "  </tbody>\n",
       "</table>\n",
       "<p>18396 rows × 22 columns</p>\n",
       "</div>"
      ],
      "text/plain": [
       "       Unnamed: 0        Suburb           Address  Rooms Type    Price Method  \\\n",
       "0               1    Abbotsford      85 Turner St      2    h  1480000      S   \n",
       "1               2    Abbotsford   25 Bloomburg St      2    h  1035000      S   \n",
       "2               4    Abbotsford      5 Charles St      3    h  1465000     SP   \n",
       "3               5    Abbotsford  40 Federation La      3    h   850000     PI   \n",
       "4               6    Abbotsford       55a Park St      4    h  1600000     VB   \n",
       "...           ...           ...               ...    ...  ...      ...    ...   \n",
       "18391       23540  Williamstown   8/2 Thompson St      2    t   622500     SP   \n",
       "18392       23541  Williamstown      96 Verdon St      4    h  2500000     PI   \n",
       "18393       23544     Yallambie      17 Amaroo Wy      4    h  1100000      S   \n",
       "18394       23545    Yarraville        6 Agnes St      4    h  1285000     SP   \n",
       "18395       23546    Yarraville     33 Freeman St      4    h  1050000     VB   \n",
       "\n",
       "          SellerG        Date  Distance  ...  Bathroom  Car  Landsize  \\\n",
       "0          Biggin   3/12/2016       2.5  ...       1.0  1.0     202.0   \n",
       "1          Biggin   4/02/2016       2.5  ...       1.0  0.0     156.0   \n",
       "2          Biggin   4/03/2017       2.5  ...       2.0  0.0     134.0   \n",
       "3          Biggin   4/03/2017       2.5  ...       2.0  1.0      94.0   \n",
       "4          Nelson   4/06/2016       2.5  ...       1.0  2.0     120.0   \n",
       "...           ...         ...       ...  ...       ...  ...       ...   \n",
       "18391        Greg  26/08/2017       6.8  ...       2.0  1.0       NaN   \n",
       "18392     Sweeney  26/08/2017       6.8  ...       1.0  5.0     866.0   \n",
       "18393  Buckingham  26/08/2017      12.7  ...       3.0  2.0       NaN   \n",
       "18394     Village  26/08/2017       6.3  ...       1.0  1.0     362.0   \n",
       "18395     Village  26/08/2017       6.3  ...       2.0  2.0       NaN   \n",
       "\n",
       "       BuildingArea  YearBuilt  CouncilArea  Lattitude Longtitude  \\\n",
       "0               NaN        NaN        Yarra  -37.79960  144.99840   \n",
       "1              79.0     1900.0        Yarra  -37.80790  144.99340   \n",
       "2             150.0     1900.0        Yarra  -37.80930  144.99440   \n",
       "3               NaN        NaN        Yarra  -37.79690  144.99690   \n",
       "4             142.0     2014.0        Yarra  -37.80720  144.99410   \n",
       "...             ...        ...          ...        ...        ...   \n",
       "18391          89.0     2010.0          NaN  -37.86393  144.90484   \n",
       "18392         157.0     1920.0          NaN  -37.85908  144.89299   \n",
       "18393           NaN        NaN          NaN  -37.72006  145.10547   \n",
       "18394         112.0     1920.0          NaN  -37.81188  144.88449   \n",
       "18395         139.0     1950.0          NaN  -37.81829  144.87404   \n",
       "\n",
       "                  Regionname  Propertycount  \n",
       "0      Northern Metropolitan         4019.0  \n",
       "1      Northern Metropolitan         4019.0  \n",
       "2      Northern Metropolitan         4019.0  \n",
       "3      Northern Metropolitan         4019.0  \n",
       "4      Northern Metropolitan         4019.0  \n",
       "...                      ...            ...  \n",
       "18391   Western Metropolitan         6380.0  \n",
       "18392   Western Metropolitan         6380.0  \n",
       "18393  Northern Metropolitan         1369.0  \n",
       "18394   Western Metropolitan         6543.0  \n",
       "18395   Western Metropolitan         6543.0  \n",
       "\n",
       "[18396 rows x 22 columns]"
      ]
     },
     "execution_count": 6,
     "metadata": {},
     "output_type": "execute_result"
    }
   ],
   "source": [
    "df=pd.read_csv(r\"G:\\File Folder\\Property Sales of Melbourne City.csv\\property.csv\")\n",
    "df"
   ]
  },
  {
   "cell_type": "markdown",
   "id": "24504698",
   "metadata": {},
   "source": [
    "# Understand Data\n",
    "\n"
   ]
  },
  {
   "cell_type": "code",
   "execution_count": 11,
   "id": "b17b3fc3",
   "metadata": {},
   "outputs": [
    {
     "data": {
      "text/html": [
       "<div>\n",
       "<style scoped>\n",
       "    .dataframe tbody tr th:only-of-type {\n",
       "        vertical-align: middle;\n",
       "    }\n",
       "\n",
       "    .dataframe tbody tr th {\n",
       "        vertical-align: top;\n",
       "    }\n",
       "\n",
       "    .dataframe thead th {\n",
       "        text-align: right;\n",
       "    }\n",
       "</style>\n",
       "<table border=\"1\" class=\"dataframe\">\n",
       "  <thead>\n",
       "    <tr style=\"text-align: right;\">\n",
       "      <th></th>\n",
       "      <th>Unnamed: 0</th>\n",
       "      <th>Suburb</th>\n",
       "      <th>Address</th>\n",
       "      <th>Rooms</th>\n",
       "      <th>Type</th>\n",
       "      <th>Price</th>\n",
       "      <th>Method</th>\n",
       "      <th>SellerG</th>\n",
       "      <th>Date</th>\n",
       "      <th>Distance</th>\n",
       "      <th>...</th>\n",
       "      <th>Bathroom</th>\n",
       "      <th>Car</th>\n",
       "      <th>Landsize</th>\n",
       "      <th>BuildingArea</th>\n",
       "      <th>YearBuilt</th>\n",
       "      <th>CouncilArea</th>\n",
       "      <th>Lattitude</th>\n",
       "      <th>Longtitude</th>\n",
       "      <th>Regionname</th>\n",
       "      <th>Propertycount</th>\n",
       "    </tr>\n",
       "  </thead>\n",
       "  <tbody>\n",
       "    <tr>\n",
       "      <th>0</th>\n",
       "      <td>1</td>\n",
       "      <td>Abbotsford</td>\n",
       "      <td>85 Turner St</td>\n",
       "      <td>2</td>\n",
       "      <td>h</td>\n",
       "      <td>1480000</td>\n",
       "      <td>S</td>\n",
       "      <td>Biggin</td>\n",
       "      <td>3/12/2016</td>\n",
       "      <td>2.5</td>\n",
       "      <td>...</td>\n",
       "      <td>1.0</td>\n",
       "      <td>1.0</td>\n",
       "      <td>202.0</td>\n",
       "      <td>NaN</td>\n",
       "      <td>NaN</td>\n",
       "      <td>Yarra</td>\n",
       "      <td>-37.7996</td>\n",
       "      <td>144.9984</td>\n",
       "      <td>Northern Metropolitan</td>\n",
       "      <td>4019.0</td>\n",
       "    </tr>\n",
       "    <tr>\n",
       "      <th>1</th>\n",
       "      <td>2</td>\n",
       "      <td>Abbotsford</td>\n",
       "      <td>25 Bloomburg St</td>\n",
       "      <td>2</td>\n",
       "      <td>h</td>\n",
       "      <td>1035000</td>\n",
       "      <td>S</td>\n",
       "      <td>Biggin</td>\n",
       "      <td>4/02/2016</td>\n",
       "      <td>2.5</td>\n",
       "      <td>...</td>\n",
       "      <td>1.0</td>\n",
       "      <td>0.0</td>\n",
       "      <td>156.0</td>\n",
       "      <td>79.0</td>\n",
       "      <td>1900.0</td>\n",
       "      <td>Yarra</td>\n",
       "      <td>-37.8079</td>\n",
       "      <td>144.9934</td>\n",
       "      <td>Northern Metropolitan</td>\n",
       "      <td>4019.0</td>\n",
       "    </tr>\n",
       "    <tr>\n",
       "      <th>2</th>\n",
       "      <td>4</td>\n",
       "      <td>Abbotsford</td>\n",
       "      <td>5 Charles St</td>\n",
       "      <td>3</td>\n",
       "      <td>h</td>\n",
       "      <td>1465000</td>\n",
       "      <td>SP</td>\n",
       "      <td>Biggin</td>\n",
       "      <td>4/03/2017</td>\n",
       "      <td>2.5</td>\n",
       "      <td>...</td>\n",
       "      <td>2.0</td>\n",
       "      <td>0.0</td>\n",
       "      <td>134.0</td>\n",
       "      <td>150.0</td>\n",
       "      <td>1900.0</td>\n",
       "      <td>Yarra</td>\n",
       "      <td>-37.8093</td>\n",
       "      <td>144.9944</td>\n",
       "      <td>Northern Metropolitan</td>\n",
       "      <td>4019.0</td>\n",
       "    </tr>\n",
       "    <tr>\n",
       "      <th>3</th>\n",
       "      <td>5</td>\n",
       "      <td>Abbotsford</td>\n",
       "      <td>40 Federation La</td>\n",
       "      <td>3</td>\n",
       "      <td>h</td>\n",
       "      <td>850000</td>\n",
       "      <td>PI</td>\n",
       "      <td>Biggin</td>\n",
       "      <td>4/03/2017</td>\n",
       "      <td>2.5</td>\n",
       "      <td>...</td>\n",
       "      <td>2.0</td>\n",
       "      <td>1.0</td>\n",
       "      <td>94.0</td>\n",
       "      <td>NaN</td>\n",
       "      <td>NaN</td>\n",
       "      <td>Yarra</td>\n",
       "      <td>-37.7969</td>\n",
       "      <td>144.9969</td>\n",
       "      <td>Northern Metropolitan</td>\n",
       "      <td>4019.0</td>\n",
       "    </tr>\n",
       "    <tr>\n",
       "      <th>4</th>\n",
       "      <td>6</td>\n",
       "      <td>Abbotsford</td>\n",
       "      <td>55a Park St</td>\n",
       "      <td>4</td>\n",
       "      <td>h</td>\n",
       "      <td>1600000</td>\n",
       "      <td>VB</td>\n",
       "      <td>Nelson</td>\n",
       "      <td>4/06/2016</td>\n",
       "      <td>2.5</td>\n",
       "      <td>...</td>\n",
       "      <td>1.0</td>\n",
       "      <td>2.0</td>\n",
       "      <td>120.0</td>\n",
       "      <td>142.0</td>\n",
       "      <td>2014.0</td>\n",
       "      <td>Yarra</td>\n",
       "      <td>-37.8072</td>\n",
       "      <td>144.9941</td>\n",
       "      <td>Northern Metropolitan</td>\n",
       "      <td>4019.0</td>\n",
       "    </tr>\n",
       "  </tbody>\n",
       "</table>\n",
       "<p>5 rows × 22 columns</p>\n",
       "</div>"
      ],
      "text/plain": [
       "   Unnamed: 0      Suburb           Address  Rooms Type    Price Method  \\\n",
       "0           1  Abbotsford      85 Turner St      2    h  1480000      S   \n",
       "1           2  Abbotsford   25 Bloomburg St      2    h  1035000      S   \n",
       "2           4  Abbotsford      5 Charles St      3    h  1465000     SP   \n",
       "3           5  Abbotsford  40 Federation La      3    h   850000     PI   \n",
       "4           6  Abbotsford       55a Park St      4    h  1600000     VB   \n",
       "\n",
       "  SellerG       Date  Distance  ...  Bathroom  Car  Landsize  BuildingArea  \\\n",
       "0  Biggin  3/12/2016       2.5  ...       1.0  1.0     202.0           NaN   \n",
       "1  Biggin  4/02/2016       2.5  ...       1.0  0.0     156.0          79.0   \n",
       "2  Biggin  4/03/2017       2.5  ...       2.0  0.0     134.0         150.0   \n",
       "3  Biggin  4/03/2017       2.5  ...       2.0  1.0      94.0           NaN   \n",
       "4  Nelson  4/06/2016       2.5  ...       1.0  2.0     120.0         142.0   \n",
       "\n",
       "   YearBuilt  CouncilArea  Lattitude Longtitude             Regionname  \\\n",
       "0        NaN        Yarra   -37.7996   144.9984  Northern Metropolitan   \n",
       "1     1900.0        Yarra   -37.8079   144.9934  Northern Metropolitan   \n",
       "2     1900.0        Yarra   -37.8093   144.9944  Northern Metropolitan   \n",
       "3        NaN        Yarra   -37.7969   144.9969  Northern Metropolitan   \n",
       "4     2014.0        Yarra   -37.8072   144.9941  Northern Metropolitan   \n",
       "\n",
       "   Propertycount  \n",
       "0         4019.0  \n",
       "1         4019.0  \n",
       "2         4019.0  \n",
       "3         4019.0  \n",
       "4         4019.0  \n",
       "\n",
       "[5 rows x 22 columns]"
      ]
     },
     "execution_count": 11,
     "metadata": {},
     "output_type": "execute_result"
    }
   ],
   "source": [
    "# show first five rows\n",
    "df.head(5)"
   ]
  },
  {
   "cell_type": "code",
   "execution_count": 12,
   "id": "c6435e30",
   "metadata": {},
   "outputs": [
    {
     "data": {
      "text/html": [
       "<div>\n",
       "<style scoped>\n",
       "    .dataframe tbody tr th:only-of-type {\n",
       "        vertical-align: middle;\n",
       "    }\n",
       "\n",
       "    .dataframe tbody tr th {\n",
       "        vertical-align: top;\n",
       "    }\n",
       "\n",
       "    .dataframe thead th {\n",
       "        text-align: right;\n",
       "    }\n",
       "</style>\n",
       "<table border=\"1\" class=\"dataframe\">\n",
       "  <thead>\n",
       "    <tr style=\"text-align: right;\">\n",
       "      <th></th>\n",
       "      <th>Unnamed: 0</th>\n",
       "      <th>Suburb</th>\n",
       "      <th>Address</th>\n",
       "      <th>Rooms</th>\n",
       "      <th>Type</th>\n",
       "      <th>Price</th>\n",
       "      <th>Method</th>\n",
       "      <th>SellerG</th>\n",
       "      <th>Date</th>\n",
       "      <th>Distance</th>\n",
       "      <th>...</th>\n",
       "      <th>Bathroom</th>\n",
       "      <th>Car</th>\n",
       "      <th>Landsize</th>\n",
       "      <th>BuildingArea</th>\n",
       "      <th>YearBuilt</th>\n",
       "      <th>CouncilArea</th>\n",
       "      <th>Lattitude</th>\n",
       "      <th>Longtitude</th>\n",
       "      <th>Regionname</th>\n",
       "      <th>Propertycount</th>\n",
       "    </tr>\n",
       "  </thead>\n",
       "  <tbody>\n",
       "    <tr>\n",
       "      <th>18391</th>\n",
       "      <td>23540</td>\n",
       "      <td>Williamstown</td>\n",
       "      <td>8/2 Thompson St</td>\n",
       "      <td>2</td>\n",
       "      <td>t</td>\n",
       "      <td>622500</td>\n",
       "      <td>SP</td>\n",
       "      <td>Greg</td>\n",
       "      <td>26/08/2017</td>\n",
       "      <td>6.8</td>\n",
       "      <td>...</td>\n",
       "      <td>2.0</td>\n",
       "      <td>1.0</td>\n",
       "      <td>NaN</td>\n",
       "      <td>89.0</td>\n",
       "      <td>2010.0</td>\n",
       "      <td>NaN</td>\n",
       "      <td>-37.86393</td>\n",
       "      <td>144.90484</td>\n",
       "      <td>Western Metropolitan</td>\n",
       "      <td>6380.0</td>\n",
       "    </tr>\n",
       "    <tr>\n",
       "      <th>18392</th>\n",
       "      <td>23541</td>\n",
       "      <td>Williamstown</td>\n",
       "      <td>96 Verdon St</td>\n",
       "      <td>4</td>\n",
       "      <td>h</td>\n",
       "      <td>2500000</td>\n",
       "      <td>PI</td>\n",
       "      <td>Sweeney</td>\n",
       "      <td>26/08/2017</td>\n",
       "      <td>6.8</td>\n",
       "      <td>...</td>\n",
       "      <td>1.0</td>\n",
       "      <td>5.0</td>\n",
       "      <td>866.0</td>\n",
       "      <td>157.0</td>\n",
       "      <td>1920.0</td>\n",
       "      <td>NaN</td>\n",
       "      <td>-37.85908</td>\n",
       "      <td>144.89299</td>\n",
       "      <td>Western Metropolitan</td>\n",
       "      <td>6380.0</td>\n",
       "    </tr>\n",
       "    <tr>\n",
       "      <th>18393</th>\n",
       "      <td>23544</td>\n",
       "      <td>Yallambie</td>\n",
       "      <td>17 Amaroo Wy</td>\n",
       "      <td>4</td>\n",
       "      <td>h</td>\n",
       "      <td>1100000</td>\n",
       "      <td>S</td>\n",
       "      <td>Buckingham</td>\n",
       "      <td>26/08/2017</td>\n",
       "      <td>12.7</td>\n",
       "      <td>...</td>\n",
       "      <td>3.0</td>\n",
       "      <td>2.0</td>\n",
       "      <td>NaN</td>\n",
       "      <td>NaN</td>\n",
       "      <td>NaN</td>\n",
       "      <td>NaN</td>\n",
       "      <td>-37.72006</td>\n",
       "      <td>145.10547</td>\n",
       "      <td>Northern Metropolitan</td>\n",
       "      <td>1369.0</td>\n",
       "    </tr>\n",
       "    <tr>\n",
       "      <th>18394</th>\n",
       "      <td>23545</td>\n",
       "      <td>Yarraville</td>\n",
       "      <td>6 Agnes St</td>\n",
       "      <td>4</td>\n",
       "      <td>h</td>\n",
       "      <td>1285000</td>\n",
       "      <td>SP</td>\n",
       "      <td>Village</td>\n",
       "      <td>26/08/2017</td>\n",
       "      <td>6.3</td>\n",
       "      <td>...</td>\n",
       "      <td>1.0</td>\n",
       "      <td>1.0</td>\n",
       "      <td>362.0</td>\n",
       "      <td>112.0</td>\n",
       "      <td>1920.0</td>\n",
       "      <td>NaN</td>\n",
       "      <td>-37.81188</td>\n",
       "      <td>144.88449</td>\n",
       "      <td>Western Metropolitan</td>\n",
       "      <td>6543.0</td>\n",
       "    </tr>\n",
       "    <tr>\n",
       "      <th>18395</th>\n",
       "      <td>23546</td>\n",
       "      <td>Yarraville</td>\n",
       "      <td>33 Freeman St</td>\n",
       "      <td>4</td>\n",
       "      <td>h</td>\n",
       "      <td>1050000</td>\n",
       "      <td>VB</td>\n",
       "      <td>Village</td>\n",
       "      <td>26/08/2017</td>\n",
       "      <td>6.3</td>\n",
       "      <td>...</td>\n",
       "      <td>2.0</td>\n",
       "      <td>2.0</td>\n",
       "      <td>NaN</td>\n",
       "      <td>139.0</td>\n",
       "      <td>1950.0</td>\n",
       "      <td>NaN</td>\n",
       "      <td>-37.81829</td>\n",
       "      <td>144.87404</td>\n",
       "      <td>Western Metropolitan</td>\n",
       "      <td>6543.0</td>\n",
       "    </tr>\n",
       "  </tbody>\n",
       "</table>\n",
       "<p>5 rows × 22 columns</p>\n",
       "</div>"
      ],
      "text/plain": [
       "       Unnamed: 0        Suburb          Address  Rooms Type    Price Method  \\\n",
       "18391       23540  Williamstown  8/2 Thompson St      2    t   622500     SP   \n",
       "18392       23541  Williamstown     96 Verdon St      4    h  2500000     PI   \n",
       "18393       23544     Yallambie     17 Amaroo Wy      4    h  1100000      S   \n",
       "18394       23545    Yarraville       6 Agnes St      4    h  1285000     SP   \n",
       "18395       23546    Yarraville    33 Freeman St      4    h  1050000     VB   \n",
       "\n",
       "          SellerG        Date  Distance  ...  Bathroom  Car  Landsize  \\\n",
       "18391        Greg  26/08/2017       6.8  ...       2.0  1.0       NaN   \n",
       "18392     Sweeney  26/08/2017       6.8  ...       1.0  5.0     866.0   \n",
       "18393  Buckingham  26/08/2017      12.7  ...       3.0  2.0       NaN   \n",
       "18394     Village  26/08/2017       6.3  ...       1.0  1.0     362.0   \n",
       "18395     Village  26/08/2017       6.3  ...       2.0  2.0       NaN   \n",
       "\n",
       "       BuildingArea  YearBuilt  CouncilArea  Lattitude Longtitude  \\\n",
       "18391          89.0     2010.0          NaN  -37.86393  144.90484   \n",
       "18392         157.0     1920.0          NaN  -37.85908  144.89299   \n",
       "18393           NaN        NaN          NaN  -37.72006  145.10547   \n",
       "18394         112.0     1920.0          NaN  -37.81188  144.88449   \n",
       "18395         139.0     1950.0          NaN  -37.81829  144.87404   \n",
       "\n",
       "                  Regionname  Propertycount  \n",
       "18391   Western Metropolitan         6380.0  \n",
       "18392   Western Metropolitan         6380.0  \n",
       "18393  Northern Metropolitan         1369.0  \n",
       "18394   Western Metropolitan         6543.0  \n",
       "18395   Western Metropolitan         6543.0  \n",
       "\n",
       "[5 rows x 22 columns]"
      ]
     },
     "execution_count": 12,
     "metadata": {},
     "output_type": "execute_result"
    }
   ],
   "source": [
    "# show last five rows\n",
    "df.tail(5)"
   ]
  },
  {
   "cell_type": "code",
   "execution_count": 13,
   "id": "f40df796",
   "metadata": {},
   "outputs": [
    {
     "data": {
      "text/html": [
       "<div>\n",
       "<style scoped>\n",
       "    .dataframe tbody tr th:only-of-type {\n",
       "        vertical-align: middle;\n",
       "    }\n",
       "\n",
       "    .dataframe tbody tr th {\n",
       "        vertical-align: top;\n",
       "    }\n",
       "\n",
       "    .dataframe thead th {\n",
       "        text-align: right;\n",
       "    }\n",
       "</style>\n",
       "<table border=\"1\" class=\"dataframe\">\n",
       "  <thead>\n",
       "    <tr style=\"text-align: right;\">\n",
       "      <th></th>\n",
       "      <th>Unnamed: 0</th>\n",
       "      <th>Suburb</th>\n",
       "      <th>Address</th>\n",
       "      <th>Rooms</th>\n",
       "      <th>Type</th>\n",
       "      <th>Price</th>\n",
       "      <th>Method</th>\n",
       "      <th>SellerG</th>\n",
       "      <th>Date</th>\n",
       "      <th>Distance</th>\n",
       "      <th>...</th>\n",
       "      <th>Bathroom</th>\n",
       "      <th>Car</th>\n",
       "      <th>Landsize</th>\n",
       "      <th>BuildingArea</th>\n",
       "      <th>YearBuilt</th>\n",
       "      <th>CouncilArea</th>\n",
       "      <th>Lattitude</th>\n",
       "      <th>Longtitude</th>\n",
       "      <th>Regionname</th>\n",
       "      <th>Propertycount</th>\n",
       "    </tr>\n",
       "  </thead>\n",
       "  <tbody>\n",
       "    <tr>\n",
       "      <th>15562</th>\n",
       "      <td>19950</td>\n",
       "      <td>Essendon</td>\n",
       "      <td>126 Market St</td>\n",
       "      <td>3</td>\n",
       "      <td>h</td>\n",
       "      <td>1500000</td>\n",
       "      <td>S</td>\n",
       "      <td>Nelson</td>\n",
       "      <td>3/09/2017</td>\n",
       "      <td>7.5</td>\n",
       "      <td>...</td>\n",
       "      <td>1.0</td>\n",
       "      <td>2.0</td>\n",
       "      <td>649.0</td>\n",
       "      <td>NaN</td>\n",
       "      <td>NaN</td>\n",
       "      <td>NaN</td>\n",
       "      <td>-37.74212</td>\n",
       "      <td>144.89256</td>\n",
       "      <td>Western Metropolitan</td>\n",
       "      <td>9264.0</td>\n",
       "    </tr>\n",
       "    <tr>\n",
       "      <th>17416</th>\n",
       "      <td>22333</td>\n",
       "      <td>Caulfield North</td>\n",
       "      <td>22/3 Wilks St</td>\n",
       "      <td>3</td>\n",
       "      <td>t</td>\n",
       "      <td>1475000</td>\n",
       "      <td>PI</td>\n",
       "      <td>LITTLE</td>\n",
       "      <td>23/09/2017</td>\n",
       "      <td>7.8</td>\n",
       "      <td>...</td>\n",
       "      <td>NaN</td>\n",
       "      <td>NaN</td>\n",
       "      <td>NaN</td>\n",
       "      <td>NaN</td>\n",
       "      <td>NaN</td>\n",
       "      <td>NaN</td>\n",
       "      <td>NaN</td>\n",
       "      <td>NaN</td>\n",
       "      <td>Southern Metropolitan</td>\n",
       "      <td>6923.0</td>\n",
       "    </tr>\n",
       "    <tr>\n",
       "      <th>15900</th>\n",
       "      <td>20386</td>\n",
       "      <td>Brighton</td>\n",
       "      <td>1/171 Church St</td>\n",
       "      <td>2</td>\n",
       "      <td>u</td>\n",
       "      <td>1640000</td>\n",
       "      <td>SP</td>\n",
       "      <td>Buxton</td>\n",
       "      <td>9/09/2017</td>\n",
       "      <td>10.5</td>\n",
       "      <td>...</td>\n",
       "      <td>NaN</td>\n",
       "      <td>NaN</td>\n",
       "      <td>NaN</td>\n",
       "      <td>NaN</td>\n",
       "      <td>NaN</td>\n",
       "      <td>NaN</td>\n",
       "      <td>NaN</td>\n",
       "      <td>NaN</td>\n",
       "      <td>Southern Metropolitan</td>\n",
       "      <td>10579.0</td>\n",
       "    </tr>\n",
       "    <tr>\n",
       "      <th>6135</th>\n",
       "      <td>7959</td>\n",
       "      <td>Prahran</td>\n",
       "      <td>6 Wynnstay Rd</td>\n",
       "      <td>3</td>\n",
       "      <td>h</td>\n",
       "      <td>1240000</td>\n",
       "      <td>S</td>\n",
       "      <td>hockingstuart</td>\n",
       "      <td>4/03/2017</td>\n",
       "      <td>4.5</td>\n",
       "      <td>...</td>\n",
       "      <td>1.0</td>\n",
       "      <td>0.0</td>\n",
       "      <td>223.0</td>\n",
       "      <td>NaN</td>\n",
       "      <td>NaN</td>\n",
       "      <td>Stonnington</td>\n",
       "      <td>-37.85270</td>\n",
       "      <td>145.00880</td>\n",
       "      <td>Southern Metropolitan</td>\n",
       "      <td>7717.0</td>\n",
       "    </tr>\n",
       "    <tr>\n",
       "      <th>938</th>\n",
       "      <td>1222</td>\n",
       "      <td>Bentleigh</td>\n",
       "      <td>4 Park Cr</td>\n",
       "      <td>4</td>\n",
       "      <td>h</td>\n",
       "      <td>2470000</td>\n",
       "      <td>S</td>\n",
       "      <td>hockingstuart</td>\n",
       "      <td>4/03/2017</td>\n",
       "      <td>13.0</td>\n",
       "      <td>...</td>\n",
       "      <td>NaN</td>\n",
       "      <td>NaN</td>\n",
       "      <td>NaN</td>\n",
       "      <td>NaN</td>\n",
       "      <td>NaN</td>\n",
       "      <td>NaN</td>\n",
       "      <td>NaN</td>\n",
       "      <td>NaN</td>\n",
       "      <td>Southern Metropolitan</td>\n",
       "      <td>6795.0</td>\n",
       "    </tr>\n",
       "  </tbody>\n",
       "</table>\n",
       "<p>5 rows × 22 columns</p>\n",
       "</div>"
      ],
      "text/plain": [
       "       Unnamed: 0           Suburb          Address  Rooms Type    Price  \\\n",
       "15562       19950         Essendon    126 Market St      3    h  1500000   \n",
       "17416       22333  Caulfield North    22/3 Wilks St      3    t  1475000   \n",
       "15900       20386         Brighton  1/171 Church St      2    u  1640000   \n",
       "6135         7959          Prahran    6 Wynnstay Rd      3    h  1240000   \n",
       "938          1222        Bentleigh        4 Park Cr      4    h  2470000   \n",
       "\n",
       "      Method        SellerG        Date  Distance  ...  Bathroom  Car  \\\n",
       "15562      S         Nelson   3/09/2017       7.5  ...       1.0  2.0   \n",
       "17416     PI         LITTLE  23/09/2017       7.8  ...       NaN  NaN   \n",
       "15900     SP         Buxton   9/09/2017      10.5  ...       NaN  NaN   \n",
       "6135       S  hockingstuart   4/03/2017       4.5  ...       1.0  0.0   \n",
       "938        S  hockingstuart   4/03/2017      13.0  ...       NaN  NaN   \n",
       "\n",
       "       Landsize  BuildingArea  YearBuilt  CouncilArea  Lattitude Longtitude  \\\n",
       "15562     649.0           NaN        NaN          NaN  -37.74212  144.89256   \n",
       "17416       NaN           NaN        NaN          NaN        NaN        NaN   \n",
       "15900       NaN           NaN        NaN          NaN        NaN        NaN   \n",
       "6135      223.0           NaN        NaN  Stonnington  -37.85270  145.00880   \n",
       "938         NaN           NaN        NaN          NaN        NaN        NaN   \n",
       "\n",
       "                  Regionname  Propertycount  \n",
       "15562   Western Metropolitan         9264.0  \n",
       "17416  Southern Metropolitan         6923.0  \n",
       "15900  Southern Metropolitan        10579.0  \n",
       "6135   Southern Metropolitan         7717.0  \n",
       "938    Southern Metropolitan         6795.0  \n",
       "\n",
       "[5 rows x 22 columns]"
      ]
     },
     "execution_count": 13,
     "metadata": {},
     "output_type": "execute_result"
    }
   ],
   "source": [
    "# show random five rows\n",
    "df.sample(5)"
   ]
  },
  {
   "cell_type": "code",
   "execution_count": 14,
   "id": "4f6de5e3",
   "metadata": {},
   "outputs": [
    {
     "data": {
      "text/plain": [
       "18396"
      ]
     },
     "execution_count": 14,
     "metadata": {},
     "output_type": "execute_result"
    }
   ],
   "source": [
    "# show len dataset\n",
    "len(df)"
   ]
  },
  {
   "cell_type": "code",
   "execution_count": 15,
   "id": "c37e1de0",
   "metadata": {},
   "outputs": [
    {
     "data": {
      "text/plain": [
       "(18396, 22)"
      ]
     },
     "execution_count": 15,
     "metadata": {},
     "output_type": "execute_result"
    }
   ],
   "source": [
    "# show data shape\n",
    "df.shape"
   ]
  },
  {
   "cell_type": "code",
   "execution_count": 16,
   "id": "c37417b2",
   "metadata": {},
   "outputs": [
    {
     "data": {
      "text/plain": [
       "Index(['Unnamed: 0', 'Suburb', 'Address', 'Rooms', 'Type', 'Price', 'Method',\n",
       "       'SellerG', 'Date', 'Distance', 'Postcode', 'Bedroom2', 'Bathroom',\n",
       "       'Car', 'Landsize', 'BuildingArea', 'YearBuilt', 'CouncilArea',\n",
       "       'Lattitude', 'Longtitude', 'Regionname', 'Propertycount'],\n",
       "      dtype='object')"
      ]
     },
     "execution_count": 16,
     "metadata": {},
     "output_type": "execute_result"
    }
   ],
   "source": [
    "# show data set columns name\n",
    "df.columns"
   ]
  },
  {
   "cell_type": "code",
   "execution_count": 17,
   "id": "69ecf879",
   "metadata": {},
   "outputs": [
    {
     "data": {
      "text/plain": [
       "Unnamed: 0         int64\n",
       "Suburb            object\n",
       "Address           object\n",
       "Rooms              int64\n",
       "Type              object\n",
       "Price              int64\n",
       "Method            object\n",
       "SellerG           object\n",
       "Date              object\n",
       "Distance         float64\n",
       "Postcode         float64\n",
       "Bedroom2         float64\n",
       "Bathroom         float64\n",
       "Car              float64\n",
       "Landsize         float64\n",
       "BuildingArea     float64\n",
       "YearBuilt        float64\n",
       "CouncilArea       object\n",
       "Lattitude        float64\n",
       "Longtitude       float64\n",
       "Regionname        object\n",
       "Propertycount    float64\n",
       "dtype: object"
      ]
     },
     "execution_count": 17,
     "metadata": {},
     "output_type": "execute_result"
    }
   ],
   "source": [
    "# show data set data types\n",
    "df.dtypes"
   ]
  },
  {
   "cell_type": "code",
   "execution_count": 30,
   "id": "6cb678f0",
   "metadata": {},
   "outputs": [
    {
     "data": {
      "text/plain": [
       "Suburb             330\n",
       "Address          18134\n",
       "Rooms               11\n",
       "Type                 3\n",
       "Price             2470\n",
       "Method               5\n",
       "SellerG            305\n",
       "Date                58\n",
       "Distance           210\n",
       "Postcode           205\n",
       "Bedroom2            12\n",
       "Bathroom             9\n",
       "Car                 11\n",
       "Landsize          1449\n",
       "BuildingArea       613\n",
       "YearBuilt          144\n",
       "CouncilArea         33\n",
       "Lattitude         7518\n",
       "Longtitude        8168\n",
       "Regionname           8\n",
       "Propertycount      324\n",
       "dtype: int64"
      ]
     },
     "execution_count": 30,
     "metadata": {},
     "output_type": "execute_result"
    }
   ],
   "source": [
    "df.nunique()"
   ]
  },
  {
   "cell_type": "code",
   "execution_count": 18,
   "id": "7872cf19",
   "metadata": {},
   "outputs": [
    {
     "name": "stdout",
     "output_type": "stream",
     "text": [
      "<class 'pandas.core.frame.DataFrame'>\n",
      "RangeIndex: 18396 entries, 0 to 18395\n",
      "Data columns (total 22 columns):\n",
      " #   Column         Non-Null Count  Dtype  \n",
      "---  ------         --------------  -----  \n",
      " 0   Unnamed: 0     18396 non-null  int64  \n",
      " 1   Suburb         18396 non-null  object \n",
      " 2   Address        18396 non-null  object \n",
      " 3   Rooms          18396 non-null  int64  \n",
      " 4   Type           18396 non-null  object \n",
      " 5   Price          18396 non-null  int64  \n",
      " 6   Method         18396 non-null  object \n",
      " 7   SellerG        18396 non-null  object \n",
      " 8   Date           18396 non-null  object \n",
      " 9   Distance       18395 non-null  float64\n",
      " 10  Postcode       18395 non-null  float64\n",
      " 11  Bedroom2       14927 non-null  float64\n",
      " 12  Bathroom       14925 non-null  float64\n",
      " 13  Car            14820 non-null  float64\n",
      " 14  Landsize       13603 non-null  float64\n",
      " 15  BuildingArea   7762 non-null   float64\n",
      " 16  YearBuilt      8958 non-null   float64\n",
      " 17  CouncilArea    12233 non-null  object \n",
      " 18  Lattitude      15064 non-null  float64\n",
      " 19  Longtitude     15064 non-null  float64\n",
      " 20  Regionname     18395 non-null  object \n",
      " 21  Propertycount  18395 non-null  float64\n",
      "dtypes: float64(11), int64(3), object(8)\n",
      "memory usage: 3.1+ MB\n"
     ]
    }
   ],
   "source": [
    "# show basic info\n",
    "df.info()"
   ]
  },
  {
   "cell_type": "code",
   "execution_count": 19,
   "id": "1f77bf6b",
   "metadata": {},
   "outputs": [
    {
     "data": {
      "text/html": [
       "<div>\n",
       "<style scoped>\n",
       "    .dataframe tbody tr th:only-of-type {\n",
       "        vertical-align: middle;\n",
       "    }\n",
       "\n",
       "    .dataframe tbody tr th {\n",
       "        vertical-align: top;\n",
       "    }\n",
       "\n",
       "    .dataframe thead th {\n",
       "        text-align: right;\n",
       "    }\n",
       "</style>\n",
       "<table border=\"1\" class=\"dataframe\">\n",
       "  <thead>\n",
       "    <tr style=\"text-align: right;\">\n",
       "      <th></th>\n",
       "      <th>Unnamed: 0</th>\n",
       "      <th>Rooms</th>\n",
       "      <th>Price</th>\n",
       "      <th>Distance</th>\n",
       "      <th>Postcode</th>\n",
       "      <th>Bedroom2</th>\n",
       "      <th>Bathroom</th>\n",
       "      <th>Car</th>\n",
       "      <th>Landsize</th>\n",
       "      <th>BuildingArea</th>\n",
       "      <th>YearBuilt</th>\n",
       "      <th>Lattitude</th>\n",
       "      <th>Longtitude</th>\n",
       "      <th>Propertycount</th>\n",
       "    </tr>\n",
       "  </thead>\n",
       "  <tbody>\n",
       "    <tr>\n",
       "      <th>count</th>\n",
       "      <td>18396.000000</td>\n",
       "      <td>18396.000000</td>\n",
       "      <td>1.839600e+04</td>\n",
       "      <td>18395.000000</td>\n",
       "      <td>18395.000000</td>\n",
       "      <td>14927.000000</td>\n",
       "      <td>14925.000000</td>\n",
       "      <td>14820.000000</td>\n",
       "      <td>13603.000000</td>\n",
       "      <td>7762.000000</td>\n",
       "      <td>8958.000000</td>\n",
       "      <td>15064.000000</td>\n",
       "      <td>15064.000000</td>\n",
       "      <td>18395.000000</td>\n",
       "    </tr>\n",
       "    <tr>\n",
       "      <th>mean</th>\n",
       "      <td>11826.787073</td>\n",
       "      <td>2.935040</td>\n",
       "      <td>1.056697e+06</td>\n",
       "      <td>10.389986</td>\n",
       "      <td>3107.140147</td>\n",
       "      <td>2.913043</td>\n",
       "      <td>1.538492</td>\n",
       "      <td>1.615520</td>\n",
       "      <td>558.116371</td>\n",
       "      <td>151.220219</td>\n",
       "      <td>1965.879996</td>\n",
       "      <td>-37.809849</td>\n",
       "      <td>144.996338</td>\n",
       "      <td>7517.975265</td>\n",
       "    </tr>\n",
       "    <tr>\n",
       "      <th>std</th>\n",
       "      <td>6800.710448</td>\n",
       "      <td>0.958202</td>\n",
       "      <td>6.419217e+05</td>\n",
       "      <td>6.009050</td>\n",
       "      <td>95.000995</td>\n",
       "      <td>0.964641</td>\n",
       "      <td>0.689311</td>\n",
       "      <td>0.955916</td>\n",
       "      <td>3987.326586</td>\n",
       "      <td>519.188596</td>\n",
       "      <td>37.013261</td>\n",
       "      <td>0.081152</td>\n",
       "      <td>0.106375</td>\n",
       "      <td>4488.416599</td>\n",
       "    </tr>\n",
       "    <tr>\n",
       "      <th>min</th>\n",
       "      <td>1.000000</td>\n",
       "      <td>1.000000</td>\n",
       "      <td>8.500000e+04</td>\n",
       "      <td>0.000000</td>\n",
       "      <td>3000.000000</td>\n",
       "      <td>0.000000</td>\n",
       "      <td>0.000000</td>\n",
       "      <td>0.000000</td>\n",
       "      <td>0.000000</td>\n",
       "      <td>0.000000</td>\n",
       "      <td>1196.000000</td>\n",
       "      <td>-38.182550</td>\n",
       "      <td>144.431810</td>\n",
       "      <td>249.000000</td>\n",
       "    </tr>\n",
       "    <tr>\n",
       "      <th>25%</th>\n",
       "      <td>5936.750000</td>\n",
       "      <td>2.000000</td>\n",
       "      <td>6.330000e+05</td>\n",
       "      <td>6.300000</td>\n",
       "      <td>3046.000000</td>\n",
       "      <td>2.000000</td>\n",
       "      <td>1.000000</td>\n",
       "      <td>1.000000</td>\n",
       "      <td>176.500000</td>\n",
       "      <td>93.000000</td>\n",
       "      <td>1950.000000</td>\n",
       "      <td>-37.858100</td>\n",
       "      <td>144.931193</td>\n",
       "      <td>4294.000000</td>\n",
       "    </tr>\n",
       "    <tr>\n",
       "      <th>50%</th>\n",
       "      <td>11820.500000</td>\n",
       "      <td>3.000000</td>\n",
       "      <td>8.800000e+05</td>\n",
       "      <td>9.700000</td>\n",
       "      <td>3085.000000</td>\n",
       "      <td>3.000000</td>\n",
       "      <td>1.000000</td>\n",
       "      <td>2.000000</td>\n",
       "      <td>440.000000</td>\n",
       "      <td>126.000000</td>\n",
       "      <td>1970.000000</td>\n",
       "      <td>-37.803625</td>\n",
       "      <td>145.000920</td>\n",
       "      <td>6567.000000</td>\n",
       "    </tr>\n",
       "    <tr>\n",
       "      <th>75%</th>\n",
       "      <td>17734.250000</td>\n",
       "      <td>3.000000</td>\n",
       "      <td>1.302000e+06</td>\n",
       "      <td>13.300000</td>\n",
       "      <td>3149.000000</td>\n",
       "      <td>3.000000</td>\n",
       "      <td>2.000000</td>\n",
       "      <td>2.000000</td>\n",
       "      <td>651.000000</td>\n",
       "      <td>174.000000</td>\n",
       "      <td>2000.000000</td>\n",
       "      <td>-37.756270</td>\n",
       "      <td>145.060000</td>\n",
       "      <td>10331.000000</td>\n",
       "    </tr>\n",
       "    <tr>\n",
       "      <th>max</th>\n",
       "      <td>23546.000000</td>\n",
       "      <td>12.000000</td>\n",
       "      <td>9.000000e+06</td>\n",
       "      <td>48.100000</td>\n",
       "      <td>3978.000000</td>\n",
       "      <td>20.000000</td>\n",
       "      <td>8.000000</td>\n",
       "      <td>10.000000</td>\n",
       "      <td>433014.000000</td>\n",
       "      <td>44515.000000</td>\n",
       "      <td>2018.000000</td>\n",
       "      <td>-37.408530</td>\n",
       "      <td>145.526350</td>\n",
       "      <td>21650.000000</td>\n",
       "    </tr>\n",
       "  </tbody>\n",
       "</table>\n",
       "</div>"
      ],
      "text/plain": [
       "         Unnamed: 0         Rooms         Price      Distance      Postcode  \\\n",
       "count  18396.000000  18396.000000  1.839600e+04  18395.000000  18395.000000   \n",
       "mean   11826.787073      2.935040  1.056697e+06     10.389986   3107.140147   \n",
       "std     6800.710448      0.958202  6.419217e+05      6.009050     95.000995   \n",
       "min        1.000000      1.000000  8.500000e+04      0.000000   3000.000000   \n",
       "25%     5936.750000      2.000000  6.330000e+05      6.300000   3046.000000   \n",
       "50%    11820.500000      3.000000  8.800000e+05      9.700000   3085.000000   \n",
       "75%    17734.250000      3.000000  1.302000e+06     13.300000   3149.000000   \n",
       "max    23546.000000     12.000000  9.000000e+06     48.100000   3978.000000   \n",
       "\n",
       "           Bedroom2      Bathroom           Car       Landsize  BuildingArea  \\\n",
       "count  14927.000000  14925.000000  14820.000000   13603.000000   7762.000000   \n",
       "mean       2.913043      1.538492      1.615520     558.116371    151.220219   \n",
       "std        0.964641      0.689311      0.955916    3987.326586    519.188596   \n",
       "min        0.000000      0.000000      0.000000       0.000000      0.000000   \n",
       "25%        2.000000      1.000000      1.000000     176.500000     93.000000   \n",
       "50%        3.000000      1.000000      2.000000     440.000000    126.000000   \n",
       "75%        3.000000      2.000000      2.000000     651.000000    174.000000   \n",
       "max       20.000000      8.000000     10.000000  433014.000000  44515.000000   \n",
       "\n",
       "         YearBuilt     Lattitude    Longtitude  Propertycount  \n",
       "count  8958.000000  15064.000000  15064.000000   18395.000000  \n",
       "mean   1965.879996    -37.809849    144.996338    7517.975265  \n",
       "std      37.013261      0.081152      0.106375    4488.416599  \n",
       "min    1196.000000    -38.182550    144.431810     249.000000  \n",
       "25%    1950.000000    -37.858100    144.931193    4294.000000  \n",
       "50%    1970.000000    -37.803625    145.000920    6567.000000  \n",
       "75%    2000.000000    -37.756270    145.060000   10331.000000  \n",
       "max    2018.000000    -37.408530    145.526350   21650.000000  "
      ]
     },
     "execution_count": 19,
     "metadata": {},
     "output_type": "execute_result"
    }
   ],
   "source": [
    "# show data set basic statistics\n",
    "df.describe()"
   ]
  },
  {
   "cell_type": "markdown",
   "id": "6dc3c68f",
   "metadata": {},
   "source": [
    "# Data Cleaning"
   ]
  },
  {
   "cell_type": "code",
   "execution_count": null,
   "id": "ba0442ab",
   "metadata": {},
   "outputs": [],
   "source": [
    "# drop unnamed columns\n",
    "df.drop(columns=['Unnamed: 0'],axis=1,inplace=True)"
   ]
  },
  {
   "cell_type": "code",
   "execution_count": 22,
   "id": "9750664d",
   "metadata": {},
   "outputs": [
    {
     "data": {
      "text/plain": [
       "0"
      ]
     },
     "execution_count": 22,
     "metadata": {},
     "output_type": "execute_result"
    }
   ],
   "source": [
    "# check duplicated value\n",
    "df.duplicated().sum()"
   ]
  },
  {
   "cell_type": "code",
   "execution_count": 23,
   "id": "e6040814",
   "metadata": {},
   "outputs": [
    {
     "data": {
      "text/plain": [
       "Suburb               0\n",
       "Address              0\n",
       "Rooms                0\n",
       "Type                 0\n",
       "Price                0\n",
       "Method               0\n",
       "SellerG              0\n",
       "Date                 0\n",
       "Distance             1\n",
       "Postcode             1\n",
       "Bedroom2          3469\n",
       "Bathroom          3471\n",
       "Car               3576\n",
       "Landsize          4793\n",
       "BuildingArea     10634\n",
       "YearBuilt         9438\n",
       "CouncilArea       6163\n",
       "Lattitude         3332\n",
       "Longtitude        3332\n",
       "Regionname           1\n",
       "Propertycount        1\n",
       "dtype: int64"
      ]
     },
     "execution_count": 23,
     "metadata": {},
     "output_type": "execute_result"
    }
   ],
   "source": [
    "# check missing values\n",
    "df.isnull().sum()"
   ]
  },
  {
   "cell_type": "code",
   "execution_count": 58,
   "id": "8d43f3f0",
   "metadata": {},
   "outputs": [
    {
     "data": {
      "text/plain": [
       "BuildingArea     57.806045\n",
       "Longtitude       18.112633\n",
       "Lattitude        18.112633\n",
       "Postcode          0.005436\n",
       "Suburb            0.000000\n",
       "Bathroom          0.000000\n",
       "Regionname        0.000000\n",
       "CouncilArea       0.000000\n",
       "YearBuilt         0.000000\n",
       "Landsize          0.000000\n",
       "Car               0.000000\n",
       "Bedroom2          0.000000\n",
       "Address           0.000000\n",
       "Distance          0.000000\n",
       "Date              0.000000\n",
       "SellerG           0.000000\n",
       "Method            0.000000\n",
       "Price             0.000000\n",
       "Type              0.000000\n",
       "Rooms             0.000000\n",
       "Propertycount     0.000000\n",
       "dtype: float64"
      ]
     },
     "execution_count": 58,
     "metadata": {},
     "output_type": "execute_result"
    }
   ],
   "source": [
    "# missing value percentage\n",
    "pct=((df.isnull().sum()/len(df))*100).sort_values(ascending=False)\n",
    "pct"
   ]
  },
  {
   "cell_type": "code",
   "execution_count": 32,
   "id": "0df24054",
   "metadata": {},
   "outputs": [
    {
     "data": {
      "image/png": "[encoded data removed]",
      "text/plain": [
       "<Figure size 432x288 with 1 Axes>"
      ]
     },
     "metadata": {
      "needs_background": "light"
     },
     "output_type": "display_data"
    }
   ],
   "source": [
    "# plot misssing value\n",
    "sns.heatmap(df.isnull(),yticklabels=False,cbar=False,cmap='viridis')\n",
    "plt.title('Missing Value plot',fontsize=12);"
   ]
  },
  {
   "cell_type": "code",
   "execution_count": 33,
   "id": "ff3a585a",
   "metadata": {},
   "outputs": [
    {
     "data": {
      "text/html": [
       "<div>\n",
       "<style scoped>\n",
       "    .dataframe tbody tr th:only-of-type {\n",
       "        vertical-align: middle;\n",
       "    }\n",
       "\n",
       "    .dataframe tbody tr th {\n",
       "        vertical-align: top;\n",
       "    }\n",
       "\n",
       "    .dataframe thead th {\n",
       "        text-align: right;\n",
       "    }\n",
       "</style>\n",
       "<table border=\"1\" class=\"dataframe\">\n",
       "  <thead>\n",
       "    <tr style=\"text-align: right;\">\n",
       "      <th></th>\n",
       "      <th>Suburb</th>\n",
       "      <th>Address</th>\n",
       "      <th>Rooms</th>\n",
       "      <th>Type</th>\n",
       "      <th>Price</th>\n",
       "      <th>Method</th>\n",
       "      <th>SellerG</th>\n",
       "      <th>Date</th>\n",
       "      <th>Distance</th>\n",
       "      <th>Postcode</th>\n",
       "      <th>...</th>\n",
       "      <th>Bathroom</th>\n",
       "      <th>Car</th>\n",
       "      <th>Landsize</th>\n",
       "      <th>BuildingArea</th>\n",
       "      <th>YearBuilt</th>\n",
       "      <th>CouncilArea</th>\n",
       "      <th>Lattitude</th>\n",
       "      <th>Longtitude</th>\n",
       "      <th>Regionname</th>\n",
       "      <th>Propertycount</th>\n",
       "    </tr>\n",
       "  </thead>\n",
       "  <tbody>\n",
       "    <tr>\n",
       "      <th>0</th>\n",
       "      <td>Abbotsford</td>\n",
       "      <td>85 Turner St</td>\n",
       "      <td>2</td>\n",
       "      <td>h</td>\n",
       "      <td>1480000</td>\n",
       "      <td>S</td>\n",
       "      <td>Biggin</td>\n",
       "      <td>3/12/2016</td>\n",
       "      <td>2.5</td>\n",
       "      <td>3067.0</td>\n",
       "      <td>...</td>\n",
       "      <td>1.0</td>\n",
       "      <td>1.0</td>\n",
       "      <td>202.0</td>\n",
       "      <td>NaN</td>\n",
       "      <td>NaN</td>\n",
       "      <td>Yarra</td>\n",
       "      <td>-37.7996</td>\n",
       "      <td>144.9984</td>\n",
       "      <td>Northern Metropolitan</td>\n",
       "      <td>4019.0</td>\n",
       "    </tr>\n",
       "    <tr>\n",
       "      <th>1</th>\n",
       "      <td>Abbotsford</td>\n",
       "      <td>25 Bloomburg St</td>\n",
       "      <td>2</td>\n",
       "      <td>h</td>\n",
       "      <td>1035000</td>\n",
       "      <td>S</td>\n",
       "      <td>Biggin</td>\n",
       "      <td>4/02/2016</td>\n",
       "      <td>2.5</td>\n",
       "      <td>3067.0</td>\n",
       "      <td>...</td>\n",
       "      <td>1.0</td>\n",
       "      <td>0.0</td>\n",
       "      <td>156.0</td>\n",
       "      <td>79.0</td>\n",
       "      <td>1900.0</td>\n",
       "      <td>Yarra</td>\n",
       "      <td>-37.8079</td>\n",
       "      <td>144.9934</td>\n",
       "      <td>Northern Metropolitan</td>\n",
       "      <td>4019.0</td>\n",
       "    </tr>\n",
       "    <tr>\n",
       "      <th>2</th>\n",
       "      <td>Abbotsford</td>\n",
       "      <td>5 Charles St</td>\n",
       "      <td>3</td>\n",
       "      <td>h</td>\n",
       "      <td>1465000</td>\n",
       "      <td>SP</td>\n",
       "      <td>Biggin</td>\n",
       "      <td>4/03/2017</td>\n",
       "      <td>2.5</td>\n",
       "      <td>3067.0</td>\n",
       "      <td>...</td>\n",
       "      <td>2.0</td>\n",
       "      <td>0.0</td>\n",
       "      <td>134.0</td>\n",
       "      <td>150.0</td>\n",
       "      <td>1900.0</td>\n",
       "      <td>Yarra</td>\n",
       "      <td>-37.8093</td>\n",
       "      <td>144.9944</td>\n",
       "      <td>Northern Metropolitan</td>\n",
       "      <td>4019.0</td>\n",
       "    </tr>\n",
       "    <tr>\n",
       "      <th>3</th>\n",
       "      <td>Abbotsford</td>\n",
       "      <td>40 Federation La</td>\n",
       "      <td>3</td>\n",
       "      <td>h</td>\n",
       "      <td>850000</td>\n",
       "      <td>PI</td>\n",
       "      <td>Biggin</td>\n",
       "      <td>4/03/2017</td>\n",
       "      <td>2.5</td>\n",
       "      <td>3067.0</td>\n",
       "      <td>...</td>\n",
       "      <td>2.0</td>\n",
       "      <td>1.0</td>\n",
       "      <td>94.0</td>\n",
       "      <td>NaN</td>\n",
       "      <td>NaN</td>\n",
       "      <td>Yarra</td>\n",
       "      <td>-37.7969</td>\n",
       "      <td>144.9969</td>\n",
       "      <td>Northern Metropolitan</td>\n",
       "      <td>4019.0</td>\n",
       "    </tr>\n",
       "    <tr>\n",
       "      <th>4</th>\n",
       "      <td>Abbotsford</td>\n",
       "      <td>55a Park St</td>\n",
       "      <td>4</td>\n",
       "      <td>h</td>\n",
       "      <td>1600000</td>\n",
       "      <td>VB</td>\n",
       "      <td>Nelson</td>\n",
       "      <td>4/06/2016</td>\n",
       "      <td>2.5</td>\n",
       "      <td>3067.0</td>\n",
       "      <td>...</td>\n",
       "      <td>1.0</td>\n",
       "      <td>2.0</td>\n",
       "      <td>120.0</td>\n",
       "      <td>142.0</td>\n",
       "      <td>2014.0</td>\n",
       "      <td>Yarra</td>\n",
       "      <td>-37.8072</td>\n",
       "      <td>144.9941</td>\n",
       "      <td>Northern Metropolitan</td>\n",
       "      <td>4019.0</td>\n",
       "    </tr>\n",
       "  </tbody>\n",
       "</table>\n",
       "<p>5 rows × 21 columns</p>\n",
       "</div>"
      ],
      "text/plain": [
       "       Suburb           Address  Rooms Type    Price Method SellerG  \\\n",
       "0  Abbotsford      85 Turner St      2    h  1480000      S  Biggin   \n",
       "1  Abbotsford   25 Bloomburg St      2    h  1035000      S  Biggin   \n",
       "2  Abbotsford      5 Charles St      3    h  1465000     SP  Biggin   \n",
       "3  Abbotsford  40 Federation La      3    h   850000     PI  Biggin   \n",
       "4  Abbotsford       55a Park St      4    h  1600000     VB  Nelson   \n",
       "\n",
       "        Date  Distance  Postcode  ...  Bathroom  Car  Landsize  BuildingArea  \\\n",
       "0  3/12/2016       2.5    3067.0  ...       1.0  1.0     202.0           NaN   \n",
       "1  4/02/2016       2.5    3067.0  ...       1.0  0.0     156.0          79.0   \n",
       "2  4/03/2017       2.5    3067.0  ...       2.0  0.0     134.0         150.0   \n",
       "3  4/03/2017       2.5    3067.0  ...       2.0  1.0      94.0           NaN   \n",
       "4  4/06/2016       2.5    3067.0  ...       1.0  2.0     120.0         142.0   \n",
       "\n",
       "   YearBuilt  CouncilArea Lattitude  Longtitude             Regionname  \\\n",
       "0        NaN        Yarra  -37.7996    144.9984  Northern Metropolitan   \n",
       "1     1900.0        Yarra  -37.8079    144.9934  Northern Metropolitan   \n",
       "2     1900.0        Yarra  -37.8093    144.9944  Northern Metropolitan   \n",
       "3        NaN        Yarra  -37.7969    144.9969  Northern Metropolitan   \n",
       "4     2014.0        Yarra  -37.8072    144.9941  Northern Metropolitan   \n",
       "\n",
       "  Propertycount  \n",
       "0        4019.0  \n",
       "1        4019.0  \n",
       "2        4019.0  \n",
       "3        4019.0  \n",
       "4        4019.0  \n",
       "\n",
       "[5 rows x 21 columns]"
      ]
     },
     "execution_count": 33,
     "metadata": {},
     "output_type": "execute_result"
    }
   ],
   "source": [
    "df.head(5)"
   ]
  },
  {
   "cell_type": "code",
   "execution_count": 36,
   "id": "8ea34954",
   "metadata": {},
   "outputs": [],
   "source": [
    "#handelling missing value in Regionname  columns\n",
    "df['Regionname']=df['Regionname'].fillna(df['Regionname'].mode()[0])"
   ]
  },
  {
   "cell_type": "code",
   "execution_count": 39,
   "id": "973ffee1",
   "metadata": {},
   "outputs": [],
   "source": [
    "#handelling missing value in bedroom2  columns\n",
    "df['Bedroom2']=df['Bedroom2'].fillna(df['Bedroom2'].mode()[0])"
   ]
  },
  {
   "cell_type": "code",
   "execution_count": 41,
   "id": "976f8555",
   "metadata": {},
   "outputs": [],
   "source": [
    "#handelling missing value in Bathroom columns\n",
    "df['Bathroom']=df['Bathroom'].fillna(df['Bathroom'].mode()[0])"
   ]
  },
  {
   "cell_type": "code",
   "execution_count": 42,
   "id": "e397c4ca",
   "metadata": {},
   "outputs": [],
   "source": [
    "#handelling missing value in car columns\n",
    "df['Car']=df['Car'].fillna(df['Car'].mode()[0])"
   ]
  },
  {
   "cell_type": "code",
   "execution_count": 43,
   "id": "e43d0c42",
   "metadata": {},
   "outputs": [],
   "source": [
    "#handelling missing value in Landsize columns\n",
    "df['Landsize']=df['Landsize'].fillna(df['Landsize'].mode()[0])"
   ]
  },
  {
   "cell_type": "code",
   "execution_count": 47,
   "id": "10f4ec8f",
   "metadata": {},
   "outputs": [],
   "source": [
    "#handelling missing value in Landsize columns\n",
    "df['Propertycount']=df['Propertycount'].fillna(df['Propertycount'].mode()[0])"
   ]
  },
  {
   "cell_type": "code",
   "execution_count": 48,
   "id": "f8925fb2",
   "metadata": {},
   "outputs": [],
   "source": [
    "#handelling missing value in Distance columns\n",
    "df['Distance']=df['Distance'].fillna(df['Distance'].mode()[0])"
   ]
  },
  {
   "cell_type": "code",
   "execution_count": 51,
   "id": "f7ba09ff",
   "metadata": {},
   "outputs": [],
   "source": [
    "#handelling missing value in Distance columns\n",
    "df['CouncilArea']=df['CouncilArea'].fillna(df['CouncilArea'].mode()[0])"
   ]
  },
  {
   "cell_type": "code",
   "execution_count": 98,
   "id": "8f712b4d",
   "metadata": {},
   "outputs": [],
   "source": [
    "df['BuildingArea'] = df['BuildingArea'].fillna(df['BuildingArea'].median())"
   ]
  },
  {
   "cell_type": "code",
   "execution_count": 57,
   "id": "07663d14",
   "metadata": {},
   "outputs": [],
   "source": [
    "#handelling missing value in YearBuilt columns\n",
    "df['YearBuilt']=df['YearBuilt'].fillna(df['YearBuilt'].mode()[0])"
   ]
  },
  {
   "cell_type": "code",
   "execution_count": 59,
   "id": "5a72e6e6",
   "metadata": {},
   "outputs": [],
   "source": [
    "# drop Postcode columns\n",
    "df.drop(columns=['Postcode'],axis=1,inplace=True)"
   ]
  },
  {
   "cell_type": "code",
   "execution_count": 60,
   "id": "cea50fd4",
   "metadata": {
    "scrolled": true
   },
   "outputs": [
    {
     "data": {
      "text/plain": [
       "Suburb            object\n",
       "Address           object\n",
       "Rooms              int64\n",
       "Type              object\n",
       "Price              int64\n",
       "Method            object\n",
       "SellerG           object\n",
       "Date              object\n",
       "Distance         float64\n",
       "Bedroom2         float64\n",
       "Bathroom         float64\n",
       "Car              float64\n",
       "Landsize         float64\n",
       "BuildingArea     float64\n",
       "YearBuilt        float64\n",
       "CouncilArea       object\n",
       "Lattitude        float64\n",
       "Longtitude       float64\n",
       "Regionname        object\n",
       "Propertycount    float64\n",
       "dtype: object"
      ]
     },
     "execution_count": 60,
     "metadata": {},
     "output_type": "execute_result"
    }
   ],
   "source": [
    "#seet data types\n",
    "df.dtypes"
   ]
  },
  {
   "cell_type": "code",
   "execution_count": 64,
   "id": "a7b82902",
   "metadata": {},
   "outputs": [],
   "source": [
    "# change data type Date and Year Built Columns\n",
    "df['Date']=pd.to_datetime(df['Date'])\n",
    "df['YearBuilt']=df['YearBuilt'].astype('int')"
   ]
  },
  {
   "cell_type": "code",
   "execution_count": 70,
   "id": "88815656",
   "metadata": {},
   "outputs": [],
   "source": [
    "# coolumns Name \n",
    "df.rename(columns={'SellerG':'Agency_Name','Car':'Car_space'},inplace=True)"
   ]
  },
  {
   "cell_type": "code",
   "execution_count": 75,
   "id": "77d88d80",
   "metadata": {},
   "outputs": [],
   "source": [
    "# coolumns Name \n",
    "df.rename(columns={'Type':'Property_type'},inplace=True)"
   ]
  },
  {
   "cell_type": "code",
   "execution_count": 77,
   "id": "f707f3ee",
   "metadata": {},
   "outputs": [],
   "source": [
    "df['Property_type']=df['Property_type'].map({'h':'House','t':'Townhouse','u':'Apartment'})"
   ]
  },
  {
   "cell_type": "code",
   "execution_count": 79,
   "id": "aa92a0f2",
   "metadata": {},
   "outputs": [],
   "source": [
    "# data type change\n",
    "df['Bedroom2']=df['Bedroom2'].astype('int')\n",
    "df['Bathroom']=df['Bathroom'].astype('int')"
   ]
  },
  {
   "cell_type": "code",
   "execution_count": 82,
   "id": "901be8da",
   "metadata": {},
   "outputs": [],
   "source": [
    "#drop unwanted columns\n",
    "df.drop(columns=['Date'],axis=1,inplace=True)"
   ]
  },
  {
   "cell_type": "code",
   "execution_count": 87,
   "id": "b4351d52",
   "metadata": {},
   "outputs": [],
   "source": [
    "#drop unwanted columns\n",
    "df.drop(columns=['YearBuilt'],axis=1,inplace=True)"
   ]
  },
  {
   "cell_type": "code",
   "execution_count": 89,
   "id": "418e8339",
   "metadata": {},
   "outputs": [],
   "source": [
    "# coolumns Name \n",
    "df.rename(columns={'Suburb':'Place'},inplace=True)"
   ]
  },
  {
   "cell_type": "code",
   "execution_count": 91,
   "id": "8951467e",
   "metadata": {},
   "outputs": [],
   "source": [
    "#drop unwanted columns\n",
    "df.drop(columns=['Lattitude','Longtitude'],axis=1,inplace=True)"
   ]
  },
  {
   "cell_type": "code",
   "execution_count": 94,
   "id": "0c39e323",
   "metadata": {},
   "outputs": [],
   "source": [
    "df['Addres']=df['Address'].str.split(' ').str[1]"
   ]
  },
  {
   "cell_type": "code",
   "execution_count": 96,
   "id": "9dd1aac1",
   "metadata": {},
   "outputs": [],
   "source": [
    "#drop unwanted columns\n",
    "df.drop(columns=['Address'],axis=1,inplace=True)"
   ]
  },
  {
   "cell_type": "markdown",
   "id": "0b7d321c",
   "metadata": {},
   "source": [
    "# Feature Engineering"
   ]
  },
  {
   "cell_type": "code",
   "execution_count": 67,
   "id": "a4b4ea51",
   "metadata": {},
   "outputs": [],
   "source": [
    "#extract Year and Month\n",
    "df['Year']=df['Date'].dt.year\n",
    "df['Month']=df['Date'].dt.month_name()"
   ]
  },
  {
   "cell_type": "code",
   "execution_count": 80,
   "id": "ddf45473",
   "metadata": {},
   "outputs": [],
   "source": [
    "df['Total_room']=df['Rooms']+df['Bedroom2']+df['Bathroom']"
   ]
  },
  {
   "cell_type": "code",
   "execution_count": 85,
   "id": "af4ab988",
   "metadata": {},
   "outputs": [],
   "source": [
    "df['Building_Age']=datetime.now().year-df['YearBuilt']"
   ]
  },
  {
   "cell_type": "code",
   "execution_count": 101,
   "id": "2f175a72",
   "metadata": {},
   "outputs": [
    {
     "data": {
      "text/html": [
       "<div>\n",
       "<style scoped>\n",
       "    .dataframe tbody tr th:only-of-type {\n",
       "        vertical-align: middle;\n",
       "    }\n",
       "\n",
       "    .dataframe tbody tr th {\n",
       "        vertical-align: top;\n",
       "    }\n",
       "\n",
       "    .dataframe thead th {\n",
       "        text-align: right;\n",
       "    }\n",
       "</style>\n",
       "<table border=\"1\" class=\"dataframe\">\n",
       "  <thead>\n",
       "    <tr style=\"text-align: right;\">\n",
       "      <th></th>\n",
       "      <th>Place</th>\n",
       "      <th>Rooms</th>\n",
       "      <th>Property_type</th>\n",
       "      <th>Price</th>\n",
       "      <th>Method</th>\n",
       "      <th>Agency_Name</th>\n",
       "      <th>Distance</th>\n",
       "      <th>Bedroom2</th>\n",
       "      <th>Bathroom</th>\n",
       "      <th>Car_space</th>\n",
       "      <th>Landsize</th>\n",
       "      <th>BuildingArea</th>\n",
       "      <th>CouncilArea</th>\n",
       "      <th>Regionname</th>\n",
       "      <th>Propertycount</th>\n",
       "      <th>Year</th>\n",
       "      <th>Month</th>\n",
       "      <th>Total_room</th>\n",
       "      <th>Building_Age</th>\n",
       "      <th>Addres</th>\n",
       "    </tr>\n",
       "  </thead>\n",
       "  <tbody>\n",
       "    <tr>\n",
       "      <th>0</th>\n",
       "      <td>Abbotsford</td>\n",
       "      <td>2</td>\n",
       "      <td>House</td>\n",
       "      <td>1480000</td>\n",
       "      <td>S</td>\n",
       "      <td>Biggin</td>\n",
       "      <td>2.5</td>\n",
       "      <td>2</td>\n",
       "      <td>1</td>\n",
       "      <td>1.0</td>\n",
       "      <td>202.0</td>\n",
       "      <td>126.0</td>\n",
       "      <td>Yarra</td>\n",
       "      <td>Northern Metropolitan</td>\n",
       "      <td>4019.0</td>\n",
       "      <td>2016</td>\n",
       "      <td>March</td>\n",
       "      <td>5</td>\n",
       "      <td>53</td>\n",
       "      <td>Turner</td>\n",
       "    </tr>\n",
       "    <tr>\n",
       "      <th>1</th>\n",
       "      <td>Abbotsford</td>\n",
       "      <td>2</td>\n",
       "      <td>House</td>\n",
       "      <td>1035000</td>\n",
       "      <td>S</td>\n",
       "      <td>Biggin</td>\n",
       "      <td>2.5</td>\n",
       "      <td>2</td>\n",
       "      <td>1</td>\n",
       "      <td>0.0</td>\n",
       "      <td>156.0</td>\n",
       "      <td>79.0</td>\n",
       "      <td>Yarra</td>\n",
       "      <td>Northern Metropolitan</td>\n",
       "      <td>4019.0</td>\n",
       "      <td>2016</td>\n",
       "      <td>April</td>\n",
       "      <td>5</td>\n",
       "      <td>123</td>\n",
       "      <td>Bloomburg</td>\n",
       "    </tr>\n",
       "  </tbody>\n",
       "</table>\n",
       "</div>"
      ],
      "text/plain": [
       "        Place  Rooms Property_type    Price Method Agency_Name  Distance  \\\n",
       "0  Abbotsford      2         House  1480000      S      Biggin       2.5   \n",
       "1  Abbotsford      2         House  1035000      S      Biggin       2.5   \n",
       "\n",
       "   Bedroom2  Bathroom  Car_space  Landsize  BuildingArea CouncilArea  \\\n",
       "0         2         1        1.0     202.0         126.0       Yarra   \n",
       "1         2         1        0.0     156.0          79.0       Yarra   \n",
       "\n",
       "              Regionname  Propertycount  Year  Month  Total_room  \\\n",
       "0  Northern Metropolitan         4019.0  2016  March           5   \n",
       "1  Northern Metropolitan         4019.0  2016  April           5   \n",
       "\n",
       "   Building_Age     Addres  \n",
       "0            53     Turner  \n",
       "1           123  Bloomburg  "
      ]
     },
     "execution_count": 101,
     "metadata": {},
     "output_type": "execute_result"
    }
   ],
   "source": [
    "df.head(2)"
   ]
  },
  {
   "cell_type": "code",
   "execution_count": 103,
   "id": "ccc631f0",
   "metadata": {},
   "outputs": [],
   "source": [
    "# separate numerical columns\n",
    "num=df.select_dtypes(include=[np.number]).columns"
   ]
  },
  {
   "cell_type": "code",
   "execution_count": 105,
   "id": "44447c55",
   "metadata": {},
   "outputs": [],
   "source": [
    "# separate categorical columns\n",
    "cat=df.select_dtypes(exclude=[np.number]).columns"
   ]
  },
  {
   "cell_type": "code",
   "execution_count": 102,
   "id": "797d1d3c",
   "metadata": {},
   "outputs": [],
   "source": [
    "df.to_csv((r\"G:\\File Folder\\Property Sales of Melbourne City.csv\\clean_property.csv\"))"
   ]
  },
  {
   "cell_type": "markdown",
   "id": "6cc01c50",
   "metadata": {},
   "source": [
    "Our Data is ready for Exploratory Data Analysis"
   ]
  },
  {
   "cell_type": "markdown",
   "id": "f99181cd",
   "metadata": {},
   "source": [
    "# Exploratory Data Analysis"
   ]
  },
  {
   "cell_type": "markdown",
   "id": "c7aa22d8",
   "metadata": {},
   "source": [
    "Target Columns: Price"
   ]
  },
  {
   "cell_type": "markdown",
   "id": "ad214412",
   "metadata": {},
   "source": [
    "Univariate Analysis for Categorical Feature"
   ]
  },
  {
   "cell_type": "code",
   "execution_count": 108,
   "id": "f4015265",
   "metadata": {},
   "outputs": [
    {
     "data": {
      "text/plain": [
       "19439006491"
      ]
     },
     "execution_count": 108,
     "metadata": {},
     "output_type": "execute_result"
    }
   ],
   "source": [
    "# Price Columns\n",
    "#Total Sell\n",
    "df['Price'].sum()"
   ]
  },
  {
   "cell_type": "code",
   "execution_count": 111,
   "id": "b09acb0e",
   "metadata": {},
   "outputs": [
    {
     "data": {
      "text/plain": [
       "1056697.46"
      ]
     },
     "execution_count": 111,
     "metadata": {},
     "output_type": "execute_result"
    }
   ],
   "source": [
    "# Average Sell\n",
    "round(df['Price'].mean(),2)"
   ]
  },
  {
   "cell_type": "code",
   "execution_count": 124,
   "id": "ab5655ff",
   "metadata": {},
   "outputs": [
    {
     "data": {
      "image/png": "[encoded data removed]",
      "text/plain": [
       "<Figure size 720x360 with 2 Axes>"
      ]
     },
     "metadata": {
      "needs_background": "light"
     },
     "output_type": "display_data"
    }
   ],
   "source": [
    "# Plot price columns\n",
    "plt.figure(figsize=(10,5))\n",
    "plt.subplot(1,2,1)\n",
    "sns.distplot(x=df['Price'],kde=True,bins=20)\n",
    "plt.subplot(1,2,2)\n",
    "sns.distplot(np.log(df['Price']),kde=True,bins=20);"
   ]
  },
  {
   "cell_type": "markdown",
   "id": "69b7da1f",
   "metadata": {},
   "source": [
    "1.Month Columns"
   ]
  },
  {
   "cell_type": "code",
   "execution_count": 127,
   "id": "6674225f",
   "metadata": {},
   "outputs": [
    {
     "data": {
      "text/plain": [
       "August       2703\n",
       "September    2187\n",
       "July         2172\n",
       "May          2121\n",
       "March        1982\n",
       "June         1939\n",
       "April        1591\n",
       "October      1061\n",
       "November      951\n",
       "December      889\n",
       "February      415\n",
       "January       385\n",
       "Name: Month, dtype: int64"
      ]
     },
     "execution_count": 127,
     "metadata": {},
     "output_type": "execute_result"
    }
   ],
   "source": [
    "# Month Columns\n",
    "month=df['Month'].value_counts()\n",
    "month"
   ]
  },
  {
   "cell_type": "code",
   "execution_count": 134,
   "id": "e5933cc8",
   "metadata": {},
   "outputs": [
    {
     "data": {
      "image/png": "[encoded data removed]",
      "text/plain": [
       "<Figure size 720x360 with 1 Axes>"
      ]
     },
     "metadata": {
      "needs_background": "light"
     },
     "output_type": "display_data"
    }
   ],
   "source": [
    "plt.figure(figsize=(10,5))\n",
    "ax=month.plot(kind='bar')\n",
    "plt.title('Month Wise Property Sales',fontsize=14)\n",
    "for i in ax.containers:\n",
    "    ax.bar_label(i,)\n",
    "plt.xlabel('Month Name',fontsize=14);"
   ]
  },
  {
   "cell_type": "markdown",
   "id": "e4be14c7",
   "metadata": {},
   "source": [
    "Conversation: The most properties were sold in August and the least sold in January"
   ]
  },
  {
   "cell_type": "markdown",
   "id": "19683014",
   "metadata": {},
   "source": [
    "1.2: Year Columns"
   ]
  },
  {
   "cell_type": "code",
   "execution_count": 135,
   "id": "68936960",
   "metadata": {},
   "outputs": [
    {
     "data": {
      "text/plain": [
       "2017    10342\n",
       "2016     8054\n",
       "Name: Year, dtype: int64"
      ]
     },
     "execution_count": 135,
     "metadata": {},
     "output_type": "execute_result"
    }
   ],
   "source": [
    "# Year Columns\n",
    "year=df['Year'].value_counts()\n",
    "year"
   ]
  },
  {
   "cell_type": "code",
   "execution_count": 136,
   "id": "4c5936db",
   "metadata": {},
   "outputs": [
    {
     "data": {
      "image/png": "[encoded data removed]",
      "text/plain": [
       "<Figure size 720x360 with 1 Axes>"
      ]
     },
     "metadata": {
      "needs_background": "light"
     },
     "output_type": "display_data"
    }
   ],
   "source": [
    "plt.figure(figsize=(10,5))\n",
    "ax=year.plot(kind='bar')\n",
    "plt.title('Year Wise Property Sales',fontsize=14)\n",
    "for i in ax.containers:\n",
    "    ax.bar_label(i,)\n",
    "plt.xlabel('Year',fontsize=14);"
   ]
  },
  {
   "cell_type": "markdown",
   "id": "865cedbe",
   "metadata": {},
   "source": [
    "Conversation: The property sold the most in 2016."
   ]
  },
  {
   "cell_type": "markdown",
   "id": "4418abfc",
   "metadata": {},
   "source": [
    "1.3: Property Type"
   ]
  },
  {
   "cell_type": "code",
   "execution_count": 137,
   "id": "3b1da0d1",
   "metadata": {},
   "outputs": [
    {
     "data": {
      "text/plain": [
       "House        12095\n",
       "Apartment     4296\n",
       "Townhouse     2005\n",
       "Name: Property_type, dtype: int64"
      ]
     },
     "execution_count": 137,
     "metadata": {},
     "output_type": "execute_result"
    }
   ],
   "source": [
    "# Property type Columns\n",
    "property=df['Property_type'].value_counts()\n",
    "property"
   ]
  },
  {
   "cell_type": "code",
   "execution_count": 141,
   "id": "6d62c35f",
   "metadata": {},
   "outputs": [
    {
     "data": {
      "image/png": "[encoded data removed]",
      "text/plain": [
       "<Figure size 720x360 with 1 Axes>"
      ]
     },
     "metadata": {},
     "output_type": "display_data"
    }
   ],
   "source": [
    "plt.figure(figsize=(10,5))\n",
    "ax=property.plot(kind='pie',autopct='%0.2f%%',shadow=True)\n",
    "plt.title(' Property Type wise  Sales',fontsize=14);"
   ]
  },
  {
   "cell_type": "markdown",
   "id": "9318a830",
   "metadata": {},
   "source": [
    "Conservation: House type properties are the most sold approx 66.75%"
   ]
  },
  {
   "cell_type": "markdown",
   "id": "32347634",
   "metadata": {},
   "source": [
    "1.4: Agency Name Columns"
   ]
  },
  {
   "cell_type": "code",
   "execution_count": 145,
   "id": "f9c9a29c",
   "metadata": {},
   "outputs": [
    {
     "data": {
      "text/plain": [
       "Nelson           2002\n",
       "Jellis           1759\n",
       "hockingstuart    1580\n",
       "Barry            1390\n",
       "Ray              1032\n",
       "Name: Agency_Name, dtype: int64"
      ]
     },
     "execution_count": 145,
     "metadata": {},
     "output_type": "execute_result"
    }
   ],
   "source": [
    "# Property type Columns\n",
    "agency=df['Agency_Name'].value_counts()[:5]\n",
    "agency"
   ]
  },
  {
   "cell_type": "code",
   "execution_count": 147,
   "id": "32ae64a8",
   "metadata": {},
   "outputs": [
    {
     "data": {
      "image/png": "[encoded data removed]",
      "text/plain": [
       "<Figure size 720x360 with 1 Axes>"
      ]
     },
     "metadata": {},
     "output_type": "display_data"
    }
   ],
   "source": [
    "plt.figure(figsize=(10,5))\n",
    "ax=agency.plot(kind='pie',autopct='%0.2f%%',shadow=True)\n",
    "plt.title(' Top 5 Agency ',fontsize=14);"
   ]
  },
  {
   "cell_type": "markdown",
   "id": "5a924758",
   "metadata": {},
   "source": [
    "conservation: Nelson Agency has sold the most properties"
   ]
  },
  {
   "cell_type": "code",
   "execution_count": 148,
   "id": "d627ca91",
   "metadata": {},
   "outputs": [
    {
     "data": {
      "text/html": [
       "<div>\n",
       "<style scoped>\n",
       "    .dataframe tbody tr th:only-of-type {\n",
       "        vertical-align: middle;\n",
       "    }\n",
       "\n",
       "    .dataframe tbody tr th {\n",
       "        vertical-align: top;\n",
       "    }\n",
       "\n",
       "    .dataframe thead th {\n",
       "        text-align: right;\n",
       "    }\n",
       "</style>\n",
       "<table border=\"1\" class=\"dataframe\">\n",
       "  <thead>\n",
       "    <tr style=\"text-align: right;\">\n",
       "      <th></th>\n",
       "      <th>Place</th>\n",
       "      <th>Rooms</th>\n",
       "      <th>Property_type</th>\n",
       "      <th>Price</th>\n",
       "      <th>Method</th>\n",
       "      <th>Agency_Name</th>\n",
       "      <th>Distance</th>\n",
       "      <th>Bedroom2</th>\n",
       "      <th>Bathroom</th>\n",
       "      <th>Car_space</th>\n",
       "      <th>Landsize</th>\n",
       "      <th>BuildingArea</th>\n",
       "      <th>CouncilArea</th>\n",
       "      <th>Regionname</th>\n",
       "      <th>Propertycount</th>\n",
       "      <th>Year</th>\n",
       "      <th>Month</th>\n",
       "      <th>Total_room</th>\n",
       "      <th>Building_Age</th>\n",
       "      <th>Addres</th>\n",
       "    </tr>\n",
       "  </thead>\n",
       "  <tbody>\n",
       "    <tr>\n",
       "      <th>0</th>\n",
       "      <td>Abbotsford</td>\n",
       "      <td>2</td>\n",
       "      <td>House</td>\n",
       "      <td>1480000</td>\n",
       "      <td>S</td>\n",
       "      <td>Biggin</td>\n",
       "      <td>2.5</td>\n",
       "      <td>2</td>\n",
       "      <td>1</td>\n",
       "      <td>1.0</td>\n",
       "      <td>202.0</td>\n",
       "      <td>126.0</td>\n",
       "      <td>Yarra</td>\n",
       "      <td>Northern Metropolitan</td>\n",
       "      <td>4019.0</td>\n",
       "      <td>2016</td>\n",
       "      <td>March</td>\n",
       "      <td>5</td>\n",
       "      <td>53</td>\n",
       "      <td>Turner</td>\n",
       "    </tr>\n",
       "    <tr>\n",
       "      <th>1</th>\n",
       "      <td>Abbotsford</td>\n",
       "      <td>2</td>\n",
       "      <td>House</td>\n",
       "      <td>1035000</td>\n",
       "      <td>S</td>\n",
       "      <td>Biggin</td>\n",
       "      <td>2.5</td>\n",
       "      <td>2</td>\n",
       "      <td>1</td>\n",
       "      <td>0.0</td>\n",
       "      <td>156.0</td>\n",
       "      <td>79.0</td>\n",
       "      <td>Yarra</td>\n",
       "      <td>Northern Metropolitan</td>\n",
       "      <td>4019.0</td>\n",
       "      <td>2016</td>\n",
       "      <td>April</td>\n",
       "      <td>5</td>\n",
       "      <td>123</td>\n",
       "      <td>Bloomburg</td>\n",
       "    </tr>\n",
       "  </tbody>\n",
       "</table>\n",
       "</div>"
      ],
      "text/plain": [
       "        Place  Rooms Property_type    Price Method Agency_Name  Distance  \\\n",
       "0  Abbotsford      2         House  1480000      S      Biggin       2.5   \n",
       "1  Abbotsford      2         House  1035000      S      Biggin       2.5   \n",
       "\n",
       "   Bedroom2  Bathroom  Car_space  Landsize  BuildingArea CouncilArea  \\\n",
       "0         2         1        1.0     202.0         126.0       Yarra   \n",
       "1         2         1        0.0     156.0          79.0       Yarra   \n",
       "\n",
       "              Regionname  Propertycount  Year  Month  Total_room  \\\n",
       "0  Northern Metropolitan         4019.0  2016  March           5   \n",
       "1  Northern Metropolitan         4019.0  2016  April           5   \n",
       "\n",
       "   Building_Age     Addres  \n",
       "0            53     Turner  \n",
       "1           123  Bloomburg  "
      ]
     },
     "execution_count": 148,
     "metadata": {},
     "output_type": "execute_result"
    }
   ],
   "source": [
    "df.head(2)"
   ]
  },
  {
   "cell_type": "markdown",
   "id": "d32ecc1f",
   "metadata": {},
   "source": [
    "1.5: Place Columns"
   ]
  },
  {
   "cell_type": "code",
   "execution_count": 150,
   "id": "f0220bb6",
   "metadata": {},
   "outputs": [
    {
     "data": {
      "text/plain": [
       "Reservoir         541\n",
       "Bentleigh East    368\n",
       "Richmond          333\n",
       "Preston           312\n",
       "Brunswick         286\n",
       "Name: Place, dtype: int64"
      ]
     },
     "execution_count": 150,
     "metadata": {},
     "output_type": "execute_result"
    }
   ],
   "source": [
    "# Property type Columns\n",
    "place=df['Place'].value_counts()[:5]\n",
    "place"
   ]
  },
  {
   "cell_type": "code",
   "execution_count": 151,
   "id": "e7272f0d",
   "metadata": {},
   "outputs": [
    {
     "data": {
      "image/png": "[encoded data removed]",
      "text/plain": [
       "<Figure size 720x360 with 1 Axes>"
      ]
     },
     "metadata": {},
     "output_type": "display_data"
    }
   ],
   "source": [
    "plt.figure(figsize=(10,5))\n",
    "ax=place.plot(kind='pie',autopct='%0.2f%%',shadow=True)\n",
    "plt.title(' Top 5 Place  ',fontsize=14);"
   ]
  },
  {
   "cell_type": "markdown",
   "id": "144650d0",
   "metadata": {},
   "source": [
    "conservation: The highest number of properties sold in Reservoir Area (29.40%)."
   ]
  },
  {
   "cell_type": "markdown",
   "id": "1924bf81",
   "metadata": {},
   "source": [
    "1.5: Region Name"
   ]
  },
  {
   "cell_type": "code",
   "execution_count": 156,
   "id": "854764a6",
   "metadata": {},
   "outputs": [
    {
     "data": {
      "image/png": "[encoded data removed]",
      "text/plain": [
       "<Figure size 720x360 with 1 Axes>"
      ]
     },
     "metadata": {
      "needs_background": "light"
     },
     "output_type": "display_data"
    }
   ],
   "source": [
    "plt.figure(figsize=(10,5))\n",
    "#ax=year.plot(kind='bar')\n",
    "ax=sns.countplot(data=df,x=df['Regionname'])\n",
    "plt.title('Region Wise Property Sales',fontsize=14)\n",
    "plt.xticks(rotation=25)\n",
    "for i in ax.containers:\n",
    "    ax.bar_label(i,)\n",
    "plt.xlabel('Region Name',fontsize=14);"
   ]
  },
  {
   "cell_type": "markdown",
   "id": "6d78a205",
   "metadata": {},
   "source": [
    "conservation: The Southern Metropolitan region saw the highest number of properties sold. and sold less in the western Victoria region."
   ]
  },
  {
   "cell_type": "markdown",
   "id": "ccfce126",
   "metadata": {},
   "source": [
    "Numerical Columns Univarate Analysis"
   ]
  },
  {
   "cell_type": "code",
   "execution_count": 157,
   "id": "49a32a10",
   "metadata": {},
   "outputs": [
    {
     "data": {
      "text/html": [
       "<div>\n",
       "<style scoped>\n",
       "    .dataframe tbody tr th:only-of-type {\n",
       "        vertical-align: middle;\n",
       "    }\n",
       "\n",
       "    .dataframe tbody tr th {\n",
       "        vertical-align: top;\n",
       "    }\n",
       "\n",
       "    .dataframe thead th {\n",
       "        text-align: right;\n",
       "    }\n",
       "</style>\n",
       "<table border=\"1\" class=\"dataframe\">\n",
       "  <thead>\n",
       "    <tr style=\"text-align: right;\">\n",
       "      <th></th>\n",
       "      <th>Place</th>\n",
       "      <th>Rooms</th>\n",
       "      <th>Property_type</th>\n",
       "      <th>Price</th>\n",
       "      <th>Method</th>\n",
       "      <th>Agency_Name</th>\n",
       "      <th>Distance</th>\n",
       "      <th>Bedroom2</th>\n",
       "      <th>Bathroom</th>\n",
       "      <th>Car_space</th>\n",
       "      <th>Landsize</th>\n",
       "      <th>BuildingArea</th>\n",
       "      <th>CouncilArea</th>\n",
       "      <th>Regionname</th>\n",
       "      <th>Propertycount</th>\n",
       "      <th>Year</th>\n",
       "      <th>Month</th>\n",
       "      <th>Total_room</th>\n",
       "      <th>Building_Age</th>\n",
       "      <th>Addres</th>\n",
       "    </tr>\n",
       "  </thead>\n",
       "  <tbody>\n",
       "    <tr>\n",
       "      <th>0</th>\n",
       "      <td>Abbotsford</td>\n",
       "      <td>2</td>\n",
       "      <td>House</td>\n",
       "      <td>1480000</td>\n",
       "      <td>S</td>\n",
       "      <td>Biggin</td>\n",
       "      <td>2.5</td>\n",
       "      <td>2</td>\n",
       "      <td>1</td>\n",
       "      <td>1.0</td>\n",
       "      <td>202.0</td>\n",
       "      <td>126.0</td>\n",
       "      <td>Yarra</td>\n",
       "      <td>Northern Metropolitan</td>\n",
       "      <td>4019.0</td>\n",
       "      <td>2016</td>\n",
       "      <td>March</td>\n",
       "      <td>5</td>\n",
       "      <td>53</td>\n",
       "      <td>Turner</td>\n",
       "    </tr>\n",
       "    <tr>\n",
       "      <th>1</th>\n",
       "      <td>Abbotsford</td>\n",
       "      <td>2</td>\n",
       "      <td>House</td>\n",
       "      <td>1035000</td>\n",
       "      <td>S</td>\n",
       "      <td>Biggin</td>\n",
       "      <td>2.5</td>\n",
       "      <td>2</td>\n",
       "      <td>1</td>\n",
       "      <td>0.0</td>\n",
       "      <td>156.0</td>\n",
       "      <td>79.0</td>\n",
       "      <td>Yarra</td>\n",
       "      <td>Northern Metropolitan</td>\n",
       "      <td>4019.0</td>\n",
       "      <td>2016</td>\n",
       "      <td>April</td>\n",
       "      <td>5</td>\n",
       "      <td>123</td>\n",
       "      <td>Bloomburg</td>\n",
       "    </tr>\n",
       "  </tbody>\n",
       "</table>\n",
       "</div>"
      ],
      "text/plain": [
       "        Place  Rooms Property_type    Price Method Agency_Name  Distance  \\\n",
       "0  Abbotsford      2         House  1480000      S      Biggin       2.5   \n",
       "1  Abbotsford      2         House  1035000      S      Biggin       2.5   \n",
       "\n",
       "   Bedroom2  Bathroom  Car_space  Landsize  BuildingArea CouncilArea  \\\n",
       "0         2         1        1.0     202.0         126.0       Yarra   \n",
       "1         2         1        0.0     156.0          79.0       Yarra   \n",
       "\n",
       "              Regionname  Propertycount  Year  Month  Total_room  \\\n",
       "0  Northern Metropolitan         4019.0  2016  March           5   \n",
       "1  Northern Metropolitan         4019.0  2016  April           5   \n",
       "\n",
       "   Building_Age     Addres  \n",
       "0            53     Turner  \n",
       "1           123  Bloomburg  "
      ]
     },
     "execution_count": 157,
     "metadata": {},
     "output_type": "execute_result"
    }
   ],
   "source": [
    "df.head(2)"
   ]
  },
  {
   "cell_type": "markdown",
   "id": "c8a2b307",
   "metadata": {},
   "source": [
    "2.1: Total Rooms"
   ]
  },
  {
   "cell_type": "code",
   "execution_count": 162,
   "id": "bb8f5ce1",
   "metadata": {},
   "outputs": [
    {
     "data": {
      "image/png": "[encoded data removed]",
      "text/plain": [
       "<Figure size 720x360 with 1 Axes>"
      ]
     },
     "metadata": {
      "needs_background": "light"
     },
     "output_type": "display_data"
    }
   ],
   "source": [
    "plt.figure(figsize=(10,5))\n",
    "sns.distplot(df['Total_room'])\n",
    "plt.title(' Total Room Distribution',fontsize=13);"
   ]
  },
  {
   "cell_type": "markdown",
   "id": "1a987905",
   "metadata": {},
   "source": [
    "Conservation: 5 to 10 room properties sold more and among them 7 room houses sold more."
   ]
  },
  {
   "cell_type": "markdown",
   "id": "13df6989",
   "metadata": {},
   "source": [
    "2.2: Distance Distribution "
   ]
  },
  {
   "cell_type": "code",
   "execution_count": 183,
   "id": "64c669d9",
   "metadata": {
    "scrolled": true
   },
   "outputs": [
    {
     "data": {
      "image/png": "[encoded data removed]",
      "text/plain": [
       "<Figure size 720x360 with 1 Axes>"
      ]
     },
     "metadata": {
      "needs_background": "light"
     },
     "output_type": "display_data"
    }
   ],
   "source": [
    "plt.figure(figsize=(10,5))\n",
    "sns.distplot(df['Distance'])\n",
    "plt.title(' Distance Distribution',fontsize=13);"
   ]
  },
  {
   "cell_type": "code",
   "execution_count": null,
   "id": "c78f2c21",
   "metadata": {},
   "outputs": [],
   "source": [
    "conservation: Most Of The Property Distance from Melbourne central business district is 2-18 KM."
   ]
  },
  {
   "cell_type": "markdown",
   "id": "a6fa7872",
   "metadata": {},
   "source": [
    "2.3: Building Age Distribution"
   ]
  },
  {
   "cell_type": "code",
   "execution_count": 190,
   "id": "1c283a9e",
   "metadata": {},
   "outputs": [
    {
     "data": {
      "image/png": "[encoded data removed]",
      "text/plain": [
       "<Figure size 720x360 with 1 Axes>"
      ]
     },
     "metadata": {
      "needs_background": "light"
     },
     "output_type": "display_data"
    }
   ],
   "source": [
    "plt.figure(figsize=(10,5))\n",
    "sns.distplot(df['Building_Age'])\n",
    "plt.title(' Building Age Distribution',fontsize=13);"
   ]
  },
  {
   "cell_type": "markdown",
   "id": "a9b6de22",
   "metadata": {},
   "source": [
    "conservation: Most of the houses that have been sold are between 50 and 70 years old."
   ]
  },
  {
   "cell_type": "markdown",
   "id": "a2528235",
   "metadata": {},
   "source": [
    "Bivariate Analysis"
   ]
  },
  {
   "cell_type": "markdown",
   "id": "f6973af3",
   "metadata": {},
   "source": [
    "Place wise Price\n"
   ]
  },
  {
   "cell_type": "code",
   "execution_count": 172,
   "id": "3a77399d",
   "metadata": {},
   "outputs": [
    {
     "data": {
      "text/html": [
       "<div>\n",
       "<style scoped>\n",
       "    .dataframe tbody tr th:only-of-type {\n",
       "        vertical-align: middle;\n",
       "    }\n",
       "\n",
       "    .dataframe tbody tr th {\n",
       "        vertical-align: top;\n",
       "    }\n",
       "\n",
       "    .dataframe thead th {\n",
       "        text-align: right;\n",
       "    }\n",
       "</style>\n",
       "<table border=\"1\" class=\"dataframe\">\n",
       "  <thead>\n",
       "    <tr style=\"text-align: right;\">\n",
       "      <th></th>\n",
       "      <th>Place</th>\n",
       "      <th>Price</th>\n",
       "    </tr>\n",
       "  </thead>\n",
       "  <tbody>\n",
       "    <tr>\n",
       "      <th>41</th>\n",
       "      <td>Brighton</td>\n",
       "      <td>468505438</td>\n",
       "    </tr>\n",
       "    <tr>\n",
       "      <th>175</th>\n",
       "      <td>Kew</td>\n",
       "      <td>440782500</td>\n",
       "    </tr>\n",
       "    <tr>\n",
       "      <th>30</th>\n",
       "      <td>Bentleigh East</td>\n",
       "      <td>405983176</td>\n",
       "    </tr>\n",
       "    <tr>\n",
       "      <th>140</th>\n",
       "      <td>Glen Iris</td>\n",
       "      <td>386935800</td>\n",
       "    </tr>\n",
       "    <tr>\n",
       "      <th>22</th>\n",
       "      <td>Balwyn North</td>\n",
       "      <td>376076300</td>\n",
       "    </tr>\n",
       "    <tr>\n",
       "      <th>58</th>\n",
       "      <td>Camberwell</td>\n",
       "      <td>370716200</td>\n",
       "    </tr>\n",
       "    <tr>\n",
       "      <th>248</th>\n",
       "      <td>Reservoir</td>\n",
       "      <td>367237350</td>\n",
       "    </tr>\n",
       "    <tr>\n",
       "      <th>249</th>\n",
       "      <td>Richmond</td>\n",
       "      <td>358847750</td>\n",
       "    </tr>\n",
       "    <tr>\n",
       "      <th>21</th>\n",
       "      <td>Balwyn</td>\n",
       "      <td>310109500</td>\n",
       "    </tr>\n",
       "    <tr>\n",
       "      <th>42</th>\n",
       "      <td>Brighton East</td>\n",
       "      <td>308185300</td>\n",
       "    </tr>\n",
       "  </tbody>\n",
       "</table>\n",
       "</div>"
      ],
      "text/plain": [
       "              Place      Price\n",
       "41         Brighton  468505438\n",
       "175             Kew  440782500\n",
       "30   Bentleigh East  405983176\n",
       "140       Glen Iris  386935800\n",
       "22     Balwyn North  376076300\n",
       "58       Camberwell  370716200\n",
       "248       Reservoir  367237350\n",
       "249        Richmond  358847750\n",
       "21           Balwyn  310109500\n",
       "42    Brighton East  308185300"
      ]
     },
     "execution_count": 172,
     "metadata": {},
     "output_type": "execute_result"
    }
   ],
   "source": [
    "top_10=df.groupby('Place')['Price'].sum().reset_index().sort_values(by='Price',ascending=False)[:10]\n",
    "top_10"
   ]
  },
  {
   "cell_type": "code",
   "execution_count": 174,
   "id": "1b780700",
   "metadata": {},
   "outputs": [
    {
     "data": {
      "image/png": "[encoded data removed]",
      "text/plain": [
       "<Figure size 720x360 with 1 Axes>"
      ]
     },
     "metadata": {
      "needs_background": "light"
     },
     "output_type": "display_data"
    }
   ],
   "source": [
    "plt.figure(figsize=(10,5))\n",
    "ax=sns.barplot(data=top_10,x=top_10['Place'],y=top_10['Price'])\n",
    "plt.title('Place Wise property sell by Price',fontsize=14)\n",
    "plt.xticks(rotation=25)\n",
    "plt.xlabel('Region Name',fontsize=14);"
   ]
  },
  {
   "cell_type": "markdown",
   "id": "50cb0a23",
   "metadata": {},
   "source": [
    "conservation: Brighton has the highest sell Price Place."
   ]
  },
  {
   "cell_type": "markdown",
   "id": "cdd59e64",
   "metadata": {},
   "source": [
    "Property Type by Price"
   ]
  },
  {
   "cell_type": "code",
   "execution_count": 177,
   "id": "074a779b",
   "metadata": {},
   "outputs": [
    {
     "data": {
      "text/plain": [
       "Property_type\n",
       "Apartment     2658001471\n",
       "House        14928264543\n",
       "Townhouse     1852740477\n",
       "Name: Price, dtype: int64"
      ]
     },
     "execution_count": 177,
     "metadata": {},
     "output_type": "execute_result"
    }
   ],
   "source": [
    "top_10=df.groupby('Property_type')['Price'].sum()\n",
    "top_10"
   ]
  },
  {
   "cell_type": "code",
   "execution_count": 178,
   "id": "5aeccd8c",
   "metadata": {},
   "outputs": [
    {
     "data": {
      "image/png": "[encoded data removed]",
      "text/plain": [
       "<Figure size 432x432 with 1 Axes>"
      ]
     },
     "metadata": {},
     "output_type": "display_data"
    }
   ],
   "source": [
    "fig, ax=plt.subplots(figsize=(6,6))\n",
    "top_10.plot(kind='pie',autopct=\"%1.1f%%\",pctdistance=0.85)\n",
    "circle=plt.Circle((0,0),0.7,color='white')\n",
    "p=plt.gcf()\n",
    "p.gca().add_artist(circle)\n",
    "plt.tight_layout()\n",
    "ax.set_title('Property Type wise sell Price');"
   ]
  },
  {
   "cell_type": "markdown",
   "id": "7b976721",
   "metadata": {},
   "source": [
    "Converstion: The highest revenue came from house_type(76.8%) properties. And less revenue come from the town house(9.5%)."
   ]
  },
  {
   "cell_type": "code",
   "execution_count": 180,
   "id": "633e82fc",
   "metadata": {},
   "outputs": [
    {
     "data": {
      "text/html": [
       "<div>\n",
       "<style scoped>\n",
       "    .dataframe tbody tr th:only-of-type {\n",
       "        vertical-align: middle;\n",
       "    }\n",
       "\n",
       "    .dataframe tbody tr th {\n",
       "        vertical-align: top;\n",
       "    }\n",
       "\n",
       "    .dataframe thead th {\n",
       "        text-align: right;\n",
       "    }\n",
       "</style>\n",
       "<table border=\"1\" class=\"dataframe\">\n",
       "  <thead>\n",
       "    <tr style=\"text-align: right;\">\n",
       "      <th></th>\n",
       "      <th>Place</th>\n",
       "      <th>Rooms</th>\n",
       "      <th>Property_type</th>\n",
       "      <th>Price</th>\n",
       "      <th>Method</th>\n",
       "      <th>Agency_Name</th>\n",
       "      <th>Distance</th>\n",
       "      <th>Bedroom2</th>\n",
       "      <th>Bathroom</th>\n",
       "      <th>Car_space</th>\n",
       "      <th>Landsize</th>\n",
       "      <th>BuildingArea</th>\n",
       "      <th>CouncilArea</th>\n",
       "      <th>Regionname</th>\n",
       "      <th>Propertycount</th>\n",
       "      <th>Year</th>\n",
       "      <th>Month</th>\n",
       "      <th>Total_room</th>\n",
       "      <th>Building_Age</th>\n",
       "      <th>Addres</th>\n",
       "    </tr>\n",
       "  </thead>\n",
       "  <tbody>\n",
       "    <tr>\n",
       "      <th>0</th>\n",
       "      <td>Abbotsford</td>\n",
       "      <td>2</td>\n",
       "      <td>House</td>\n",
       "      <td>1480000</td>\n",
       "      <td>S</td>\n",
       "      <td>Biggin</td>\n",
       "      <td>2.5</td>\n",
       "      <td>2</td>\n",
       "      <td>1</td>\n",
       "      <td>1.0</td>\n",
       "      <td>202.0</td>\n",
       "      <td>126.0</td>\n",
       "      <td>Yarra</td>\n",
       "      <td>Northern Metropolitan</td>\n",
       "      <td>4019.0</td>\n",
       "      <td>2016</td>\n",
       "      <td>March</td>\n",
       "      <td>5</td>\n",
       "      <td>53</td>\n",
       "      <td>Turner</td>\n",
       "    </tr>\n",
       "    <tr>\n",
       "      <th>1</th>\n",
       "      <td>Abbotsford</td>\n",
       "      <td>2</td>\n",
       "      <td>House</td>\n",
       "      <td>1035000</td>\n",
       "      <td>S</td>\n",
       "      <td>Biggin</td>\n",
       "      <td>2.5</td>\n",
       "      <td>2</td>\n",
       "      <td>1</td>\n",
       "      <td>0.0</td>\n",
       "      <td>156.0</td>\n",
       "      <td>79.0</td>\n",
       "      <td>Yarra</td>\n",
       "      <td>Northern Metropolitan</td>\n",
       "      <td>4019.0</td>\n",
       "      <td>2016</td>\n",
       "      <td>April</td>\n",
       "      <td>5</td>\n",
       "      <td>123</td>\n",
       "      <td>Bloomburg</td>\n",
       "    </tr>\n",
       "  </tbody>\n",
       "</table>\n",
       "</div>"
      ],
      "text/plain": [
       "        Place  Rooms Property_type    Price Method Agency_Name  Distance  \\\n",
       "0  Abbotsford      2         House  1480000      S      Biggin       2.5   \n",
       "1  Abbotsford      2         House  1035000      S      Biggin       2.5   \n",
       "\n",
       "   Bedroom2  Bathroom  Car_space  Landsize  BuildingArea CouncilArea  \\\n",
       "0         2         1        1.0     202.0         126.0       Yarra   \n",
       "1         2         1        0.0     156.0          79.0       Yarra   \n",
       "\n",
       "              Regionname  Propertycount  Year  Month  Total_room  \\\n",
       "0  Northern Metropolitan         4019.0  2016  March           5   \n",
       "1  Northern Metropolitan         4019.0  2016  April           5   \n",
       "\n",
       "   Building_Age     Addres  \n",
       "0            53     Turner  \n",
       "1           123  Bloomburg  "
      ]
     },
     "execution_count": 180,
     "metadata": {},
     "output_type": "execute_result"
    }
   ],
   "source": [
    "df.head(2)"
   ]
  },
  {
   "cell_type": "code",
   "execution_count": 181,
   "id": "b155dc64",
   "metadata": {},
   "outputs": [
    {
     "data": {
      "text/html": [
       "<div>\n",
       "<style scoped>\n",
       "    .dataframe tbody tr th:only-of-type {\n",
       "        vertical-align: middle;\n",
       "    }\n",
       "\n",
       "    .dataframe tbody tr th {\n",
       "        vertical-align: top;\n",
       "    }\n",
       "\n",
       "    .dataframe thead th {\n",
       "        text-align: right;\n",
       "    }\n",
       "</style>\n",
       "<table border=\"1\" class=\"dataframe\">\n",
       "  <thead>\n",
       "    <tr style=\"text-align: right;\">\n",
       "      <th></th>\n",
       "      <th>Month</th>\n",
       "      <th>Price</th>\n",
       "    </tr>\n",
       "  </thead>\n",
       "  <tbody>\n",
       "    <tr>\n",
       "      <th>1</th>\n",
       "      <td>August</td>\n",
       "      <td>2771423632</td>\n",
       "    </tr>\n",
       "    <tr>\n",
       "      <th>8</th>\n",
       "      <td>May</td>\n",
       "      <td>2319999638</td>\n",
       "    </tr>\n",
       "    <tr>\n",
       "      <th>11</th>\n",
       "      <td>September</td>\n",
       "      <td>2288519515</td>\n",
       "    </tr>\n",
       "    <tr>\n",
       "      <th>7</th>\n",
       "      <td>March</td>\n",
       "      <td>2205382343</td>\n",
       "    </tr>\n",
       "    <tr>\n",
       "      <th>6</th>\n",
       "      <td>June</td>\n",
       "      <td>2064632664</td>\n",
       "    </tr>\n",
       "    <tr>\n",
       "      <th>5</th>\n",
       "      <td>July</td>\n",
       "      <td>2017869784</td>\n",
       "    </tr>\n",
       "    <tr>\n",
       "      <th>0</th>\n",
       "      <td>April</td>\n",
       "      <td>1673891325</td>\n",
       "    </tr>\n",
       "    <tr>\n",
       "      <th>10</th>\n",
       "      <td>October</td>\n",
       "      <td>1193198098</td>\n",
       "    </tr>\n",
       "    <tr>\n",
       "      <th>9</th>\n",
       "      <td>November</td>\n",
       "      <td>1071351554</td>\n",
       "    </tr>\n",
       "    <tr>\n",
       "      <th>2</th>\n",
       "      <td>December</td>\n",
       "      <td>992392950</td>\n",
       "    </tr>\n",
       "  </tbody>\n",
       "</table>\n",
       "</div>"
      ],
      "text/plain": [
       "        Month       Price\n",
       "1      August  2771423632\n",
       "8         May  2319999638\n",
       "11  September  2288519515\n",
       "7       March  2205382343\n",
       "6        June  2064632664\n",
       "5        July  2017869784\n",
       "0       April  1673891325\n",
       "10    October  1193198098\n",
       "9    November  1071351554\n",
       "2    December   992392950"
      ]
     },
     "execution_count": 181,
     "metadata": {},
     "output_type": "execute_result"
    }
   ],
   "source": [
    "top_10=df.groupby('Month')['Price'].sum().reset_index().sort_values(by='Price',ascending=False)[:10]\n",
    "top_10"
   ]
  },
  {
   "cell_type": "code",
   "execution_count": 182,
   "id": "fed3e405",
   "metadata": {},
   "outputs": [
    {
     "data": {
      "image/png": "[encoded data removed]",
      "text/plain": [
       "<Figure size 720x360 with 1 Axes>"
      ]
     },
     "metadata": {
      "needs_background": "light"
     },
     "output_type": "display_data"
    }
   ],
   "source": [
    "plt.figure(figsize=(10,5))\n",
    "ax=sns.barplot(data=top_10,x=top_10['Month'],y=top_10['Price'])\n",
    "plt.title('Month Wise property sell by Price',fontsize=14)\n",
    "plt.xticks(rotation=25)\n",
    "plt.xlabel('Month Name',fontsize=14);"
   ]
  },
  {
   "cell_type": "markdown",
   "id": "54f8e8cb",
   "metadata": {},
   "source": [
    "Converstion: The highest revenue came from August Month. And less revenue come from the December Month."
   ]
  },
  {
   "cell_type": "code",
   "execution_count": 198,
   "id": "557d2fdf",
   "metadata": {},
   "outputs": [
    {
     "data": {
      "image/png": "[encoded data removed]",
      "text/plain": [
       "<Figure size 720x360 with 1 Axes>"
      ]
     },
     "metadata": {
      "needs_background": "light"
     },
     "output_type": "display_data"
    }
   ],
   "source": [
    "# car space sold \n",
    "plt.figure(figsize=(10,5))\n",
    "ax=df['Car_space'].value_counts().plot(kind='bar')\n",
    "plt.title('Car Space Counts',fontsize=14)\n",
    "plt.xticks(rotation=25)\n",
    "for i in ax.containers:\n",
    "    ax.bar_label(i,)\n",
    "plt.xlabel('Region Name',fontsize=14);"
   ]
  },
  {
   "cell_type": "markdown",
   "id": "19251bdd",
   "metadata": {},
   "source": [
    "conservation: Properties with car space between 0 and 3 sold the most."
   ]
  },
  {
   "cell_type": "code",
   "execution_count": 200,
   "id": "7c5a902e",
   "metadata": {},
   "outputs": [
    {
     "data": {
      "image/png": "[encoded data removed]",
      "text/plain": [
       "<Figure size 864x432 with 1 Axes>"
      ]
     },
     "metadata": {
      "needs_background": "light"
     },
     "output_type": "display_data"
    }
   ],
   "source": [
    "plt.figure(figsize=(12,6))\n",
    "reg_price = df.groupby('Regionname')['Price'].sum().reset_index().sort_values('Price',ascending=False).reset_index(drop=True).head(10)\n",
    "g = sns.barplot(data=reg_price,x='Regionname',y='Price')\n",
    "for v in reg_price.itertuples():\n",
    "    #print(v)\n",
    "    g.text(x=v.Index,y=v.Price+1e8,s=str(v.Price), size=7, ha=\"center\")\n",
    "plt.xticks(rotation=90)\n",
    "plt.show()"
   ]
  },
  {
   "cell_type": "markdown",
   "id": "61cf9fc4",
   "metadata": {},
   "source": [
    "Region which has most Propertycount\n"
   ]
  },
  {
   "cell_type": "code",
   "execution_count": 201,
   "id": "8907cdc1",
   "metadata": {},
   "outputs": [
    {
     "data": {
      "image/png": "[encoded data removed]",
      "text/plain": [
       "<Figure size 432x288 with 1 Axes>"
      ]
     },
     "metadata": {
      "needs_background": "light"
     },
     "output_type": "display_data"
    }
   ],
   "source": [
    "reg_prop = round(df.groupby('Regionname')['Propertycount'].mean(),2)\n",
    "reg_prop = reg_prop.reset_index().sort_values('Propertycount',ascending=False).reset_index(drop=True)\n",
    "g = sns.barplot(data=reg_prop,x='Regionname',y='Propertycount')\n",
    "for v in reg_prop.itertuples():\n",
    "    #print(v)\n",
    "    g.text(x=v.Index,y=v.Propertycount+100,s=str(v.Propertycount), size=7, ha=\"center\")\n",
    "plt.xticks(rotation=90)\n",
    "plt.show()"
   ]
  },
  {
   "cell_type": "markdown",
   "id": "74ab4f6d",
   "metadata": {},
   "source": [
    "Method which has the highest sell Price\n",
    "\n"
   ]
  },
  {
   "cell_type": "code",
   "execution_count": 202,
   "id": "a8d26562",
   "metadata": {},
   "outputs": [
    {
     "data": {
      "image/png": "[encoded data removed]",
      "text/plain": [
       "<Figure size 432x288 with 1 Axes>"
      ]
     },
     "metadata": {
      "needs_background": "light"
     },
     "output_type": "display_data"
    }
   ],
   "source": [
    "methode_price = df.groupby('Method')['Price'].sum().reset_index().sort_values('Price',ascending=False).reset_index(drop=True)\n",
    "g = sns.barplot(data=methode_price,x='Method',y='Price')\n",
    "for v in methode_price.itertuples():\n",
    "    #print(v)\n",
    "    g.text(x=v.Index,y=v.Price+1e8,s=str(v.Price), size=7, ha=\"center\")\n",
    "plt.xticks(rotation=90)\n",
    "plt.show()"
   ]
  },
  {
   "cell_type": "markdown",
   "id": "41aff73b",
   "metadata": {},
   "source": [
    "Insight: \n",
    "\n",
    "Total Property Sales Price 194 Billion and average sell price 1056697.46.The most properties were sold in August and the least sold in January and year 2016.so The highest revenue came from August Month. But less revenue come from the December Month.Nelson Agency has sold the most properties and property_type  houses approx 66.75% and most properties sold from  Reservoir Area. The highest revenue came from house_type(76.8%) properties. And less revenue come from the town house(9.5%).Southern Metropolitan region saw the highest number of properties sold. so highest revenue come from Southern Metropolitan area. Properties located 2 to 18 km from the Melbourne central business district and with 5 to 10 rooms and 3 car spaces sold for the most.Most of the houses that have been sold are between 50 and 70 years old. Brighton has the highest sell Price Place.S = property sold This method has the highest number of properties sold and the highest revenue."
   ]
  },
  {
   "cell_type": "code",
   "execution_count": null,
   "id": "67b403e5",
   "metadata": {},
   "outputs": [],
   "source": []
  }
 ],
 "metadata": {
  "kernelspec": {
   "display_name": "Python 3 (ipykernel)",
   "language": "python",
   "name": "python3"
  },
  "language_info": {
   "codemirror_mode": {
    "name": "ipython",
    "version": 3
   },
   "file_extension": ".py",
   "mimetype": "text/x-python",
   "name": "python",
   "nbconvert_exporter": "python",
   "pygments_lexer": "ipython3",
   "version": "3.9.7"
  }
 },
 "nbformat": 4,
 "nbformat_minor": 5
}
